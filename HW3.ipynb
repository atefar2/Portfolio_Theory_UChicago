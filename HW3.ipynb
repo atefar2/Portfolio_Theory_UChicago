{
 "cells": [
  {
   "cell_type": "markdown",
   "metadata": {},
   "source": [
    "<h3 align=\"right\"> October 19, 2019  </h3> \n",
    "\n",
    "<h3 align=\"center\"> Portfolio Theory and Risk Management I </h3> \n",
    "\n",
    "<h3 align=\"center\"> HW 3 Solution.  </h3> "
   ]
  },
  {
   "cell_type": "code",
   "execution_count": 1,
   "metadata": {},
   "outputs": [],
   "source": [
    "import pandas as pd\n",
    "import numpy as np\n",
    "import matplotlib.pyplot as plt\n",
    "from numpy.linalg import inv\n",
    "from IPython.display import Markdown, display\n",
    "import numpy as np\n",
    "import pandas as pd\n",
    "import statsmodels.formula.api as smf\n",
    "import statsmodels.api as sm\n",
    "import seaborn as sns\n",
    "sns.set_style(\"whitegrid\")\n",
    "def printmd(string, color=None):\n",
    "    colorstr = \"<span style='color:{}'>{}</span>\".format(color, string)\n",
    "    display(Markdown(colorstr))"
   ]
  },
  {
   "cell_type": "markdown",
   "metadata": {},
   "source": [
    "# 2. Investigating Momentum"
   ]
  },
  {
   "cell_type": "code",
   "execution_count": 2,
   "metadata": {},
   "outputs": [
    {
     "data": {
      "text/html": [
       "<div>\n",
       "<style scoped>\n",
       "    .dataframe tbody tr th:only-of-type {\n",
       "        vertical-align: middle;\n",
       "    }\n",
       "\n",
       "    .dataframe tbody tr th {\n",
       "        vertical-align: top;\n",
       "    }\n",
       "\n",
       "    .dataframe thead th {\n",
       "        text-align: right;\n",
       "    }\n",
       "</style>\n",
       "<table border=\"1\" class=\"dataframe\">\n",
       "  <thead>\n",
       "    <tr style=\"text-align: right;\">\n",
       "      <th></th>\n",
       "      <th>r_mkt</th>\n",
       "      <th>r_f</th>\n",
       "      <th>rx_size</th>\n",
       "      <th>rx_value</th>\n",
       "      <th>rx_momentum</th>\n",
       "      <th>r_mkt_excess</th>\n",
       "    </tr>\n",
       "    <tr>\n",
       "      <th>Date</th>\n",
       "      <th></th>\n",
       "      <th></th>\n",
       "      <th></th>\n",
       "      <th></th>\n",
       "      <th></th>\n",
       "      <th></th>\n",
       "    </tr>\n",
       "  </thead>\n",
       "  <tbody>\n",
       "    <tr>\n",
       "      <th>1927-01-31</th>\n",
       "      <td>-0.0006</td>\n",
       "      <td>0.0025</td>\n",
       "      <td>-0.0056</td>\n",
       "      <td>0.0483</td>\n",
       "      <td>0.0044</td>\n",
       "      <td>-0.0031</td>\n",
       "    </tr>\n",
       "    <tr>\n",
       "      <th>1927-02-28</th>\n",
       "      <td>0.0418</td>\n",
       "      <td>0.0026</td>\n",
       "      <td>-0.0010</td>\n",
       "      <td>0.0317</td>\n",
       "      <td>-0.0201</td>\n",
       "      <td>0.0392</td>\n",
       "    </tr>\n",
       "  </tbody>\n",
       "</table>\n",
       "</div>"
      ],
      "text/plain": [
       "             r_mkt     r_f  rx_size  rx_value  rx_momentum  r_mkt_excess\n",
       "Date                                                                    \n",
       "1927-01-31 -0.0006  0.0025  -0.0056    0.0483       0.0044       -0.0031\n",
       "1927-02-28  0.0418  0.0026  -0.0010    0.0317      -0.0201        0.0392"
      ]
     },
     "execution_count": 2,
     "metadata": {},
     "output_type": "execute_result"
    }
   ],
   "source": [
    "factor_df = pd.read_excel('factor_model_data_with_momentum.xls', 'Factor Data')\n",
    "factor_df = factor_df.set_index('Date')\n",
    "factor_df['r_mkt_excess'] = factor_df['r_mkt'] - factor_df['r_f']\n",
    "factor_df.head(2)"
   ]
  },
  {
   "cell_type": "code",
   "execution_count": 3,
   "metadata": {},
   "outputs": [
    {
     "data": {
      "text/html": [
       "<div>\n",
       "<style scoped>\n",
       "    .dataframe tbody tr th:only-of-type {\n",
       "        vertical-align: middle;\n",
       "    }\n",
       "\n",
       "    .dataframe tbody tr th {\n",
       "        vertical-align: top;\n",
       "    }\n",
       "\n",
       "    .dataframe thead th {\n",
       "        text-align: right;\n",
       "    }\n",
       "</style>\n",
       "<table border=\"1\" class=\"dataframe\">\n",
       "  <thead>\n",
       "    <tr style=\"text-align: right;\">\n",
       "      <th></th>\n",
       "      <th>Food</th>\n",
       "      <th>Beer</th>\n",
       "      <th>Smoke</th>\n",
       "      <th>Games</th>\n",
       "      <th>Books</th>\n",
       "      <th>Hshld</th>\n",
       "      <th>Clths</th>\n",
       "      <th>Hlth</th>\n",
       "      <th>Chems</th>\n",
       "      <th>Txtls</th>\n",
       "      <th>...</th>\n",
       "      <th>Telcm</th>\n",
       "      <th>Servs</th>\n",
       "      <th>BusEq</th>\n",
       "      <th>Paper</th>\n",
       "      <th>Trans</th>\n",
       "      <th>Whlsl</th>\n",
       "      <th>Rtail</th>\n",
       "      <th>Meals</th>\n",
       "      <th>Fin</th>\n",
       "      <th>Other</th>\n",
       "    </tr>\n",
       "    <tr>\n",
       "      <th>Date</th>\n",
       "      <th></th>\n",
       "      <th></th>\n",
       "      <th></th>\n",
       "      <th></th>\n",
       "      <th></th>\n",
       "      <th></th>\n",
       "      <th></th>\n",
       "      <th></th>\n",
       "      <th></th>\n",
       "      <th></th>\n",
       "      <th></th>\n",
       "      <th></th>\n",
       "      <th></th>\n",
       "      <th></th>\n",
       "      <th></th>\n",
       "      <th></th>\n",
       "      <th></th>\n",
       "      <th></th>\n",
       "      <th></th>\n",
       "      <th></th>\n",
       "      <th></th>\n",
       "    </tr>\n",
       "  </thead>\n",
       "  <tbody>\n",
       "    <tr>\n",
       "      <th>1927-01-31</th>\n",
       "      <td>-0.0084</td>\n",
       "      <td>0.0057</td>\n",
       "      <td>-0.0035</td>\n",
       "      <td>0.0187</td>\n",
       "      <td>0.0967</td>\n",
       "      <td>0.0408</td>\n",
       "      <td>-0.0106</td>\n",
       "      <td>0.0505</td>\n",
       "      <td>0.0023</td>\n",
       "      <td>-0.0150</td>\n",
       "      <td>...</td>\n",
       "      <td>0.0188</td>\n",
       "      <td>0.0208</td>\n",
       "      <td>-0.0145</td>\n",
       "      <td>-0.0260</td>\n",
       "      <td>0.0144</td>\n",
       "      <td>-0.1793</td>\n",
       "      <td>-0.0270</td>\n",
       "      <td>0.0152</td>\n",
       "      <td>-0.0238</td>\n",
       "      <td>-0.0396</td>\n",
       "    </tr>\n",
       "    <tr>\n",
       "      <th>1927-02-28</th>\n",
       "      <td>0.0442</td>\n",
       "      <td>0.1283</td>\n",
       "      <td>0.0149</td>\n",
       "      <td>0.0164</td>\n",
       "      <td>0.0141</td>\n",
       "      <td>0.0457</td>\n",
       "      <td>0.0277</td>\n",
       "      <td>0.0171</td>\n",
       "      <td>0.0969</td>\n",
       "      <td>0.0774</td>\n",
       "      <td>...</td>\n",
       "      <td>0.0397</td>\n",
       "      <td>0.0890</td>\n",
       "      <td>0.0485</td>\n",
       "      <td>0.0546</td>\n",
       "      <td>0.0518</td>\n",
       "      <td>0.0349</td>\n",
       "      <td>0.0347</td>\n",
       "      <td>0.0686</td>\n",
       "      <td>0.0297</td>\n",
       "      <td>0.0028</td>\n",
       "    </tr>\n",
       "  </tbody>\n",
       "</table>\n",
       "<p>2 rows × 30 columns</p>\n",
       "</div>"
      ],
      "text/plain": [
       "              Food    Beer   Smoke   Games   Books   Hshld   Clths    Hlth  \\\n",
       "Date                                                                         \n",
       "1927-01-31 -0.0084  0.0057 -0.0035  0.0187  0.0967  0.0408 -0.0106  0.0505   \n",
       "1927-02-28  0.0442  0.1283  0.0149  0.0164  0.0141  0.0457  0.0277  0.0171   \n",
       "\n",
       "             Chems   Txtls   ...     Telcm   Servs   BusEq   Paper   Trans  \\\n",
       "Date                         ...                                             \n",
       "1927-01-31  0.0023 -0.0150   ...    0.0188  0.0208 -0.0145 -0.0260  0.0144   \n",
       "1927-02-28  0.0969  0.0774   ...    0.0397  0.0890  0.0485  0.0546  0.0518   \n",
       "\n",
       "             Whlsl   Rtail   Meals     Fin   Other  \n",
       "Date                                                \n",
       "1927-01-31 -0.1793 -0.0270  0.0152 -0.0238 -0.0396  \n",
       "1927-02-28  0.0349  0.0347  0.0686  0.0297  0.0028  \n",
       "\n",
       "[2 rows x 30 columns]"
      ]
     },
     "execution_count": 3,
     "metadata": {},
     "output_type": "execute_result"
    }
   ],
   "source": [
    "industry_df = pd.read_excel('factor_model_data_with_momentum.xls', 'Industry Portfolios')\n",
    "industry_df = industry_df.set_index('Date')\n",
    "industry_df.head(2)"
   ]
  },
  {
   "cell_type": "code",
   "execution_count": 4,
   "metadata": {},
   "outputs": [
    {
     "data": {
      "text/html": [
       "<div>\n",
       "<style scoped>\n",
       "    .dataframe tbody tr th:only-of-type {\n",
       "        vertical-align: middle;\n",
       "    }\n",
       "\n",
       "    .dataframe tbody tr th {\n",
       "        vertical-align: top;\n",
       "    }\n",
       "\n",
       "    .dataframe thead th {\n",
       "        text-align: right;\n",
       "    }\n",
       "</style>\n",
       "<table border=\"1\" class=\"dataframe\">\n",
       "  <thead>\n",
       "    <tr style=\"text-align: right;\">\n",
       "      <th></th>\n",
       "      <th>mom1</th>\n",
       "      <th>mom2</th>\n",
       "      <th>mom3</th>\n",
       "      <th>mom4</th>\n",
       "      <th>mom5</th>\n",
       "      <th>mom6</th>\n",
       "      <th>mom7</th>\n",
       "      <th>mom8</th>\n",
       "      <th>mom9</th>\n",
       "      <th>mom10</th>\n",
       "    </tr>\n",
       "    <tr>\n",
       "      <th>Date</th>\n",
       "      <th></th>\n",
       "      <th></th>\n",
       "      <th></th>\n",
       "      <th></th>\n",
       "      <th></th>\n",
       "      <th></th>\n",
       "      <th></th>\n",
       "      <th></th>\n",
       "      <th></th>\n",
       "      <th></th>\n",
       "    </tr>\n",
       "  </thead>\n",
       "  <tbody>\n",
       "    <tr>\n",
       "      <th>1927-01-31</th>\n",
       "      <td>-0.0332</td>\n",
       "      <td>-0.0462</td>\n",
       "      <td>0.0266</td>\n",
       "      <td>-0.0032</td>\n",
       "      <td>-0.0041</td>\n",
       "      <td>0.0096</td>\n",
       "      <td>0.0077</td>\n",
       "      <td>0.0036</td>\n",
       "      <td>-0.0043</td>\n",
       "      <td>-0.0024</td>\n",
       "    </tr>\n",
       "    <tr>\n",
       "      <th>1927-02-28</th>\n",
       "      <td>0.0749</td>\n",
       "      <td>0.0601</td>\n",
       "      <td>0.0833</td>\n",
       "      <td>0.0751</td>\n",
       "      <td>0.0380</td>\n",
       "      <td>0.0416</td>\n",
       "      <td>0.0281</td>\n",
       "      <td>0.0328</td>\n",
       "      <td>0.0421</td>\n",
       "      <td>0.0696</td>\n",
       "    </tr>\n",
       "  </tbody>\n",
       "</table>\n",
       "</div>"
      ],
      "text/plain": [
       "              mom1    mom2    mom3    mom4    mom5    mom6    mom7    mom8  \\\n",
       "Date                                                                         \n",
       "1927-01-31 -0.0332 -0.0462  0.0266 -0.0032 -0.0041  0.0096  0.0077  0.0036   \n",
       "1927-02-28  0.0749  0.0601  0.0833  0.0751  0.0380  0.0416  0.0281  0.0328   \n",
       "\n",
       "              mom9   mom10  \n",
       "Date                        \n",
       "1927-01-31 -0.0043 -0.0024  \n",
       "1927-02-28  0.0421  0.0696  "
      ]
     },
     "execution_count": 4,
     "metadata": {},
     "output_type": "execute_result"
    }
   ],
   "source": [
    "momentum_df = pd.read_excel('factor_model_data_with_momentum.xls', 'Momentum Deciles')\n",
    "momentum_df = momentum_df.set_index('Date')\n",
    "momentum_df.columns = ['mom1', 'mom2', 'mom3', 'mom4', 'mom5', 'mom6', 'mom7', 'mom8', 'mom9', 'mom10']\n",
    "momentum_df.head(2)"
   ]
  },
  {
   "cell_type": "code",
   "execution_count": 5,
   "metadata": {},
   "outputs": [
    {
     "data": {
      "text/html": [
       "<div>\n",
       "<style scoped>\n",
       "    .dataframe tbody tr th:only-of-type {\n",
       "        vertical-align: middle;\n",
       "    }\n",
       "\n",
       "    .dataframe tbody tr th {\n",
       "        vertical-align: top;\n",
       "    }\n",
       "\n",
       "    .dataframe thead th {\n",
       "        text-align: right;\n",
       "    }\n",
       "</style>\n",
       "<table border=\"1\" class=\"dataframe\">\n",
       "  <thead>\n",
       "    <tr style=\"text-align: right;\">\n",
       "      <th></th>\n",
       "      <th>Small Down</th>\n",
       "      <th>Small Up</th>\n",
       "      <th>Big Down</th>\n",
       "      <th>Big Up</th>\n",
       "    </tr>\n",
       "    <tr>\n",
       "      <th>Date</th>\n",
       "      <th></th>\n",
       "      <th></th>\n",
       "      <th></th>\n",
       "      <th></th>\n",
       "    </tr>\n",
       "  </thead>\n",
       "  <tbody>\n",
       "    <tr>\n",
       "      <th>1927-01-31</th>\n",
       "      <td>-0.0009</td>\n",
       "      <td>0.0040</td>\n",
       "      <td>-0.0040</td>\n",
       "      <td>0.0000</td>\n",
       "    </tr>\n",
       "    <tr>\n",
       "      <th>1927-02-28</th>\n",
       "      <td>0.0726</td>\n",
       "      <td>0.0605</td>\n",
       "      <td>0.0727</td>\n",
       "      <td>0.0447</td>\n",
       "    </tr>\n",
       "  </tbody>\n",
       "</table>\n",
       "</div>"
      ],
      "text/plain": [
       "            Small Down  Small Up  Big Down  Big Up\n",
       "Date                                              \n",
       "1927-01-31     -0.0009    0.0040   -0.0040  0.0000\n",
       "1927-02-28      0.0726    0.0605    0.0727  0.0447"
      ]
     },
     "execution_count": 5,
     "metadata": {},
     "output_type": "execute_result"
    }
   ],
   "source": [
    "momsize_df = pd.read_excel('factor_model_data_with_momentum.xls', 'Momentum by Size')\n",
    "momsize_df = momsize_df.set_index('Date')\n",
    "momsize_df.head(2)"
   ]
  },
  {
   "cell_type": "markdown",
   "metadata": {},
   "source": [
    "## 2.1. Is momentum still profitable?"
   ]
  },
  {
   "cell_type": "markdown",
   "metadata": {},
   "source": [
    "## (a)\n",
    "**Using the data provided, fill in Table 1 with the appropriate stats for** $\\tilde{r}^{mom:FF}$\n"
   ]
  },
  {
   "cell_type": "code",
   "execution_count": 6,
   "metadata": {},
   "outputs": [
    {
     "data": {
      "text/markdown": [
       "<span style='color:blue'>**Table 1: Momentum performance over time (monthly, in % (except of skewness)).**</span>"
      ],
      "text/plain": [
       "<IPython.core.display.Markdown object>"
      ]
     },
     "metadata": {},
     "output_type": "display_data"
    },
    {
     "data": {
      "text/html": [
       "<div>\n",
       "<style scoped>\n",
       "    .dataframe tbody tr th:only-of-type {\n",
       "        vertical-align: middle;\n",
       "    }\n",
       "\n",
       "    .dataframe tbody tr th {\n",
       "        vertical-align: top;\n",
       "    }\n",
       "\n",
       "    .dataframe thead th {\n",
       "        text-align: right;\n",
       "    }\n",
       "</style>\n",
       "<table border=\"1\" class=\"dataframe\">\n",
       "  <thead>\n",
       "    <tr style=\"text-align: right;\">\n",
       "      <th></th>\n",
       "      <th>mean</th>\n",
       "      <th>vol</th>\n",
       "      <th>Sharpe</th>\n",
       "      <th>skewness</th>\n",
       "      <th>corr_to_r_m</th>\n",
       "      <th>corr_to_r_v</th>\n",
       "    </tr>\n",
       "    <tr>\n",
       "      <th>Subsample</th>\n",
       "      <th></th>\n",
       "      <th></th>\n",
       "      <th></th>\n",
       "      <th></th>\n",
       "      <th></th>\n",
       "      <th></th>\n",
       "    </tr>\n",
       "  </thead>\n",
       "  <tbody>\n",
       "    <tr>\n",
       "      <th>1927-2015</th>\n",
       "      <td>0.00664</td>\n",
       "      <td>0.04696</td>\n",
       "      <td>0.14129</td>\n",
       "      <td>-3.03416</td>\n",
       "      <td>-0.33997</td>\n",
       "      <td>-0.41397</td>\n",
       "    </tr>\n",
       "    <tr>\n",
       "      <th>1927-1933</th>\n",
       "      <td>0.00885</td>\n",
       "      <td>0.09681</td>\n",
       "      <td>0.09137</td>\n",
       "      <td>-3.33539</td>\n",
       "      <td>-0.67686</td>\n",
       "      <td>-0.78801</td>\n",
       "    </tr>\n",
       "    <tr>\n",
       "      <th>1994-2008</th>\n",
       "      <td>0.0086</td>\n",
       "      <td>0.05052</td>\n",
       "      <td>0.17025</td>\n",
       "      <td>-0.55934</td>\n",
       "      <td>-0.2332</td>\n",
       "      <td>-0.12646</td>\n",
       "    </tr>\n",
       "    <tr>\n",
       "      <th>2009-2019</th>\n",
       "      <td>-0.0014</td>\n",
       "      <td>0.04713</td>\n",
       "      <td>-0.02979</td>\n",
       "      <td>-3.24626</td>\n",
       "      <td>-0.34707</td>\n",
       "      <td>-0.42736</td>\n",
       "    </tr>\n",
       "  </tbody>\n",
       "</table>\n",
       "</div>"
      ],
      "text/plain": [
       "              mean      vol   Sharpe skewness corr_to_r_m corr_to_r_v\n",
       "Subsample                                                            \n",
       "1927-2015  0.00664  0.04696  0.14129 -3.03416    -0.33997    -0.41397\n",
       "1927-1933  0.00885  0.09681  0.09137 -3.33539    -0.67686    -0.78801\n",
       "1994-2008   0.0086  0.05052  0.17025 -0.55934     -0.2332    -0.12646\n",
       "2009-2019  -0.0014  0.04713 -0.02979 -3.24626    -0.34707    -0.42736"
      ]
     },
     "metadata": {},
     "output_type": "display_data"
    }
   ],
   "source": [
    "df_1 = factor_df.loc['1927-01-01':'2019-12-31']\n",
    "df_2 = factor_df.loc['1927-01-01':'1933-12-31']\n",
    "df_3 = factor_df.loc['1994-01-01':'2008-12-31']\n",
    "df_4 = factor_df.loc['2009-01-01':'2019-12-31']\n",
    "\n",
    "dates = ['1927-2015', '1927-1933', '1994-2008', '2009-2019']\n",
    "Table_1 = pd.DataFrame(columns=['Subsample', 'mean', 'vol', 'Sharpe', 'skewness', \n",
    "                                'corr_to_r_m', 'corr_to_r_v'])\n",
    "Table_1['Subsample'] = dates\n",
    "Table_1 = Table_1.set_index('Subsample')\n",
    "\n",
    "def fill_table(table, subsample, df, param):\n",
    "    table.loc[subsample]['mean'] = round(df[param].mean(), 5)\n",
    "    table.loc[subsample]['vol'] = round(df[param].std(),5)\n",
    "    table.loc[subsample]['Sharpe'] = round(df[param].mean() / df[param].std(), 5)\n",
    "    table.loc[subsample]['skewness'] = round(df[param].skew(), 5)\n",
    "    table.loc[subsample]['corr_to_r_m'] = round(df[param].corr(df['r_mkt_excess']), 5)\n",
    "    table.loc[subsample]['corr_to_r_v'] = round(df[param].corr(df['rx_value']), 5)\n",
    "    return table\n",
    "\n",
    "fill_table(Table_1, dates[0], df_1, 'rx_momentum')\n",
    "fill_table(Table_1, dates[1], df_2, 'rx_momentum')\n",
    "fill_table(Table_1, dates[2], df_3, 'rx_momentum')\n",
    "fill_table(Table_1, dates[3], df_4, 'rx_momentum')\n",
    "printmd('**Table 1: Momentum performance over time (monthly, in % (except of skewness)).**', color='blue')\n",
    "display(Table_1)"
   ]
  },
  {
   "cell_type": "markdown",
   "metadata": {},
   "source": [
    "**(b) Has momentum changed much over time, as seen through these subsample statistics?**"
   ]
  },
  {
   "cell_type": "code",
   "execution_count": 7,
   "metadata": {},
   "outputs": [
    {
     "data": {
      "text/markdown": [
       "<span style='color:blue'>**Momentum performance HAS CHANGED over subsamples, moreover, patterns of behavior changed differently between different periods.**</span>"
      ],
      "text/plain": [
       "<IPython.core.display.Markdown object>"
      ]
     },
     "metadata": {},
     "output_type": "display_data"
    },
    {
     "data": {
      "text/markdown": [
       "<span style='color:blue'>**We can see that the BEST PERFORMANCE momentum has showed during 1994-2008, as it corresponds to the highest Sharpe Ratio, lowest volatiility and highest mean return. Similar, but a little bit worse performance in terms of mean return momentum has shown during 1927-2015.**</span>"
      ],
      "text/plain": [
       "<IPython.core.display.Markdown object>"
      ]
     },
     "metadata": {},
     "output_type": "display_data"
    },
    {
     "data": {
      "text/markdown": [
       "<span style='color:blue'>**The WORST PERFORMANCE momentum has shown during 2009-2019: negative Sharpe Ratio and mean, volatility is comparable to other subsamples.**</span>"
      ],
      "text/plain": [
       "<IPython.core.display.Markdown object>"
      ]
     },
     "metadata": {},
     "output_type": "display_data"
    },
    {
     "data": {
      "text/markdown": [
       "<span style='color:blue'>**During all subsamples momentum showed negative correlation with market and value portfolios.**</span>"
      ],
      "text/plain": [
       "<IPython.core.display.Markdown object>"
      ]
     },
     "metadata": {},
     "output_type": "display_data"
    }
   ],
   "source": [
    "printmd('**Momentum performance HAS CHANGED over subsamples, moreover, patterns of behavior changed differently between different periods.**',color='blue') \n",
    "printmd('**We can see that the BEST PERFORMANCE momentum has showed during 1994-2008, as it corresponds to the highest Sharpe Ratio, lowest volatiility and highest mean return. Similar, but a little bit worse performance in terms of mean return momentum has shown during 1927-2015.**',color='blue')\n",
    "printmd('**The WORST PERFORMANCE momentum has shown during 2009-2019: negative Sharpe Ratio and mean, volatility is comparable to other subsamples.**', color='blue')\n",
    "printmd('**During all subsamples momentum showed negative correlation with market and value portfolios.**', color='blue')"
   ]
  },
  {
   "cell_type": "markdown",
   "metadata": {},
   "source": [
    "**(c) Does this data support AQRs argument that momentum is an important piece of the ideal portfolio? What if mean returns to momentum are in actuality near zero due to transaction costs - would there still be evidence here that momentum is valuable?**"
   ]
  },
  {
   "cell_type": "code",
   "execution_count": 8,
   "metadata": {},
   "outputs": [
    {
     "data": {
      "text/markdown": [
       "<span style='color:blue'>**Momentum has a strong negative correlation with the market, and thus, this strategy can be used to reduce portfolio volatility even if it does not lead to much higher portfolio returns.**</span>"
      ],
      "text/plain": [
       "<IPython.core.display.Markdown object>"
      ]
     },
     "metadata": {},
     "output_type": "display_data"
    }
   ],
   "source": [
    "printmd('**Momentum has a strong negative correlation with the market, and thus, this strategy can be used to reduce portfolio volatility even if it does not lead to much higher portfolio returns.**',color='blue')"
   ]
  },
  {
   "cell_type": "markdown",
   "metadata": {},
   "source": [
    "## 2.2. The case is about whether a long-only implementation of momentum is valuable."
   ]
  },
  {
   "cell_type": "markdown",
   "metadata": {},
   "source": [
    "## (a)\n",
    "**Fill out Table 2 using the full sample of data**"
   ]
  },
  {
   "cell_type": "code",
   "execution_count": 9,
   "metadata": {},
   "outputs": [],
   "source": [
    "long_df = 1/2 * ( momsize_df['Big Up'] + momsize_df['Small Up'] ) - factor_df['r_f']\n",
    "long_df = pd.DataFrame(long_df, columns=['r_mom_U:FF'])\n",
    "long_df['r_mkt_excess'] = factor_df['r_mkt_excess'].copy()\n",
    "long_df['rx_value'] = factor_df['rx_value'].copy()"
   ]
  },
  {
   "cell_type": "code",
   "execution_count": 10,
   "metadata": {},
   "outputs": [
    {
     "data": {
      "text/markdown": [
       "<span style='color:blue'>**Table 2: Long-only momentum performance 1927-2019 (monthly, in % (except of skewness)).**</span>"
      ],
      "text/plain": [
       "<IPython.core.display.Markdown object>"
      ]
     },
     "metadata": {},
     "output_type": "display_data"
    },
    {
     "data": {
      "text/html": [
       "<div>\n",
       "<style scoped>\n",
       "    .dataframe tbody tr th:only-of-type {\n",
       "        vertical-align: middle;\n",
       "    }\n",
       "\n",
       "    .dataframe tbody tr th {\n",
       "        vertical-align: top;\n",
       "    }\n",
       "\n",
       "    .dataframe thead th {\n",
       "        text-align: right;\n",
       "    }\n",
       "</style>\n",
       "<table border=\"1\" class=\"dataframe\">\n",
       "  <thead>\n",
       "    <tr style=\"text-align: right;\">\n",
       "      <th></th>\n",
       "      <th>mean</th>\n",
       "      <th>vol</th>\n",
       "      <th>Sharpe</th>\n",
       "      <th>skewness</th>\n",
       "      <th>corr_to_r_m</th>\n",
       "      <th>corr_to_r_v</th>\n",
       "    </tr>\n",
       "    <tr>\n",
       "      <th>Construction</th>\n",
       "      <th></th>\n",
       "      <th></th>\n",
       "      <th></th>\n",
       "      <th></th>\n",
       "      <th></th>\n",
       "      <th></th>\n",
       "    </tr>\n",
       "  </thead>\n",
       "  <tbody>\n",
       "    <tr>\n",
       "      <th>Long-and-short, r_mom:FF</th>\n",
       "      <td>0.00664</td>\n",
       "      <td>0.04696</td>\n",
       "      <td>0.14129</td>\n",
       "      <td>-3.03416</td>\n",
       "      <td>-0.33997</td>\n",
       "      <td>-0.41397</td>\n",
       "    </tr>\n",
       "    <tr>\n",
       "      <th>Long-only, r_momU:FF</th>\n",
       "      <td>0.01123</td>\n",
       "      <td>0.06136</td>\n",
       "      <td>0.18296</td>\n",
       "      <td>-0.00979</td>\n",
       "      <td>0.93463</td>\n",
       "      <td>0.21093</td>\n",
       "    </tr>\n",
       "  </tbody>\n",
       "</table>\n",
       "</div>"
      ],
      "text/plain": [
       "                             mean      vol   Sharpe skewness corr_to_r_m  \\\n",
       "Construction                                                               \n",
       "Long-and-short, r_mom:FF  0.00664  0.04696  0.14129 -3.03416    -0.33997   \n",
       "Long-only, r_momU:FF      0.01123  0.06136  0.18296 -0.00979     0.93463   \n",
       "\n",
       "                         corr_to_r_v  \n",
       "Construction                          \n",
       "Long-and-short, r_mom:FF    -0.41397  \n",
       "Long-only, r_momU:FF         0.21093  "
      ]
     },
     "metadata": {},
     "output_type": "display_data"
    }
   ],
   "source": [
    "strategies = ['Long-and-short, r_mom:FF', 'Long-only, r_momU:FF']\n",
    "Table_2 = pd.DataFrame(columns=['mean', 'vol', 'Sharpe', 'skewness', \n",
    "                               'corr_to_r_m', 'corr_to_r_v'])\n",
    "Table_2['Construction'] = strategies\n",
    "Table_2 = Table_2.set_index('Construction')\n",
    "\n",
    "fill_table(Table_2, strategies[0], factor_df, 'rx_momentum')\n",
    "fill_table(Table_2, strategies[1], long_df, 'r_mom_U:FF')\n",
    "printmd('**Table 2: Long-only momentum performance 1927-2019 (monthly, in % (except of skewness)).**', color='blue')\n",
    "display(Table_2)"
   ]
  },
  {
   "cell_type": "markdown",
   "metadata": {},
   "source": [
    "## (b)\n",
    "**Is long-only momentum as attractive as long-short momentum with respect to mean, volatility,\n",
    "and Sharpe Ratio?**"
   ]
  },
  {
   "cell_type": "code",
   "execution_count": 11,
   "metadata": {},
   "outputs": [
    {
     "data": {
      "text/markdown": [
       "<span style='color:blue'>**Long-only momentum strategy shows higher mean return accompanied by higher volatilty. However, its Sharpe Ratio is still higher than Sharpe Ratio for Long-and-short momentum strategy, which makes Long-only momentum a more attractive strategy in terms of Sharpe Ratio and mean, but not in terms of volatility.**</span>"
      ],
      "text/plain": [
       "<IPython.core.display.Markdown object>"
      ]
     },
     "metadata": {},
     "output_type": "display_data"
    }
   ],
   "source": [
    "printmd('**Long-only momentum strategy shows higher mean return accompanied by higher volatilty. However, its Sharpe Ratio is still higher than Sharpe Ratio for Long-and-short momentum strategy, which makes Long-only momentum a more attractive strategy in terms of Sharpe Ratio and mean, but not in terms of volatility.**',color='blue')"
   ]
  },
  {
   "cell_type": "markdown",
   "metadata": {},
   "source": [
    "## (c)\n",
    "**Is long-only momentum as diversifying as long-short momentum with respect to market\n",
    "and value premia?**"
   ]
  },
  {
   "cell_type": "code",
   "execution_count": 84,
   "metadata": {},
   "outputs": [
    {
     "data": {
      "text/markdown": [
       "<span style='color:blue'>**We can see that Long-only momentum strategy is correlated with value portfolio and very highly correlated with the market, and thus, it is not a good idea to use it for diversification purposes. Long-and-short momentum strategy serves much better for this purpose.**</span>"
      ],
      "text/plain": [
       "<IPython.core.display.Markdown object>"
      ]
     },
     "metadata": {},
     "output_type": "display_data"
    }
   ],
   "source": [
    "printmd('**We can see that Long-only momentum strategy is correlated with value portfolio and very highly correlated with the market, and thus, it is not a good idea to use it for diversification purposes. Long-and-short momentum strategy serves much better for this purpose.**',color='blue')"
   ]
  },
  {
   "cell_type": "markdown",
   "metadata": {},
   "source": [
    "## (d)\n",
    "**Show a plot of the cumulative product of** $1+ \\tilde{r}^{mom:FF}$ **and** $1+ \\tilde{r}^{momU:FF}$ **over the 2006-2019 subsample.**"
   ]
  },
  {
   "cell_type": "code",
   "execution_count": 13,
   "metadata": {},
   "outputs": [
    {
     "data": {
      "text/markdown": [
       "<span style='color:blue'>**We can see from the graph that Long-Only momentum strategy shows much higher cumulative product return than Long-And-Short momentum strategy.**</span>"
      ],
      "text/plain": [
       "<IPython.core.display.Markdown object>"
      ]
     },
     "metadata": {},
     "output_type": "display_data"
    },
    {
     "data": {
      "image/png": "[encoded data removed]",
      "text/plain": [
       "<Figure size 1656x720 with 1 Axes>"
      ]
     },
     "metadata": {
      "needs_background": "light"
     },
     "output_type": "display_data"
    }
   ],
   "source": [
    "cumprod_mom_FF = (factor_df['rx_momentum']['2006-01-01':'2019-01-31'] + 1).cumprod()\n",
    "cumprod_mom_UFF = (long_df['r_mom_U:FF']['2006-01-01':'2019-01-31'] + 1).cumprod()\n",
    "\n",
    "fig, ax = plt.subplots(nrows=1, ncols=1, figsize=(23, 10))\n",
    "ax.set_title('Cumulative product return of long-only and long-and-short momentum strategies 2006-2019', fontsize=24)\n",
    "ax.plot(cumprod_mom_FF, color='red', label='Long-and-short')\n",
    "ax.plot(cumprod_mom_UFF, color='green', label='Long only')\n",
    "ax.legend(fontsize=22, loc='upper left')\n",
    "plt.xlabel('Year', fontsize=20)\n",
    "plt.ylabel('Cumulative product return', fontsize=20)\n",
    "ax.tick_params(axis='both', which='major', labelsize=18)\n",
    "\n",
    "printmd('**We can see from the graph that Long-Only momentum strategy shows much higher cumulative product return than Long-And-Short momentum strategy.**',color='blue')"
   ]
  },
  {
   "cell_type": "markdown",
   "metadata": {},
   "source": [
    "## 2.3. Is momentum just data mining, or is it a robust strategy?"
   ]
  },
  {
   "cell_type": "markdown",
   "metadata": {},
   "source": [
    "## (a)\n",
    "**Compare all three constructions, (in the full-sample period,) by filling out the stats in the\n",
    "table below.**"
   ]
  },
  {
   "cell_type": "code",
   "execution_count": 14,
   "metadata": {},
   "outputs": [],
   "source": [
    "strategies = ['r_mom:FF', 'r_mom', 'r_mom10-1']\n",
    "Table_3 = pd.DataFrame(columns=['mean', 'vol', 'Sharpe', 'skewness', \n",
    "                               'corr_to_r_m', 'corr_to_r_v'])\n",
    "Table_3['Construction'] = strategies\n",
    "Table_3 = Table_3.set_index('Construction')"
   ]
  },
  {
   "cell_type": "code",
   "execution_count": 15,
   "metadata": {},
   "outputs": [],
   "source": [
    "r_mom_FF = factor_df\n",
    "\n",
    "r_mom = 1/3*(momentum_df['mom8'] + momentum_df['mom9'] + momentum_df['mom10']) - 1/3*(momentum_df['mom1'] + momentum_df['mom2'] + momentum_df['mom3'])\n",
    "r_mom = pd.DataFrame(r_mom, columns=['r_mom'])\n",
    "r_mom['r_mkt_excess'] = factor_df['r_mkt_excess'].copy()\n",
    "r_mom['rx_value'] = factor_df['rx_value'].copy()\n",
    "\n",
    "r_mom_10_1 = momentum_df['mom10'] - momentum_df['mom1']\n",
    "r_mom_10_1 = pd.DataFrame(r_mom_10_1, columns=['r_mom_10_1'])\n",
    "r_mom_10_1['r_mkt_excess'] = factor_df['r_mkt_excess'].copy()\n",
    "r_mom_10_1['rx_value'] = factor_df['rx_value'].copy()"
   ]
  },
  {
   "cell_type": "code",
   "execution_count": 16,
   "metadata": {},
   "outputs": [
    {
     "data": {
      "text/markdown": [
       "<span style='color:blue'>**Table 3: Robustness of momentum construction (monthly, in % (except of skewness)**</span>"
      ],
      "text/plain": [
       "<IPython.core.display.Markdown object>"
      ]
     },
     "metadata": {},
     "output_type": "display_data"
    },
    {
     "data": {
      "text/html": [
       "<div>\n",
       "<style scoped>\n",
       "    .dataframe tbody tr th:only-of-type {\n",
       "        vertical-align: middle;\n",
       "    }\n",
       "\n",
       "    .dataframe tbody tr th {\n",
       "        vertical-align: top;\n",
       "    }\n",
       "\n",
       "    .dataframe thead th {\n",
       "        text-align: right;\n",
       "    }\n",
       "</style>\n",
       "<table border=\"1\" class=\"dataframe\">\n",
       "  <thead>\n",
       "    <tr style=\"text-align: right;\">\n",
       "      <th></th>\n",
       "      <th>mean</th>\n",
       "      <th>vol</th>\n",
       "      <th>Sharpe</th>\n",
       "      <th>skewness</th>\n",
       "      <th>corr_to_r_m</th>\n",
       "      <th>corr_to_r_v</th>\n",
       "    </tr>\n",
       "    <tr>\n",
       "      <th>Construction</th>\n",
       "      <th></th>\n",
       "      <th></th>\n",
       "      <th></th>\n",
       "      <th></th>\n",
       "      <th></th>\n",
       "      <th></th>\n",
       "    </tr>\n",
       "  </thead>\n",
       "  <tbody>\n",
       "    <tr>\n",
       "      <th>r_mom:FF</th>\n",
       "      <td>0.00664</td>\n",
       "      <td>0.04696</td>\n",
       "      <td>0.14129</td>\n",
       "      <td>-3.03416</td>\n",
       "      <td>-0.33997</td>\n",
       "      <td>-0.41397</td>\n",
       "    </tr>\n",
       "    <tr>\n",
       "      <th>r_mom</th>\n",
       "      <td>0.00686</td>\n",
       "      <td>0.05433</td>\n",
       "      <td>0.12624</td>\n",
       "      <td>-2.66523</td>\n",
       "      <td>-0.37451</td>\n",
       "      <td>-0.40008</td>\n",
       "    </tr>\n",
       "    <tr>\n",
       "      <th>r_mom10-1</th>\n",
       "      <td>0.0118</td>\n",
       "      <td>0.07779</td>\n",
       "      <td>0.15174</td>\n",
       "      <td>-2.31577</td>\n",
       "      <td>-0.36687</td>\n",
       "      <td>-0.40458</td>\n",
       "    </tr>\n",
       "  </tbody>\n",
       "</table>\n",
       "</div>"
      ],
      "text/plain": [
       "                 mean      vol   Sharpe skewness corr_to_r_m corr_to_r_v\n",
       "Construction                                                            \n",
       "r_mom:FF      0.00664  0.04696  0.14129 -3.03416    -0.33997    -0.41397\n",
       "r_mom         0.00686  0.05433  0.12624 -2.66523    -0.37451    -0.40008\n",
       "r_mom10-1      0.0118  0.07779  0.15174 -2.31577    -0.36687    -0.40458"
      ]
     },
     "metadata": {},
     "output_type": "display_data"
    }
   ],
   "source": [
    "fill_table(Table_3, strategies[0], r_mom_FF, 'rx_momentum')\n",
    "fill_table(Table_3, strategies[1], r_mom, 'r_mom')\n",
    "fill_table(Table_3, strategies[2], r_mom_10_1, 'r_mom_10_1')\n",
    "printmd('**Table 3: Robustness of momentum construction (monthly, in % (except of skewness)**', color='blue')\n",
    "display(Table_3)"
   ]
  },
  {
   "cell_type": "markdown",
   "metadata": {},
   "source": [
    "## (b)\n",
    "**Based on the stats above, how sensitive are the momentum returns to segmenting for size\n",
    "as FF do, versus just doing the unsegmented, three-decile construction in** $\\tilde{r}^{mom}$ ?"
   ]
  },
  {
   "cell_type": "code",
   "execution_count": 17,
   "metadata": {},
   "outputs": [
    {
     "data": {
      "text/markdown": [
       "<span style='color:blue'>**The momentum returns is not sensitive to size, because the Fama French momentum return is not higher than the one from three-decile portfolio in the long run. However, segmenting for size does lead to relatively lower volitilities.**</span>"
      ],
      "text/plain": [
       "<IPython.core.display.Markdown object>"
      ]
     },
     "metadata": {},
     "output_type": "display_data"
    }
   ],
   "source": [
    "printmd(\"**The momentum returns is not sensitive to size, because the Fama French momentum return is not higher than the one from three-decile portfolio in the long run. However, segmenting for size does lead to relatively lower volitilities.**\", color = \"blue\")"
   ]
  },
  {
   "cell_type": "markdown",
   "metadata": {},
   "source": [
    "## (c) \n",
    "**Based on the stats above, should AQR's retail product consider using a 1-decile construction\n",
    "as in** $\\tilde{r}^{mom10:1}$ **?**"
   ]
  },
  {
   "cell_type": "code",
   "execution_count": 18,
   "metadata": {},
   "outputs": [
    {
     "data": {
      "text/markdown": [
       "<span style='color:blue'>**We can see from the statistics above that 1-decile construction has higher mean and Sharpe ratio, it also has high negative correlation with the market and value portfolios. That is why we can conclude that it is reasonable for AQR to CONSIDER usage of 1-decile construction.**</span>"
      ],
      "text/plain": [
       "<IPython.core.display.Markdown object>"
      ]
     },
     "metadata": {},
     "output_type": "display_data"
    }
   ],
   "source": [
    "printmd('**We can see from the statistics above that 1-decile construction has higher mean and Sharpe ratio, it also has high negative correlation with the market and value portfolios. That is why we can conclude that it is reasonable for AQR to CONSIDER usage of 1-decile construction.**',color='blue')"
   ]
  },
  {
   "cell_type": "markdown",
   "metadata": {},
   "source": [
    "**Do the tradeoffs between the 3-decile and 1-decile constructions line up with the theoretical\n",
    "tradeoffs we discussed in the lecture?**"
   ]
  },
  {
   "cell_type": "code",
   "execution_count": 19,
   "metadata": {},
   "outputs": [
    {
     "data": {
      "text/markdown": [
       "<span style='color:blue'>**The 1-decile construction has a higher excess return, however, higher volitilities as well due to less diversification, compared to the 3-decile construction. It lines up with the theoretical tradeoff discussed in lecture.**</span>"
      ],
      "text/plain": [
       "<IPython.core.display.Markdown object>"
      ]
     },
     "metadata": {},
     "output_type": "display_data"
    }
   ],
   "source": [
    "printmd(\"**The 1-decile construction has a higher excess return, however, higher volitilities as well due to less diversification, compared to the 3-decile construction. It lines up with the theoretical tradeoff discussed in lecture.**\", color = \"blue\")"
   ]
  },
  {
   "cell_type": "markdown",
   "metadata": {},
   "source": [
    "## 2.4. In conclusion, what is your assessment of the AQR retail product? Is it capturing the important features of the Fama-French construction of momentum? Would you suggest any modifications?"
   ]
  },
  {
   "cell_type": "code",
   "execution_count": 20,
   "metadata": {},
   "outputs": [
    {
     "data": {
      "text/markdown": [
       "<span style='color:blue'>**By regulation, the AQR retail product is restricted to long positions and only to large stocks, and therefore, it does not capture the feature of Fama-French construction with regard to its short positions and inclusive to small caps. Therefore, the lack in diversification may lead to higher volitilities. I would suggest AQR to adjust their portfolio based on momentum deciles.**</span>"
      ],
      "text/plain": [
       "<IPython.core.display.Markdown object>"
      ]
     },
     "metadata": {},
     "output_type": "display_data"
    }
   ],
   "source": [
    "printmd(\"**By regulation, the AQR retail product is restricted to long positions and only to large stocks, and therefore, it does not capture the feature of Fama-French construction with regard to its short positions and inclusive to small caps. Therefore, the lack in diversification may lead to higher volitilities. I would suggest AQR to adjust their portfolio based on momentum deciles.**\", color = \"blue\")"
   ]
  },
  {
   "cell_type": "markdown",
   "metadata": {},
   "source": [
    "# 3. Momentum in the LFPM"
   ]
  },
  {
   "cell_type": "markdown",
   "metadata": {},
   "source": [
    "## 3.1. Calculate the factor premia (lambda) from the sample averages of the factors"
   ]
  },
  {
   "cell_type": "code",
   "execution_count": 22,
   "metadata": {},
   "outputs": [
    {
     "data": {
      "text/markdown": [
       "<span style='color:blue'>**Factor premia obtained from the sample averages of the factors**</span>"
      ],
      "text/plain": [
       "<IPython.core.display.Markdown object>"
      ]
     },
     "metadata": {},
     "output_type": "display_data"
    },
    {
     "data": {
      "text/html": [
       "<div>\n",
       "<style scoped>\n",
       "    .dataframe tbody tr th:only-of-type {\n",
       "        vertical-align: middle;\n",
       "    }\n",
       "\n",
       "    .dataframe tbody tr th {\n",
       "        vertical-align: top;\n",
       "    }\n",
       "\n",
       "    .dataframe thead th {\n",
       "        text-align: right;\n",
       "    }\n",
       "</style>\n",
       "<table border=\"1\" class=\"dataframe\">\n",
       "  <thead>\n",
       "    <tr style=\"text-align: right;\">\n",
       "      <th></th>\n",
       "      <th>factor premia</th>\n",
       "    </tr>\n",
       "  </thead>\n",
       "  <tbody>\n",
       "    <tr>\n",
       "      <th>momentum</th>\n",
       "      <td>0.0038</td>\n",
       "    </tr>\n",
       "    <tr>\n",
       "      <th>size</th>\n",
       "      <td>0.0020</td>\n",
       "    </tr>\n",
       "    <tr>\n",
       "      <th>value</th>\n",
       "      <td>0.0035</td>\n",
       "    </tr>\n",
       "    <tr>\n",
       "      <th>mkt</th>\n",
       "      <td>0.0066</td>\n",
       "    </tr>\n",
       "  </tbody>\n",
       "</table>\n",
       "</div>"
      ],
      "text/plain": [
       "         factor premia\n",
       "momentum        0.0038\n",
       "size            0.0020\n",
       "value           0.0035\n",
       "mkt             0.0066"
      ]
     },
     "metadata": {},
     "output_type": "display_data"
    }
   ],
   "source": [
    "lambda_momFF = factor_df['rx_momentum'].mean()\n",
    "lambda_s = factor_df['rx_size'].mean()\n",
    "lambda_v = factor_df['rx_value'].mean()\n",
    "lambda_m = factor_df['r_mkt_excess'].mean()\n",
    "\n",
    "lambdas = np.array([lambda_m, lambda_s, lambda_v, lambda_momFF])\n",
    "lambdas_df = pd.DataFrame(lambdas, index=['momentum', 'size', 'value', 'mkt'], columns=['factor premia'])\n",
    "lambdas_df[\"factor premia\"] = lambdas_df[\"factor premia\"].map('{:,.4f}'.format)\n",
    "\n",
    "printmd('**Factor premia obtained from the sample averages of the factors**', color='blue')\n",
    "display(lambdas_df)"
   ]
  },
  {
   "cell_type": "markdown",
   "metadata": {},
   "source": [
    "## 3.2. For each of the n = 30 test portfolios, run the LFPM time-series regression:"
   ]
  },
  {
   "cell_type": "markdown",
   "metadata": {},
   "source": [
    "$$\\tilde{r}_t^i = \\alpha_i + \\beta^{i,m}\\tilde{r}_t^m + \\beta^{i,s}\\tilde{r}_t^s + \\beta^{i,v}\\tilde{r}_t^v + \\beta^{i,mom:FF}\\tilde{r}_t^{mom:FF} + \\epsilon_t^i$$"
   ]
  },
  {
   "cell_type": "code",
   "execution_count": 23,
   "metadata": {},
   "outputs": [
    {
     "name": "stdout",
     "output_type": "stream",
     "text": [
      "(1112, 34)\n"
     ]
    },
    {
     "data": {
      "text/html": [
       "<div>\n",
       "<style scoped>\n",
       "    .dataframe tbody tr th:only-of-type {\n",
       "        vertical-align: middle;\n",
       "    }\n",
       "\n",
       "    .dataframe tbody tr th {\n",
       "        vertical-align: top;\n",
       "    }\n",
       "\n",
       "    .dataframe thead th {\n",
       "        text-align: right;\n",
       "    }\n",
       "</style>\n",
       "<table border=\"1\" class=\"dataframe\">\n",
       "  <thead>\n",
       "    <tr style=\"text-align: right;\">\n",
       "      <th></th>\n",
       "      <th>Food</th>\n",
       "      <th>Beer</th>\n",
       "      <th>Smoke</th>\n",
       "      <th>Games</th>\n",
       "      <th>Books</th>\n",
       "      <th>Hshld</th>\n",
       "      <th>Clths</th>\n",
       "      <th>Hlth</th>\n",
       "      <th>Chems</th>\n",
       "      <th>Txtls</th>\n",
       "      <th>...</th>\n",
       "      <th>Trans</th>\n",
       "      <th>Whlsl</th>\n",
       "      <th>Rtail</th>\n",
       "      <th>Meals</th>\n",
       "      <th>Fin</th>\n",
       "      <th>Other</th>\n",
       "      <th>mkt_excess</th>\n",
       "      <th>value</th>\n",
       "      <th>size</th>\n",
       "      <th>momentum</th>\n",
       "    </tr>\n",
       "    <tr>\n",
       "      <th>Date</th>\n",
       "      <th></th>\n",
       "      <th></th>\n",
       "      <th></th>\n",
       "      <th></th>\n",
       "      <th></th>\n",
       "      <th></th>\n",
       "      <th></th>\n",
       "      <th></th>\n",
       "      <th></th>\n",
       "      <th></th>\n",
       "      <th></th>\n",
       "      <th></th>\n",
       "      <th></th>\n",
       "      <th></th>\n",
       "      <th></th>\n",
       "      <th></th>\n",
       "      <th></th>\n",
       "      <th></th>\n",
       "      <th></th>\n",
       "      <th></th>\n",
       "      <th></th>\n",
       "    </tr>\n",
       "  </thead>\n",
       "  <tbody>\n",
       "    <tr>\n",
       "      <th>1927-01-31</th>\n",
       "      <td>-0.0084</td>\n",
       "      <td>0.0057</td>\n",
       "      <td>-0.0035</td>\n",
       "      <td>0.0187</td>\n",
       "      <td>0.0967</td>\n",
       "      <td>0.0408</td>\n",
       "      <td>-0.0106</td>\n",
       "      <td>0.0505</td>\n",
       "      <td>0.0023</td>\n",
       "      <td>-0.0150</td>\n",
       "      <td>...</td>\n",
       "      <td>0.0144</td>\n",
       "      <td>-0.1793</td>\n",
       "      <td>-0.0270</td>\n",
       "      <td>0.0152</td>\n",
       "      <td>-0.0238</td>\n",
       "      <td>-0.0396</td>\n",
       "      <td>-0.0031</td>\n",
       "      <td>0.0483</td>\n",
       "      <td>-0.0056</td>\n",
       "      <td>0.0044</td>\n",
       "    </tr>\n",
       "    <tr>\n",
       "      <th>1927-02-28</th>\n",
       "      <td>0.0442</td>\n",
       "      <td>0.1283</td>\n",
       "      <td>0.0149</td>\n",
       "      <td>0.0164</td>\n",
       "      <td>0.0141</td>\n",
       "      <td>0.0457</td>\n",
       "      <td>0.0277</td>\n",
       "      <td>0.0171</td>\n",
       "      <td>0.0969</td>\n",
       "      <td>0.0774</td>\n",
       "      <td>...</td>\n",
       "      <td>0.0518</td>\n",
       "      <td>0.0349</td>\n",
       "      <td>0.0347</td>\n",
       "      <td>0.0686</td>\n",
       "      <td>0.0297</td>\n",
       "      <td>0.0028</td>\n",
       "      <td>0.0392</td>\n",
       "      <td>0.0317</td>\n",
       "      <td>-0.0010</td>\n",
       "      <td>-0.0201</td>\n",
       "    </tr>\n",
       "    <tr>\n",
       "      <th>1927-03-31</th>\n",
       "      <td>0.0209</td>\n",
       "      <td>-0.1356</td>\n",
       "      <td>0.0551</td>\n",
       "      <td>0.0102</td>\n",
       "      <td>-0.0028</td>\n",
       "      <td>-0.0008</td>\n",
       "      <td>0.0090</td>\n",
       "      <td>0.0101</td>\n",
       "      <td>0.0607</td>\n",
       "      <td>-0.0539</td>\n",
       "      <td>...</td>\n",
       "      <td>0.0106</td>\n",
       "      <td>-0.2047</td>\n",
       "      <td>-0.0030</td>\n",
       "      <td>-0.0242</td>\n",
       "      <td>0.0136</td>\n",
       "      <td>0.0218</td>\n",
       "      <td>-0.0017</td>\n",
       "      <td>-0.0267</td>\n",
       "      <td>-0.0160</td>\n",
       "      <td>0.0359</td>\n",
       "    </tr>\n",
       "  </tbody>\n",
       "</table>\n",
       "<p>3 rows × 34 columns</p>\n",
       "</div>"
      ],
      "text/plain": [
       "              Food    Beer   Smoke   Games   Books   Hshld   Clths    Hlth  \\\n",
       "Date                                                                         \n",
       "1927-01-31 -0.0084  0.0057 -0.0035  0.0187  0.0967  0.0408 -0.0106  0.0505   \n",
       "1927-02-28  0.0442  0.1283  0.0149  0.0164  0.0141  0.0457  0.0277  0.0171   \n",
       "1927-03-31  0.0209 -0.1356  0.0551  0.0102 -0.0028 -0.0008  0.0090  0.0101   \n",
       "\n",
       "             Chems   Txtls    ...      Trans   Whlsl   Rtail   Meals     Fin  \\\n",
       "Date                          ...                                              \n",
       "1927-01-31  0.0023 -0.0150    ...     0.0144 -0.1793 -0.0270  0.0152 -0.0238   \n",
       "1927-02-28  0.0969  0.0774    ...     0.0518  0.0349  0.0347  0.0686  0.0297   \n",
       "1927-03-31  0.0607 -0.0539    ...     0.0106 -0.2047 -0.0030 -0.0242  0.0136   \n",
       "\n",
       "             Other  mkt_excess   value    size  momentum  \n",
       "Date                                                      \n",
       "1927-01-31 -0.0396     -0.0031  0.0483 -0.0056    0.0044  \n",
       "1927-02-28  0.0028      0.0392  0.0317 -0.0010   -0.0201  \n",
       "1927-03-31  0.0218     -0.0017 -0.0267 -0.0160    0.0359  \n",
       "\n",
       "[3 rows x 34 columns]"
      ]
     },
     "execution_count": 23,
     "metadata": {},
     "output_type": "execute_result"
    }
   ],
   "source": [
    "portfolios_df = industry_df.copy()\n",
    "portfolios_df['mkt_excess'] = factor_df['r_mkt_excess']\n",
    "portfolios_df['value'] = factor_df['rx_value']\n",
    "portfolios_df['size'] = factor_df['rx_size']\n",
    "portfolios_df['momentum'] = factor_df['rx_momentum']\n",
    "print(portfolios_df.shape)\n",
    "portfolios_df.head(3)"
   ]
  },
  {
   "cell_type": "code",
   "execution_count": 24,
   "metadata": {},
   "outputs": [
    {
     "data": {
      "text/html": [
       "<div>\n",
       "<style scoped>\n",
       "    .dataframe tbody tr th:only-of-type {\n",
       "        vertical-align: middle;\n",
       "    }\n",
       "\n",
       "    .dataframe tbody tr th {\n",
       "        vertical-align: top;\n",
       "    }\n",
       "\n",
       "    .dataframe thead th {\n",
       "        text-align: right;\n",
       "    }\n",
       "</style>\n",
       "<table border=\"1\" class=\"dataframe\">\n",
       "  <thead>\n",
       "    <tr style=\"text-align: right;\">\n",
       "      <th></th>\n",
       "      <th>alpha</th>\n",
       "      <th>beta_mkt</th>\n",
       "      <th>beta_value</th>\n",
       "      <th>beta_size</th>\n",
       "      <th>beta_mom</th>\n",
       "      <th>abs_resid</th>\n",
       "    </tr>\n",
       "  </thead>\n",
       "  <tbody>\n",
       "    <tr>\n",
       "      <th>Food</th>\n",
       "      <td>0.00677562</td>\n",
       "      <td>0.749915</td>\n",
       "      <td>0.0460662</td>\n",
       "      <td>-0.13117</td>\n",
       "      <td>0.0178308</td>\n",
       "      <td>0.0191602</td>\n",
       "    </tr>\n",
       "    <tr>\n",
       "      <th>Beer</th>\n",
       "      <td>0.00638137</td>\n",
       "      <td>0.89562</td>\n",
       "      <td>0.195505</td>\n",
       "      <td>0.221738</td>\n",
       "      <td>0.141272</td>\n",
       "      <td>0.0336761</td>\n",
       "    </tr>\n",
       "    <tr>\n",
       "      <th>Smoke</th>\n",
       "      <td>0.00902703</td>\n",
       "      <td>0.643422</td>\n",
       "      <td>0.0621349</td>\n",
       "      <td>-0.203292</td>\n",
       "      <td>-0.0135621</td>\n",
       "      <td>0.0350301</td>\n",
       "    </tr>\n",
       "    <tr>\n",
       "      <th>Games</th>\n",
       "      <td>0.00642653</td>\n",
       "      <td>1.24092</td>\n",
       "      <td>0.108467</td>\n",
       "      <td>0.390183</td>\n",
       "      <td>-0.149054</td>\n",
       "      <td>0.0341483</td>\n",
       "    </tr>\n",
       "    <tr>\n",
       "      <th>Books</th>\n",
       "      <td>0.00383958</td>\n",
       "      <td>0.993359</td>\n",
       "      <td>0.165518</td>\n",
       "      <td>0.361578</td>\n",
       "      <td>-0.0304185</td>\n",
       "      <td>0.0283146</td>\n",
       "    </tr>\n",
       "    <tr>\n",
       "      <th>Hshld</th>\n",
       "      <td>0.00581372</td>\n",
       "      <td>0.921699</td>\n",
       "      <td>-0.0157988</td>\n",
       "      <td>-0.0826963</td>\n",
       "      <td>0.0496324</td>\n",
       "      <td>0.0238152</td>\n",
       "    </tr>\n",
       "    <tr>\n",
       "      <th>Clths</th>\n",
       "      <td>0.00643224</td>\n",
       "      <td>0.721481</td>\n",
       "      <td>-0.0782455</td>\n",
       "      <td>0.427085</td>\n",
       "      <td>-0.0615915</td>\n",
       "      <td>0.027889</td>\n",
       "    </tr>\n",
       "    <tr>\n",
       "      <th>Hlth</th>\n",
       "      <td>0.00797675</td>\n",
       "      <td>0.880753</td>\n",
       "      <td>-0.176577</td>\n",
       "      <td>-0.0881812</td>\n",
       "      <td>0.0273937</td>\n",
       "      <td>0.0239144</td>\n",
       "    </tr>\n",
       "    <tr>\n",
       "      <th>Chems</th>\n",
       "      <td>0.00668317</td>\n",
       "      <td>1.05364</td>\n",
       "      <td>-0.000755335</td>\n",
       "      <td>-0.150933</td>\n",
       "      <td>-0.0240006</td>\n",
       "      <td>0.0215656</td>\n",
       "    </tr>\n",
       "    <tr>\n",
       "      <th>Txtls</th>\n",
       "      <td>0.00472603</td>\n",
       "      <td>0.941546</td>\n",
       "      <td>0.277403</td>\n",
       "      <td>0.545577</td>\n",
       "      <td>-0.152685</td>\n",
       "      <td>0.0292073</td>\n",
       "    </tr>\n",
       "    <tr>\n",
       "      <th>Cnstr</th>\n",
       "      <td>0.00426038</td>\n",
       "      <td>1.10011</td>\n",
       "      <td>0.110293</td>\n",
       "      <td>0.252197</td>\n",
       "      <td>0.00711158</td>\n",
       "      <td>0.0206098</td>\n",
       "    </tr>\n",
       "    <tr>\n",
       "      <th>Steel</th>\n",
       "      <td>0.00316578</td>\n",
       "      <td>1.22529</td>\n",
       "      <td>0.322907</td>\n",
       "      <td>0.225912</td>\n",
       "      <td>-0.102369</td>\n",
       "      <td>0.0301882</td>\n",
       "    </tr>\n",
       "    <tr>\n",
       "      <th>FabPr</th>\n",
       "      <td>0.00571811</td>\n",
       "      <td>1.15214</td>\n",
       "      <td>0.0871764</td>\n",
       "      <td>0.233765</td>\n",
       "      <td>-0.07947</td>\n",
       "      <td>0.0208976</td>\n",
       "    </tr>\n",
       "    <tr>\n",
       "      <th>ElcEq</th>\n",
       "      <td>0.00715621</td>\n",
       "      <td>1.27153</td>\n",
       "      <td>-0.00711622</td>\n",
       "      <td>-0.0561616</td>\n",
       "      <td>-0.0419769</td>\n",
       "      <td>0.02567</td>\n",
       "    </tr>\n",
       "    <tr>\n",
       "      <th>Autos</th>\n",
       "      <td>0.00634493</td>\n",
       "      <td>1.14946</td>\n",
       "      <td>0.199215</td>\n",
       "      <td>0.0355949</td>\n",
       "      <td>-0.175329</td>\n",
       "      <td>0.0303182</td>\n",
       "    </tr>\n",
       "    <tr>\n",
       "      <th>Carry</th>\n",
       "      <td>0.00590436</td>\n",
       "      <td>1.08818</td>\n",
       "      <td>0.306854</td>\n",
       "      <td>0.199414</td>\n",
       "      <td>-0.0207081</td>\n",
       "      <td>0.0299214</td>\n",
       "    </tr>\n",
       "    <tr>\n",
       "      <th>Mines</th>\n",
       "      <td>0.00463432</td>\n",
       "      <td>0.823983</td>\n",
       "      <td>0.144932</td>\n",
       "      <td>0.262217</td>\n",
       "      <td>-0.00729541</td>\n",
       "      <td>0.0400891</td>\n",
       "    </tr>\n",
       "    <tr>\n",
       "      <th>Coal</th>\n",
       "      <td>0.00375878</td>\n",
       "      <td>1.05998</td>\n",
       "      <td>0.60999</td>\n",
       "      <td>0.468293</td>\n",
       "      <td>-0.114481</td>\n",
       "      <td>0.0542241</td>\n",
       "    </tr>\n",
       "    <tr>\n",
       "      <th>Oil</th>\n",
       "      <td>0.00534836</td>\n",
       "      <td>0.888292</td>\n",
       "      <td>0.270181</td>\n",
       "      <td>-0.19712</td>\n",
       "      <td>0.0933537</td>\n",
       "      <td>0.028974</td>\n",
       "    </tr>\n",
       "    <tr>\n",
       "      <th>Util</th>\n",
       "      <td>0.00519619</td>\n",
       "      <td>0.753439</td>\n",
       "      <td>0.275253</td>\n",
       "      <td>-0.159592</td>\n",
       "      <td>0.0123401</td>\n",
       "      <td>0.0254701</td>\n",
       "    </tr>\n",
       "    <tr>\n",
       "      <th>Telcm</th>\n",
       "      <td>0.0069616</td>\n",
       "      <td>0.671879</td>\n",
       "      <td>-0.0761918</td>\n",
       "      <td>-0.141958</td>\n",
       "      <td>-0.0647826</td>\n",
       "      <td>0.0219956</td>\n",
       "    </tr>\n",
       "    <tr>\n",
       "      <th>Servs</th>\n",
       "      <td>0.0096715</td>\n",
       "      <td>0.821078</td>\n",
       "      <td>-0.492141</td>\n",
       "      <td>0.374938</td>\n",
       "      <td>0.0383388</td>\n",
       "      <td>0.0350301</td>\n",
       "    </tr>\n",
       "    <tr>\n",
       "      <th>BusEq</th>\n",
       "      <td>0.00879062</td>\n",
       "      <td>1.10005</td>\n",
       "      <td>-0.490386</td>\n",
       "      <td>0.156564</td>\n",
       "      <td>-0.0478008</td>\n",
       "      <td>0.0237717</td>\n",
       "    </tr>\n",
       "    <tr>\n",
       "      <th>Paper</th>\n",
       "      <td>0.00688064</td>\n",
       "      <td>0.942466</td>\n",
       "      <td>0.0259137</td>\n",
       "      <td>-0.05809</td>\n",
       "      <td>-0.0324802</td>\n",
       "      <td>0.021176</td>\n",
       "    </tr>\n",
       "    <tr>\n",
       "      <th>Trans</th>\n",
       "      <td>0.00387186</td>\n",
       "      <td>1.00782</td>\n",
       "      <td>0.454784</td>\n",
       "      <td>0.159516</td>\n",
       "      <td>-0.0723881</td>\n",
       "      <td>0.0240995</td>\n",
       "    </tr>\n",
       "    <tr>\n",
       "      <th>Whlsl</th>\n",
       "      <td>0.00303278</td>\n",
       "      <td>0.972507</td>\n",
       "      <td>0.0763479</td>\n",
       "      <td>0.558906</td>\n",
       "      <td>0.0477455</td>\n",
       "      <td>0.0253053</td>\n",
       "    </tr>\n",
       "    <tr>\n",
       "      <th>Rtail</th>\n",
       "      <td>0.00745617</td>\n",
       "      <td>0.955933</td>\n",
       "      <td>-0.133867</td>\n",
       "      <td>0.0434616</td>\n",
       "      <td>-0.0456705</td>\n",
       "      <td>0.0224622</td>\n",
       "    </tr>\n",
       "    <tr>\n",
       "      <th>Meals</th>\n",
       "      <td>0.00680803</td>\n",
       "      <td>0.884441</td>\n",
       "      <td>-0.0267117</td>\n",
       "      <td>0.288245</td>\n",
       "      <td>0.0178617</td>\n",
       "      <td>0.0295542</td>\n",
       "    </tr>\n",
       "    <tr>\n",
       "      <th>Fin</th>\n",
       "      <td>0.00606987</td>\n",
       "      <td>1.0916</td>\n",
       "      <td>0.252684</td>\n",
       "      <td>-0.0649094</td>\n",
       "      <td>-0.118935</td>\n",
       "      <td>0.0189908</td>\n",
       "    </tr>\n",
       "    <tr>\n",
       "      <th>Other</th>\n",
       "      <td>0.00367965</td>\n",
       "      <td>0.988145</td>\n",
       "      <td>-0.0131155</td>\n",
       "      <td>0.303522</td>\n",
       "      <td>-0.0234022</td>\n",
       "      <td>0.0258493</td>\n",
       "    </tr>\n",
       "  </tbody>\n",
       "</table>\n",
       "</div>"
      ],
      "text/plain": [
       "            alpha  beta_mkt   beta_value  beta_size    beta_mom  abs_resid\n",
       "Food   0.00677562  0.749915    0.0460662   -0.13117   0.0178308  0.0191602\n",
       "Beer   0.00638137   0.89562     0.195505   0.221738    0.141272  0.0336761\n",
       "Smoke  0.00902703  0.643422    0.0621349  -0.203292  -0.0135621  0.0350301\n",
       "Games  0.00642653   1.24092     0.108467   0.390183   -0.149054  0.0341483\n",
       "Books  0.00383958  0.993359     0.165518   0.361578  -0.0304185  0.0283146\n",
       "Hshld  0.00581372  0.921699   -0.0157988 -0.0826963   0.0496324  0.0238152\n",
       "Clths  0.00643224  0.721481   -0.0782455   0.427085  -0.0615915   0.027889\n",
       "Hlth   0.00797675  0.880753    -0.176577 -0.0881812   0.0273937  0.0239144\n",
       "Chems  0.00668317   1.05364 -0.000755335  -0.150933  -0.0240006  0.0215656\n",
       "Txtls  0.00472603  0.941546     0.277403   0.545577   -0.152685  0.0292073\n",
       "Cnstr  0.00426038   1.10011     0.110293   0.252197  0.00711158  0.0206098\n",
       "Steel  0.00316578   1.22529     0.322907   0.225912   -0.102369  0.0301882\n",
       "FabPr  0.00571811   1.15214    0.0871764   0.233765    -0.07947  0.0208976\n",
       "ElcEq  0.00715621   1.27153  -0.00711622 -0.0561616  -0.0419769    0.02567\n",
       "Autos  0.00634493   1.14946     0.199215  0.0355949   -0.175329  0.0303182\n",
       "Carry  0.00590436   1.08818     0.306854   0.199414  -0.0207081  0.0299214\n",
       "Mines  0.00463432  0.823983     0.144932   0.262217 -0.00729541  0.0400891\n",
       "Coal   0.00375878   1.05998      0.60999   0.468293   -0.114481  0.0542241\n",
       "Oil    0.00534836  0.888292     0.270181   -0.19712   0.0933537   0.028974\n",
       "Util   0.00519619  0.753439     0.275253  -0.159592   0.0123401  0.0254701\n",
       "Telcm   0.0069616  0.671879   -0.0761918  -0.141958  -0.0647826  0.0219956\n",
       "Servs   0.0096715  0.821078    -0.492141   0.374938   0.0383388  0.0350301\n",
       "BusEq  0.00879062   1.10005    -0.490386   0.156564  -0.0478008  0.0237717\n",
       "Paper  0.00688064  0.942466    0.0259137   -0.05809  -0.0324802   0.021176\n",
       "Trans  0.00387186   1.00782     0.454784   0.159516  -0.0723881  0.0240995\n",
       "Whlsl  0.00303278  0.972507    0.0763479   0.558906   0.0477455  0.0253053\n",
       "Rtail  0.00745617  0.955933    -0.133867  0.0434616  -0.0456705  0.0224622\n",
       "Meals  0.00680803  0.884441   -0.0267117   0.288245   0.0178617  0.0295542\n",
       "Fin    0.00606987    1.0916     0.252684 -0.0649094   -0.118935  0.0189908\n",
       "Other  0.00367965  0.988145   -0.0131155   0.303522  -0.0234022  0.0258493"
      ]
     },
     "execution_count": 24,
     "metadata": {},
     "output_type": "execute_result"
    }
   ],
   "source": [
    "reg_results = pd.DataFrame(index = industry_df.columns, columns = [\"alpha\", \"beta_mkt\", \"beta_value\", \"beta_size\", \"beta_mom\", \"abs_resid\"])\n",
    "factors = ['mkt_excess','value','size','momentum']\n",
    "rhs = sm.add_constant(portfolios_df[factors])\n",
    "for portfolio in reg_results.index:\n",
    "    lhs = portfolios_df[portfolio]\n",
    "    res = sm.OLS(lhs, rhs, missing='drop').fit()\n",
    "    reg_results.loc[portfolio, 'alpha'] = res.params[\"const\"]\n",
    "    reg_results.loc[portfolio, 'beta_mkt'] = res.params['mkt_excess']\n",
    "    reg_results.loc[portfolio, 'beta_value'] = res.params['value']\n",
    "    reg_results.loc[portfolio, 'beta_size'] = res.params['size']\n",
    "    reg_results.loc[portfolio, 'beta_mom'] = res.params['momentum']\n",
    "    reg_results.loc[portfolio, 'abs_resid'] = res.resid.abs().mean()\n",
    "reg_results"
   ]
  },
  {
   "cell_type": "markdown",
   "metadata": {},
   "source": [
    "## 3.3. Use your estimates for BETA and LAMBDA to calculate the LFPM-implied expected excess return for each test portfolio"
   ]
  },
  {
   "cell_type": "code",
   "execution_count": 25,
   "metadata": {},
   "outputs": [
    {
     "data": {
      "text/markdown": [
       "<span style='color:blue'>**LFPM-implied expected excess return for each test portfolio**</span>"
      ],
      "text/plain": [
       "<IPython.core.display.Markdown object>"
      ]
     },
     "metadata": {},
     "output_type": "display_data"
    },
    {
     "data": {
      "text/html": [
       "<div>\n",
       "<style scoped>\n",
       "    .dataframe tbody tr th:only-of-type {\n",
       "        vertical-align: middle;\n",
       "    }\n",
       "\n",
       "    .dataframe tbody tr th {\n",
       "        vertical-align: top;\n",
       "    }\n",
       "\n",
       "    .dataframe thead th {\n",
       "        text-align: right;\n",
       "    }\n",
       "</style>\n",
       "<table border=\"1\" class=\"dataframe\">\n",
       "  <thead>\n",
       "    <tr style=\"text-align: right;\">\n",
       "      <th></th>\n",
       "      <th>LFPM-implied excess return</th>\n",
       "    </tr>\n",
       "  </thead>\n",
       "  <tbody>\n",
       "    <tr>\n",
       "      <th>Food</th>\n",
       "      <td>0.0029</td>\n",
       "    </tr>\n",
       "    <tr>\n",
       "      <th>Beer</th>\n",
       "      <td>0.0055</td>\n",
       "    </tr>\n",
       "    <tr>\n",
       "      <th>Smoke</th>\n",
       "      <td>0.0022</td>\n",
       "    </tr>\n",
       "    <tr>\n",
       "      <th>Games</th>\n",
       "      <td>0.0049</td>\n",
       "    </tr>\n",
       "    <tr>\n",
       "      <th>Books</th>\n",
       "      <td>0.0049</td>\n",
       "    </tr>\n",
       "    <tr>\n",
       "      <th>Hshld</th>\n",
       "      <td>0.0036</td>\n",
       "    </tr>\n",
       "    <tr>\n",
       "      <th>Clths</th>\n",
       "      <td>0.0029</td>\n",
       "    </tr>\n",
       "    <tr>\n",
       "      <th>Hlth</th>\n",
       "      <td>0.0028</td>\n",
       "    </tr>\n",
       "    <tr>\n",
       "      <th>Chems</th>\n",
       "      <td>0.0036</td>\n",
       "    </tr>\n",
       "    <tr>\n",
       "      <th>Txtls</th>\n",
       "      <td>0.0047</td>\n",
       "    </tr>\n",
       "    <tr>\n",
       "      <th>Cnstr</th>\n",
       "      <td>0.0052</td>\n",
       "    </tr>\n",
       "    <tr>\n",
       "      <th>Steel</th>\n",
       "      <td>0.0056</td>\n",
       "    </tr>\n",
       "    <tr>\n",
       "      <th>FabPr</th>\n",
       "      <td>0.0047</td>\n",
       "    </tr>\n",
       "    <tr>\n",
       "      <th>ElcEq</th>\n",
       "      <td>0.0044</td>\n",
       "    </tr>\n",
       "    <tr>\n",
       "      <th>Autos</th>\n",
       "      <td>0.0040</td>\n",
       "    </tr>\n",
       "    <tr>\n",
       "      <th>Carry</th>\n",
       "      <td>0.0055</td>\n",
       "    </tr>\n",
       "    <tr>\n",
       "      <th>Mines</th>\n",
       "      <td>0.0042</td>\n",
       "    </tr>\n",
       "    <tr>\n",
       "      <th>Coal</th>\n",
       "      <td>0.0064</td>\n",
       "    </tr>\n",
       "    <tr>\n",
       "      <th>Oil</th>\n",
       "      <td>0.0046</td>\n",
       "    </tr>\n",
       "    <tr>\n",
       "      <th>Util</th>\n",
       "      <td>0.0036</td>\n",
       "    </tr>\n",
       "    <tr>\n",
       "      <th>Telcm</th>\n",
       "      <td>0.0016</td>\n",
       "    </tr>\n",
       "    <tr>\n",
       "      <th>Servs</th>\n",
       "      <td>0.0024</td>\n",
       "    </tr>\n",
       "    <tr>\n",
       "      <th>BusEq</th>\n",
       "      <td>0.0025</td>\n",
       "    </tr>\n",
       "    <tr>\n",
       "      <th>Paper</th>\n",
       "      <td>0.0034</td>\n",
       "    </tr>\n",
       "    <tr>\n",
       "      <th>Trans</th>\n",
       "      <td>0.0053</td>\n",
       "    </tr>\n",
       "    <tr>\n",
       "      <th>Whlsl</th>\n",
       "      <td>0.0054</td>\n",
       "    </tr>\n",
       "    <tr>\n",
       "      <th>Rtail</th>\n",
       "      <td>0.0030</td>\n",
       "    </tr>\n",
       "    <tr>\n",
       "      <th>Meals</th>\n",
       "      <td>0.0040</td>\n",
       "    </tr>\n",
       "    <tr>\n",
       "      <th>Fin</th>\n",
       "      <td>0.0041</td>\n",
       "    </tr>\n",
       "    <tr>\n",
       "      <th>Other</th>\n",
       "      <td>0.0042</td>\n",
       "    </tr>\n",
       "  </tbody>\n",
       "</table>\n",
       "</div>"
      ],
      "text/plain": [
       "      LFPM-implied excess return\n",
       "Food                      0.0029\n",
       "Beer                      0.0055\n",
       "Smoke                     0.0022\n",
       "Games                     0.0049\n",
       "Books                     0.0049\n",
       "Hshld                     0.0036\n",
       "Clths                     0.0029\n",
       "Hlth                      0.0028\n",
       "Chems                     0.0036\n",
       "Txtls                     0.0047\n",
       "Cnstr                     0.0052\n",
       "Steel                     0.0056\n",
       "FabPr                     0.0047\n",
       "ElcEq                     0.0044\n",
       "Autos                     0.0040\n",
       "Carry                     0.0055\n",
       "Mines                     0.0042\n",
       "Coal                      0.0064\n",
       "Oil                       0.0046\n",
       "Util                      0.0036\n",
       "Telcm                     0.0016\n",
       "Servs                     0.0024\n",
       "BusEq                     0.0025\n",
       "Paper                     0.0034\n",
       "Trans                     0.0053\n",
       "Whlsl                     0.0054\n",
       "Rtail                     0.0030\n",
       "Meals                     0.0040\n",
       "Fin                       0.0041\n",
       "Other                     0.0042"
      ]
     },
     "metadata": {},
     "output_type": "display_data"
    }
   ],
   "source": [
    "LFPM_df = pd.DataFrame()\n",
    "LFPM_df = pd.DataFrame(index = reg_results.index, columns=['LFPM-implied excess return'])\n",
    "for portfolio in reg_results.index:\n",
    "    LFPM_df.loc[portfolio] = reg_results.loc[portfolio]['beta_mom']*lambda_momFF + \\\n",
    "    reg_results.loc[portfolio]['beta_value']*lambda_v + reg_results.loc[portfolio]['beta_size']*lambda_s + \\\n",
    "    reg_results.loc[portfolio]['beta_mkt']*lambda_m\n",
    "printmd('**LFPM-implied expected excess return for each test portfolio**',color='blue')    \n",
    "LFPM_df['LFPM-implied excess return'] = LFPM_df['LFPM-implied excess return'].map('{:,.4f}'.format)\n",
    "display(LFPM_df)"
   ]
  },
  {
   "cell_type": "markdown",
   "metadata": {},
   "source": [
    "## 3.4. Calculate the sample average of the excess return on each test portfolio"
   ]
  },
  {
   "cell_type": "code",
   "execution_count": 27,
   "metadata": {},
   "outputs": [
    {
     "data": {
      "text/markdown": [
       "<span style='color:blue'>**Sample average of the excess return for each test portfolio**</span>"
      ],
      "text/plain": [
       "<IPython.core.display.Markdown object>"
      ]
     },
     "metadata": {},
     "output_type": "display_data"
    },
    {
     "data": {
      "text/html": [
       "<div>\n",
       "<style scoped>\n",
       "    .dataframe tbody tr th:only-of-type {\n",
       "        vertical-align: middle;\n",
       "    }\n",
       "\n",
       "    .dataframe tbody tr th {\n",
       "        vertical-align: top;\n",
       "    }\n",
       "\n",
       "    .dataframe thead th {\n",
       "        text-align: right;\n",
       "    }\n",
       "</style>\n",
       "<table border=\"1\" class=\"dataframe\">\n",
       "  <thead>\n",
       "    <tr style=\"text-align: right;\">\n",
       "      <th></th>\n",
       "      <th>Sample average of the excess return</th>\n",
       "    </tr>\n",
       "  </thead>\n",
       "  <tbody>\n",
       "    <tr>\n",
       "      <th>Food</th>\n",
       "      <td>0.0097</td>\n",
       "    </tr>\n",
       "    <tr>\n",
       "      <th>Beer</th>\n",
       "      <td>0.0119</td>\n",
       "    </tr>\n",
       "    <tr>\n",
       "      <th>Smoke</th>\n",
       "      <td>0.0112</td>\n",
       "    </tr>\n",
       "    <tr>\n",
       "      <th>Games</th>\n",
       "      <td>0.0114</td>\n",
       "    </tr>\n",
       "    <tr>\n",
       "      <th>Books</th>\n",
       "      <td>0.0088</td>\n",
       "    </tr>\n",
       "    <tr>\n",
       "      <th>Hshld</th>\n",
       "      <td>0.0094</td>\n",
       "    </tr>\n",
       "    <tr>\n",
       "      <th>Clths</th>\n",
       "      <td>0.0094</td>\n",
       "    </tr>\n",
       "    <tr>\n",
       "      <th>Hlth</th>\n",
       "      <td>0.0107</td>\n",
       "    </tr>\n",
       "    <tr>\n",
       "      <th>Chems</th>\n",
       "      <td>0.0102</td>\n",
       "    </tr>\n",
       "    <tr>\n",
       "      <th>Txtls</th>\n",
       "      <td>0.0094</td>\n",
       "    </tr>\n",
       "    <tr>\n",
       "      <th>Cnstr</th>\n",
       "      <td>0.0094</td>\n",
       "    </tr>\n",
       "    <tr>\n",
       "      <th>Steel</th>\n",
       "      <td>0.0088</td>\n",
       "    </tr>\n",
       "    <tr>\n",
       "      <th>FabPr</th>\n",
       "      <td>0.0104</td>\n",
       "    </tr>\n",
       "    <tr>\n",
       "      <th>ElcEq</th>\n",
       "      <td>0.0116</td>\n",
       "    </tr>\n",
       "    <tr>\n",
       "      <th>Autos</th>\n",
       "      <td>0.0104</td>\n",
       "    </tr>\n",
       "    <tr>\n",
       "      <th>Carry</th>\n",
       "      <td>0.0114</td>\n",
       "    </tr>\n",
       "    <tr>\n",
       "      <th>Mines</th>\n",
       "      <td>0.0088</td>\n",
       "    </tr>\n",
       "    <tr>\n",
       "      <th>Coal</th>\n",
       "      <td>0.0102</td>\n",
       "    </tr>\n",
       "    <tr>\n",
       "      <th>Oil</th>\n",
       "      <td>0.0099</td>\n",
       "    </tr>\n",
       "    <tr>\n",
       "      <th>Util</th>\n",
       "      <td>0.0088</td>\n",
       "    </tr>\n",
       "    <tr>\n",
       "      <th>Telcm</th>\n",
       "      <td>0.0085</td>\n",
       "    </tr>\n",
       "    <tr>\n",
       "      <th>Servs</th>\n",
       "      <td>0.0121</td>\n",
       "    </tr>\n",
       "    <tr>\n",
       "      <th>BusEq</th>\n",
       "      <td>0.0113</td>\n",
       "    </tr>\n",
       "    <tr>\n",
       "      <th>Paper</th>\n",
       "      <td>0.0102</td>\n",
       "    </tr>\n",
       "    <tr>\n",
       "      <th>Trans</th>\n",
       "      <td>0.0092</td>\n",
       "    </tr>\n",
       "    <tr>\n",
       "      <th>Whlsl</th>\n",
       "      <td>0.0085</td>\n",
       "    </tr>\n",
       "    <tr>\n",
       "      <th>Rtail</th>\n",
       "      <td>0.0104</td>\n",
       "    </tr>\n",
       "    <tr>\n",
       "      <th>Meals</th>\n",
       "      <td>0.0108</td>\n",
       "    </tr>\n",
       "    <tr>\n",
       "      <th>Fin</th>\n",
       "      <td>0.0102</td>\n",
       "    </tr>\n",
       "    <tr>\n",
       "      <th>Other</th>\n",
       "      <td>0.0079</td>\n",
       "    </tr>\n",
       "  </tbody>\n",
       "</table>\n",
       "</div>"
      ],
      "text/plain": [
       "      Sample average of the excess return\n",
       "Food                               0.0097\n",
       "Beer                               0.0119\n",
       "Smoke                              0.0112\n",
       "Games                              0.0114\n",
       "Books                              0.0088\n",
       "Hshld                              0.0094\n",
       "Clths                              0.0094\n",
       "Hlth                               0.0107\n",
       "Chems                              0.0102\n",
       "Txtls                              0.0094\n",
       "Cnstr                              0.0094\n",
       "Steel                              0.0088\n",
       "FabPr                              0.0104\n",
       "ElcEq                              0.0116\n",
       "Autos                              0.0104\n",
       "Carry                              0.0114\n",
       "Mines                              0.0088\n",
       "Coal                               0.0102\n",
       "Oil                                0.0099\n",
       "Util                               0.0088\n",
       "Telcm                              0.0085\n",
       "Servs                              0.0121\n",
       "BusEq                              0.0113\n",
       "Paper                              0.0102\n",
       "Trans                              0.0092\n",
       "Whlsl                              0.0085\n",
       "Rtail                              0.0104\n",
       "Meals                              0.0108\n",
       "Fin                                0.0102\n",
       "Other                              0.0079"
      ]
     },
     "metadata": {},
     "output_type": "display_data"
    }
   ],
   "source": [
    "exc_ret_df = pd.DataFrame()\n",
    "exc_ret_df = pd.DataFrame(index=reg_results.index, columns=['Sample average of the excess return'])\n",
    "for portfolio in exc_ret_df.index:\n",
    "    exc_ret_df.loc[portfolio] = portfolios_df[portfolio].mean()\n",
    "printmd('**Sample average of the excess return for each test portfolio**',color='blue')   \n",
    "exc_ret_df['Sample average of the excess return'] = exc_ret_df['Sample average of the excess return'].map('{:,.4f}'.format)\n",
    "display(exc_ret_df)"
   ]
  },
  {
   "cell_type": "markdown",
   "metadata": {},
   "source": [
    "## 3.5. Make a scatter plot for the 30 test portfolios, with their LFPM-implied premia:"
   ]
  },
  {
   "cell_type": "code",
   "execution_count": 70,
   "metadata": {},
   "outputs": [
    {
     "data": {
      "text/html": [
       "<div>\n",
       "<style scoped>\n",
       "    .dataframe tbody tr th:only-of-type {\n",
       "        vertical-align: middle;\n",
       "    }\n",
       "\n",
       "    .dataframe tbody tr th {\n",
       "        vertical-align: top;\n",
       "    }\n",
       "\n",
       "    .dataframe thead th {\n",
       "        text-align: right;\n",
       "    }\n",
       "</style>\n",
       "<table border=\"1\" class=\"dataframe\">\n",
       "  <thead>\n",
       "    <tr style=\"text-align: right;\">\n",
       "      <th></th>\n",
       "      <th>Sample average of the excess return</th>\n",
       "      <th>LFPM-implied excess return</th>\n",
       "    </tr>\n",
       "  </thead>\n",
       "  <tbody>\n",
       "    <tr>\n",
       "      <th>Food</th>\n",
       "      <td>0.0097</td>\n",
       "      <td>0.0029</td>\n",
       "    </tr>\n",
       "    <tr>\n",
       "      <th>Beer</th>\n",
       "      <td>0.0119</td>\n",
       "      <td>0.0055</td>\n",
       "    </tr>\n",
       "    <tr>\n",
       "      <th>Smoke</th>\n",
       "      <td>0.0112</td>\n",
       "      <td>0.0022</td>\n",
       "    </tr>\n",
       "  </tbody>\n",
       "</table>\n",
       "</div>"
      ],
      "text/plain": [
       "      Sample average of the excess return LFPM-implied excess return\n",
       "Food                               0.0097                     0.0029\n",
       "Beer                               0.0119                     0.0055\n",
       "Smoke                              0.0112                     0.0022"
      ]
     },
     "metadata": {},
     "output_type": "display_data"
    }
   ],
   "source": [
    "factors1 = np.array([lambda_m, lambda_s, lambda_v, lambda_momFF])\n",
    "factors2 = np.array([lambda_m, lambda_s, lambda_v, lambda_momFF])\n",
    "factors = np.concatenate([factors1.reshape(-1,1), factors2.reshape(-1,1)], axis=1)\n",
    "factors_df = pd.DataFrame(factors, index=['momentum', 'size', 'value', 'mkt'], \n",
    "                          columns=['factors1', 'factors2'])\n",
    "\n",
    "ret_df = pd.DataFrame()\n",
    "ret_df = pd.concat([exc_ret_df, LFPM_df], axis=1, sort=False)\n",
    "display(ret_df.head(3))"
   ]
  },
  {
   "cell_type": "code",
   "execution_count": 77,
   "metadata": {},
   "outputs": [
    {
     "data": {
      "text/plain": [
       "Text(0, 0.5, 'Sample average premia')"
      ]
     },
     "execution_count": 77,
     "metadata": {},
     "output_type": "execute_result"
    },
    {
     "data": {
      "image/png": "[encoded data removed]",
      "text/plain": [
       "<Figure size 1440x1008 with 1 Axes>"
      ]
     },
     "metadata": {
      "needs_background": "light"
     },
     "output_type": "display_data"
    }
   ],
   "source": [
    "fig, ax = plt.subplots(figsize= (20,14))\n",
    "sns.scatterplot(y='Sample average of the excess return', x='LFPM-implied excess return', \n",
    "                    data=ret_df, hue=ret_df.index, size=ret_df.index, \n",
    "                sizes=(100, 300), legend='full')\n",
    "\n",
    "sns.scatterplot(y='factors1', x='factors2', data=factors_df,\n",
    "               hue=factors_df.index, size=factors_df.index, sizes=(100, 400), legend='full')\n",
    "\n",
    "plt.legend(scatterpoints=1, frameon=False, labelspacing=1.3, title='Portfolio', \n",
    "          bbox_to_anchor=(1.05, 1), loc=2, borderaxespad=0.)\n",
    "ax.set_title('LFPM-implied vs Sample Average excess returns', fontsize=18)\n",
    "ax.set_xlabel(\"LFPM-implied premia\",fontsize=16)\n",
    "ax.set_ylabel(\"Sample average premia\",fontsize=16)"
   ]
  },
  {
   "cell_type": "markdown",
   "metadata": {},
   "source": [
    "## 3.6. Report the mean-absolute-error of the LFPM:"
   ]
  },
  {
   "cell_type": "code",
   "execution_count": 76,
   "metadata": {},
   "outputs": [
    {
     "data": {
      "text/markdown": [
       "<span style='color:blue'>**Mean Absolute Error (MAE) of the LFPM = 0.005960**</span>"
      ],
      "text/plain": [
       "<IPython.core.display.Markdown object>"
      ]
     },
     "metadata": {},
     "output_type": "display_data"
    }
   ],
   "source": [
    "mae = sum(reg_results[\"alpha\"].abs())/len(reg_results[\"alpha\"])\n",
    "\n",
    "printmd('**Mean Absolute Error (MAE) of the LFPM = {:.6f}**'.format(mae), color='blue')"
   ]
  },
  {
   "cell_type": "markdown",
   "metadata": {},
   "source": [
    "## 3.7. You have estimated the 4-factor model for the 30 test assets. Estimate the CAPM on these 30 securities. Compare the MAE from the CAPM to the MAE from the 4-factor model."
   ]
  },
  {
   "cell_type": "code",
   "execution_count": 79,
   "metadata": {},
   "outputs": [
    {
     "data": {
      "text/html": [
       "<div>\n",
       "<style scoped>\n",
       "    .dataframe tbody tr th:only-of-type {\n",
       "        vertical-align: middle;\n",
       "    }\n",
       "\n",
       "    .dataframe tbody tr th {\n",
       "        vertical-align: top;\n",
       "    }\n",
       "\n",
       "    .dataframe thead th {\n",
       "        text-align: right;\n",
       "    }\n",
       "</style>\n",
       "<table border=\"1\" class=\"dataframe\">\n",
       "  <thead>\n",
       "    <tr style=\"text-align: right;\">\n",
       "      <th></th>\n",
       "      <th>beta</th>\n",
       "      <th>alpha</th>\n",
       "      <th>r-squared</th>\n",
       "    </tr>\n",
       "  </thead>\n",
       "  <tbody>\n",
       "    <tr>\n",
       "      <th>Food</th>\n",
       "      <td>0.72651</td>\n",
       "      <td>0.00687927</td>\n",
       "      <td>0.677836</td>\n",
       "    </tr>\n",
       "    <tr>\n",
       "      <th>Beer</th>\n",
       "      <td>0.925656</td>\n",
       "      <td>0.00834513</td>\n",
       "      <td>0.484118</td>\n",
       "    </tr>\n",
       "    <tr>\n",
       "      <th>Smoke</th>\n",
       "      <td>0.618003</td>\n",
       "      <td>0.00884007</td>\n",
       "      <td>0.322786</td>\n",
       "    </tr>\n",
       "    <tr>\n",
       "      <th>Games</th>\n",
       "      <td>1.37637</td>\n",
       "      <td>0.00609585</td>\n",
       "      <td>0.683376</td>\n",
       "    </tr>\n",
       "    <tr>\n",
       "      <th>Books</th>\n",
       "      <td>1.09669</td>\n",
       "      <td>0.00456223</td>\n",
       "      <td>0.67604</td>\n",
       "    </tr>\n",
       "  </tbody>\n",
       "</table>\n",
       "</div>"
      ],
      "text/plain": [
       "           beta       alpha r-squared\n",
       "Food    0.72651  0.00687927  0.677836\n",
       "Beer   0.925656  0.00834513  0.484118\n",
       "Smoke  0.618003  0.00884007  0.322786\n",
       "Games   1.37637  0.00609585  0.683376\n",
       "Books   1.09669  0.00456223   0.67604"
      ]
     },
     "execution_count": 79,
     "metadata": {},
     "output_type": "execute_result"
    }
   ],
   "source": [
    "regr_market = pd.DataFrame(index = industry_df.columns, columns = [\"beta\", \"alpha\", \"r-squared\"])\n",
    "rhs = sm.add_constant(portfolios_df[\"mkt_excess\"])\n",
    "ave_excess_mkt_ret = 12 * portfolios_df[\"mkt_excess\"].mean() \n",
    "for portfolio in reg_results.index:\n",
    "    lhs = portfolios_df[portfolio]\n",
    "    res = sm.OLS(lhs, rhs, missing='drop').fit()\n",
    "    regr_market.loc[portfolio, 'beta'] = res.params[\"mkt_excess\"]\n",
    "    regr_market.loc[portfolio, 'alpha'] = res.params['const']\n",
    "    regr_market.loc[portfolio, 'r-squared'] = res.rsquared\n",
    "regr_market.head()"
   ]
  },
  {
   "cell_type": "code",
   "execution_count": 82,
   "metadata": {},
   "outputs": [
    {
     "data": {
      "text/markdown": [
       "<span style='color:blue'>**CAPM-implied expected excess return for each test portfolio:**</span>"
      ],
      "text/plain": [
       "<IPython.core.display.Markdown object>"
      ]
     },
     "metadata": {},
     "output_type": "display_data"
    },
    {
     "data": {
      "text/html": [
       "<div>\n",
       "<style scoped>\n",
       "    .dataframe tbody tr th:only-of-type {\n",
       "        vertical-align: middle;\n",
       "    }\n",
       "\n",
       "    .dataframe tbody tr th {\n",
       "        vertical-align: top;\n",
       "    }\n",
       "\n",
       "    .dataframe thead th {\n",
       "        text-align: right;\n",
       "    }\n",
       "</style>\n",
       "<table border=\"1\" class=\"dataframe\">\n",
       "  <thead>\n",
       "    <tr style=\"text-align: right;\">\n",
       "      <th></th>\n",
       "      <th>CAPM-implied excess return</th>\n",
       "    </tr>\n",
       "  </thead>\n",
       "  <tbody>\n",
       "    <tr>\n",
       "      <th>Food</th>\n",
       "      <td>0.00482051</td>\n",
       "    </tr>\n",
       "    <tr>\n",
       "      <th>Beer</th>\n",
       "      <td>0.00614188</td>\n",
       "    </tr>\n",
       "    <tr>\n",
       "      <th>Smoke</th>\n",
       "      <td>0.00410055</td>\n",
       "    </tr>\n",
       "  </tbody>\n",
       "</table>\n",
       "</div>"
      ],
      "text/plain": [
       "      CAPM-implied excess return\n",
       "Food                  0.00482051\n",
       "Beer                  0.00614188\n",
       "Smoke                 0.00410055"
      ]
     },
     "metadata": {},
     "output_type": "display_data"
    },
    {
     "name": "stdout",
     "output_type": "stream",
     "text": [
      "\n"
     ]
    },
    {
     "data": {
      "text/markdown": [
       "<span style='color:blue'>**Mean Absolute Error (MAE) of the LFPM = 0.005960**</span>"
      ],
      "text/plain": [
       "<IPython.core.display.Markdown object>"
      ]
     },
     "metadata": {},
     "output_type": "display_data"
    },
    {
     "data": {
      "text/markdown": [
       "<span style='color:blue'>**Mean Absolute Error (MAE) of the CAPM = 0.006145**</span>"
      ],
      "text/plain": [
       "<IPython.core.display.Markdown object>"
      ]
     },
     "metadata": {},
     "output_type": "display_data"
    }
   ],
   "source": [
    "CAPM_df = pd.DataFrame()\n",
    "CAPM_df = pd.DataFrame(index = regr_market.index, columns=['CAPM-implied excess return'])\n",
    "for portfolio in regr_market.index:\n",
    "    CAPM_df.loc[portfolio] = regr_market.loc[portfolio]['beta']*lambda_momFF\n",
    "printmd('**CAPM-implied expected excess return for each test portfolio:**',color='blue')    \n",
    "display(CAPM_df.head(3))\n",
    "\n",
    "print()\n",
    "printmd('**Mean Absolute Error (MAE) of the LFPM = {:.6f}**'.format(mae), color='blue')\n",
    "printmd('**Mean Absolute Error (MAE) of the CAPM = {:.6f}**'.format(sum(regr_market[\"alpha\"])/len(regr_market[\"alpha\"])), color='blue')"
   ]
  },
  {
   "cell_type": "markdown",
   "metadata": {},
   "source": [
    "**How much do the extra factors help in explaining risk premia for these 30 industry portfolios?**"
   ]
  },
  {
   "cell_type": "code",
   "execution_count": 83,
   "metadata": {},
   "outputs": [
    {
     "data": {
      "text/markdown": [
       "<span style='color:blue'>**The extra factors in the LFPM barely helped explaining the risk premia, because the MAE from the two models are very similiar.**</span>"
      ],
      "text/plain": [
       "<IPython.core.display.Markdown object>"
      ]
     },
     "metadata": {},
     "output_type": "display_data"
    }
   ],
   "source": [
    "printmd(\"**The extra factors in the LFPM barely helped explaining the risk premia, because the MAE from the two models are very similiar.**\", color = \"blue\")"
   ]
  }
 ],
 "metadata": {
  "kernelspec": {
   "display_name": "Python 3",
   "language": "python",
   "name": "python3"
  },
  "language_info": {
   "codemirror_mode": {
    "name": "ipython",
    "version": 3
   },
   "file_extension": ".py",
   "mimetype": "text/x-python",
   "name": "python",
   "nbconvert_exporter": "python",
   "pygments_lexer": "ipython3",
   "version": "3.6.8"
  }
 },
 "nbformat": 4,
 "nbformat_minor": 2
}
