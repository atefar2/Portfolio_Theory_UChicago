{
 "cells": [
  {
   "cell_type": "markdown",
   "metadata": {},
   "source": [
    "<h3 align=\"right\"> October 25, 2019  </h3> \n",
    "\n",
    "<h3 align=\"center\"> Portfolio Theory and Risk Management I </h3> \n",
    "\n",
    "<h3 align=\"center\"> HW 4 Solution.  </h3> "
   ]
  },
  {
   "cell_type": "code",
   "execution_count": 2,
   "metadata": {},
   "outputs": [],
   "source": [
    "import pandas as pd\n",
    "import numpy as np\n",
    "import matplotlib.pyplot as plt\n",
    "from numpy.linalg import inv\n",
    "from IPython.display import Markdown, display\n",
    "import numpy as np\n",
    "import pandas as pd\n",
    "import statsmodels.formula.api as smf\n",
    "import statsmodels.api as sm\n",
    "import seaborn as sns\n",
    "sns.set_style(\"whitegrid\")\n",
    "def printmd(string, color=None):\n",
    "    colorstr = \"<span style='color:{}'>{}</span>\".format(color, string)\n",
    "    display(Markdown(colorstr))"
   ]
  },
  {
   "cell_type": "code",
   "execution_count": 7,
   "metadata": {},
   "outputs": [
    {
     "data": {
      "text/html": [
       "<div>\n",
       "<style scoped>\n",
       "    .dataframe tbody tr th:only-of-type {\n",
       "        vertical-align: middle;\n",
       "    }\n",
       "\n",
       "    .dataframe tbody tr th {\n",
       "        vertical-align: top;\n",
       "    }\n",
       "\n",
       "    .dataframe thead th {\n",
       "        text-align: right;\n",
       "    }\n",
       "</style>\n",
       "<table border=\"1\" class=\"dataframe\">\n",
       "  <thead>\n",
       "    <tr style=\"text-align: right;\">\n",
       "      <th></th>\n",
       "      <th>HFRIFWI Index</th>\n",
       "      <th>MLEIFCTR Index</th>\n",
       "      <th>MLEIFCTX Index</th>\n",
       "      <th>HDG US Equity</th>\n",
       "      <th>QAI US Equity</th>\n",
       "      <th>SPY US Equity</th>\n",
       "    </tr>\n",
       "    <tr>\n",
       "      <th>Dates</th>\n",
       "      <th></th>\n",
       "      <th></th>\n",
       "      <th></th>\n",
       "      <th></th>\n",
       "      <th></th>\n",
       "      <th></th>\n",
       "    </tr>\n",
       "  </thead>\n",
       "  <tbody>\n",
       "    <tr>\n",
       "      <th>2011-08-31</th>\n",
       "      <td>-0.032149</td>\n",
       "      <td>-0.025588</td>\n",
       "      <td>-0.025689</td>\n",
       "      <td>-0.027035</td>\n",
       "      <td>-0.006491</td>\n",
       "      <td>-0.054976</td>\n",
       "    </tr>\n",
       "    <tr>\n",
       "      <th>2011-09-30</th>\n",
       "      <td>-0.038903</td>\n",
       "      <td>-0.032414</td>\n",
       "      <td>-0.032593</td>\n",
       "      <td>-0.032466</td>\n",
       "      <td>-0.022142</td>\n",
       "      <td>-0.069449</td>\n",
       "    </tr>\n",
       "  </tbody>\n",
       "</table>\n",
       "</div>"
      ],
      "text/plain": [
       "            HFRIFWI Index  MLEIFCTR Index  MLEIFCTX Index  HDG US Equity  \\\n",
       "Dates                                                                      \n",
       "2011-08-31      -0.032149       -0.025588       -0.025689      -0.027035   \n",
       "2011-09-30      -0.038903       -0.032414       -0.032593      -0.032466   \n",
       "\n",
       "            QAI US Equity  SPY US Equity  \n",
       "Dates                                     \n",
       "2011-08-31      -0.006491      -0.054976  \n",
       "2011-09-30      -0.022142      -0.069449  "
      ]
     },
     "execution_count": 7,
     "metadata": {},
     "output_type": "execute_result"
    }
   ],
   "source": [
    "hedge_df = pd.read_excel('hedge_fund_replication.xlsx', 'HEDGE-REP')\n",
    "hedge_df = hedge_df.set_index('Dates')\n",
    "hedge_df.head(2)"
   ]
  },
  {
   "cell_type": "code",
   "execution_count": 10,
   "metadata": {},
   "outputs": [
    {
     "data": {
      "text/html": [
       "<div>\n",
       "<style scoped>\n",
       "    .dataframe tbody tr th:only-of-type {\n",
       "        vertical-align: middle;\n",
       "    }\n",
       "\n",
       "    .dataframe tbody tr th {\n",
       "        vertical-align: top;\n",
       "    }\n",
       "\n",
       "    .dataframe thead th {\n",
       "        text-align: right;\n",
       "    }\n",
       "</style>\n",
       "<table border=\"1\" class=\"dataframe\">\n",
       "  <thead>\n",
       "    <tr style=\"text-align: right;\">\n",
       "      <th></th>\n",
       "      <th>SPY US Equity</th>\n",
       "      <th>USGG3M Index</th>\n",
       "      <th>EEM US Equity</th>\n",
       "      <th>EFA US Equity</th>\n",
       "      <th>EUO US Equity</th>\n",
       "      <th>IWM US Equity</th>\n",
       "    </tr>\n",
       "    <tr>\n",
       "      <th>Dates</th>\n",
       "      <th></th>\n",
       "      <th></th>\n",
       "      <th></th>\n",
       "      <th></th>\n",
       "      <th></th>\n",
       "      <th></th>\n",
       "    </tr>\n",
       "  </thead>\n",
       "  <tbody>\n",
       "    <tr>\n",
       "      <th>2011-08-31</th>\n",
       "      <td>-0.054976</td>\n",
       "      <td>0.000009</td>\n",
       "      <td>-0.092549</td>\n",
       "      <td>-0.087549</td>\n",
       "      <td>-0.005889</td>\n",
       "      <td>-0.088913</td>\n",
       "    </tr>\n",
       "    <tr>\n",
       "      <th>2011-09-30</th>\n",
       "      <td>-0.069449</td>\n",
       "      <td>0.000006</td>\n",
       "      <td>-0.179064</td>\n",
       "      <td>-0.108083</td>\n",
       "      <td>0.142180</td>\n",
       "      <td>-0.111541</td>\n",
       "    </tr>\n",
       "  </tbody>\n",
       "</table>\n",
       "</div>"
      ],
      "text/plain": [
       "            SPY US Equity  USGG3M Index  EEM US Equity  EFA US Equity  \\\n",
       "Dates                                                                   \n",
       "2011-08-31      -0.054976      0.000009      -0.092549      -0.087549   \n",
       "2011-09-30      -0.069449      0.000006      -0.179064      -0.108083   \n",
       "\n",
       "            EUO US Equity  IWM US Equity  \n",
       "Dates                                     \n",
       "2011-08-31      -0.005889      -0.088913  \n",
       "2011-09-30       0.142180      -0.111541  "
      ]
     },
     "execution_count": 10,
     "metadata": {},
     "output_type": "execute_result"
    }
   ],
   "source": [
    "merrill_df = pd.read_excel('hedge_fund_replication.xlsx', 'MERRILL-FACS')\n",
    "merrill_df = merrill_df.set_index('Dates')\n",
    "merrill_df.head(2)"
   ]
  },
  {
   "cell_type": "code",
   "execution_count": 11,
   "metadata": {},
   "outputs": [
    {
     "data": {
      "text/html": [
       "<div>\n",
       "<style scoped>\n",
       "    .dataframe tbody tr th:only-of-type {\n",
       "        vertical-align: middle;\n",
       "    }\n",
       "\n",
       "    .dataframe tbody tr th {\n",
       "        vertical-align: top;\n",
       "    }\n",
       "\n",
       "    .dataframe thead th {\n",
       "        text-align: right;\n",
       "    }\n",
       "</style>\n",
       "<table border=\"1\" class=\"dataframe\">\n",
       "  <thead>\n",
       "    <tr style=\"text-align: right;\">\n",
       "      <th></th>\n",
       "      <th>SPY US Equity</th>\n",
       "      <th>PSP US Equity</th>\n",
       "      <th>HYG US Equity</th>\n",
       "      <th>SPGSCITR Index</th>\n",
       "      <th>IYR US Equity</th>\n",
       "      <th>IEF US Equity</th>\n",
       "      <th>BWX US Equity</th>\n",
       "      <th>TIP US Equity</th>\n",
       "      <th>SHV US Equity</th>\n",
       "    </tr>\n",
       "    <tr>\n",
       "      <th>Dates</th>\n",
       "      <th></th>\n",
       "      <th></th>\n",
       "      <th></th>\n",
       "      <th></th>\n",
       "      <th></th>\n",
       "      <th></th>\n",
       "      <th></th>\n",
       "      <th></th>\n",
       "      <th></th>\n",
       "    </tr>\n",
       "  </thead>\n",
       "  <tbody>\n",
       "    <tr>\n",
       "      <th>2011-08-31</th>\n",
       "      <td>-0.054976</td>\n",
       "      <td>-0.110459</td>\n",
       "      <td>-0.027298</td>\n",
       "      <td>-0.018458</td>\n",
       "      <td>-0.053119</td>\n",
       "      <td>0.046507</td>\n",
       "      <td>0.010801</td>\n",
       "      <td>0.006425</td>\n",
       "      <td>0.000407</td>\n",
       "    </tr>\n",
       "    <tr>\n",
       "      <th>2011-09-30</th>\n",
       "      <td>-0.069449</td>\n",
       "      <td>-0.149890</td>\n",
       "      <td>-0.053007</td>\n",
       "      <td>-0.121687</td>\n",
       "      <td>-0.106751</td>\n",
       "      <td>0.022353</td>\n",
       "      <td>-0.043460</td>\n",
       "      <td>-0.000087</td>\n",
       "      <td>0.000139</td>\n",
       "    </tr>\n",
       "  </tbody>\n",
       "</table>\n",
       "</div>"
      ],
      "text/plain": [
       "            SPY US Equity  PSP US Equity  HYG US Equity  SPGSCITR Index  \\\n",
       "Dates                                                                     \n",
       "2011-08-31      -0.054976      -0.110459      -0.027298       -0.018458   \n",
       "2011-09-30      -0.069449      -0.149890      -0.053007       -0.121687   \n",
       "\n",
       "            IYR US Equity  IEF US Equity  BWX US Equity  TIP US Equity  \\\n",
       "Dates                                                                    \n",
       "2011-08-31      -0.053119       0.046507       0.010801       0.006425   \n",
       "2011-09-30      -0.106751       0.022353      -0.043460      -0.000087   \n",
       "\n",
       "            SHV US Equity  \n",
       "Dates                      \n",
       "2011-08-31       0.000407  \n",
       "2011-09-30       0.000139  "
      ]
     },
     "execution_count": 11,
     "metadata": {},
     "output_type": "execute_result"
    }
   ],
   "source": [
    "multi_df = pd.read_excel('hedge_fund_replication.xlsx', 'MULTI-ASSET')\n",
    "multi_df = multi_df.set_index('Dates')\n",
    "multi_df.head(2)"
   ]
  },
  {
   "cell_type": "markdown",
   "metadata": {},
   "source": [
    "# 2.1. For every asset in the \"HEDGE-REP\" tab, report summary statistics"
   ]
  },
  {
   "cell_type": "code",
   "execution_count": 62,
   "metadata": {},
   "outputs": [
    {
     "data": {
      "text/markdown": [
       "<span style='color:blue'>**Summary statistics on mean, volatility, Sharpe Ratio and Market Beta for each asset for the period 2011-2019:**</span>"
      ],
      "text/plain": [
       "<IPython.core.display.Markdown object>"
      ]
     },
     "metadata": {},
     "output_type": "display_data"
    },
    {
     "data": {
      "text/html": [
       "<div>\n",
       "<style scoped>\n",
       "    .dataframe tbody tr th:only-of-type {\n",
       "        vertical-align: middle;\n",
       "    }\n",
       "\n",
       "    .dataframe tbody tr th {\n",
       "        vertical-align: top;\n",
       "    }\n",
       "\n",
       "    .dataframe thead th {\n",
       "        text-align: right;\n",
       "    }\n",
       "</style>\n",
       "<table border=\"1\" class=\"dataframe\">\n",
       "  <thead>\n",
       "    <tr style=\"text-align: right;\">\n",
       "      <th></th>\n",
       "      <th>mean</th>\n",
       "      <th>volatility</th>\n",
       "      <th>Sharpe Ratio</th>\n",
       "      <th>Market Beta</th>\n",
       "    </tr>\n",
       "  </thead>\n",
       "  <tbody>\n",
       "    <tr>\n",
       "      <th>HFRIFWI Index</th>\n",
       "      <td>0.0325</td>\n",
       "      <td>0.047</td>\n",
       "      <td>0.692</td>\n",
       "      <td>0.3429</td>\n",
       "    </tr>\n",
       "    <tr>\n",
       "      <th>MLEIFCTR Index</th>\n",
       "      <td>0.03</td>\n",
       "      <td>0.0467</td>\n",
       "      <td>0.6411</td>\n",
       "      <td>0.3511</td>\n",
       "    </tr>\n",
       "    <tr>\n",
       "      <th>MLEIFCTX Index</th>\n",
       "      <td>0.0281</td>\n",
       "      <td>0.0467</td>\n",
       "      <td>0.6013</td>\n",
       "      <td>0.3498</td>\n",
       "    </tr>\n",
       "    <tr>\n",
       "      <th>HDG US Equity</th>\n",
       "      <td>0.0186</td>\n",
       "      <td>0.0494</td>\n",
       "      <td>0.3762</td>\n",
       "      <td>0.3502</td>\n",
       "    </tr>\n",
       "    <tr>\n",
       "      <th>QAI US Equity</th>\n",
       "      <td>0.0213</td>\n",
       "      <td>0.0405</td>\n",
       "      <td>0.5242</td>\n",
       "      <td>0.2702</td>\n",
       "    </tr>\n",
       "    <tr>\n",
       "      <th>SPY US Equity</th>\n",
       "      <td>0.1298</td>\n",
       "      <td>0.1193</td>\n",
       "      <td>1.0876</td>\n",
       "      <td>1</td>\n",
       "    </tr>\n",
       "  </tbody>\n",
       "</table>\n",
       "</div>"
      ],
      "text/plain": [
       "                  mean volatility Sharpe Ratio Market Beta\n",
       "HFRIFWI Index   0.0325      0.047        0.692      0.3429\n",
       "MLEIFCTR Index    0.03     0.0467       0.6411      0.3511\n",
       "MLEIFCTX Index  0.0281     0.0467       0.6013      0.3498\n",
       "HDG US Equity   0.0186     0.0494       0.3762      0.3502\n",
       "QAI US Equity   0.0213     0.0405       0.5242      0.2702\n",
       "SPY US Equity   0.1298     0.1193       1.0876           1"
      ]
     },
     "metadata": {},
     "output_type": "display_data"
    }
   ],
   "source": [
    "hedge_stat = pd.DataFrame(index = hedge_df.columns, columns=['mean', 'volatility', 'Sharpe Ratio', 'Market Beta'])\n",
    "\n",
    "rhs = hedge_df['SPY US Equity']\n",
    "for asset in hedge_stat.index:\n",
    "    lhs = hedge_df[asset]\n",
    "    res = sm.OLS(lhs, rhs, missing='drop').fit()\n",
    "    \n",
    "    hedge_stat.loc[asset, 'Market Beta'] = round(res.params['SPY US Equity'],4)\n",
    "    hedge_stat.loc[asset, 'mean'] = round(hedge_df[asset].mean()*12,4)\n",
    "    hedge_stat.loc[asset, 'volatility'] = round(hedge_df[asset].std()*np.sqrt(12),4)\n",
    "    hedge_stat.loc[asset, 'Sharpe Ratio'] = round((hedge_df[asset].mean() / hedge_df[asset].std())*np.sqrt(12),4)\n",
    "    \n",
    "printmd('**Summary statistics on mean, volatility, Sharpe Ratio and Market Beta for each asset for the period 2011-2019:**',color='blue')    \n",
    "display(hedge_stat)"
   ]
  },
  {
   "cell_type": "markdown",
   "metadata": {},
   "source": [
    "# 2.2. Relative Performance"
   ]
  },
  {
   "cell_type": "markdown",
   "metadata": {},
   "source": [
    "### (a) How do they perform since the case in 2013?"
   ]
  },
  {
   "cell_type": "code",
   "execution_count": 70,
   "metadata": {},
   "outputs": [
    {
     "data": {
      "text/markdown": [
       "<span style='color:blue'>In order to observe performance since the case in 2013, let us report summary statistics for the period 2014-2019:</span>"
      ],
      "text/plain": [
       "<IPython.core.display.Markdown object>"
      ]
     },
     "metadata": {},
     "output_type": "display_data"
    },
    {
     "data": {
      "text/markdown": [
       "<span style='color:blue'>**Summary statistics on mean, volatility, Sharpe Ratio and Market Beta for each asset for the period 2014-2019:**</span>"
      ],
      "text/plain": [
       "<IPython.core.display.Markdown object>"
      ]
     },
     "metadata": {},
     "output_type": "display_data"
    },
    {
     "data": {
      "text/html": [
       "<div>\n",
       "<style scoped>\n",
       "    .dataframe tbody tr th:only-of-type {\n",
       "        vertical-align: middle;\n",
       "    }\n",
       "\n",
       "    .dataframe tbody tr th {\n",
       "        vertical-align: top;\n",
       "    }\n",
       "\n",
       "    .dataframe thead th {\n",
       "        text-align: right;\n",
       "    }\n",
       "</style>\n",
       "<table border=\"1\" class=\"dataframe\">\n",
       "  <thead>\n",
       "    <tr style=\"text-align: right;\">\n",
       "      <th></th>\n",
       "      <th>mean</th>\n",
       "      <th>volatility</th>\n",
       "      <th>Sharpe Ratio</th>\n",
       "      <th>Market Beta</th>\n",
       "    </tr>\n",
       "  </thead>\n",
       "  <tbody>\n",
       "    <tr>\n",
       "      <th>HFRIFWI Index</th>\n",
       "      <td>0.0307</td>\n",
       "      <td>0.0426</td>\n",
       "      <td>0.72</td>\n",
       "      <td>0.3287</td>\n",
       "    </tr>\n",
       "    <tr>\n",
       "      <th>MLEIFCTR Index</th>\n",
       "      <td>0.0295</td>\n",
       "      <td>0.0429</td>\n",
       "      <td>0.6891</td>\n",
       "      <td>0.3453</td>\n",
       "    </tr>\n",
       "    <tr>\n",
       "      <th>MLEIFCTX Index</th>\n",
       "      <td>0.0275</td>\n",
       "      <td>0.0429</td>\n",
       "      <td>0.6418</td>\n",
       "      <td>0.3443</td>\n",
       "    </tr>\n",
       "    <tr>\n",
       "      <th>HDG US Equity</th>\n",
       "      <td>0.0178</td>\n",
       "      <td>0.0432</td>\n",
       "      <td>0.412</td>\n",
       "      <td>0.3365</td>\n",
       "    </tr>\n",
       "    <tr>\n",
       "      <th>QAI US Equity</th>\n",
       "      <td>0.0157</td>\n",
       "      <td>0.0399</td>\n",
       "      <td>0.394</td>\n",
       "      <td>0.2803</td>\n",
       "    </tr>\n",
       "    <tr>\n",
       "      <th>SPY US Equity</th>\n",
       "      <td>0.1092</td>\n",
       "      <td>0.1151</td>\n",
       "      <td>0.948</td>\n",
       "      <td>1</td>\n",
       "    </tr>\n",
       "  </tbody>\n",
       "</table>\n",
       "</div>"
      ],
      "text/plain": [
       "                  mean volatility Sharpe Ratio Market Beta\n",
       "HFRIFWI Index   0.0307     0.0426         0.72      0.3287\n",
       "MLEIFCTR Index  0.0295     0.0429       0.6891      0.3453\n",
       "MLEIFCTX Index  0.0275     0.0429       0.6418      0.3443\n",
       "HDG US Equity   0.0178     0.0432        0.412      0.3365\n",
       "QAI US Equity   0.0157     0.0399        0.394      0.2803\n",
       "SPY US Equity   0.1092     0.1151        0.948           1"
      ]
     },
     "metadata": {},
     "output_type": "display_data"
    },
    {
     "data": {
      "text/markdown": [
       "<span style='color:blue'>**From the table above we can see that HDG performed good since 2013 and showed better performance than its direct competitor QAI, i.e., HDG showed a higher mean and Sharpe Ratio, but it also showed a higher volatility and market exposure. At the same time, HFRIFWI outperformed HDG and all other \"assets\" under consideration, i.e., HFRIFWI has the highest Sharpe Ratio and mean, moderate volatility and market exposure in comparison to Merrill Lynch indices and traded replicators.**</span>"
      ],
      "text/plain": [
       "<IPython.core.display.Markdown object>"
      ]
     },
     "metadata": {},
     "output_type": "display_data"
    }
   ],
   "source": [
    "printmd('In order to observe performance since the case in 2013, let us report summary statistics for the period 2014-2019:',color='blue')\n",
    "\n",
    "hedge_stat2 = pd.DataFrame(index = hedge_df.columns, columns=['mean', 'volatility', 'Sharpe Ratio', 'Market Beta'])\n",
    "\n",
    "rhs = hedge_df['SPY US Equity']['2014-01-01':]\n",
    "for asset in hedge_stat.index:\n",
    "    lhs = hedge_df[asset]['2014-01-01':]\n",
    "    res = sm.OLS(lhs, rhs, missing='drop').fit()\n",
    "    \n",
    "    hedge_stat2.loc[asset, 'Market Beta'] = round(res.params['SPY US Equity'],4)\n",
    "    hedge_stat2.loc[asset, 'mean'] = round(hedge_df[asset]['2014-01-01':].mean()*12,4)\n",
    "    hedge_stat2.loc[asset, 'volatility'] = round(hedge_df[asset]['2014-01-01':].std()*np.sqrt(12),4)\n",
    "    hedge_stat2.loc[asset, 'Sharpe Ratio'] = round((hedge_df[asset]['2014-01-01':].mean() / hedge_df[asset]['2014-01-01':].std())*np.sqrt(12),4)\n",
    "\n",
    "printmd('**Summary statistics on mean, volatility, Sharpe Ratio and Market Beta for each asset for the period 2014-2019:**',color='blue')    \n",
    "display(hedge_stat2)\n",
    "printmd('**From the table above we can see that HDG performed good since 2013 and showed better performance than its direct competitor QAI, i.e., HDG showed a higher mean and Sharpe Ratio, but it also showed a higher volatility and market exposure. At the same time, HFRIFWI outperformed HDG and all other \"assets\" under consideration, i.e., HFRIFWI has the highest Sharpe Ratio and mean, moderate volatility and market exposure in comparison to Merrill Lynch indices and traded replicators.**',color='blue')"
   ]
  },
  {
   "cell_type": "markdown",
   "metadata": {},
   "source": [
    "### (b) Does HDG outperform its competitor, QAI?"
   ]
  },
  {
   "cell_type": "code",
   "execution_count": 71,
   "metadata": {},
   "outputs": [
    {
     "data": {
      "text/markdown": [
       "<span style='color:green'>**2011-2019:**</span>"
      ],
      "text/plain": [
       "<IPython.core.display.Markdown object>"
      ]
     },
     "metadata": {},
     "output_type": "display_data"
    },
    {
     "data": {
      "text/markdown": [
       "<span style='color:blue'>**We can see from the table above that HDG DID NOT outperform QAI on the period of 2011-2019, i.e., HDG showed LOWER MEAN and SHARPE RATIO, HIGHER VOLATILITY and EXPOSURE to the market.**</span>"
      ],
      "text/plain": [
       "<IPython.core.display.Markdown object>"
      ]
     },
     "metadata": {},
     "output_type": "display_data"
    },
    {
     "data": {
      "text/markdown": [
       "<span style='color:green'>**2014-2019:**</span>"
      ],
      "text/plain": [
       "<IPython.core.display.Markdown object>"
      ]
     },
     "metadata": {},
     "output_type": "display_data"
    },
    {
     "data": {
      "text/markdown": [
       "<span style='color:blue'>**As have already been stated in (a) above HDG showed better performance than its direct competitor QAI in the period 2014-2019, i.e., HDG showed a higher mean and Sharpe Ratio, but it also showed a higher volatility and market exposure.**</span>"
      ],
      "text/plain": [
       "<IPython.core.display.Markdown object>"
      ]
     },
     "metadata": {},
     "output_type": "display_data"
    }
   ],
   "source": [
    "printmd('**2011-2019:**',color='green')\n",
    "printmd('**We can see from the table above that HDG DID NOT outperform QAI on the period of 2011-2019, i.e., HDG showed LOWER MEAN and SHARPE RATIO, HIGHER VOLATILITY and EXPOSURE to the market.**',color='blue')\n",
    "printmd('**2014-2019:**',color='green')\n",
    "printmd('**As have already been stated in (a) above HDG showed better performance than its direct competitor QAI in the period 2014-2019, i.e., HDG showed a higher mean and Sharpe Ratio, but it also showed a higher volatility and market exposure.**', color='blue')"
   ]
  },
  {
   "cell_type": "markdown",
   "metadata": {},
   "source": [
    "### (c) How do they compare to the S&P 500? (\"SPY\")"
   ]
  },
  {
   "cell_type": "code",
   "execution_count": 83,
   "metadata": {},
   "outputs": [
    {
     "data": {
      "text/html": [
       "<div>\n",
       "<style scoped>\n",
       "    .dataframe tbody tr th:only-of-type {\n",
       "        vertical-align: middle;\n",
       "    }\n",
       "\n",
       "    .dataframe tbody tr th {\n",
       "        vertical-align: top;\n",
       "    }\n",
       "\n",
       "    .dataframe thead th {\n",
       "        text-align: right;\n",
       "    }\n",
       "</style>\n",
       "<table border=\"1\" class=\"dataframe\">\n",
       "  <thead>\n",
       "    <tr style=\"text-align: right;\">\n",
       "      <th></th>\n",
       "      <th>mean</th>\n",
       "      <th>volatility</th>\n",
       "      <th>Sharpe Ratio</th>\n",
       "      <th>Market Beta</th>\n",
       "    </tr>\n",
       "  </thead>\n",
       "  <tbody>\n",
       "    <tr>\n",
       "      <th>HFRIFWI Index</th>\n",
       "      <td>0.0307</td>\n",
       "      <td>0.0426</td>\n",
       "      <td>0.72</td>\n",
       "      <td>0.3287</td>\n",
       "    </tr>\n",
       "    <tr>\n",
       "      <th>MLEIFCTR Index</th>\n",
       "      <td>0.0295</td>\n",
       "      <td>0.0429</td>\n",
       "      <td>0.6891</td>\n",
       "      <td>0.3453</td>\n",
       "    </tr>\n",
       "    <tr>\n",
       "      <th>MLEIFCTX Index</th>\n",
       "      <td>0.0275</td>\n",
       "      <td>0.0429</td>\n",
       "      <td>0.6418</td>\n",
       "      <td>0.3443</td>\n",
       "    </tr>\n",
       "    <tr>\n",
       "      <th>HDG US Equity</th>\n",
       "      <td>0.0178</td>\n",
       "      <td>0.0432</td>\n",
       "      <td>0.412</td>\n",
       "      <td>0.3365</td>\n",
       "    </tr>\n",
       "    <tr>\n",
       "      <th>QAI US Equity</th>\n",
       "      <td>0.0157</td>\n",
       "      <td>0.0399</td>\n",
       "      <td>0.394</td>\n",
       "      <td>0.2803</td>\n",
       "    </tr>\n",
       "    <tr>\n",
       "      <th>SPY US Equity</th>\n",
       "      <td>0.1092</td>\n",
       "      <td>0.1151</td>\n",
       "      <td>0.948</td>\n",
       "      <td>1</td>\n",
       "    </tr>\n",
       "  </tbody>\n",
       "</table>\n",
       "</div>"
      ],
      "text/plain": [
       "                  mean volatility Sharpe Ratio Market Beta\n",
       "HFRIFWI Index   0.0307     0.0426         0.72      0.3287\n",
       "MLEIFCTR Index  0.0295     0.0429       0.6891      0.3453\n",
       "MLEIFCTX Index  0.0275     0.0429       0.6418      0.3443\n",
       "HDG US Equity   0.0178     0.0432        0.412      0.3365\n",
       "QAI US Equity   0.0157     0.0399        0.394      0.2803\n",
       "SPY US Equity   0.1092     0.1151        0.948           1"
      ]
     },
     "metadata": {},
     "output_type": "display_data"
    }
   ],
   "source": [
    "display(hedge_stat2)"
   ]
  },
  {
   "cell_type": "code",
   "execution_count": 91,
   "metadata": {},
   "outputs": [
    {
     "data": {
      "text/markdown": [
       "<span style='color:green'>**2011-2019**</span>"
      ],
      "text/plain": [
       "<IPython.core.display.Markdown object>"
      ]
     },
     "metadata": {},
     "output_type": "display_data"
    },
    {
     "data": {
      "text/markdown": [
       "<span style='color:blue'>**HDG performed poorer than the market, i.e., it has the lower mean return and Sharpe Ratio than SPY, but at the same time HDG showed much smaller volatility than the market, which is a good point. We can also see that HDG has a pretty small exposure to the market (captured by beta).**</span>"
      ],
      "text/plain": [
       "<IPython.core.display.Markdown object>"
      ]
     },
     "metadata": {},
     "output_type": "display_data"
    },
    {
     "data": {
      "text/markdown": [
       "<span style='color:blue'>**QAI showed similar to HDG performance in relation to the market: lower mean, Sharpe Ratio and volatility in comparison to SPY. Exposure to the market is pretty small and lower by 0.08 than HDG`s.**</span>"
      ],
      "text/plain": [
       "<IPython.core.display.Markdown object>"
      ]
     },
     "metadata": {},
     "output_type": "display_data"
    },
    {
     "data": {
      "text/markdown": [
       "<span style='color:blue'>**Indices also underperformed the market: lower mean, Sharpe Ratio and volatility. Exposure to the market is moderate and similar to the one of HDG.**</span>"
      ],
      "text/plain": [
       "<IPython.core.display.Markdown object>"
      ]
     },
     "metadata": {},
     "output_type": "display_data"
    },
    {
     "data": {
      "text/markdown": [
       "<span style='color:green'>**2014-2019**</span>"
      ],
      "text/plain": [
       "<IPython.core.display.Markdown object>"
      ]
     },
     "metadata": {},
     "output_type": "display_data"
    },
    {
     "data": {
      "text/markdown": [
       "<span style='color:blue'>**HDG and QAI underperformed the market: lower means, Sharpe Ratios. However, they were less volatilite than the market, i.e., have much lower volatilities. Both have moderate market exposure. However, we can see from the data that HDG has slightly decresed its market exposure (captured by market beta) since 2013, while QAI has not.**</span>"
      ],
      "text/plain": [
       "<IPython.core.display.Markdown object>"
      ]
     },
     "metadata": {},
     "output_type": "display_data"
    },
    {
     "data": {
      "text/markdown": [
       "<span style='color:blue'>**Indices underperformed the market too: lower mean, Sharpe Ratio and volatility. Exposure to the market is moderate, but higher than the one of traded replicators.**</span>"
      ],
      "text/plain": [
       "<IPython.core.display.Markdown object>"
      ]
     },
     "metadata": {},
     "output_type": "display_data"
    },
    {
     "data": {
      "text/markdown": [
       "<span style='color:green'>**All in all, both indices and traded replicators UNDERPERFORMED THE MARKET in both periods under consideration, i.e., as in 2011-2019 so in 2014-2019.**</span>"
      ],
      "text/plain": [
       "<IPython.core.display.Markdown object>"
      ]
     },
     "metadata": {},
     "output_type": "display_data"
    }
   ],
   "source": [
    "printmd('**2011-2019**',color='green')\n",
    "printmd('**HDG performed poorer than the market, i.e., it has the lower mean return and Sharpe Ratio than SPY, but at the same time HDG showed much smaller volatility than the market, which is a good point. We can also see that HDG has a pretty small exposure to the market (captured by beta).**',color='blue')\n",
    "printmd('**QAI showed similar to HDG performance in relation to the market: lower mean, Sharpe Ratio and volatility in comparison to SPY. Exposure to the market is pretty small and lower by {:.2f} than HDG`s.**'.format(hedge_stat.loc['HDG US Equity']['Market Beta'] - hedge_stat.loc['QAI US Equity']['Market Beta']),color='blue')\n",
    "printmd('**Indices also underperformed the market: lower mean, Sharpe Ratio and volatility. Exposure to the market is moderate and similar to the one of HDG.**',color='blue')\n",
    "\n",
    "printmd('**2014-2019**',color='green')\n",
    "printmd('**HDG and QAI underperformed the market: lower means, Sharpe Ratios. However, they were less volatilite than the market, i.e., have much lower volatilities. Both have moderate market exposure. However, we can see from the data that HDG has slightly decresed its market exposure (captured by market beta) since 2013, while QAI has not.**',color='blue')\n",
    "printmd('**Indices underperformed the market too: lower mean, Sharpe Ratio and volatility. Exposure to the market is moderate, but higher than the one of traded replicators.**',color='blue')\n",
    "\n",
    "printmd('**All in all, both indices and traded replicators UNDERPERFORMED THE MARKET in both periods under consideration, i.e., as in 2011-2019 so in 2014-2019.**', color='green')"
   ]
  },
  {
   "cell_type": "markdown",
   "metadata": {},
   "source": [
    "# 2.3. Report the correlation matrix for these assets based on the full sample of data, 2011-2019."
   ]
  },
  {
   "cell_type": "code",
   "execution_count": 96,
   "metadata": {},
   "outputs": [
    {
     "data": {
      "text/markdown": [
       "<span style='color:blue'>**Correlation matrix for assets, 2011-2019:**</span>"
      ],
      "text/plain": [
       "<IPython.core.display.Markdown object>"
      ]
     },
     "metadata": {},
     "output_type": "display_data"
    },
    {
     "data": {
      "text/html": [
       "<div>\n",
       "<style scoped>\n",
       "    .dataframe tbody tr th:only-of-type {\n",
       "        vertical-align: middle;\n",
       "    }\n",
       "\n",
       "    .dataframe tbody tr th {\n",
       "        vertical-align: top;\n",
       "    }\n",
       "\n",
       "    .dataframe thead th {\n",
       "        text-align: right;\n",
       "    }\n",
       "</style>\n",
       "<table border=\"1\" class=\"dataframe\">\n",
       "  <thead>\n",
       "    <tr style=\"text-align: right;\">\n",
       "      <th></th>\n",
       "      <th>HFRIFWI Index</th>\n",
       "      <th>MLEIFCTR Index</th>\n",
       "      <th>MLEIFCTX Index</th>\n",
       "      <th>HDG US Equity</th>\n",
       "      <th>QAI US Equity</th>\n",
       "      <th>SPY US Equity</th>\n",
       "    </tr>\n",
       "  </thead>\n",
       "  <tbody>\n",
       "    <tr>\n",
       "      <th>HFRIFWI Index</th>\n",
       "      <td>1.000000</td>\n",
       "      <td>0.916708</td>\n",
       "      <td>0.917197</td>\n",
       "      <td>0.886842</td>\n",
       "      <td>0.838380</td>\n",
       "      <td>0.894282</td>\n",
       "    </tr>\n",
       "    <tr>\n",
       "      <th>MLEIFCTR Index</th>\n",
       "      <td>0.916708</td>\n",
       "      <td>1.000000</td>\n",
       "      <td>0.999957</td>\n",
       "      <td>0.978477</td>\n",
       "      <td>0.834695</td>\n",
       "      <td>0.927143</td>\n",
       "    </tr>\n",
       "    <tr>\n",
       "      <th>MLEIFCTX Index</th>\n",
       "      <td>0.917197</td>\n",
       "      <td>0.999957</td>\n",
       "      <td>1.000000</td>\n",
       "      <td>0.978483</td>\n",
       "      <td>0.834958</td>\n",
       "      <td>0.927209</td>\n",
       "    </tr>\n",
       "    <tr>\n",
       "      <th>HDG US Equity</th>\n",
       "      <td>0.886842</td>\n",
       "      <td>0.978477</td>\n",
       "      <td>0.978483</td>\n",
       "      <td>1.000000</td>\n",
       "      <td>0.809874</td>\n",
       "      <td>0.896653</td>\n",
       "    </tr>\n",
       "    <tr>\n",
       "      <th>QAI US Equity</th>\n",
       "      <td>0.838380</td>\n",
       "      <td>0.834695</td>\n",
       "      <td>0.834958</td>\n",
       "      <td>0.809874</td>\n",
       "      <td>1.000000</td>\n",
       "      <td>0.826231</td>\n",
       "    </tr>\n",
       "    <tr>\n",
       "      <th>SPY US Equity</th>\n",
       "      <td>0.894282</td>\n",
       "      <td>0.927143</td>\n",
       "      <td>0.927209</td>\n",
       "      <td>0.896653</td>\n",
       "      <td>0.826231</td>\n",
       "      <td>1.000000</td>\n",
       "    </tr>\n",
       "  </tbody>\n",
       "</table>\n",
       "</div>"
      ],
      "text/plain": [
       "                HFRIFWI Index  MLEIFCTR Index  MLEIFCTX Index  HDG US Equity  \\\n",
       "HFRIFWI Index        1.000000        0.916708        0.917197       0.886842   \n",
       "MLEIFCTR Index       0.916708        1.000000        0.999957       0.978477   \n",
       "MLEIFCTX Index       0.917197        0.999957        1.000000       0.978483   \n",
       "HDG US Equity        0.886842        0.978477        0.978483       1.000000   \n",
       "QAI US Equity        0.838380        0.834695        0.834958       0.809874   \n",
       "SPY US Equity        0.894282        0.927143        0.927209       0.896653   \n",
       "\n",
       "                QAI US Equity  SPY US Equity  \n",
       "HFRIFWI Index        0.838380       0.894282  \n",
       "MLEIFCTR Index       0.834695       0.927143  \n",
       "MLEIFCTX Index       0.834958       0.927209  \n",
       "HDG US Equity        0.809874       0.896653  \n",
       "QAI US Equity        1.000000       0.826231  \n",
       "SPY US Equity        0.826231       1.000000  "
      ]
     },
     "metadata": {},
     "output_type": "display_data"
    }
   ],
   "source": [
    "printmd('**Correlation matrix for assets, 2011-2019:**',color='blue')\n",
    "display(hedge_df.corr())"
   ]
  },
  {
   "cell_type": "markdown",
   "metadata": {},
   "source": [
    "### (a) How well does the Merrill Lynch Factor Model track the HFRI?"
   ]
  },
  {
   "cell_type": "code",
   "execution_count": 114,
   "metadata": {},
   "outputs": [
    {
     "data": {
      "text/markdown": [
       "<span style='color:blue'>**As we can see from the table above, Merrill Lynch Factor Model has a correlation of 0.917 with HFRI. From this we can conclude that ML Factor Model tracks HFRI very good.**</span>"
      ],
      "text/plain": [
       "<IPython.core.display.Markdown object>"
      ]
     },
     "metadata": {},
     "output_type": "display_data"
    },
    {
     "data": {
      "text/markdown": [
       "<span style='color:blue'>**The reason why HFRI does not perfectly replicates ML Factor Model is that ProShares uses a MLFM-ES as a benchmark, which has discrepancies with ML Factor Model due to the fact that it operates with tradeable assets.**</span>"
      ],
      "text/plain": [
       "<IPython.core.display.Markdown object>"
      ]
     },
     "metadata": {},
     "output_type": "display_data"
    }
   ],
   "source": [
    "printmd('**As we can see from the table above, Merrill Lynch Factor Model has a correlation of 0.917 with HFRI. From this we can conclude that ML Factor Model tracks HFRI very good.**',color='blue')\n",
    "printmd('**The reason why HFRI does not perfectly replicates ML Factor Model is that ProShares uses a MLFM-ES as a benchmark, which has discrepancies with ML Factor Model due to the fact that it operates with tradeable assets.**',color='blue')"
   ]
  },
  {
   "cell_type": "markdown",
   "metadata": {},
   "source": [
    "### (b) How much precision is lost by using the ML Exchange Series (ML-ES) instead?"
   ]
  },
  {
   "cell_type": "code",
   "execution_count": 113,
   "metadata": {},
   "outputs": [
    {
     "data": {
      "text/markdown": [
       "<span style='color:blue'>**HFRI has 0.9167 correlation with ML Factor Model and 0.9171 correlation with MLFM-ES.**</span>"
      ],
      "text/plain": [
       "<IPython.core.display.Markdown object>"
      ]
     },
     "metadata": {},
     "output_type": "display_data"
    },
    {
     "data": {
      "text/markdown": [
       "<span style='color:blue'>**Correlation between ML Factor Model and MLFM-ES is 0.9999.**</span>"
      ],
      "text/plain": [
       "<IPython.core.display.Markdown object>"
      ]
     },
     "metadata": {},
     "output_type": "display_data"
    },
    {
     "data": {
      "text/markdown": [
       "<span style='color:blue'>**At the same time HDG has 0.887 correlation with HFRI and 0.978 correlation with both ML Factor Model and MLFM-ES.**</span>"
      ],
      "text/plain": [
       "<IPython.core.display.Markdown object>"
      ]
     },
     "metadata": {},
     "output_type": "display_data"
    },
    {
     "data": {
      "text/markdown": [
       "<span style='color:blue'>**Thus, we can conclude that around 8% of precision is lost due to usage of ML-ES.**</span>"
      ],
      "text/plain": [
       "<IPython.core.display.Markdown object>"
      ]
     },
     "metadata": {},
     "output_type": "display_data"
    }
   ],
   "source": [
    "printmd('**HFRI has 0.9167 correlation with ML Factor Model and 0.9171 correlation with MLFM-ES.**',color='blue')\n",
    "printmd('**Correlation between ML Factor Model and MLFM-ES is 0.9999.**',color='blue')\n",
    "printmd('**At the same time HDG has 0.887 correlation with HFRI and 0.978 correlation with both ML Factor Model and MLFM-ES.**',color='blue')\n",
    "printmd('**Thus, we can conclude that around 8% of precision is lost due to usage of ML-ES.**',color='blue')"
   ]
  },
  {
   "cell_type": "markdown",
   "metadata": {},
   "source": [
    "### (c) How well does HDG correlate to the HFRI? And to the ML-ES?"
   ]
  },
  {
   "cell_type": "code",
   "execution_count": 118,
   "metadata": {},
   "outputs": [
    {
     "data": {
      "text/markdown": [
       "<span style='color:blue'>**HDG has 0.89 correlation with HFRI and 0.98 correlation with ML-ES.**</span>"
      ],
      "text/plain": [
       "<IPython.core.display.Markdown object>"
      ]
     },
     "metadata": {},
     "output_type": "display_data"
    },
    {
     "data": {
      "text/markdown": [
       "<span style='color:blue'>**QAI has 0.84 correlation with HFRI and 0.83 correlation with ML-ES.**</span>"
      ],
      "text/plain": [
       "<IPython.core.display.Markdown object>"
      ]
     },
     "metadata": {},
     "output_type": "display_data"
    },
    {
     "data": {
      "text/markdown": [
       "<span style='color:blue'>**Correlations are high for both HDG and QAI, however HDG has higher ones.**</span>"
      ],
      "text/plain": [
       "<IPython.core.display.Markdown object>"
      ]
     },
     "metadata": {},
     "output_type": "display_data"
    }
   ],
   "source": [
    "printmd('**HDG has 0.89 correlation with HFRI and 0.98 correlation with ML-ES.**',color='blue')\n",
    "printmd('**QAI has 0.84 correlation with HFRI and 0.83 correlation with ML-ES.**',color='blue')\n",
    "printmd('**Correlations are high for both HDG and QAI, however HDG has higher ones.**',color='blue')"
   ]
  },
  {
   "cell_type": "markdown",
   "metadata": {},
   "source": [
    "### (d) How does the competitor, QAI, compare to the ML series and HDG?"
   ]
  },
  {
   "cell_type": "code",
   "execution_count": 122,
   "metadata": {},
   "outputs": [
    {
     "data": {
      "text/markdown": [
       "<span style='color:blue'>**QAI has correlation with HFRI equal to 0.84, while HDG 0.89. Also QAI has correlation with both ML indices equal to 0.84, while HDG has 0.98. All in all, HDG is more correlated with both HFRI and ML indices. Correlation between competitors themself is 0.81.**</span>"
      ],
      "text/plain": [
       "<IPython.core.display.Markdown object>"
      ]
     },
     "metadata": {},
     "output_type": "display_data"
    }
   ],
   "source": [
    "printmd('**QAI has correlation with HFRI equal to 0.84, while HDG 0.89. Also QAI has correlation with both ML indices equal to 0.84, while HDG has 0.98. All in all, HDG is more correlated with both HFRI and ML indices. Correlation between competitors themself is 0.81.**',color='blue')"
   ]
  },
  {
   "cell_type": "markdown",
   "metadata": {},
   "source": [
    "# 2.4. Replicate HFRI with the six factors listed on the \"MERRILL-FACS\" tab. include a constant, and run the unrestricted regression"
   ]
  },
  {
   "cell_type": "markdown",
   "metadata": {},
   "source": [
    "$$ r_t^{hfri} = \\alpha^{merr} + x_t^{merr}\\beta^{merr} + \\epsilon_t^{merr} $$\n",
    "$$ \\tilde{r}_t^{hfri->merr} = \\tilde{\\alpha}^{merr} + x_t^{merr}\\tilde{\\beta}^{merr} + \\epsilon_t^{merr} $$"
   ]
  },
  {
   "cell_type": "markdown",
   "metadata": {},
   "source": [
    "### (a) Report the intercept and betas"
   ]
  },
  {
   "cell_type": "code",
   "execution_count": 257,
   "metadata": {},
   "outputs": [
    {
     "data": {
      "text/markdown": [
       "<span style='color:blue'>**Intercept = 0.00009498**</span>"
      ],
      "text/plain": [
       "<IPython.core.display.Markdown object>"
      ]
     },
     "metadata": {},
     "output_type": "display_data"
    },
    {
     "data": {
      "text/markdown": [
       "<span style='color:blue'>**Betas:**</span>"
      ],
      "text/plain": [
       "<IPython.core.display.Markdown object>"
      ]
     },
     "metadata": {},
     "output_type": "display_data"
    },
    {
     "data": {
      "text/html": [
       "<div>\n",
       "<style scoped>\n",
       "    .dataframe tbody tr th:only-of-type {\n",
       "        vertical-align: middle;\n",
       "    }\n",
       "\n",
       "    .dataframe tbody tr th {\n",
       "        vertical-align: top;\n",
       "    }\n",
       "\n",
       "    .dataframe thead th {\n",
       "        text-align: right;\n",
       "    }\n",
       "</style>\n",
       "<table border=\"1\" class=\"dataframe\">\n",
       "  <thead>\n",
       "    <tr style=\"text-align: right;\">\n",
       "      <th></th>\n",
       "      <th>beta</th>\n",
       "    </tr>\n",
       "  </thead>\n",
       "  <tbody>\n",
       "    <tr>\n",
       "      <th>SPY US Equity</th>\n",
       "      <td>0.120416</td>\n",
       "    </tr>\n",
       "    <tr>\n",
       "      <th>USGG3M Index</th>\n",
       "      <td>0.140685</td>\n",
       "    </tr>\n",
       "    <tr>\n",
       "      <th>EEM US Equity</th>\n",
       "      <td>0.0570527</td>\n",
       "    </tr>\n",
       "    <tr>\n",
       "      <th>EFA US Equity</th>\n",
       "      <td>0.102751</td>\n",
       "    </tr>\n",
       "    <tr>\n",
       "      <th>EUO US Equity</th>\n",
       "      <td>0.0206013</td>\n",
       "    </tr>\n",
       "    <tr>\n",
       "      <th>IWM US Equity</th>\n",
       "      <td>0.0642285</td>\n",
       "    </tr>\n",
       "  </tbody>\n",
       "</table>\n",
       "</div>"
      ],
      "text/plain": [
       "                    beta\n",
       "SPY US Equity   0.120416\n",
       "USGG3M Index    0.140685\n",
       "EEM US Equity  0.0570527\n",
       "EFA US Equity   0.102751\n",
       "EUO US Equity  0.0206013\n",
       "IWM US Equity  0.0642285"
      ]
     },
     "metadata": {},
     "output_type": "display_data"
    }
   ],
   "source": [
    "replica = pd.DataFrame(index=merrill_df.columns, columns=['beta'])\n",
    "\n",
    "# Replication\n",
    "factors = merrill_df.columns\n",
    "rhs = sm.add_constant(merrill_df[factors])\n",
    "lhs = hedge_df['HFRIFWI Index']\n",
    "res = sm.OLS(lhs, rhs, missing='drop').fit()\n",
    "\n",
    "for asset in replica.index:\n",
    "    replica.loc[asset]['beta'] = res.params[asset]\n",
    "    \n",
    "    \n",
    "printmd('**Intercept = {:.8f}**'.format(res.params['const']),color='blue')\n",
    "printmd('**Betas:**',color='blue')\n",
    "display(replica)"
   ]
  },
  {
   "cell_type": "markdown",
   "metadata": {},
   "source": [
    "### (b) Are the betas realistic position sizes, or do they require huge long-short positions?"
   ]
  },
  {
   "cell_type": "code",
   "execution_count": 258,
   "metadata": {},
   "outputs": [
    {
     "data": {
      "text/markdown": [
       "<span style='color:blue'>**As we can see from the table above, betas represent realistic positiion sizes. Also, there is no huge long-short positions required.**</span>"
      ],
      "text/plain": [
       "<IPython.core.display.Markdown object>"
      ]
     },
     "metadata": {},
     "output_type": "display_data"
    }
   ],
   "source": [
    "printmd('**As we can see from the table above, betas represent realistic positiion sizes. Also, there is no huge long-short positions required.**',color='blue')"
   ]
  },
  {
   "cell_type": "markdown",
   "metadata": {},
   "source": [
    "### (c) Report the r-squared"
   ]
  },
  {
   "cell_type": "code",
   "execution_count": 259,
   "metadata": {},
   "outputs": [
    {
     "data": {
      "text/markdown": [
       "<span style='color:blue'>**R-squared = 0.8721**</span>"
      ],
      "text/plain": [
       "<IPython.core.display.Markdown object>"
      ]
     },
     "metadata": {},
     "output_type": "display_data"
    }
   ],
   "source": [
    "printmd('**R-squared = {:.4f}**'.format(res.rsquared),color='blue')"
   ]
  },
  {
   "cell_type": "markdown",
   "metadata": {},
   "source": [
    "### (d) Report the volatility of epsilon_merr (the tracking error)"
   ]
  },
  {
   "cell_type": "code",
   "execution_count": 260,
   "metadata": {},
   "outputs": [
    {
     "data": {
      "text/markdown": [
       "<span style='color:blue'>**Tracking error = 0.0048**</span>"
      ],
      "text/plain": [
       "<IPython.core.display.Markdown object>"
      ]
     },
     "metadata": {},
     "output_type": "display_data"
    }
   ],
   "source": [
    "printmd('**Tracking error = {:.4f}**'.format(res.resid.std()),color='blue')"
   ]
  },
  {
   "cell_type": "markdown",
   "metadata": {},
   "source": [
    "# 2.5. Replicate HFRI with the factors listed on the \"MULTI-ASSET\" tab. Include a constant, and run the unrestricted regression to get the fitted values"
   ]
  },
  {
   "cell_type": "markdown",
   "metadata": {},
   "source": [
    "### (a) Report the intercept and betas"
   ]
  },
  {
   "cell_type": "code",
   "execution_count": 261,
   "metadata": {},
   "outputs": [
    {
     "data": {
      "text/markdown": [
       "<span style='color:blue'>**Intercept = -0.00014387**</span>"
      ],
      "text/plain": [
       "<IPython.core.display.Markdown object>"
      ]
     },
     "metadata": {},
     "output_type": "display_data"
    },
    {
     "data": {
      "text/markdown": [
       "<span style='color:blue'>**Betas:**</span>"
      ],
      "text/plain": [
       "<IPython.core.display.Markdown object>"
      ]
     },
     "metadata": {},
     "output_type": "display_data"
    },
    {
     "data": {
      "text/html": [
       "<div>\n",
       "<style scoped>\n",
       "    .dataframe tbody tr th:only-of-type {\n",
       "        vertical-align: middle;\n",
       "    }\n",
       "\n",
       "    .dataframe tbody tr th {\n",
       "        vertical-align: top;\n",
       "    }\n",
       "\n",
       "    .dataframe thead th {\n",
       "        text-align: right;\n",
       "    }\n",
       "</style>\n",
       "<table border=\"1\" class=\"dataframe\">\n",
       "  <thead>\n",
       "    <tr style=\"text-align: right;\">\n",
       "      <th></th>\n",
       "      <th>beta</th>\n",
       "    </tr>\n",
       "  </thead>\n",
       "  <tbody>\n",
       "    <tr>\n",
       "      <th>SPY US Equity</th>\n",
       "      <td>0.181804</td>\n",
       "    </tr>\n",
       "    <tr>\n",
       "      <th>PSP US Equity</th>\n",
       "      <td>0.166474</td>\n",
       "    </tr>\n",
       "    <tr>\n",
       "      <th>HYG US Equity</th>\n",
       "      <td>-0.0903226</td>\n",
       "    </tr>\n",
       "    <tr>\n",
       "      <th>SPGSCITR Index</th>\n",
       "      <td>0.0351129</td>\n",
       "    </tr>\n",
       "    <tr>\n",
       "      <th>IYR US Equity</th>\n",
       "      <td>-0.017291</td>\n",
       "    </tr>\n",
       "    <tr>\n",
       "      <th>IEF US Equity</th>\n",
       "      <td>0.0718017</td>\n",
       "    </tr>\n",
       "    <tr>\n",
       "      <th>BWX US Equity</th>\n",
       "      <td>-0.00954137</td>\n",
       "    </tr>\n",
       "    <tr>\n",
       "      <th>TIP US Equity</th>\n",
       "      <td>0.0829248</td>\n",
       "    </tr>\n",
       "    <tr>\n",
       "      <th>SHV US Equity</th>\n",
       "      <td>-0.00818981</td>\n",
       "    </tr>\n",
       "  </tbody>\n",
       "</table>\n",
       "</div>"
      ],
      "text/plain": [
       "                      beta\n",
       "SPY US Equity     0.181804\n",
       "PSP US Equity     0.166474\n",
       "HYG US Equity   -0.0903226\n",
       "SPGSCITR Index   0.0351129\n",
       "IYR US Equity    -0.017291\n",
       "IEF US Equity    0.0718017\n",
       "BWX US Equity  -0.00954137\n",
       "TIP US Equity    0.0829248\n",
       "SHV US Equity  -0.00818981"
      ]
     },
     "metadata": {},
     "output_type": "display_data"
    }
   ],
   "source": [
    "replica2 = pd.DataFrame(index=multi_df.columns, columns=['beta'])\n",
    "\n",
    "# Replication\n",
    "factors = multi_df.columns\n",
    "rhs = sm.add_constant(multi_df[factors])\n",
    "lhs = hedge_df['HFRIFWI Index']\n",
    "res2 = sm.OLS(lhs, rhs, missing='drop').fit()\n",
    "\n",
    "for asset in replica2.index:\n",
    "    replica2.loc[asset]['beta'] = res2.params[asset]\n",
    "    \n",
    "    \n",
    "printmd('**Intercept = {:.8f}**'.format(res2.params['const']),color='blue')\n",
    "printmd('**Betas:**',color='blue')\n",
    "display(replica2)"
   ]
  },
  {
   "cell_type": "markdown",
   "metadata": {},
   "source": [
    "### (b) Are the betas realistic position sizes, or do they require huge long-short positions?"
   ]
  },
  {
   "cell_type": "code",
   "execution_count": 263,
   "metadata": {},
   "outputs": [
    {
     "data": {
      "text/markdown": [
       "<span style='color:blue'>**As we can see from the table above, betas represent realistic positiion sizes. Also, there is no huge long-short positions required, just small ones.**</span>"
      ],
      "text/plain": [
       "<IPython.core.display.Markdown object>"
      ]
     },
     "metadata": {},
     "output_type": "display_data"
    }
   ],
   "source": [
    "printmd('**As we can see from the table above, betas represent realistic positiion sizes. Also, there is no huge long-short positions required, just small ones.**',color='blue')"
   ]
  },
  {
   "cell_type": "markdown",
   "metadata": {},
   "source": [
    "### (c) Report the r-squared"
   ]
  },
  {
   "cell_type": "code",
   "execution_count": 264,
   "metadata": {},
   "outputs": [
    {
     "data": {
      "text/markdown": [
       "<span style='color:blue'>**R-squared = 0.8990**</span>"
      ],
      "text/plain": [
       "<IPython.core.display.Markdown object>"
      ]
     },
     "metadata": {},
     "output_type": "display_data"
    }
   ],
   "source": [
    "printmd('**R-squared = {:.4f}**'.format(res2.rsquared),color='blue')"
   ]
  },
  {
   "cell_type": "markdown",
   "metadata": {},
   "source": [
    "### (d) Report the volatility of epsilon_alt, (the tracking error)"
   ]
  },
  {
   "cell_type": "code",
   "execution_count": 265,
   "metadata": {},
   "outputs": [
    {
     "data": {
      "text/markdown": [
       "<span style='color:blue'>**Tracking error = 0.0043**</span>"
      ],
      "text/plain": [
       "<IPython.core.display.Markdown object>"
      ]
     },
     "metadata": {},
     "output_type": "display_data"
    }
   ],
   "source": [
    "printmd('**Tracking error = {:.4f}**'.format(res2.resid.std()),color='blue')"
   ]
  },
  {
   "cell_type": "markdown",
   "metadata": {},
   "source": [
    "# 2.6. Comparison"
   ]
  },
  {
   "cell_type": "markdown",
   "metadata": {},
   "source": [
    "### (a) Which replication is better?"
   ]
  },
  {
   "cell_type": "code",
   "execution_count": 266,
   "metadata": {},
   "outputs": [
    {
     "data": {
      "text/markdown": [
       "<span style='color:blue'>**We can see that the 2nd replcation is better as it has a higher R-squared and lower tracking error.**</span>"
      ],
      "text/plain": [
       "<IPython.core.display.Markdown object>"
      ]
     },
     "metadata": {},
     "output_type": "display_data"
    }
   ],
   "source": [
    "printmd('**We can see that the 2nd replcation is better as it has a higher R-squared and lower tracking error.**',color='blue')"
   ]
  },
  {
   "cell_type": "markdown",
   "metadata": {},
   "source": [
    "### (b) Does either replication do a better job tracking HFRI than HDG?"
   ]
  },
  {
   "cell_type": "code",
   "execution_count": 272,
   "metadata": {},
   "outputs": [],
   "source": [
    "# MERRILL-FACS\n",
    "replica_ret = pd.DataFrame(index=merrill_df.index, columns=['replicated return', 'HFRI'])\n",
    "for i in range(merrill_df.shape[0]):\n",
    "    replica_ret['replicated return'] = (\n",
    "        res.params['const'] + \n",
    "        merrill_df['SPY US Equity']*replica.loc['SPY US Equity']['beta'] + \n",
    "        merrill_df['USGG3M Index']*replica.loc['USGG3M Index']['beta']   +\n",
    "        merrill_df['EEM US Equity']*replica.loc['EEM US Equity']['beta'] +\n",
    "        merrill_df['EFA US Equity']*replica.loc['EFA US Equity']['beta'] +\n",
    "        merrill_df['EUO US Equity']*replica.loc['EUO US Equity']['beta'] +\n",
    "        merrill_df['IWM US Equity']*replica.loc['IWM US Equity']['beta'] )\n",
    "    replica_ret['HFRI'] = hedge_df['HFRIFWI Index']\n",
    "replica_corr = pd.DataFrame()\n",
    "replica_corr = replica_ret.corr()\n",
    "\n",
    "# MULTI-FACS\n",
    "replica2_ret = pd.DataFrame(index=multi_df.index, columns=['MULTI replicated return', 'HFRI'])\n",
    "for i in range(multi_df.shape[0]):\n",
    "    replica2_ret['MULTI replicated return'] = (\n",
    "        res2.params['const'] + \n",
    "        multi_df['SPY US Equity']*replica2.loc['SPY US Equity']['beta'] + \n",
    "        multi_df['PSP US Equity']*replica2.loc['PSP US Equity']['beta']   +\n",
    "        multi_df['HYG US Equity']*replica2.loc['HYG US Equity']['beta'] +\n",
    "        multi_df['SPGSCITR Index']*replica2.loc['SPGSCITR Index']['beta'] +\n",
    "        multi_df['IYR US Equity']*replica2.loc['IYR US Equity']['beta'] +\n",
    "        multi_df['IEF US Equity']*replica2.loc['IEF US Equity']['beta'] +\n",
    "        multi_df['BWX US Equity']*replica2.loc['BWX US Equity']['beta'] +\n",
    "        multi_df['TIP US Equity']*replica2.loc['TIP US Equity']['beta'] +\n",
    "        multi_df['SHV US Equity']*replica2.loc['SHV US Equity']['beta'] )\n",
    "    replica2_ret['HFRI'] = hedge_df['HFRIFWI Index']\n",
    "replica2_corr = pd.DataFrame()\n",
    "replica2_corr = replica2_ret.corr()"
   ]
  },
  {
   "cell_type": "code",
   "execution_count": 279,
   "metadata": {},
   "outputs": [
    {
     "data": {
      "text/markdown": [
       "<span style='color:blue'>**Correlation between returns of HFRI and replication from MERRILL-ASSET = 0.9339**</span>"
      ],
      "text/plain": [
       "<IPython.core.display.Markdown object>"
      ]
     },
     "metadata": {},
     "output_type": "display_data"
    },
    {
     "data": {
      "text/html": [
       "<div>\n",
       "<style scoped>\n",
       "    .dataframe tbody tr th:only-of-type {\n",
       "        vertical-align: middle;\n",
       "    }\n",
       "\n",
       "    .dataframe tbody tr th {\n",
       "        vertical-align: top;\n",
       "    }\n",
       "\n",
       "    .dataframe thead th {\n",
       "        text-align: right;\n",
       "    }\n",
       "</style>\n",
       "<table border=\"1\" class=\"dataframe\">\n",
       "  <thead>\n",
       "    <tr style=\"text-align: right;\">\n",
       "      <th></th>\n",
       "      <th>replicated return</th>\n",
       "      <th>HFRI</th>\n",
       "    </tr>\n",
       "  </thead>\n",
       "  <tbody>\n",
       "    <tr>\n",
       "      <th>replicated return</th>\n",
       "      <td>1.000000</td>\n",
       "      <td>0.933867</td>\n",
       "    </tr>\n",
       "    <tr>\n",
       "      <th>HFRI</th>\n",
       "      <td>0.933867</td>\n",
       "      <td>1.000000</td>\n",
       "    </tr>\n",
       "  </tbody>\n",
       "</table>\n",
       "</div>"
      ],
      "text/plain": [
       "                   replicated return      HFRI\n",
       "replicated return           1.000000  0.933867\n",
       "HFRI                        0.933867  1.000000"
      ]
     },
     "metadata": {},
     "output_type": "display_data"
    },
    {
     "data": {
      "text/markdown": [
       "<span style='color:blue'>**Correlation between returns of HFRI and replication from MULTI-ASSET = 0.9481**</span>"
      ],
      "text/plain": [
       "<IPython.core.display.Markdown object>"
      ]
     },
     "metadata": {},
     "output_type": "display_data"
    },
    {
     "data": {
      "text/html": [
       "<div>\n",
       "<style scoped>\n",
       "    .dataframe tbody tr th:only-of-type {\n",
       "        vertical-align: middle;\n",
       "    }\n",
       "\n",
       "    .dataframe tbody tr th {\n",
       "        vertical-align: top;\n",
       "    }\n",
       "\n",
       "    .dataframe thead th {\n",
       "        text-align: right;\n",
       "    }\n",
       "</style>\n",
       "<table border=\"1\" class=\"dataframe\">\n",
       "  <thead>\n",
       "    <tr style=\"text-align: right;\">\n",
       "      <th></th>\n",
       "      <th>MULTI replicated return</th>\n",
       "      <th>HFRI</th>\n",
       "    </tr>\n",
       "  </thead>\n",
       "  <tbody>\n",
       "    <tr>\n",
       "      <th>MULTI replicated return</th>\n",
       "      <td>1.000000</td>\n",
       "      <td>0.948139</td>\n",
       "    </tr>\n",
       "    <tr>\n",
       "      <th>HFRI</th>\n",
       "      <td>0.948139</td>\n",
       "      <td>1.000000</td>\n",
       "    </tr>\n",
       "  </tbody>\n",
       "</table>\n",
       "</div>"
      ],
      "text/plain": [
       "                         MULTI replicated return      HFRI\n",
       "MULTI replicated return                 1.000000  0.948139\n",
       "HFRI                                    0.948139  1.000000"
      ]
     },
     "metadata": {},
     "output_type": "display_data"
    },
    {
     "data": {
      "text/markdown": [
       "<span style='color:blue'>**HDG has correlation with HFRI equal to 0.886842, while replication with assets from MERRILL-FACS has correlation equal to 0.9339, and MULTI-ASSET has correlation of 0.9481. Thus, we can conclude that replication with both MERRILL-FACS and MULTI-ASSET is better than the one of HDG. However, it needs to be stated that HDG has lower correlation can be due to the fact that their replication was constructed on out-of-sample data, while we used the same data for both replication and testing.**</span>"
      ],
      "text/plain": [
       "<IPython.core.display.Markdown object>"
      ]
     },
     "metadata": {},
     "output_type": "display_data"
    }
   ],
   "source": [
    "printmd('**Correlation between returns of HFRI and replication from MERRILL-ASSET = {:.4f}**'.format(replica_corr['HFRI'][0]),color='blue')\n",
    "display(replica_corr)\n",
    "\n",
    "printmd('**Correlation between returns of HFRI and replication from MULTI-ASSET = {:.4f}**'.format(replica2_corr['HFRI'][0]),color='blue')\n",
    "display(replica2_corr)\n",
    "\n",
    "printmd('**HDG has correlation with HFRI equal to 0.886842, while replication with assets from MERRILL-FACS has correlation equal to {:.4f}, and MULTI-ASSET has correlation of {:.4f}. Thus, we can conclude that replication with both MERRILL-FACS and MULTI-ASSET is better than the one of HDG. However, it needs to be stated that HDG has lower correlation can be due to the fact that their replication was constructed on out-of-sample data, while we used the same data for both replication and testing.**'.format(replica_corr['HFRI'][0], replica2_corr['HFRI'][0]),color='blue')"
   ]
  },
  {
   "cell_type": "markdown",
   "metadata": {},
   "source": [
    "# 2.7. Let's take a serious look at the out-of-sample performance"
   ]
  },
  {
   "cell_type": "markdown",
   "metadata": {},
   "source": [
    "**For monthly values of t from January 2015 through September 2019, do the following:**"
   ]
  },
  {
   "cell_type": "code",
   "execution_count": 369,
   "metadata": {},
   "outputs": [],
   "source": [
    "periods = [\n",
    "    '2015-01-01', '2015-02-01', '2015-03-01', '2015-04-01', '2015-05-01', '2015-06-01',\n",
    "    '2015-07-01', '2015-08-01', '2015-09-01', '2015-10-01', '2015-11-01', '2015-12-01',\n",
    "    \n",
    "    '2016-01-01', '2016-02-01', '2016-03-01', '2016-04-01', '2016-05-01', '2016-06-01',\n",
    "    '2016-07-01', '2016-08-01', '2016-09-01', '2016-10-01', '2016-11-01', '2016-12-01',\n",
    "    \n",
    "    '2017-01-01', '2017-02-01', '2017-03-01', '2017-04-01', '2017-05-01', '2017-06-01',\n",
    "    '2017-07-01', '2017-08-01', '2017-09-01', '2017-10-01', '2017-11-01', '2017-12-01',\n",
    "    \n",
    "    '2018-01-01', '2018-02-01', '2018-03-01', '2018-04-01', '2018-05-01', '2018-06-01',\n",
    "    '2018-07-01', '2018-08-01', '2018-09-01', '2018-10-01', '2018-11-01', '2018-12-01',\n",
    "    \n",
    "    '2019-01-01', '2019-02-01', '2019-03-01', '2019-04-01', '2019-05-01', '2019-06-01',\n",
    "    '2019-07-01', '2019-08-01', '2019-09-01', '2019-10-01'\n",
    "         ]"
   ]
  },
  {
   "cell_type": "code",
   "execution_count": 392,
   "metadata": {},
   "outputs": [
    {
     "data": {
      "text/markdown": [
       "<span style='color:blue'>**Table of comparison of replicated return and original HFRI return:**</span>"
      ],
      "text/plain": [
       "<IPython.core.display.Markdown object>"
      ]
     },
     "metadata": {},
     "output_type": "display_data"
    },
    {
     "data": {
      "text/markdown": [
       "<span style='color:blue'>**Sum of squared errors = 0.00118**</span>"
      ],
      "text/plain": [
       "<IPython.core.display.Markdown object>"
      ]
     },
     "metadata": {},
     "output_type": "display_data"
    },
    {
     "data": {
      "text/markdown": [
       "<span style='color:blue'>**By taking a look at the table below and computed sum of squared errors, we can see that replication is successful and it shows returns which are close to original HFRI returns.**</span>"
      ],
      "text/plain": [
       "<IPython.core.display.Markdown object>"
      ]
     },
     "metadata": {},
     "output_type": "display_data"
    },
    {
     "data": {
      "text/html": [
       "<div>\n",
       "<style scoped>\n",
       "    .dataframe tbody tr th:only-of-type {\n",
       "        vertical-align: middle;\n",
       "    }\n",
       "\n",
       "    .dataframe tbody tr th {\n",
       "        vertical-align: top;\n",
       "    }\n",
       "\n",
       "    .dataframe thead th {\n",
       "        text-align: right;\n",
       "    }\n",
       "</style>\n",
       "<table border=\"1\" class=\"dataframe\">\n",
       "  <thead>\n",
       "    <tr style=\"text-align: right;\">\n",
       "      <th></th>\n",
       "      <th>Replicated return</th>\n",
       "      <th>HFRI return</th>\n",
       "      <th>Squared Error</th>\n",
       "    </tr>\n",
       "  </thead>\n",
       "  <tbody>\n",
       "    <tr>\n",
       "      <th>2015-01-01</th>\n",
       "      <td>-0.00643276</td>\n",
       "      <td>-0.000436379</td>\n",
       "      <td>3.59566e-05</td>\n",
       "    </tr>\n",
       "    <tr>\n",
       "      <th>2015-02-01</th>\n",
       "      <td>0.0190178</td>\n",
       "      <td>0.0187787</td>\n",
       "      <td>5.71824e-08</td>\n",
       "    </tr>\n",
       "    <tr>\n",
       "      <th>2015-03-01</th>\n",
       "      <td>-0.00380185</td>\n",
       "      <td>0.00369454</td>\n",
       "      <td>5.61959e-05</td>\n",
       "    </tr>\n",
       "    <tr>\n",
       "      <th>2015-04-01</th>\n",
       "      <td>0.00270453</td>\n",
       "      <td>0.00951086</td>\n",
       "      <td>4.63261e-05</td>\n",
       "    </tr>\n",
       "    <tr>\n",
       "      <th>2015-05-01</th>\n",
       "      <td>0.000697964</td>\n",
       "      <td>0.00587729</td>\n",
       "      <td>2.68255e-05</td>\n",
       "    </tr>\n",
       "    <tr>\n",
       "      <th>2015-06-01</th>\n",
       "      <td>-0.00966959</td>\n",
       "      <td>-0.012297</td>\n",
       "      <td>6.90348e-06</td>\n",
       "    </tr>\n",
       "    <tr>\n",
       "      <th>2015-07-01</th>\n",
       "      <td>0.00270127</td>\n",
       "      <td>-0.00510478</td>\n",
       "      <td>6.09344e-05</td>\n",
       "    </tr>\n",
       "    <tr>\n",
       "      <th>2015-08-01</th>\n",
       "      <td>-0.0253094</td>\n",
       "      <td>-0.0238703</td>\n",
       "      <td>2.07077e-06</td>\n",
       "    </tr>\n",
       "    <tr>\n",
       "      <th>2015-09-01</th>\n",
       "      <td>-0.0132422</td>\n",
       "      <td>-0.0138369</td>\n",
       "      <td>3.53672e-07</td>\n",
       "    </tr>\n",
       "    <tr>\n",
       "      <th>2015-10-01</th>\n",
       "      <td>0.0241524</td>\n",
       "      <td>0.0172999</td>\n",
       "      <td>4.69569e-05</td>\n",
       "    </tr>\n",
       "    <tr>\n",
       "      <th>2015-11-01</th>\n",
       "      <td>0.00481127</td>\n",
       "      <td>0.00156495</td>\n",
       "      <td>1.05386e-05</td>\n",
       "    </tr>\n",
       "    <tr>\n",
       "      <th>2015-12-01</th>\n",
       "      <td>-0.00400029</td>\n",
       "      <td>-0.0115299</td>\n",
       "      <td>5.66951e-05</td>\n",
       "    </tr>\n",
       "    <tr>\n",
       "      <th>2016-01-01</th>\n",
       "      <td>-0.0151334</td>\n",
       "      <td>-0.0259528</td>\n",
       "      <td>0.00011706</td>\n",
       "    </tr>\n",
       "    <tr>\n",
       "      <th>2016-02-01</th>\n",
       "      <td>-0.00362893</td>\n",
       "      <td>-0.000333882</td>\n",
       "      <td>1.08574e-05</td>\n",
       "    </tr>\n",
       "    <tr>\n",
       "      <th>2016-03-01</th>\n",
       "      <td>0.0271646</td>\n",
       "      <td>0.0207846</td>\n",
       "      <td>4.07047e-05</td>\n",
       "    </tr>\n",
       "    <tr>\n",
       "      <th>2016-04-01</th>\n",
       "      <td>0.00456301</td>\n",
       "      <td>0.0102675</td>\n",
       "      <td>3.25412e-05</td>\n",
       "    </tr>\n",
       "    <tr>\n",
       "      <th>2016-05-01</th>\n",
       "      <td>0.00463186</td>\n",
       "      <td>0.00367647</td>\n",
       "      <td>9.12775e-07</td>\n",
       "    </tr>\n",
       "    <tr>\n",
       "      <th>2016-06-01</th>\n",
       "      <td>0.000722281</td>\n",
       "      <td>0.00409718</td>\n",
       "      <td>1.13899e-05</td>\n",
       "    </tr>\n",
       "    <tr>\n",
       "      <th>2016-07-01</th>\n",
       "      <td>0.0165838</td>\n",
       "      <td>0.0187935</td>\n",
       "      <td>4.88295e-06</td>\n",
       "    </tr>\n",
       "    <tr>\n",
       "      <th>2016-08-01</th>\n",
       "      <td>0.0051516</td>\n",
       "      <td>0.00427442</td>\n",
       "      <td>7.69434e-07</td>\n",
       "    </tr>\n",
       "    <tr>\n",
       "      <th>2016-09-01</th>\n",
       "      <td>0.00553431</td>\n",
       "      <td>0.00646786</td>\n",
       "      <td>8.71524e-07</td>\n",
       "    </tr>\n",
       "    <tr>\n",
       "      <th>2016-10-01</th>\n",
       "      <td>-0.00427029</td>\n",
       "      <td>-0.00594732</td>\n",
       "      <td>2.81244e-06</td>\n",
       "    </tr>\n",
       "    <tr>\n",
       "      <th>2016-11-01</th>\n",
       "      <td>0.0127671</td>\n",
       "      <td>0.0076596</td>\n",
       "      <td>2.60865e-05</td>\n",
       "    </tr>\n",
       "    <tr>\n",
       "      <th>2016-12-01</th>\n",
       "      <td>0.0105423</td>\n",
       "      <td>0.0100635</td>\n",
       "      <td>2.29273e-07</td>\n",
       "    </tr>\n",
       "    <tr>\n",
       "      <th>2017-01-01</th>\n",
       "      <td>0.0113614</td>\n",
       "      <td>0.0120221</td>\n",
       "      <td>4.36454e-07</td>\n",
       "    </tr>\n",
       "    <tr>\n",
       "      <th>2017-02-01</th>\n",
       "      <td>0.0111837</td>\n",
       "      <td>0.00899376</td>\n",
       "      <td>4.79599e-06</td>\n",
       "    </tr>\n",
       "    <tr>\n",
       "      <th>2017-03-01</th>\n",
       "      <td>0.0104277</td>\n",
       "      <td>0.00392095</td>\n",
       "      <td>4.23374e-05</td>\n",
       "    </tr>\n",
       "    <tr>\n",
       "      <th>2017-04-01</th>\n",
       "      <td>0.00720845</td>\n",
       "      <td>0.00534417</td>\n",
       "      <td>3.47554e-06</td>\n",
       "    </tr>\n",
       "    <tr>\n",
       "      <th>2017-05-01</th>\n",
       "      <td>0.00721724</td>\n",
       "      <td>0.00193813</td>\n",
       "      <td>2.7869e-05</td>\n",
       "    </tr>\n",
       "    <tr>\n",
       "      <th>2017-06-01</th>\n",
       "      <td>0.00481034</td>\n",
       "      <td>0.00299625</td>\n",
       "      <td>3.2909e-06</td>\n",
       "    </tr>\n",
       "    <tr>\n",
       "      <th>2017-07-01</th>\n",
       "      <td>0.00840795</td>\n",
       "      <td>0.0106818</td>\n",
       "      <td>5.17034e-06</td>\n",
       "    </tr>\n",
       "    <tr>\n",
       "      <th>2017-08-01</th>\n",
       "      <td>0.00216352</td>\n",
       "      <td>0.00492024</td>\n",
       "      <td>7.59947e-06</td>\n",
       "    </tr>\n",
       "    <tr>\n",
       "      <th>2017-09-01</th>\n",
       "      <td>0.011375</td>\n",
       "      <td>0.00646398</td>\n",
       "      <td>2.41178e-05</td>\n",
       "    </tr>\n",
       "    <tr>\n",
       "      <th>2017-10-01</th>\n",
       "      <td>0.00880267</td>\n",
       "      <td>0.0102698</td>\n",
       "      <td>2.15245e-06</td>\n",
       "    </tr>\n",
       "    <tr>\n",
       "      <th>2017-11-01</th>\n",
       "      <td>0.00652429</td>\n",
       "      <td>0.00457445</td>\n",
       "      <td>3.80189e-06</td>\n",
       "    </tr>\n",
       "    <tr>\n",
       "      <th>2017-12-01</th>\n",
       "      <td>0.00614537</td>\n",
       "      <td>0.0106368</td>\n",
       "      <td>2.01732e-05</td>\n",
       "    </tr>\n",
       "    <tr>\n",
       "      <th>2018-01-01</th>\n",
       "      <td>0.0189904</td>\n",
       "      <td>0.023148</td>\n",
       "      <td>1.72858e-05</td>\n",
       "    </tr>\n",
       "    <tr>\n",
       "      <th>2018-02-01</th>\n",
       "      <td>-0.0107552</td>\n",
       "      <td>-0.0180002</td>\n",
       "      <td>5.24894e-05</td>\n",
       "    </tr>\n",
       "    <tr>\n",
       "      <th>2018-03-01</th>\n",
       "      <td>-0.000712176</td>\n",
       "      <td>-0.00514921</td>\n",
       "      <td>1.96873e-05</td>\n",
       "    </tr>\n",
       "    <tr>\n",
       "      <th>2018-04-01</th>\n",
       "      <td>0.0036998</td>\n",
       "      <td>0.00382919</td>\n",
       "      <td>1.6743e-08</td>\n",
       "    </tr>\n",
       "    <tr>\n",
       "      <th>2018-05-01</th>\n",
       "      <td>0.00626246</td>\n",
       "      <td>0.008795</td>\n",
       "      <td>6.41373e-06</td>\n",
       "    </tr>\n",
       "    <tr>\n",
       "      <th>2018-06-01</th>\n",
       "      <td>-0.000940718</td>\n",
       "      <td>-0.00399043</td>\n",
       "      <td>9.30073e-06</td>\n",
       "    </tr>\n",
       "    <tr>\n",
       "      <th>2018-07-01</th>\n",
       "      <td>0.0127414</td>\n",
       "      <td>0.00475227</td>\n",
       "      <td>6.38268e-05</td>\n",
       "    </tr>\n",
       "    <tr>\n",
       "      <th>2018-08-01</th>\n",
       "      <td>0.00304585</td>\n",
       "      <td>0.00337707</td>\n",
       "      <td>1.09707e-07</td>\n",
       "    </tr>\n",
       "    <tr>\n",
       "      <th>2018-09-01</th>\n",
       "      <td>0.00115906</td>\n",
       "      <td>-0.00260908</td>\n",
       "      <td>1.41989e-05</td>\n",
       "    </tr>\n",
       "    <tr>\n",
       "      <th>2018-10-01</th>\n",
       "      <td>-0.026238</td>\n",
       "      <td>-0.03202</td>\n",
       "      <td>3.34319e-05</td>\n",
       "    </tr>\n",
       "    <tr>\n",
       "      <th>2018-11-01</th>\n",
       "      <td>0.00712158</td>\n",
       "      <td>-0.00369659</td>\n",
       "      <td>0.000117033</td>\n",
       "    </tr>\n",
       "    <tr>\n",
       "      <th>2018-12-01</th>\n",
       "      <td>-0.0266409</td>\n",
       "      <td>-0.0253872</td>\n",
       "      <td>1.57161e-06</td>\n",
       "    </tr>\n",
       "    <tr>\n",
       "      <th>2019-01-01</th>\n",
       "      <td>0.0283633</td>\n",
       "      <td>0.0350018</td>\n",
       "      <td>4.40702e-05</td>\n",
       "    </tr>\n",
       "    <tr>\n",
       "      <th>2019-02-01</th>\n",
       "      <td>0.00902154</td>\n",
       "      <td>0.0130514</td>\n",
       "      <td>1.62396e-05</td>\n",
       "    </tr>\n",
       "    <tr>\n",
       "      <th>2019-03-01</th>\n",
       "      <td>0.00300525</td>\n",
       "      <td>0.00585287</td>\n",
       "      <td>8.10892e-06</td>\n",
       "    </tr>\n",
       "    <tr>\n",
       "      <th>2019-04-01</th>\n",
       "      <td>0.0118256</td>\n",
       "      <td>0.0132578</td>\n",
       "      <td>2.05114e-06</td>\n",
       "    </tr>\n",
       "    <tr>\n",
       "      <th>2019-05-01</th>\n",
       "      <td>-0.0215095</td>\n",
       "      <td>-0.0189437</td>\n",
       "      <td>6.58323e-06</td>\n",
       "    </tr>\n",
       "    <tr>\n",
       "      <th>2019-06-01</th>\n",
       "      <td>0.0222745</td>\n",
       "      <td>0.0228553</td>\n",
       "      <td>3.37358e-07</td>\n",
       "    </tr>\n",
       "    <tr>\n",
       "      <th>2019-07-01</th>\n",
       "      <td>0.000410545</td>\n",
       "      <td>0.00453622</td>\n",
       "      <td>1.70212e-05</td>\n",
       "    </tr>\n",
       "    <tr>\n",
       "      <th>2019-08-01</th>\n",
       "      <td>-0.00831071</td>\n",
       "      <td>-0.00705715</td>\n",
       "      <td>1.57141e-06</td>\n",
       "    </tr>\n",
       "  </tbody>\n",
       "</table>\n",
       "</div>"
      ],
      "text/plain": [
       "           Replicated return  HFRI return Squared Error\n",
       "2015-01-01       -0.00643276 -0.000436379   3.59566e-05\n",
       "2015-02-01         0.0190178    0.0187787   5.71824e-08\n",
       "2015-03-01       -0.00380185   0.00369454   5.61959e-05\n",
       "2015-04-01        0.00270453   0.00951086   4.63261e-05\n",
       "2015-05-01       0.000697964   0.00587729   2.68255e-05\n",
       "2015-06-01       -0.00966959    -0.012297   6.90348e-06\n",
       "2015-07-01        0.00270127  -0.00510478   6.09344e-05\n",
       "2015-08-01        -0.0253094   -0.0238703   2.07077e-06\n",
       "2015-09-01        -0.0132422   -0.0138369   3.53672e-07\n",
       "2015-10-01         0.0241524    0.0172999   4.69569e-05\n",
       "2015-11-01        0.00481127   0.00156495   1.05386e-05\n",
       "2015-12-01       -0.00400029   -0.0115299   5.66951e-05\n",
       "2016-01-01        -0.0151334   -0.0259528    0.00011706\n",
       "2016-02-01       -0.00362893 -0.000333882   1.08574e-05\n",
       "2016-03-01         0.0271646    0.0207846   4.07047e-05\n",
       "2016-04-01        0.00456301    0.0102675   3.25412e-05\n",
       "2016-05-01        0.00463186   0.00367647   9.12775e-07\n",
       "2016-06-01       0.000722281   0.00409718   1.13899e-05\n",
       "2016-07-01         0.0165838    0.0187935   4.88295e-06\n",
       "2016-08-01         0.0051516   0.00427442   7.69434e-07\n",
       "2016-09-01        0.00553431   0.00646786   8.71524e-07\n",
       "2016-10-01       -0.00427029  -0.00594732   2.81244e-06\n",
       "2016-11-01         0.0127671    0.0076596   2.60865e-05\n",
       "2016-12-01         0.0105423    0.0100635   2.29273e-07\n",
       "2017-01-01         0.0113614    0.0120221   4.36454e-07\n",
       "2017-02-01         0.0111837   0.00899376   4.79599e-06\n",
       "2017-03-01         0.0104277   0.00392095   4.23374e-05\n",
       "2017-04-01        0.00720845   0.00534417   3.47554e-06\n",
       "2017-05-01        0.00721724   0.00193813    2.7869e-05\n",
       "2017-06-01        0.00481034   0.00299625    3.2909e-06\n",
       "2017-07-01        0.00840795    0.0106818   5.17034e-06\n",
       "2017-08-01        0.00216352   0.00492024   7.59947e-06\n",
       "2017-09-01          0.011375   0.00646398   2.41178e-05\n",
       "2017-10-01        0.00880267    0.0102698   2.15245e-06\n",
       "2017-11-01        0.00652429   0.00457445   3.80189e-06\n",
       "2017-12-01        0.00614537    0.0106368   2.01732e-05\n",
       "2018-01-01         0.0189904     0.023148   1.72858e-05\n",
       "2018-02-01        -0.0107552   -0.0180002   5.24894e-05\n",
       "2018-03-01      -0.000712176  -0.00514921   1.96873e-05\n",
       "2018-04-01         0.0036998   0.00382919    1.6743e-08\n",
       "2018-05-01        0.00626246     0.008795   6.41373e-06\n",
       "2018-06-01      -0.000940718  -0.00399043   9.30073e-06\n",
       "2018-07-01         0.0127414   0.00475227   6.38268e-05\n",
       "2018-08-01        0.00304585   0.00337707   1.09707e-07\n",
       "2018-09-01        0.00115906  -0.00260908   1.41989e-05\n",
       "2018-10-01         -0.026238     -0.03202   3.34319e-05\n",
       "2018-11-01        0.00712158  -0.00369659   0.000117033\n",
       "2018-12-01        -0.0266409   -0.0253872   1.57161e-06\n",
       "2019-01-01         0.0283633    0.0350018   4.40702e-05\n",
       "2019-02-01        0.00902154    0.0130514   1.62396e-05\n",
       "2019-03-01        0.00300525   0.00585287   8.10892e-06\n",
       "2019-04-01         0.0118256    0.0132578   2.05114e-06\n",
       "2019-05-01        -0.0215095   -0.0189437   6.58323e-06\n",
       "2019-06-01         0.0222745    0.0228553   3.37358e-07\n",
       "2019-07-01       0.000410545   0.00453622   1.70212e-05\n",
       "2019-08-01       -0.00831071  -0.00705715   1.57141e-06"
      ]
     },
     "metadata": {},
     "output_type": "display_data"
    }
   ],
   "source": [
    "comparison_df = pd.DataFrame(index=periods, columns=['Replicated return', 'HFRI return', 'Squared Error'])\n",
    "\n",
    "factors = merrill_df.columns\n",
    "\n",
    "for i in range(len(periods)-1):\n",
    "    rhs = sm.add_constant(merrill_df[factors][:periods[i]])\n",
    "    lhs = hedge_df['HFRIFWI Index'][:periods[i]]\n",
    "    res = sm.OLS(lhs, rhs, missing='drop').fit()\n",
    "    replica = pd.DataFrame(index=merrill_df.columns, columns=['beta'])\n",
    "    for asset in replica.index:\n",
    "        replica.loc[asset]['beta'] = res.params[asset]\n",
    "\n",
    "    replicated_return = (res.params['const'] + \n",
    "            merrill_df['SPY US Equity'][periods[i]:periods[i+1]]*replica.loc['SPY US Equity']['beta'] + \n",
    "            merrill_df['USGG3M Index'][periods[i]:periods[i+1]]*replica.loc['USGG3M Index']['beta']   +\n",
    "            merrill_df['EEM US Equity'][periods[i]:periods[i+1]]*replica.loc['EEM US Equity']['beta'] +\n",
    "            merrill_df['EFA US Equity'][periods[i]:periods[i+1]]*replica.loc['EFA US Equity']['beta'] +\n",
    "            merrill_df['EUO US Equity'][periods[i]:periods[i+1]]*replica.loc['EUO US Equity']['beta'] +\n",
    "            merrill_df['IWM US Equity'][periods[i]:periods[i+1]]*replica.loc['IWM US Equity']['beta'] )\n",
    "    HFRI_return = hedge_df['HFRIFWI Index'][periods[i]:periods[i+1]]\n",
    "    \n",
    "    comparison_df.loc[periods[i]]['Replicated return'] = replicated_return[0]\n",
    "    comparison_df.loc[periods[i]]['HFRI return'] = hedge_df['HFRIFWI Index'][periods[i]:periods[i+1]][0]\n",
    "    comparison_df.loc[periods[i]]['Squared Error'] = (hedge_df['HFRIFWI Index'][periods[i]:periods[i+1]][0] - replicated_return[0])**2\n",
    "    \n",
    "printmd('**Table of comparison of replicated return and original HFRI return:**',color='blue')\n",
    "printmd('**Sum of squared errors = {:.5f}**'.format(sum(comparison_df['Squared Error'][:-1])),color='blue')\n",
    "printmd('**By taking a look at the table below and computed sum of squared errors, we can see that replication is successful and it shows returns which are close to original HFRI returns.**',color='blue')\n",
    "display(comparison_df[:-1])"
   ]
  }
 ],
 "metadata": {
  "kernelspec": {
   "display_name": "Python 3",
   "language": "python",
   "name": "python3"
  },
  "language_info": {
   "codemirror_mode": {
    "name": "ipython",
    "version": 3
   },
   "file_extension": ".py",
   "mimetype": "text/x-python",
   "name": "python",
   "nbconvert_exporter": "python",
   "pygments_lexer": "ipython3",
   "version": "3.6.8"
  }
 },
 "nbformat": 4,
 "nbformat_minor": 2
}
