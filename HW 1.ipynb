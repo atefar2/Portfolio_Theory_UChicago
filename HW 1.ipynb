{
 "cells": [
  {
   "cell_type": "markdown",
   "metadata": {},
   "source": [
    "<h3 align=\"right\"> October 2, 2019  </h3> \n",
    "\n",
    "<h3 align=\"center\"> Portfolio Theory and Risk Management I </h3> \n",
    "\n",
    "<h3 align=\"center\"> HW 1 Solution.  </h3> "
   ]
  },
  {
   "cell_type": "markdown",
   "metadata": {},
   "source": [
    "# 2. Mean-Variance Optimization"
   ]
  },
  {
   "cell_type": "code",
   "execution_count": 385,
   "metadata": {},
   "outputs": [
    {
     "name": "stdout",
     "output_type": "stream",
     "text": [
      "Data shape is (237, 11)\n"
     ]
    },
    {
     "data": {
      "text/html": [
       "<div>\n",
       "<style scoped>\n",
       "    .dataframe tbody tr th:only-of-type {\n",
       "        vertical-align: middle;\n",
       "    }\n",
       "\n",
       "    .dataframe tbody tr th {\n",
       "        vertical-align: top;\n",
       "    }\n",
       "\n",
       "    .dataframe thead th {\n",
       "        text-align: right;\n",
       "    }\n",
       "</style>\n",
       "<table border=\"1\" class=\"dataframe\">\n",
       "  <thead>\n",
       "    <tr style=\"text-align: right;\">\n",
       "      <th></th>\n",
       "      <th>Domestic Equity</th>\n",
       "      <th>Foreign Equity</th>\n",
       "      <th>Emerging Markets</th>\n",
       "      <th>Private Equity</th>\n",
       "      <th>Absolute Return</th>\n",
       "      <th>High Yield</th>\n",
       "      <th>Commodities</th>\n",
       "      <th>Real Estate</th>\n",
       "      <th>Domestic Bonds</th>\n",
       "      <th>Foreign Bonds</th>\n",
       "      <th>Inflation-Indexed</th>\n",
       "    </tr>\n",
       "    <tr>\n",
       "      <th>Dates</th>\n",
       "      <th></th>\n",
       "      <th></th>\n",
       "      <th></th>\n",
       "      <th></th>\n",
       "      <th></th>\n",
       "      <th></th>\n",
       "      <th></th>\n",
       "      <th></th>\n",
       "      <th></th>\n",
       "      <th></th>\n",
       "      <th></th>\n",
       "    </tr>\n",
       "  </thead>\n",
       "  <tbody>\n",
       "    <tr>\n",
       "      <th>2000-01-31</th>\n",
       "      <td>-0.050621</td>\n",
       "      <td>NaN</td>\n",
       "      <td>NaN</td>\n",
       "      <td>NaN</td>\n",
       "      <td>NaN</td>\n",
       "      <td>NaN</td>\n",
       "      <td>0.071473</td>\n",
       "      <td>NaN</td>\n",
       "      <td>NaN</td>\n",
       "      <td>NaN</td>\n",
       "      <td>NaN</td>\n",
       "    </tr>\n",
       "    <tr>\n",
       "      <th>2000-02-29</th>\n",
       "      <td>-0.016059</td>\n",
       "      <td>NaN</td>\n",
       "      <td>NaN</td>\n",
       "      <td>NaN</td>\n",
       "      <td>NaN</td>\n",
       "      <td>NaN</td>\n",
       "      <td>0.061642</td>\n",
       "      <td>NaN</td>\n",
       "      <td>NaN</td>\n",
       "      <td>NaN</td>\n",
       "      <td>NaN</td>\n",
       "    </tr>\n",
       "  </tbody>\n",
       "</table>\n",
       "</div>"
      ],
      "text/plain": [
       "            Domestic Equity  Foreign Equity  Emerging Markets  Private Equity  \\\n",
       "Dates                                                                           \n",
       "2000-01-31        -0.050621             NaN               NaN             NaN   \n",
       "2000-02-29        -0.016059             NaN               NaN             NaN   \n",
       "\n",
       "            Absolute Return  High Yield  Commodities  Real Estate  \\\n",
       "Dates                                                               \n",
       "2000-01-31              NaN         NaN     0.071473          NaN   \n",
       "2000-02-29              NaN         NaN     0.061642          NaN   \n",
       "\n",
       "            Domestic Bonds  Foreign Bonds  Inflation-Indexed  \n",
       "Dates                                                         \n",
       "2000-01-31             NaN            NaN                NaN  \n",
       "2000-02-29             NaN            NaN                NaN  "
      ]
     },
     "execution_count": 385,
     "metadata": {},
     "output_type": "execute_result"
    }
   ],
   "source": [
    "import pandas as pd\n",
    "import numpy as np\n",
    "import matplotlib.pyplot as plt\n",
    "from numpy.linalg import inv\n",
    "from IPython.display import Markdown, display\n",
    "def printmd(string, color=None):\n",
    "    colorstr = \"<span style='color:{}'>{}</span>\".format(color, string)\n",
    "    display(Markdown(colorstr))\n",
    "\n",
    "# 11 ASSET CLASSES + CASH\n",
    "# Jan 2000 - Sep 2019\n",
    "data = pd.read_excel('assetclass_data_monthly.xlsx')\n",
    "data = data.set_index('Dates')\n",
    "\n",
    "# risk free rate for months w/o given cash returns \n",
    "rfr = 0.01/12\n",
    "data['Cash'].fillna(rfr, inplace = True)\n",
    "\n",
    "# Calculate the excess returns\n",
    "data_ex = data.copy()\n",
    "for asset in data_ex.columns:\n",
    "    data_ex[asset] = data_ex[asset] - data_ex['Cash'] # can use subtract w/ specifed axis\n",
    "data_ex.drop(['Cash'], axis=1, inplace=True)\n",
    "print('Data shape is', data_ex.shape)\n",
    "data_ex.head(2)"
   ]
  },
  {
   "cell_type": "markdown",
   "metadata": {},
   "source": [
    "## 2.1. Summary Statistics"
   ]
  },
  {
   "cell_type": "markdown",
   "metadata": {},
   "source": [
    "## (a) \n",
    "**Calculate and display the ANNUALIZED mean and volatility of each asset's excess return. Volatility = Standard Deviation.**"
   ]
  },
  {
   "cell_type": "code",
   "execution_count": 386,
   "metadata": {},
   "outputs": [
    {
     "data": {
      "text/plain": [
       "<matplotlib.legend.Legend at 0x121705a20>"
      ]
     },
     "execution_count": 386,
     "metadata": {},
     "output_type": "execute_result"
    },
    {
     "data": {
      "image/png": "[encoded data removed]",
      "text/plain": [
       "<Figure size 1440x432 with 1 Axes>"
      ]
     },
     "metadata": {
      "needs_background": "light"
     },
     "output_type": "display_data"
    }
   ],
   "source": [
    "mean = data_ex.mean()*12\n",
    "std = data_ex.std()*np.sqrt(12)\n",
    "\n",
    "fig, ax = plt.subplots(nrows=1, ncols=1, figsize=(20, 6))\n",
    "ax.errorbar(data_ex.columns.values, mean, std, linestyle='None', marker='o', markersize=12, c='g', \n",
    "            ecolor='red', lw=1.5, capsize=5, capthick=2, label='Mean')\n",
    "ax.set_title('Annualized Mean and Volatility of assets` excess returns', fontsize=20)\n",
    "plt.xlabel('Class of asset', fontsize=16)\n",
    "plt.ylabel('Percentage points', fontsize=16)\n",
    "plt.legend()"
   ]
  },
  {
   "cell_type": "code",
   "execution_count": 387,
   "metadata": {},
   "outputs": [
    {
     "data": {
      "text/markdown": [
       "<span style='color:blue'>**Annualized mean of each asset class excess return:**\n",
       "</span>"
      ],
      "text/plain": [
       "<IPython.core.display.Markdown object>"
      ]
     },
     "metadata": {},
     "output_type": "display_data"
    },
    {
     "name": "stdout",
     "output_type": "stream",
     "text": [
      "Domestic Equity      0.055121\n",
      "Foreign Equity       0.053938\n",
      "Emerging Markets     0.110653\n",
      "Private Equity       0.026308\n",
      "Absolute Return      0.023228\n",
      "High Yield           0.049417\n",
      "Commodities          0.008010\n",
      "Real Estate          0.106161\n",
      "Domestic Bonds       0.039372\n",
      "Foreign Bonds        0.018323\n",
      "Inflation-Indexed    0.030167\n",
      "dtype: float64\n"
     ]
    },
    {
     "data": {
      "text/markdown": [
       "<span style='color:blue'>**Annualized standard deviation of each asset class excess return:**\n",
       "</span>"
      ],
      "text/plain": [
       "<IPython.core.display.Markdown object>"
      ]
     },
     "metadata": {},
     "output_type": "display_data"
    },
    {
     "name": "stdout",
     "output_type": "stream",
     "text": [
      "Domestic Equity      0.145691\n",
      "Foreign Equity       0.167595\n",
      "Emerging Markets     0.218556\n",
      "Private Equity       0.251229\n",
      "Absolute Return      0.044232\n",
      "High Yield           0.111721\n",
      "Commodities          0.223107\n",
      "Real Estate          0.200801\n",
      "Domestic Bonds       0.063132\n",
      "Foreign Bonds        0.084043\n",
      "Inflation-Indexed    0.056482\n",
      "dtype: float64\n"
     ]
    }
   ],
   "source": [
    "printmd(\"**Annualized mean of each asset class excess return:**\\n\", color=\"blue\")\n",
    "print(mean)\n",
    "\n",
    "printmd(\"**Annualized standard deviation of each asset class excess return:**\\n\", color=\"blue\")\n",
    "print(std)"
   ]
  },
  {
   "cell_type": "code",
   "execution_count": 388,
   "metadata": {},
   "outputs": [
    {
     "data": {
      "text/markdown": [
       "<span style='color:green'>**The HIGHEST MEAN EXCESS RETURN is 0.1107 and corresponds to Emerging Markets.**</span>"
      ],
      "text/plain": [
       "<IPython.core.display.Markdown object>"
      ]
     },
     "metadata": {},
     "output_type": "display_data"
    },
    {
     "data": {
      "text/markdown": [
       "<span style='color:red'>**The LOWEST MEAN EXCESS RETURN is 0.0080 and corresponds to Commodities.**</span>"
      ],
      "text/plain": [
       "<IPython.core.display.Markdown object>"
      ]
     },
     "metadata": {},
     "output_type": "display_data"
    },
    {
     "name": "stdout",
     "output_type": "stream",
     "text": [
      "\n",
      "\n"
     ]
    },
    {
     "data": {
      "text/markdown": [
       "<span style='color:green'>**The HIGHEST VOLATILITY OF EXCESS RETURNS is 0.2512 and corresponds to Private Equity.**</span>"
      ],
      "text/plain": [
       "<IPython.core.display.Markdown object>"
      ]
     },
     "metadata": {},
     "output_type": "display_data"
    },
    {
     "data": {
      "text/markdown": [
       "<span style='color:red'>**The LOWEST VOLATILITY OF EXCESS RETURNS is 0.0442 and corresponds to Absolute Return.**</span>"
      ],
      "text/plain": [
       "<IPython.core.display.Markdown object>"
      ]
     },
     "metadata": {},
     "output_type": "display_data"
    }
   ],
   "source": [
    "printmd('**The HIGHEST MEAN EXCESS RETURN is {:.4f} and corresponds to {}.**'.format(mean.max(), mean.idxmax()), color='green')\n",
    "printmd('**The LOWEST MEAN EXCESS RETURN is {:.4f} and corresponds to {}.**'.format(mean.min(), mean.idxmin()), color='red')\n",
    "\n",
    "print()\n",
    "print()\n",
    "\n",
    "printmd('**The HIGHEST VOLATILITY OF EXCESS RETURNS is {:.4f} and corresponds to {}.**'.format(std.max(), std.idxmax()), color='green')\n",
    "printmd('**The LOWEST VOLATILITY OF EXCESS RETURNS is {:.4f} and corresponds to {}.**'.format(std.min(), std.idxmin()), color='red')"
   ]
  },
  {
   "cell_type": "markdown",
   "metadata": {},
   "source": [
    "## (b)\n",
    "**Which assets have the best and worst Sharpe ratios?**"
   ]
  },
  {
   "cell_type": "markdown",
   "metadata": {},
   "source": [
    "$$Sharpe Ratio_i = \\frac{\\mathbf{r}_i - \\mathbf{r}^f}{\\sigma_i} = \\frac{\\tilde{\\mu}_i}{\\sigma_i}$$\n",
    "\n",
    "where \n",
    "\n",
    "$r_i$ - return on asset $i$\n",
    "\n",
    "$r^f$ - risk-free rate, i.e., return on Cash in our case\n",
    "\n",
    "$\\sigma_i$ - standard deviation of asset $i$\n",
    "\n",
    "**The HIGHER Sharpe Ratio the BETTER**"
   ]
  },
  {
   "cell_type": "code",
   "execution_count": 389,
   "metadata": {},
   "outputs": [
    {
     "data": {
      "text/html": [
       "<div>\n",
       "<style scoped>\n",
       "    .dataframe tbody tr th:only-of-type {\n",
       "        vertical-align: middle;\n",
       "    }\n",
       "\n",
       "    .dataframe tbody tr th {\n",
       "        vertical-align: top;\n",
       "    }\n",
       "\n",
       "    .dataframe thead th {\n",
       "        text-align: right;\n",
       "    }\n",
       "</style>\n",
       "<table border=\"1\" class=\"dataframe\">\n",
       "  <thead>\n",
       "    <tr style=\"text-align: right;\">\n",
       "      <th></th>\n",
       "      <th>Sharpe Ratio</th>\n",
       "    </tr>\n",
       "  </thead>\n",
       "  <tbody>\n",
       "    <tr>\n",
       "      <th>Domestic Equity</th>\n",
       "      <td>0.378341</td>\n",
       "    </tr>\n",
       "    <tr>\n",
       "      <th>Foreign Equity</th>\n",
       "      <td>0.321833</td>\n",
       "    </tr>\n",
       "    <tr>\n",
       "      <th>Emerging Markets</th>\n",
       "      <td>0.506290</td>\n",
       "    </tr>\n",
       "    <tr>\n",
       "      <th>Private Equity</th>\n",
       "      <td>0.104717</td>\n",
       "    </tr>\n",
       "    <tr>\n",
       "      <th>Absolute Return</th>\n",
       "      <td>0.525135</td>\n",
       "    </tr>\n",
       "    <tr>\n",
       "      <th>High Yield</th>\n",
       "      <td>0.442330</td>\n",
       "    </tr>\n",
       "    <tr>\n",
       "      <th>Commodities</th>\n",
       "      <td>0.035904</td>\n",
       "    </tr>\n",
       "    <tr>\n",
       "      <th>Real Estate</th>\n",
       "      <td>0.528689</td>\n",
       "    </tr>\n",
       "    <tr>\n",
       "      <th>Domestic Bonds</th>\n",
       "      <td>0.623652</td>\n",
       "    </tr>\n",
       "    <tr>\n",
       "      <th>Foreign Bonds</th>\n",
       "      <td>0.218025</td>\n",
       "    </tr>\n",
       "    <tr>\n",
       "      <th>Inflation-Indexed</th>\n",
       "      <td>0.534092</td>\n",
       "    </tr>\n",
       "  </tbody>\n",
       "</table>\n",
       "</div>"
      ],
      "text/plain": [
       "                   Sharpe Ratio\n",
       "Domestic Equity        0.378341\n",
       "Foreign Equity         0.321833\n",
       "Emerging Markets       0.506290\n",
       "Private Equity         0.104717\n",
       "Absolute Return        0.525135\n",
       "High Yield             0.442330\n",
       "Commodities            0.035904\n",
       "Real Estate            0.528689\n",
       "Domestic Bonds         0.623652\n",
       "Foreign Bonds          0.218025\n",
       "Inflation-Indexed      0.534092"
      ]
     },
     "execution_count": 389,
     "metadata": {},
     "output_type": "execute_result"
    }
   ],
   "source": [
    "SR = mean / std # mean and std were annualized when calculated\n",
    "pd.DataFrame(SR, columns=['Sharpe Ratio'])"
   ]
  },
  {
   "cell_type": "code",
   "execution_count": 390,
   "metadata": {},
   "outputs": [
    {
     "data": {
      "text/markdown": [
       "<span style='color:green'>**The BEST Sharpe Ratio is 0.6237 and corresponds to Domestic Bonds.**</span>"
      ],
      "text/plain": [
       "<IPython.core.display.Markdown object>"
      ]
     },
     "metadata": {},
     "output_type": "display_data"
    },
    {
     "data": {
      "text/markdown": [
       "<span style='color:red'>**The WORST Sharpe Ratio is 0.0359 and corresponds to Commodities.**</span>"
      ],
      "text/plain": [
       "<IPython.core.display.Markdown object>"
      ]
     },
     "metadata": {},
     "output_type": "display_data"
    },
    {
     "data": {
      "text/markdown": [
       "<span style='color:blue'>**This means that Domestic Bonds (Commodities) returns in relation to risk which accompanies investment in them, are the highest (lowest) in comparison to other asset classes.**</span>"
      ],
      "text/plain": [
       "<IPython.core.display.Markdown object>"
      ]
     },
     "metadata": {},
     "output_type": "display_data"
    }
   ],
   "source": [
    "# Let us find the highest and the lowest Sharpe Ratios, which correspond to best and worst SR respectively \n",
    "printmd('**The BEST Sharpe Ratio is {:.4f} and corresponds to {}.**'.format(SR.max(), SR.idxmax()), color='green')\n",
    "printmd('**The WORST Sharpe Ratio is {:.4f} and corresponds to {}.**'.format(SR.min(), SR.idxmin()), color='red')\n",
    "\n",
    "printmd('**This means that Domestic Bonds (Commodities) returns in relation to risk which accompanies investment in them, are the highest (lowest) in comparison to other asset classes.**', color='blue')\n",
    "\n",
    "#  The ratio describes how much excess return you receive for the extra volatility you endure for holding a riskier asset. "
   ]
  },
  {
   "cell_type": "markdown",
   "metadata": {},
   "source": [
    "## 2.2. The MV frontier"
   ]
  },
  {
   "cell_type": "markdown",
   "metadata": {},
   "source": [
    "## (a)\n",
    "\n",
    "**Compute and display the weights of the tangency portfolios:** $\\mathbf{w}^{tan}$."
   ]
  },
  {
   "cell_type": "markdown",
   "metadata": {},
   "source": [
    "$$ \\mathbf{w}^{tan} = \\frac{ \\Sigma^{-1} \\tilde{\\mathbf{\\mu}}  }{  \\mathbf{1}^T\\Sigma^{-1} \\tilde{\\mu}  } $$\n",
    "\n",
    "where \n",
    "\n",
    "$\\Sigma$ - matrix of pairwise covariances of all asset classes, $dim = 11 \\times 11$\n",
    "\n",
    "$\\tilde{\\mu}$ - mean excess returns of all asset classes, $dim = 11 \\times 1$\n",
    "\n",
    "$\\mathbf{1}$ - all-ones vector, $dim = 11 \\times 1$"
   ]
  },
  {
   "cell_type": "code",
   "execution_count": 391,
   "metadata": {},
   "outputs": [
    {
     "data": {
      "text/markdown": [
       "<span style='color:blue'>**Tangency portfolio weights:**</span>"
      ],
      "text/plain": [
       "<IPython.core.display.Markdown object>"
      ]
     },
     "metadata": {},
     "output_type": "display_data"
    },
    {
     "data": {
      "text/html": [
       "<div>\n",
       "<style scoped>\n",
       "    .dataframe tbody tr th:only-of-type {\n",
       "        vertical-align: middle;\n",
       "    }\n",
       "\n",
       "    .dataframe tbody tr th {\n",
       "        vertical-align: top;\n",
       "    }\n",
       "\n",
       "    .dataframe thead th {\n",
       "        text-align: right;\n",
       "    }\n",
       "</style>\n",
       "<table border=\"1\" class=\"dataframe\">\n",
       "  <thead>\n",
       "    <tr style=\"text-align: right;\">\n",
       "      <th></th>\n",
       "      <th>w_tan</th>\n",
       "    </tr>\n",
       "  </thead>\n",
       "  <tbody>\n",
       "    <tr>\n",
       "      <th>Domestic Equity</th>\n",
       "      <td>-0.038538</td>\n",
       "    </tr>\n",
       "    <tr>\n",
       "      <th>Foreign Equity</th>\n",
       "      <td>-0.230462</td>\n",
       "    </tr>\n",
       "    <tr>\n",
       "      <th>Emerging Markets</th>\n",
       "      <td>0.191683</td>\n",
       "    </tr>\n",
       "    <tr>\n",
       "      <th>Private Equity</th>\n",
       "      <td>0.090221</td>\n",
       "    </tr>\n",
       "    <tr>\n",
       "      <th>Absolute Return</th>\n",
       "      <td>0.677437</td>\n",
       "    </tr>\n",
       "    <tr>\n",
       "      <th>High Yield</th>\n",
       "      <td>0.301981</td>\n",
       "    </tr>\n",
       "    <tr>\n",
       "      <th>Commodities</th>\n",
       "      <td>-0.064875</td>\n",
       "    </tr>\n",
       "    <tr>\n",
       "      <th>Real Estate</th>\n",
       "      <td>-0.120223</td>\n",
       "    </tr>\n",
       "    <tr>\n",
       "      <th>Domestic Bonds</th>\n",
       "      <td>0.701036</td>\n",
       "    </tr>\n",
       "    <tr>\n",
       "      <th>Foreign Bonds</th>\n",
       "      <td>-0.353790</td>\n",
       "    </tr>\n",
       "    <tr>\n",
       "      <th>Inflation-Indexed</th>\n",
       "      <td>-0.154470</td>\n",
       "    </tr>\n",
       "  </tbody>\n",
       "</table>\n",
       "</div>"
      ],
      "text/plain": [
       "                      w_tan\n",
       "Domestic Equity   -0.038538\n",
       "Foreign Equity    -0.230462\n",
       "Emerging Markets   0.191683\n",
       "Private Equity     0.090221\n",
       "Absolute Return    0.677437\n",
       "High Yield         0.301981\n",
       "Commodities       -0.064875\n",
       "Real Estate       -0.120223\n",
       "Domestic Bonds     0.701036\n",
       "Foreign Bonds     -0.353790\n",
       "Inflation-Indexed -0.154470"
      ]
     },
     "metadata": {},
     "output_type": "display_data"
    },
    {
     "data": {
      "text/markdown": [
       "<span style='color:blue'>\n",
       "Check that weights sum to one: 1.0000</span>"
      ],
      "text/plain": [
       "<IPython.core.display.Markdown object>"
      ]
     },
     "metadata": {},
     "output_type": "display_data"
    }
   ],
   "source": [
    "Sigma = data_ex.cov()*12 # annualize Covariance matrix through multiplication on 12 \n",
    "inv_Sigma = inv(Sigma)\n",
    "ones = np.ones(Sigma.shape[1])\n",
    "\n",
    "w_tan = ( inv_Sigma @ mean ) / ( ones.T @ inv_Sigma @ mean )\n",
    "printmd('**Tangency portfolio weights:**', color='blue')\n",
    "display(pd.DataFrame(w_tan, data_ex.columns.values, columns=['w_tan']))\n",
    "printmd('\\nCheck that weights sum to one: {:.4f}'.format(sum(w_tan)), color='blue')"
   ]
  },
  {
   "cell_type": "markdown",
   "metadata": {},
   "source": [
    "## (b)\n",
    "**Compute the mean, volatility, and Sharpe ratio for the tangency portfolio corresponding to** $\\mathbf{w}^{tan}$."
   ]
  },
  {
   "cell_type": "markdown",
   "metadata": {},
   "source": [
    "$$ \\tilde{\\mu}^{tan} = \\mathbf{w}^T \\tilde{\\mu} $$\n",
    "\n",
    "$$ \\sigma_{tan} = \\sqrt{\\mathbf{w}^T \\Sigma \\mathbf{w}} $$\n",
    "\n",
    "$$ SR = \\frac{\\tilde{\\mu}^{tan}}{\\sigma_{tan}} $$"
   ]
  },
  {
   "cell_type": "code",
   "execution_count": 392,
   "metadata": {},
   "outputs": [
    {
     "data": {
      "text/markdown": [
       "<span style='color:blue'>**Tangency portfolio Mean = 0.0429**</span>"
      ],
      "text/plain": [
       "<IPython.core.display.Markdown object>"
      ]
     },
     "metadata": {},
     "output_type": "display_data"
    },
    {
     "data": {
      "text/markdown": [
       "<span style='color:blue'>**Tangency portfolio Volatility = 0.0373 = 3.73%**</span>"
      ],
      "text/plain": [
       "<IPython.core.display.Markdown object>"
      ]
     },
     "metadata": {},
     "output_type": "display_data"
    },
    {
     "data": {
      "text/markdown": [
       "<span style='color:blue'>**Tangency portfolio Sharpe Ratio = 1.149490**</span>"
      ],
      "text/plain": [
       "<IPython.core.display.Markdown object>"
      ]
     },
     "metadata": {},
     "output_type": "display_data"
    }
   ],
   "source": [
    "tan_portf_mean = (mean @ w_tan)\n",
    "tan_portf_std = np.sqrt(w_tan.T @ Sigma @ w_tan)\n",
    "tan_portf_SR = tan_portf_mean / tan_portf_std\n",
    "\n",
    "printmd('**Tangency portfolio Mean = {:.4f}**'.format(tan_portf_mean), color='blue')\n",
    "printmd('**Tangency portfolio Volatility = {:.4f} = {:.2f}%**'.format(tan_portf_std, tan_portf_std*100), color='blue')\n",
    "printmd('**Tangency portfolio Sharpe Ratio = {:.6f}**'.format(tan_portf_SR), color='blue')"
   ]
  },
  {
   "cell_type": "markdown",
   "metadata": {},
   "source": [
    "## 2.3. The Allocation"
   ]
  },
  {
   "cell_type": "markdown",
   "metadata": {},
   "source": [
    "## (a)\n",
    "\n",
    "**Compute and display the weights of MV portfolios with target returns of** $\\mu^p = 0.005$"
   ]
  },
  {
   "cell_type": "markdown",
   "metadata": {},
   "source": [
    "$$\\mathbf{w}^* = \\tilde{\\delta} \\mathbf{w}^{tan} $$\n",
    "\n",
    "where\n",
    "\n",
    "$$ \\mathbf{w}^{tan} = \\frac{ \\Sigma^{-1} \\tilde{\\mathbf{\\mu}}  }{  \\mathbf{1}^T\\Sigma^{-1} \\tilde{\\mu}  } $$\n",
    "\n",
    "$$ \\tilde{\\delta} = \\left( \\frac{ \\mathbf{1}^T \\Sigma^{-1} \\tilde{\\mu} }{ \\tilde{\\mu}^T \\Sigma^{-1} \\tilde{\\mu} } \\right) \\tilde{\\mu}^p$$"
   ]
  },
  {
   "cell_type": "code",
   "execution_count": 393,
   "metadata": {},
   "outputs": [
    {
     "name": "stdout",
     "output_type": "stream",
     "text": [
      "Allocation to risky asset classes = 1.3998 = 139.98%\n"
     ]
    },
    {
     "data": {
      "text/markdown": [
       "<span style='color:blue'>**Mean-Variance portfolio weights:**</span>"
      ],
      "text/plain": [
       "<IPython.core.display.Markdown object>"
      ]
     },
     "metadata": {},
     "output_type": "display_data"
    },
    {
     "data": {
      "text/html": [
       "<div>\n",
       "<style scoped>\n",
       "    .dataframe tbody tr th:only-of-type {\n",
       "        vertical-align: middle;\n",
       "    }\n",
       "\n",
       "    .dataframe tbody tr th {\n",
       "        vertical-align: top;\n",
       "    }\n",
       "\n",
       "    .dataframe thead th {\n",
       "        text-align: right;\n",
       "    }\n",
       "</style>\n",
       "<table border=\"1\" class=\"dataframe\">\n",
       "  <thead>\n",
       "    <tr style=\"text-align: right;\">\n",
       "      <th></th>\n",
       "      <th>MV weights</th>\n",
       "    </tr>\n",
       "  </thead>\n",
       "  <tbody>\n",
       "    <tr>\n",
       "      <th>Domestic Equity</th>\n",
       "      <td>-0.053945</td>\n",
       "    </tr>\n",
       "    <tr>\n",
       "      <th>Foreign Equity</th>\n",
       "      <td>-0.322598</td>\n",
       "    </tr>\n",
       "    <tr>\n",
       "      <th>Emerging Markets</th>\n",
       "      <td>0.268316</td>\n",
       "    </tr>\n",
       "    <tr>\n",
       "      <th>Private Equity</th>\n",
       "      <td>0.126290</td>\n",
       "    </tr>\n",
       "    <tr>\n",
       "      <th>Absolute Return</th>\n",
       "      <td>0.948271</td>\n",
       "    </tr>\n",
       "    <tr>\n",
       "      <th>High Yield</th>\n",
       "      <td>0.422711</td>\n",
       "    </tr>\n",
       "    <tr>\n",
       "      <th>Commodities</th>\n",
       "      <td>-0.090812</td>\n",
       "    </tr>\n",
       "    <tr>\n",
       "      <th>Real Estate</th>\n",
       "      <td>-0.168287</td>\n",
       "    </tr>\n",
       "    <tr>\n",
       "      <th>Domestic Bonds</th>\n",
       "      <td>0.981305</td>\n",
       "    </tr>\n",
       "    <tr>\n",
       "      <th>Foreign Bonds</th>\n",
       "      <td>-0.495233</td>\n",
       "    </tr>\n",
       "    <tr>\n",
       "      <th>Inflation-Indexed</th>\n",
       "      <td>-0.216226</td>\n",
       "    </tr>\n",
       "  </tbody>\n",
       "</table>\n",
       "</div>"
      ],
      "text/plain": [
       "                   MV weights\n",
       "Domestic Equity     -0.053945\n",
       "Foreign Equity      -0.322598\n",
       "Emerging Markets     0.268316\n",
       "Private Equity       0.126290\n",
       "Absolute Return      0.948271\n",
       "High Yield           0.422711\n",
       "Commodities         -0.090812\n",
       "Real Estate         -0.168287\n",
       "Domestic Bonds       0.981305\n",
       "Foreign Bonds       -0.495233\n",
       "Inflation-Indexed   -0.216226"
      ]
     },
     "metadata": {},
     "output_type": "display_data"
    },
    {
     "data": {
      "text/markdown": [
       "<span style='color:blue'>\n",
       "Check the sum of MV portfolio weights: 1.3998</span>"
      ],
      "text/plain": [
       "<IPython.core.display.Markdown object>"
      ]
     },
     "metadata": {},
     "output_type": "display_data"
    }
   ],
   "source": [
    "# Calculate allocation to risky asset classes\n",
    "target_ret = 0.005*12 # simple compounding --> annualized\n",
    "delta_tilde = target_ret * ((ones.T @ inv_Sigma @ mean) / (mean.T @ inv_Sigma @ mean))\n",
    "print('Allocation to risky asset classes = {:.4f} = {:.2f}%'.format(delta_tilde, delta_tilde*100))\n",
    "\n",
    "MV_weights = delta_tilde * w_tan\n",
    "printmd('**Mean-Variance portfolio weights:**', color='blue')\n",
    "display(pd.DataFrame(MV_weights, data_ex.columns.values, columns=['MV weights']))\n",
    "printmd('\\nCheck the sum of MV portfolio weights: {:.4f}'.format(sum(MV_weights)), color='blue')"
   ]
  },
  {
   "cell_type": "code",
   "execution_count": 397,
   "metadata": {},
   "outputs": [
    {
     "name": "stdout",
     "output_type": "stream",
     "text": [
      "['Emerging Markets' 'Private Equity' 'Absolute Return' 'High Yield'\n",
      " 'Domestic Bonds']\n",
      "[0.26831611 0.12629015 0.94827054 0.42271087 0.98130505]\n"
     ]
    }
   ],
   "source": [
    "pos = MV_weights >= 0\n",
    "neg = MV_weights < 0\n",
    "\n",
    "print(data_ex.columns.values[pos])\n",
    "print(MV_weights[pos])"
   ]
  },
  {
   "cell_type": "code",
   "execution_count": 401,
   "metadata": {},
   "outputs": [
    {
     "data": {
      "text/markdown": [
       "<span style='color:blue'>**Visualization of MV portfolio weights with target monthly return of 0.005:**</span>"
      ],
      "text/plain": [
       "<IPython.core.display.Markdown object>"
      ]
     },
     "metadata": {},
     "output_type": "display_data"
    },
    {
     "data": {
      "text/plain": [
       "<matplotlib.legend.Legend at 0x11f1f57b8>"
      ]
     },
     "execution_count": 401,
     "metadata": {},
     "output_type": "execute_result"
    },
    {
     "data": {
      "image/png": "[encoded data removed]",
      "text/plain": [
       "<Figure size 1656x576 with 2 Axes>"
      ]
     },
     "metadata": {
      "needs_background": "light"
     },
     "output_type": "display_data"
    }
   ],
   "source": [
    "printmd('**Visualization of MV portfolio weights with target monthly return of 0.005:**', color='blue')\n",
    "\n",
    "pos = MV_weights >= 0\n",
    "neg = MV_weights < 0\n",
    "\n",
    "fig, ax = plt.subplots(nrows=1, ncols=1, figsize=(23, 8))\n",
    "ax.bar(data_ex.columns.values[pos], MV_weights[pos], align='center', color='g', alpha=0.5, label='Weight of asset class to long')\n",
    "ax.bar(data_ex.columns.values[neg], MV_weights[neg], align='center', color='r', alpha=0.5, label='Weight of asset class to short')\n",
    "ax.set_title('Mean-Variance portfolio weights, 11 asset classes', fontsize=20)\n",
    "ax.legend(fontsize=14, loc='upper left')\n",
    "plt.xlabel('Asset classes', fontsize=16)\n",
    "plt.ylabel('Percentage points', fontsize=16)\n",
    "\n",
    "ax2 = ax.twinx()\n",
    "ax2.scatter(data_ex.columns.values[pos], SR[pos], label='Sharpe Ratio', c='b', marker='o')\n",
    "ax2.scatter(data_ex.columns.values[neg], SR[neg], c='b', marker='o')\n",
    "ax2.legend(loc='upper right', fontsize=14)"
   ]
  },
  {
   "cell_type": "markdown",
   "metadata": {},
   "source": [
    "## (b)\n",
    "\n",
    "**What is the mean, volatility, and Sharpe ratio for** $\\mathbf{w}^p $ ?"
   ]
  },
  {
   "cell_type": "code",
   "execution_count": 99,
   "metadata": {},
   "outputs": [
    {
     "data": {
      "text/markdown": [
       "<span style='color:blue'>**MV portfolio Mean = 0.0600**</span>"
      ],
      "text/plain": [
       "<IPython.core.display.Markdown object>"
      ]
     },
     "metadata": {},
     "output_type": "display_data"
    },
    {
     "data": {
      "text/markdown": [
       "<span style='color:blue'>**MV portfolio Volatility = 0.0522 = 5.22%**</span>"
      ],
      "text/plain": [
       "<IPython.core.display.Markdown object>"
      ]
     },
     "metadata": {},
     "output_type": "display_data"
    },
    {
     "data": {
      "text/markdown": [
       "<span style='color:blue'>**MV portfolio Sharpe Ratio = 1.149490**</span>"
      ],
      "text/plain": [
       "<IPython.core.display.Markdown object>"
      ]
     },
     "metadata": {},
     "output_type": "display_data"
    }
   ],
   "source": [
    "wp = MV_weights.copy()\n",
    "\n",
    "mean_wp = (mean @ wp)\n",
    "std_wp = np.sqrt(wp.T @ Sigma @ wp)\n",
    "SR_wp = mean_wp / std_wp\n",
    "\n",
    "printmd('**MV portfolio Mean = {:.4f}**'.format(mean_wp), color='blue')\n",
    "printmd('**MV portfolio Volatility = {:.4f} = {:.2f}%**'.format(std_wp, std_wp*100), color='blue')\n",
    "printmd('**MV portfolio Sharpe Ratio = {:.6f}**'.format(SR_wp), color='blue')"
   ]
  },
  {
   "cell_type": "markdown",
   "metadata": {},
   "source": [
    "## (c)\n",
    "\n",
    "**Discuss the allocation. In which assets is the portfolio most long? And short?**"
   ]
  },
  {
   "cell_type": "code",
   "execution_count": 178,
   "metadata": {},
   "outputs": [
    {
     "data": {
      "text/markdown": [
       "<span style='color:green'>**The portfolio is LONG in Emerging markets, Private Equity, Absolute Return, High Yield, Domestic Bonds.**</span>"
      ],
      "text/plain": [
       "<IPython.core.display.Markdown object>"
      ]
     },
     "metadata": {},
     "output_type": "display_data"
    },
    {
     "data": {
      "text/markdown": [
       "<span style='color:red'>**The portfolio is SHORT in Domestic Equity, Foreign Equity, Commodities, Real Estate, Foreign Bonds, Inflation-Indexed Bonds.**</span>"
      ],
      "text/plain": [
       "<IPython.core.display.Markdown object>"
      ]
     },
     "metadata": {},
     "output_type": "display_data"
    },
    {
     "data": {
      "text/html": [
       "<style  type=\"text/css\" >\n",
       "    #T_f18d1d22_e859_11e9_9b2a_a8667f16058frow0_col4 {\n",
       "            background-color:  red;\n",
       "        }    #T_f18d1d22_e859_11e9_9b2a_a8667f16058frow1_col4 {\n",
       "            background-color:  red;\n",
       "        }    #T_f18d1d22_e859_11e9_9b2a_a8667f16058frow2_col4 {\n",
       "            background-color:  green;\n",
       "        }    #T_f18d1d22_e859_11e9_9b2a_a8667f16058frow3_col4 {\n",
       "            background-color:  green;\n",
       "        }    #T_f18d1d22_e859_11e9_9b2a_a8667f16058frow4_col4 {\n",
       "            background-color:  green;\n",
       "        }    #T_f18d1d22_e859_11e9_9b2a_a8667f16058frow5_col4 {\n",
       "            background-color:  green;\n",
       "        }    #T_f18d1d22_e859_11e9_9b2a_a8667f16058frow6_col4 {\n",
       "            background-color:  red;\n",
       "        }    #T_f18d1d22_e859_11e9_9b2a_a8667f16058frow7_col4 {\n",
       "            background-color:  red;\n",
       "        }    #T_f18d1d22_e859_11e9_9b2a_a8667f16058frow8_col4 {\n",
       "            background-color:  green;\n",
       "        }    #T_f18d1d22_e859_11e9_9b2a_a8667f16058frow9_col4 {\n",
       "            background-color:  red;\n",
       "        }    #T_f18d1d22_e859_11e9_9b2a_a8667f16058frow10_col4 {\n",
       "            background-color:  red;\n",
       "        }</style>  \n",
       "<table id=\"T_f18d1d22_e859_11e9_9b2a_a8667f16058f\" > \n",
       "<thead>    <tr> \n",
       "        <th class=\"blank level0\" ></th> \n",
       "        <th class=\"col_heading level0 col0\" >Asset Class</th> \n",
       "        <th class=\"col_heading level0 col1\" >mean</th> \n",
       "        <th class=\"col_heading level0 col2\" >std</th> \n",
       "        <th class=\"col_heading level0 col3\" >SR</th> \n",
       "        <th class=\"col_heading level0 col4\" >wp</th> \n",
       "    </tr></thead> \n",
       "<tbody>    <tr> \n",
       "        <th id=\"T_f18d1d22_e859_11e9_9b2a_a8667f16058flevel0_row0\" class=\"row_heading level0 row0\" >0</th> \n",
       "        <td id=\"T_f18d1d22_e859_11e9_9b2a_a8667f16058frow0_col0\" class=\"data row0 col0\" >Domestic Equity</td> \n",
       "        <td id=\"T_f18d1d22_e859_11e9_9b2a_a8667f16058frow0_col1\" class=\"data row0 col1\" >0.055121</td> \n",
       "        <td id=\"T_f18d1d22_e859_11e9_9b2a_a8667f16058frow0_col2\" class=\"data row0 col2\" >0.145691</td> \n",
       "        <td id=\"T_f18d1d22_e859_11e9_9b2a_a8667f16058frow0_col3\" class=\"data row0 col3\" >0.378341</td> \n",
       "        <td id=\"T_f18d1d22_e859_11e9_9b2a_a8667f16058frow0_col4\" class=\"data row0 col4\" >-0.0539449</td> \n",
       "    </tr>    <tr> \n",
       "        <th id=\"T_f18d1d22_e859_11e9_9b2a_a8667f16058flevel0_row1\" class=\"row_heading level0 row1\" >1</th> \n",
       "        <td id=\"T_f18d1d22_e859_11e9_9b2a_a8667f16058frow1_col0\" class=\"data row1 col0\" >Foreign Equity</td> \n",
       "        <td id=\"T_f18d1d22_e859_11e9_9b2a_a8667f16058frow1_col1\" class=\"data row1 col1\" >0.0539376</td> \n",
       "        <td id=\"T_f18d1d22_e859_11e9_9b2a_a8667f16058frow1_col2\" class=\"data row1 col2\" >0.167595</td> \n",
       "        <td id=\"T_f18d1d22_e859_11e9_9b2a_a8667f16058frow1_col3\" class=\"data row1 col3\" >0.321833</td> \n",
       "        <td id=\"T_f18d1d22_e859_11e9_9b2a_a8667f16058frow1_col4\" class=\"data row1 col4\" >-0.322598</td> \n",
       "    </tr>    <tr> \n",
       "        <th id=\"T_f18d1d22_e859_11e9_9b2a_a8667f16058flevel0_row2\" class=\"row_heading level0 row2\" >2</th> \n",
       "        <td id=\"T_f18d1d22_e859_11e9_9b2a_a8667f16058frow2_col0\" class=\"data row2 col0\" >Emerging Markets</td> \n",
       "        <td id=\"T_f18d1d22_e859_11e9_9b2a_a8667f16058frow2_col1\" class=\"data row2 col1\" >0.110653</td> \n",
       "        <td id=\"T_f18d1d22_e859_11e9_9b2a_a8667f16058frow2_col2\" class=\"data row2 col2\" >0.218556</td> \n",
       "        <td id=\"T_f18d1d22_e859_11e9_9b2a_a8667f16058frow2_col3\" class=\"data row2 col3\" >0.50629</td> \n",
       "        <td id=\"T_f18d1d22_e859_11e9_9b2a_a8667f16058frow2_col4\" class=\"data row2 col4\" >0.268316</td> \n",
       "    </tr>    <tr> \n",
       "        <th id=\"T_f18d1d22_e859_11e9_9b2a_a8667f16058flevel0_row3\" class=\"row_heading level0 row3\" >3</th> \n",
       "        <td id=\"T_f18d1d22_e859_11e9_9b2a_a8667f16058frow3_col0\" class=\"data row3 col0\" >Private Equity</td> \n",
       "        <td id=\"T_f18d1d22_e859_11e9_9b2a_a8667f16058frow3_col1\" class=\"data row3 col1\" >0.026308</td> \n",
       "        <td id=\"T_f18d1d22_e859_11e9_9b2a_a8667f16058frow3_col2\" class=\"data row3 col2\" >0.251229</td> \n",
       "        <td id=\"T_f18d1d22_e859_11e9_9b2a_a8667f16058frow3_col3\" class=\"data row3 col3\" >0.104717</td> \n",
       "        <td id=\"T_f18d1d22_e859_11e9_9b2a_a8667f16058frow3_col4\" class=\"data row3 col4\" >0.12629</td> \n",
       "    </tr>    <tr> \n",
       "        <th id=\"T_f18d1d22_e859_11e9_9b2a_a8667f16058flevel0_row4\" class=\"row_heading level0 row4\" >4</th> \n",
       "        <td id=\"T_f18d1d22_e859_11e9_9b2a_a8667f16058frow4_col0\" class=\"data row4 col0\" >Absolute Return</td> \n",
       "        <td id=\"T_f18d1d22_e859_11e9_9b2a_a8667f16058frow4_col1\" class=\"data row4 col1\" >0.0232276</td> \n",
       "        <td id=\"T_f18d1d22_e859_11e9_9b2a_a8667f16058frow4_col2\" class=\"data row4 col2\" >0.0442316</td> \n",
       "        <td id=\"T_f18d1d22_e859_11e9_9b2a_a8667f16058frow4_col3\" class=\"data row4 col3\" >0.525135</td> \n",
       "        <td id=\"T_f18d1d22_e859_11e9_9b2a_a8667f16058frow4_col4\" class=\"data row4 col4\" >0.948271</td> \n",
       "    </tr>    <tr> \n",
       "        <th id=\"T_f18d1d22_e859_11e9_9b2a_a8667f16058flevel0_row5\" class=\"row_heading level0 row5\" >5</th> \n",
       "        <td id=\"T_f18d1d22_e859_11e9_9b2a_a8667f16058frow5_col0\" class=\"data row5 col0\" >High Yield</td> \n",
       "        <td id=\"T_f18d1d22_e859_11e9_9b2a_a8667f16058frow5_col1\" class=\"data row5 col1\" >0.0494174</td> \n",
       "        <td id=\"T_f18d1d22_e859_11e9_9b2a_a8667f16058frow5_col2\" class=\"data row5 col2\" >0.111721</td> \n",
       "        <td id=\"T_f18d1d22_e859_11e9_9b2a_a8667f16058frow5_col3\" class=\"data row5 col3\" >0.44233</td> \n",
       "        <td id=\"T_f18d1d22_e859_11e9_9b2a_a8667f16058frow5_col4\" class=\"data row5 col4\" >0.422711</td> \n",
       "    </tr>    <tr> \n",
       "        <th id=\"T_f18d1d22_e859_11e9_9b2a_a8667f16058flevel0_row6\" class=\"row_heading level0 row6\" >6</th> \n",
       "        <td id=\"T_f18d1d22_e859_11e9_9b2a_a8667f16058frow6_col0\" class=\"data row6 col0\" >Commodities</td> \n",
       "        <td id=\"T_f18d1d22_e859_11e9_9b2a_a8667f16058frow6_col1\" class=\"data row6 col1\" >0.00801034</td> \n",
       "        <td id=\"T_f18d1d22_e859_11e9_9b2a_a8667f16058frow6_col2\" class=\"data row6 col2\" >0.223107</td> \n",
       "        <td id=\"T_f18d1d22_e859_11e9_9b2a_a8667f16058frow6_col3\" class=\"data row6 col3\" >0.0359036</td> \n",
       "        <td id=\"T_f18d1d22_e859_11e9_9b2a_a8667f16058frow6_col4\" class=\"data row6 col4\" >-0.0908117</td> \n",
       "    </tr>    <tr> \n",
       "        <th id=\"T_f18d1d22_e859_11e9_9b2a_a8667f16058flevel0_row7\" class=\"row_heading level0 row7\" >7</th> \n",
       "        <td id=\"T_f18d1d22_e859_11e9_9b2a_a8667f16058frow7_col0\" class=\"data row7 col0\" >Real Estate</td> \n",
       "        <td id=\"T_f18d1d22_e859_11e9_9b2a_a8667f16058frow7_col1\" class=\"data row7 col1\" >0.106161</td> \n",
       "        <td id=\"T_f18d1d22_e859_11e9_9b2a_a8667f16058frow7_col2\" class=\"data row7 col2\" >0.200801</td> \n",
       "        <td id=\"T_f18d1d22_e859_11e9_9b2a_a8667f16058frow7_col3\" class=\"data row7 col3\" >0.528689</td> \n",
       "        <td id=\"T_f18d1d22_e859_11e9_9b2a_a8667f16058frow7_col4\" class=\"data row7 col4\" >-0.168287</td> \n",
       "    </tr>    <tr> \n",
       "        <th id=\"T_f18d1d22_e859_11e9_9b2a_a8667f16058flevel0_row8\" class=\"row_heading level0 row8\" >8</th> \n",
       "        <td id=\"T_f18d1d22_e859_11e9_9b2a_a8667f16058frow8_col0\" class=\"data row8 col0\" >Domestic Bonds</td> \n",
       "        <td id=\"T_f18d1d22_e859_11e9_9b2a_a8667f16058frow8_col1\" class=\"data row8 col1\" >0.0393722</td> \n",
       "        <td id=\"T_f18d1d22_e859_11e9_9b2a_a8667f16058frow8_col2\" class=\"data row8 col2\" >0.0631317</td> \n",
       "        <td id=\"T_f18d1d22_e859_11e9_9b2a_a8667f16058frow8_col3\" class=\"data row8 col3\" >0.623652</td> \n",
       "        <td id=\"T_f18d1d22_e859_11e9_9b2a_a8667f16058frow8_col4\" class=\"data row8 col4\" >0.981305</td> \n",
       "    </tr>    <tr> \n",
       "        <th id=\"T_f18d1d22_e859_11e9_9b2a_a8667f16058flevel0_row9\" class=\"row_heading level0 row9\" >9</th> \n",
       "        <td id=\"T_f18d1d22_e859_11e9_9b2a_a8667f16058frow9_col0\" class=\"data row9 col0\" >Foreign Bonds</td> \n",
       "        <td id=\"T_f18d1d22_e859_11e9_9b2a_a8667f16058frow9_col1\" class=\"data row9 col1\" >0.0183234</td> \n",
       "        <td id=\"T_f18d1d22_e859_11e9_9b2a_a8667f16058frow9_col2\" class=\"data row9 col2\" >0.0840428</td> \n",
       "        <td id=\"T_f18d1d22_e859_11e9_9b2a_a8667f16058frow9_col3\" class=\"data row9 col3\" >0.218025</td> \n",
       "        <td id=\"T_f18d1d22_e859_11e9_9b2a_a8667f16058frow9_col4\" class=\"data row9 col4\" >-0.495233</td> \n",
       "    </tr>    <tr> \n",
       "        <th id=\"T_f18d1d22_e859_11e9_9b2a_a8667f16058flevel0_row10\" class=\"row_heading level0 row10\" >10</th> \n",
       "        <td id=\"T_f18d1d22_e859_11e9_9b2a_a8667f16058frow10_col0\" class=\"data row10 col0\" >Inflation-Indexed</td> \n",
       "        <td id=\"T_f18d1d22_e859_11e9_9b2a_a8667f16058frow10_col1\" class=\"data row10 col1\" >0.0301668</td> \n",
       "        <td id=\"T_f18d1d22_e859_11e9_9b2a_a8667f16058frow10_col2\" class=\"data row10 col2\" >0.0564824</td> \n",
       "        <td id=\"T_f18d1d22_e859_11e9_9b2a_a8667f16058frow10_col3\" class=\"data row10 col3\" >0.534092</td> \n",
       "        <td id=\"T_f18d1d22_e859_11e9_9b2a_a8667f16058frow10_col4\" class=\"data row10 col4\" >-0.216226</td> \n",
       "    </tr></tbody> \n",
       "</table> "
      ],
      "text/plain": [
       "<pandas.io.formats.style.Styler at 0x11dcd0550>"
      ]
     },
     "execution_count": 178,
     "metadata": {},
     "output_type": "execute_result"
    }
   ],
   "source": [
    "df = pd.DataFrame(np.concatenate([np.array(data_ex.columns.values).reshape(mean.shape[0],-1),\n",
    "                                  np.array(mean).reshape(mean.shape[0],-1), \n",
    "                             np.array(std).reshape(std.shape[0], -1), \n",
    "                            np.array(SR).reshape(SR.shape[0],-1),\n",
    "                            np.array(wp).reshape(wp.shape[0],-1)],\n",
    "                            axis=1),\n",
    "            columns=['Asset Class','mean', 'std', 'SR', 'wp'])\n",
    "\n",
    "def color(val):\n",
    "    if val < 0:\n",
    "        color = 'red'\n",
    "    elif val > 0:\n",
    "        color = 'green'\n",
    "    return 'background-color: %s' % color\n",
    "\n",
    "printmd('**The portfolio is LONG in Emerging markets, Private Equity, Absolute Return, High Yield, Domestic Bonds.**', color='green')\n",
    "printmd('**The portfolio is SHORT in Domestic Equity, Foreign Equity, Commodities, Real Estate, Foreign Bonds, Inflation-Indexed Bonds.**', color='red')\n",
    "\n",
    "df.style.applymap(color, subset=['wp'])"
   ]
  },
  {
   "cell_type": "markdown",
   "metadata": {},
   "source": [
    "# (d)\n",
    "\n",
    "**Does this line up with which assets have the strongest Sharpe ratios?**"
   ]
  },
  {
   "cell_type": "code",
   "execution_count": 227,
   "metadata": {},
   "outputs": [
    {
     "data": {
      "text/markdown": [
       "<span style='color:blue'>Average Sharpe Ratio = 0.3835</span>"
      ],
      "text/plain": [
       "<IPython.core.display.Markdown object>"
      ]
     },
     "metadata": {},
     "output_type": "display_data"
    },
    {
     "data": {
      "text/markdown": [
       "<span style='color:blue'>**Table of Asset Classes with higher than average Sharpe Ratio**</span>"
      ],
      "text/plain": [
       "<IPython.core.display.Markdown object>"
      ]
     },
     "metadata": {},
     "output_type": "display_data"
    },
    {
     "data": {
      "text/html": [
       "<div>\n",
       "<style scoped>\n",
       "    .dataframe tbody tr th:only-of-type {\n",
       "        vertical-align: middle;\n",
       "    }\n",
       "\n",
       "    .dataframe tbody tr th {\n",
       "        vertical-align: top;\n",
       "    }\n",
       "\n",
       "    .dataframe thead th {\n",
       "        text-align: right;\n",
       "    }\n",
       "</style>\n",
       "<table border=\"1\" class=\"dataframe\">\n",
       "  <thead>\n",
       "    <tr style=\"text-align: right;\">\n",
       "      <th></th>\n",
       "      <th>Asset Class</th>\n",
       "      <th>SR</th>\n",
       "      <th>wp</th>\n",
       "    </tr>\n",
       "  </thead>\n",
       "  <tbody>\n",
       "    <tr>\n",
       "      <th>0</th>\n",
       "      <td>Emerging Markets</td>\n",
       "      <td>0.5062899750999017</td>\n",
       "      <td>0.2683161075099527</td>\n",
       "    </tr>\n",
       "    <tr>\n",
       "      <th>1</th>\n",
       "      <td>Absolute Return</td>\n",
       "      <td>0.5251350653621121</td>\n",
       "      <td>0.9482705427994356</td>\n",
       "    </tr>\n",
       "    <tr>\n",
       "      <th>2</th>\n",
       "      <td>High Yield</td>\n",
       "      <td>0.442330481662613</td>\n",
       "      <td>0.4227108701408934</td>\n",
       "    </tr>\n",
       "    <tr>\n",
       "      <th>3</th>\n",
       "      <td>Real Estate</td>\n",
       "      <td>0.5286889417571031</td>\n",
       "      <td>-0.1682871024094634</td>\n",
       "    </tr>\n",
       "    <tr>\n",
       "      <th>4</th>\n",
       "      <td>Domestic Bonds</td>\n",
       "      <td>0.6236523761555774</td>\n",
       "      <td>0.9813050487179316</td>\n",
       "    </tr>\n",
       "    <tr>\n",
       "      <th>5</th>\n",
       "      <td>Inflation-Indexed</td>\n",
       "      <td>0.5340923105469106</td>\n",
       "      <td>-0.21622562570508125</td>\n",
       "    </tr>\n",
       "  </tbody>\n",
       "</table>\n",
       "</div>"
      ],
      "text/plain": [
       "         Asset Class                  SR                    wp\n",
       "0   Emerging Markets  0.5062899750999017    0.2683161075099527\n",
       "1    Absolute Return  0.5251350653621121    0.9482705427994356\n",
       "2         High Yield   0.442330481662613    0.4227108701408934\n",
       "3        Real Estate  0.5286889417571031   -0.1682871024094634\n",
       "4     Domestic Bonds  0.6236523761555774    0.9813050487179316\n",
       "5  Inflation-Indexed  0.5340923105469106  -0.21622562570508125"
      ]
     },
     "metadata": {},
     "output_type": "display_data"
    },
    {
     "data": {
      "text/markdown": [
       "<span style='color:blue'>**No, weights of MV portfolio are not perfectly lined up with Sharpe Ratios!**</span>"
      ],
      "text/plain": [
       "<IPython.core.display.Markdown object>"
      ]
     },
     "metadata": {},
     "output_type": "display_data"
    },
    {
     "data": {
      "text/markdown": [
       "<span style='color:blue'>As we can see from the table above, not all Asset Classes with higher than average Sharpe Ratio are long. Asset Classes with the 2nd and the 3rd highest Sharpe Ratios, i.e., TIPS and Real Estate, are shorted. All other Asset Classes that are long, except of Private Equity, have higher than average Sharpe Ratios, thus, long position on them in portfolio can be explaned by a good trade-off between return and risk. It is reasonable to assume that asset classes with low Sharpe Ratios are long in the portfolio due to diversification reasons.</span>"
      ],
      "text/plain": [
       "<IPython.core.display.Markdown object>"
      ]
     },
     "metadata": {},
     "output_type": "display_data"
    }
   ],
   "source": [
    "df = pd.DataFrame(np.concatenate([np.array(data_ex.columns.values).reshape(mean.shape[0],-1),\n",
    "                            np.array(SR).reshape(SR.shape[0],-1),\n",
    "                            np.array(wp).reshape(wp.shape[0],-1)],\n",
    "                            axis=1),\n",
    "            columns=['Asset Class','SR', 'wp'])\n",
    "\n",
    "SR_df_mean = df['SR'].mean()\n",
    "High_SR = []\n",
    "High_SR_idx = []\n",
    "High_SR_wp = []\n",
    "for i in range(df.shape[0]):\n",
    "    if df['SR'][i] >= SR_df_mean:\n",
    "        High_SR.append(df['SR'][i])\n",
    "        High_SR_idx.append(df['Asset Class'][i])\n",
    "        High_SR_wp.append(df['wp'][i])\n",
    "        \n",
    "df_High_SR = pd.DataFrame(np.concatenate([np.array(High_SR_idx).reshape(np.array(High_SR_idx).shape[0],-1),\n",
    "                            np.array(High_SR).reshape(np.array(High_SR).shape[0],-1),\n",
    "                            np.array(High_SR_wp).reshape(np.array(High_SR_wp).shape[0],-1)],\n",
    "                            axis=1),\n",
    "            columns=['Asset Class','SR', 'wp'])\n",
    "printmd('Average Sharpe Ratio = {:.4f}'.format(SR_df_mean), color='blue')\n",
    "printmd('**Table of Asset Classes with higher than average Sharpe Ratio**', color='blue')\n",
    "display(df_High_SR)\n",
    "printmd('**No, weights of MV portfolio are not perfectly lined up with Sharpe Ratios!**', color='blue') \n",
    "printmd('As we can see from the table above, not all Asset Classes with higher than average Sharpe Ratio are long. Asset Classes with the 2nd and the 3rd highest Sharpe Ratios, i.e., TIPS and Real Estate, are shorted. All other Asset Classes that are long, except of Private Equity, have higher than average Sharpe Ratios, thus, long position on them in portfolio can be explaned by a good trade-off between return and risk. It is reasonable to assume that asset classes with low Sharpe Ratios are long in the portfolio due to diversification reasons.', color='blue')"
   ]
  },
  {
   "cell_type": "markdown",
   "metadata": {},
   "source": [
    "# 2.4. The allocation w/o inflation-indexed bonds."
   ]
  },
  {
   "cell_type": "markdown",
   "metadata": {},
   "source": [
    "## (a)\n",
    "\n",
    "**Drop the in\n",
    "ation-indexed bonds from your return array, and recompute** $\\mathbf{w}^p$ **as an** $10 \\times 1$ **vector allocating to the remaining assets.** "
   ]
  },
  {
   "cell_type": "code",
   "execution_count": 228,
   "metadata": {},
   "outputs": [],
   "source": [
    "# Drop inflation-index bonds\n",
    "data_ex_10 = data_ex.copy()\n",
    "data_ex_10.drop(['Inflation-Indexed'], axis=1, inplace=True)\n",
    "# print(data_ex_10.shape)\n",
    "# data_ex_10.head(2)\n",
    "\n",
    "# Calculate tangency portfolio for 10 risky asset classes\n",
    "mean_10 = data_ex_10.mean()*12\n",
    "std_10 = data_ex_10.std()*np.sqrt(12)\n",
    "Sigma_10 = data_ex_10.cov()*12\n",
    "inv_Sigma_10 = inv(Sigma_10)\n",
    "ones_10 = np.ones(Sigma_10.shape[1])\n",
    "\n",
    "w_tan_10 = ( inv_Sigma_10 @ mean_10 ) / ( ones_10.T @ inv_Sigma_10 @ mean_10 )\n",
    "# print('Tangency 10-asset-classes-portfolio weights: \\n {} \\n'.format(w_tan_10))\n",
    "\n",
    "# print('Check that weights sum to one: {:.4f}'.format(sum(w_tan_10)))"
   ]
  },
  {
   "cell_type": "code",
   "execution_count": 233,
   "metadata": {},
   "outputs": [
    {
     "name": "stdout",
     "output_type": "stream",
     "text": [
      "Allocation to risky assets = 1.4969 = 149.69%\n"
     ]
    },
    {
     "data": {
      "text/markdown": [
       "<span style='color:blue'>**Mean-Variance portfolio weights for 10 assets:**</span>"
      ],
      "text/plain": [
       "<IPython.core.display.Markdown object>"
      ]
     },
     "metadata": {},
     "output_type": "display_data"
    },
    {
     "data": {
      "text/html": [
       "<div>\n",
       "<style scoped>\n",
       "    .dataframe tbody tr th:only-of-type {\n",
       "        vertical-align: middle;\n",
       "    }\n",
       "\n",
       "    .dataframe tbody tr th {\n",
       "        vertical-align: top;\n",
       "    }\n",
       "\n",
       "    .dataframe thead th {\n",
       "        text-align: right;\n",
       "    }\n",
       "</style>\n",
       "<table border=\"1\" class=\"dataframe\">\n",
       "  <thead>\n",
       "    <tr style=\"text-align: right;\">\n",
       "      <th></th>\n",
       "      <th>MV weights</th>\n",
       "    </tr>\n",
       "  </thead>\n",
       "  <tbody>\n",
       "    <tr>\n",
       "      <th>Domestic Equity</th>\n",
       "      <td>-0.076868</td>\n",
       "    </tr>\n",
       "    <tr>\n",
       "      <th>Foreign Equity</th>\n",
       "      <td>-0.322005</td>\n",
       "    </tr>\n",
       "    <tr>\n",
       "      <th>Emerging Markets</th>\n",
       "      <td>0.265913</td>\n",
       "    </tr>\n",
       "    <tr>\n",
       "      <th>Private Equity</th>\n",
       "      <td>0.141559</td>\n",
       "    </tr>\n",
       "    <tr>\n",
       "      <th>Absolute Return</th>\n",
       "      <td>1.014357</td>\n",
       "    </tr>\n",
       "    <tr>\n",
       "      <th>High Yield</th>\n",
       "      <td>0.421139</td>\n",
       "    </tr>\n",
       "    <tr>\n",
       "      <th>Commodities</th>\n",
       "      <td>-0.106711</td>\n",
       "    </tr>\n",
       "    <tr>\n",
       "      <th>Real Estate</th>\n",
       "      <td>-0.187869</td>\n",
       "    </tr>\n",
       "    <tr>\n",
       "      <th>Domestic Bonds</th>\n",
       "      <td>0.879786</td>\n",
       "    </tr>\n",
       "    <tr>\n",
       "      <th>Foreign Bonds</th>\n",
       "      <td>-0.532407</td>\n",
       "    </tr>\n",
       "  </tbody>\n",
       "</table>\n",
       "</div>"
      ],
      "text/plain": [
       "                  MV weights\n",
       "Domestic Equity    -0.076868\n",
       "Foreign Equity     -0.322005\n",
       "Emerging Markets    0.265913\n",
       "Private Equity      0.141559\n",
       "Absolute Return     1.014357\n",
       "High Yield          0.421139\n",
       "Commodities        -0.106711\n",
       "Real Estate        -0.187869\n",
       "Domestic Bonds      0.879786\n",
       "Foreign Bonds      -0.532407"
      ]
     },
     "metadata": {},
     "output_type": "display_data"
    },
    {
     "data": {
      "text/markdown": [
       "<span style='color:blue'>\n",
       "Check the sum of MV portfolio weights: 1.4969</span>"
      ],
      "text/plain": [
       "<IPython.core.display.Markdown object>"
      ]
     },
     "metadata": {},
     "output_type": "display_data"
    }
   ],
   "source": [
    "# Calculate portfolio allocation to risky asset classes\n",
    "target_ret = 0.005*12\n",
    "delta_tilde_10 = target_ret * ((ones_10 @ inv_Sigma_10 @ mean_10) / (mean_10.T @ inv_Sigma_10 @ mean_10))\n",
    "print('Allocation to risky assets = {:.4f} = {:.2f}%'.format(delta_tilde_10, delta_tilde_10*100))\n",
    "\n",
    "# Calculate MV 10-asset-classes-portfolio weights\n",
    "MV_weights_10 = delta_tilde_10 * w_tan_10\n",
    "\n",
    "printmd('**Mean-Variance portfolio weights for 10 assets:**', color='blue')\n",
    "display(pd.DataFrame(MV_weights_10, data_ex_10.columns.values, columns=['MV weights']))\n",
    "printmd('\\nCheck the sum of MV portfolio weights: {:.4f}'.format(sum(MV_weights_10)), color='blue')"
   ]
  },
  {
   "cell_type": "markdown",
   "metadata": {},
   "source": [
    "## (b)\n",
    "\n",
    "**How does the portfolio compare to the allocation above where inflation-indexed bonds were available?**"
   ]
  },
  {
   "cell_type": "code",
   "execution_count": 236,
   "metadata": {},
   "outputs": [
    {
     "data": {
      "text/markdown": [
       "<span style='color:blue'>**Comparison of MV portfolios for 10 and 11 asset classes:**</span>"
      ],
      "text/plain": [
       "<IPython.core.display.Markdown object>"
      ]
     },
     "metadata": {},
     "output_type": "display_data"
    },
    {
     "data": {
      "text/plain": [
       "Text(0, 0.5, 'Percentage ponts')"
      ]
     },
     "execution_count": 236,
     "metadata": {},
     "output_type": "execute_result"
    },
    {
     "data": {
      "image/png": "[encoded data removed]",
      "text/plain": [
       "<Figure size 1440x432 with 1 Axes>"
      ]
     },
     "metadata": {
      "needs_background": "light"
     },
     "output_type": "display_data"
    }
   ],
   "source": [
    "printmd('**Comparison of MV portfolios for 10 and 11 asset classes:**', color='blue')\n",
    "\n",
    "pos_10 = MV_weights_10 >= 0\n",
    "neg_10 = MV_weights_10 < 0\n",
    "\n",
    "fig, ax = plt.subplots(nrows=1, ncols=1, figsize=(20, 6))\n",
    "ax.bar(data_ex_10.columns.values[pos_10], MV_weights_10[pos_10], align='center', width=0.5, color='g', alpha=0.9, label='Weight to long, 10 asset classes')\n",
    "ax.bar(data_ex_10.columns.values[neg_10], MV_weights_10[neg_10], align='center', width=0.5, color='r', alpha=0.9, label='Weight to short, 10 asset classes')\n",
    "ax.bar(data_ex.columns.values[pos], MV_weights[pos], align='edge', width=0.5, color='g', alpha=0.3, label='Weight to long, 11 asset classes')\n",
    "ax.bar(data_ex.columns.values[neg], MV_weights[neg], align='edge', width=0.5, color='r', alpha=0.3, label='Weight to short, 11 asset classes')\n",
    "ax.set_title('Mean-Variance portfolio weights, 10 and 11 asset classes', fontsize=20)\n",
    "ax.legend()\n",
    "plt.xlabel('Asset class', fontsize=16)\n",
    "plt.ylabel('Percentage ponts', fontsize=16)"
   ]
  },
  {
   "cell_type": "code",
   "execution_count": 241,
   "metadata": {},
   "outputs": [
    {
     "data": {
      "text/markdown": [
       "<span style='color:blue'>**As can be seen from the graph above, portfolio for 10 assets (w/o TIPS) s similar to MV portfolio with them. The minor differences that are observable are the following:**</span>"
      ],
      "text/plain": [
       "<IPython.core.display.Markdown object>"
      ]
     },
     "metadata": {},
     "output_type": "display_data"
    },
    {
     "data": {
      "text/markdown": [
       "<span style='color:blue'>1) Long positions of the portfolio are now financed through a lttle bit higher short position in Domestic Equity, Commodities, Real Estate and Foreign Bonds;</span>"
      ],
      "text/plain": [
       "<IPython.core.display.Markdown object>"
      ]
     },
     "metadata": {},
     "output_type": "display_data"
    },
    {
     "data": {
      "text/markdown": [
       "<span style='color:blue'>2) Long position of the portfolio in Absolute Return asset class has increased, while long position n Domestic Bonds has decreased.</span>"
      ],
      "text/plain": [
       "<IPython.core.display.Markdown object>"
      ]
     },
     "metadata": {},
     "output_type": "display_data"
    },
    {
     "data": {
      "text/markdown": [
       "<span style='color:blue'>**All in all, it is reasonable to conclude that exclusion of TIPS from the portfolio has mostly lead to redistribution of short positions, i.e., sources of funding.**</span>"
      ],
      "text/plain": [
       "<IPython.core.display.Markdown object>"
      ]
     },
     "metadata": {},
     "output_type": "display_data"
    }
   ],
   "source": [
    "printmd('**As can be seen from the graph above, portfolio for 10 assets (w/o TIPS) s similar to MV portfolio with them. The minor differences that are observable are the following:**', color='blue')\n",
    "printmd('1) Long positions of the portfolio are now financed through a lttle bit higher short position in Domestic Equity, Commodities, Real Estate and Foreign Bonds;', color='blue')\n",
    "printmd('2) Long position of the portfolio in Absolute Return asset class has increased, while long position n Domestic Bonds has decreased.', color='blue')\n",
    "printmd('**All in all, it is reasonable to conclude that exclusion of TIPS from the portfolio has mostly lead to redistribution of short positions, i.e., sources of funding.**', color='blue')"
   ]
  },
  {
   "cell_type": "markdown",
   "metadata": {},
   "source": [
    "## (c)\n",
    "\n",
    "**Calculate the Sharpe ratio. How much did it change?**"
   ]
  },
  {
   "cell_type": "code",
   "execution_count": 252,
   "metadata": {},
   "outputs": [
    {
     "data": {
      "text/markdown": [
       "<span style='color:blue'>MV 10-asset-classes-portfolio Mean = 0.0600</span>"
      ],
      "text/plain": [
       "<IPython.core.display.Markdown object>"
      ]
     },
     "metadata": {},
     "output_type": "display_data"
    },
    {
     "data": {
      "text/markdown": [
       "<span style='color:blue'>MV 11-asset-classes-portfolio Mean = 0.0600\n",
       "</span>"
      ],
      "text/plain": [
       "<IPython.core.display.Markdown object>"
      ]
     },
     "metadata": {},
     "output_type": "display_data"
    },
    {
     "name": "stdout",
     "output_type": "stream",
     "text": [
      "\n"
     ]
    },
    {
     "data": {
      "text/markdown": [
       "<span style='color:blue'>MV 10-asset-classes-portfolio Volatility = 0.0527</span>"
      ],
      "text/plain": [
       "<IPython.core.display.Markdown object>"
      ]
     },
     "metadata": {},
     "output_type": "display_data"
    },
    {
     "data": {
      "text/markdown": [
       "<span style='color:blue'>MV 11-asset-classes-portfolio Volatility = 0.0522\n",
       "</span>"
      ],
      "text/plain": [
       "<IPython.core.display.Markdown object>"
      ]
     },
     "metadata": {},
     "output_type": "display_data"
    },
    {
     "name": "stdout",
     "output_type": "stream",
     "text": [
      "\n"
     ]
    },
    {
     "data": {
      "text/markdown": [
       "<span style='color:blue'>**MV 10-asset-classes-portfolio Sharpe Ratio = 1.1382**</span>"
      ],
      "text/plain": [
       "<IPython.core.display.Markdown object>"
      ]
     },
     "metadata": {},
     "output_type": "display_data"
    },
    {
     "data": {
      "text/markdown": [
       "<span style='color:blue'>**MV 11-asset-classes-portfolio Sharpe Ratio = 1.1495**</span>"
      ],
      "text/plain": [
       "<IPython.core.display.Markdown object>"
      ]
     },
     "metadata": {},
     "output_type": "display_data"
    },
    {
     "name": "stdout",
     "output_type": "stream",
     "text": [
      "\n"
     ]
    },
    {
     "data": {
      "text/markdown": [
       "<span style='color:blue'>**Sharpe Ratio of 10-asset-classes portfolio is LOWER than Sharpe Ratio of 11-asset-classes portfolio by 0.0113.**</span>"
      ],
      "text/plain": [
       "<IPython.core.display.Markdown object>"
      ]
     },
     "metadata": {},
     "output_type": "display_data"
    },
    {
     "data": {
      "text/markdown": [
       "<span style='color:blue'>**Thus, Sharpe Ratio has insignificantly DECREASED!**</span>"
      ],
      "text/plain": [
       "<IPython.core.display.Markdown object>"
      ]
     },
     "metadata": {},
     "output_type": "display_data"
    }
   ],
   "source": [
    "wp_10 = MV_weights_10\n",
    "\n",
    "mean_wp_10 = mean_10 @ wp_10\n",
    "std_wp_10 = np.sqrt(wp_10.T @ Sigma_10 @ wp_10)\n",
    "SR_wp_10 = mean_wp_10 / std_wp_10\n",
    "\n",
    "printmd('MV 10-asset-classes-portfolio Mean = {:.4f}'.format(mean_wp_10), color='blue')\n",
    "printmd('MV 11-asset-classes-portfolio Mean = {:.4f}\\n'.format(mean_wp), color='blue')\n",
    "print()\n",
    "printmd('MV 10-asset-classes-portfolio Volatility = {:.4f}'.format(std_wp_10), color='blue')\n",
    "printmd('MV 11-asset-classes-portfolio Volatility = {:.4f}\\n'.format(std_wp), color='blue')\n",
    "print()\n",
    "printmd('**MV 10-asset-classes-portfolio Sharpe Ratio = {:.4f}**'.format(SR_wp_10), color='blue')\n",
    "printmd('**MV 11-asset-classes-portfolio Sharpe Ratio = {:.4f}**'.format(SR_wp), color='blue')\n",
    "print()\n",
    "printmd('**Sharpe Ratio of 10-asset-classes portfolio is LOWER than Sharpe Ratio of 11-asset-classes portfolio by {:.4f}.**'.format(SR_wp - SR_wp_10), color='blue')\n",
    "printmd('**Thus, Sharpe Ratio has insignificantly DECREASED!**', color='blue')"
   ]
  },
  {
   "cell_type": "markdown",
   "metadata": {},
   "source": [
    "## (d)\n",
    "\n",
    "**Do you think inflation-indexed bonds are a significant expansion of the investment opportunity set for an allocator that is optimizing nominal returns, as we are here? Or should it only be relevant to HMC given their focus on inflation-adjusted returns?**"
   ]
  },
  {
   "cell_type": "code",
   "execution_count": 261,
   "metadata": {},
   "outputs": [
    {
     "data": {
      "text/markdown": [
       "<span style='color:blue'>**It is reasonable to believe that TIPS offer some expansion of the investment opportunity set from the perspective of nominal returns, but not a signifcant one. TIPS offer some expanson as they have the 2nd largest Sharpe Ratio among all available asset classes, and their inclusion into portfolio increases total portoflio Sharpe Ratio.**</span>"
      ],
      "text/plain": [
       "<IPython.core.display.Markdown object>"
      ]
     },
     "metadata": {},
     "output_type": "display_data"
    },
    {
     "data": {
      "text/markdown": [
       "<span style='color:blue'>**However, weights of MV portfolio with and without TIPS do not change significantly, i.e., there are no huge changes in MV frontier. Thus, it seems more relevant to consider TIPS as expansion of the portfolio from the perspective of better INFLATION-ADJUSTED RETURNS, but not nominal returns!**</span>"
      ],
      "text/plain": [
       "<IPython.core.display.Markdown object>"
      ]
     },
     "metadata": {},
     "output_type": "display_data"
    }
   ],
   "source": [
    "printmd('**It is reasonable to believe that TIPS offer some expansion of the investment opportunity set from the perspective of nominal returns, but not a signifcant one. TIPS offer some expanson as they have the 2nd largest Sharpe Ratio among all available asset classes, and their inclusion into portfolio increases total portoflio Sharpe Ratio.**', color='blue')\n",
    "printmd('**However, weights of MV portfolio with and without TIPS do not change significantly, i.e., there are no huge changes in MV frontier. Thus, it seems more relevant to consider TIPS as expansion of the portfolio from the perspective of better INFLATION-ADJUSTED RETURNS, but not nominal returns!**', color='blue')"
   ]
  },
  {
   "cell_type": "markdown",
   "metadata": {},
   "source": [
    "# 2.5. Long-short positions."
   ]
  },
  {
   "cell_type": "markdown",
   "metadata": {},
   "source": [
    "## (a)\n",
    "\n",
    "**Consider an allocation between only domestic and foreign equities. (Drop all other return\n",
    "columns and recompute** $\\mathbf{w}^p$ **for** $\\mu^p = 0.005$ **)**"
   ]
  },
  {
   "cell_type": "code",
   "execution_count": 265,
   "metadata": {},
   "outputs": [
    {
     "name": "stdout",
     "output_type": "stream",
     "text": [
      "Allocation to risky assets = 1.0885 = 108.85%\n"
     ]
    },
    {
     "data": {
      "text/markdown": [
       "<span style='color:blue'>**Mean-Variance portfolio weights for 2 assets:**</span>"
      ],
      "text/plain": [
       "<IPython.core.display.Markdown object>"
      ]
     },
     "metadata": {},
     "output_type": "display_data"
    },
    {
     "data": {
      "text/html": [
       "<div>\n",
       "<style scoped>\n",
       "    .dataframe tbody tr th:only-of-type {\n",
       "        vertical-align: middle;\n",
       "    }\n",
       "\n",
       "    .dataframe tbody tr th {\n",
       "        vertical-align: top;\n",
       "    }\n",
       "\n",
       "    .dataframe thead th {\n",
       "        text-align: right;\n",
       "    }\n",
       "</style>\n",
       "<table border=\"1\" class=\"dataframe\">\n",
       "  <thead>\n",
       "    <tr style=\"text-align: right;\">\n",
       "      <th></th>\n",
       "      <th>MV weights</th>\n",
       "    </tr>\n",
       "  </thead>\n",
       "  <tbody>\n",
       "    <tr>\n",
       "      <th>Domestic Equity</th>\n",
       "      <td>1.090201</td>\n",
       "    </tr>\n",
       "    <tr>\n",
       "      <th>Foreign Equity</th>\n",
       "      <td>-0.001723</td>\n",
       "    </tr>\n",
       "  </tbody>\n",
       "</table>\n",
       "</div>"
      ],
      "text/plain": [
       "                 MV weights\n",
       "Domestic Equity    1.090201\n",
       "Foreign Equity    -0.001723"
      ]
     },
     "metadata": {},
     "output_type": "display_data"
    },
    {
     "data": {
      "text/markdown": [
       "<span style='color:blue'>\n",
       "Check the sum of MV portfolio weights: 1.0885</span>"
      ],
      "text/plain": [
       "<IPython.core.display.Markdown object>"
      ]
     },
     "metadata": {},
     "output_type": "display_data"
    }
   ],
   "source": [
    "# Select 2 asset classes\n",
    "data_ex_2 = data_ex[['Domestic Equity', 'Foreign Equity']].copy()\n",
    "\n",
    "# Calculate tangency portfolio for 2 risky asset classes\n",
    "mean_2 = data_ex_2.mean()*12\n",
    "std_2 = data_ex_2.mean()*np.sqrt(12)\n",
    "Sigma_2 = data_ex_2.cov()*12\n",
    "inv_Sigma_2 = inv(Sigma_2)\n",
    "ones_2 = np.ones(Sigma_2.shape[1])\n",
    "\n",
    "w_tan_2 = ( inv_Sigma_2 @ mean_2 ) / ( ones_2.T @ inv_Sigma_2 @ mean_2 )\n",
    "# print('Tangency 2-asset-classes-portfolio weights: \\n {} \\n'.format(w_tan_2))\n",
    "\n",
    "# print('Check that weights sum to one: {:.4f}'.format(sum(w_tan_2)))\n",
    "\n",
    "# Calculate portfolio allocation to risky asset classes\n",
    "target_ret = 0.005*12\n",
    "delta_tilde_2 = target_ret * ((ones_2 @ inv_Sigma_2 @ mean_2) / (mean_2.T @ inv_Sigma_2 @ mean_2))\n",
    "print('Allocation to risky assets = {:.4f} = {:.2f}%'.format(delta_tilde_2, delta_tilde_2*100))\n",
    "\n",
    "# Calculate MV 2-asset-classes-portfolio weights\n",
    "MV_weights_2 = delta_tilde_2 * w_tan_2\n",
    "\n",
    "printmd('**Mean-Variance portfolio weights for 2 assets:**', color='blue')\n",
    "display(pd.DataFrame(MV_weights_2, data_ex_2.columns.values, columns=['MV weights']))\n",
    "printmd('\\nCheck the sum of MV portfolio weights: {:.4f}'.format(sum(MV_weights_2)), color='blue')"
   ]
  },
  {
   "cell_type": "markdown",
   "metadata": {},
   "source": [
    "## (b)\n",
    "\n",
    "**What is causing the extreme long-short position?**"
   ]
  },
  {
   "cell_type": "code",
   "execution_count": 266,
   "metadata": {},
   "outputs": [
    {
     "data": {
      "text/markdown": [
       "<span style='color:blue'>**Mean-Variance portfolio weights for 2 assets:**</span>"
      ],
      "text/plain": [
       "<IPython.core.display.Markdown object>"
      ]
     },
     "metadata": {},
     "output_type": "display_data"
    },
    {
     "data": {
      "text/plain": [
       "Text(0, 0.5, 'Percentage ponts')"
      ]
     },
     "execution_count": 266,
     "metadata": {},
     "output_type": "execute_result"
    },
    {
     "data": {
      "image/png": "[encoded data removed]",
      "text/plain": [
       "<Figure size 1080x576 with 1 Axes>"
      ]
     },
     "metadata": {
      "needs_background": "light"
     },
     "output_type": "display_data"
    }
   ],
   "source": [
    "printmd('**Mean-Variance portfolio weights for 2 assets:**', color='blue')\n",
    "\n",
    "pos_2 = MV_weights_2 >= 0\n",
    "neg_2 = MV_weights_2 < 0\n",
    "\n",
    "fig, ax = plt.subplots(nrows=1, ncols=1, figsize=(15, 8))\n",
    "ax.bar(data_ex_2.columns.values[pos_2], MV_weights_2[pos_2], align='center', color='g', alpha=0.3, \n",
    "       label='Weight to long, 2 asset classes')\n",
    "ax.bar(data_ex_2.columns.values[neg_2], MV_weights_2[neg_2], align='center', color='r', alpha=0.3, \n",
    "       label='Weight to short, 2 asset classes')\n",
    "ax.set_title('Mean-Variance 2-asset-classes-portfolio weights', fontsize=20)\n",
    "ax.legend()\n",
    "plt.xlabel('Asset class', fontsize=16)\n",
    "plt.ylabel('Percentage ponts', fontsize=16)"
   ]
  },
  {
   "cell_type": "code",
   "execution_count": 290,
   "metadata": {},
   "outputs": [
    {
     "data": {
      "text/markdown": [
       "<span style='color:blue'>Domestic Equity mean = 0.0551</span>"
      ],
      "text/plain": [
       "<IPython.core.display.Markdown object>"
      ]
     },
     "metadata": {},
     "output_type": "display_data"
    },
    {
     "data": {
      "text/markdown": [
       "<span style='color:blue'>Foreign Equity mean = 0.0539</span>"
      ],
      "text/plain": [
       "<IPython.core.display.Markdown object>"
      ]
     },
     "metadata": {},
     "output_type": "display_data"
    },
    {
     "data": {
      "text/markdown": [
       "<span style='color:blue'>Target return = 0.0600</span>"
      ],
      "text/plain": [
       "<IPython.core.display.Markdown object>"
      ]
     },
     "metadata": {},
     "output_type": "display_data"
    },
    {
     "data": {
      "text/markdown": [
       "<span style='color:blue'>Correlation between Foreign and Domestic Equity asset classes = 0.8694</span>"
      ],
      "text/plain": [
       "<IPython.core.display.Markdown object>"
      ]
     },
     "metadata": {},
     "output_type": "display_data"
    },
    {
     "data": {
      "text/markdown": [
       "<span style='color:blue'>**We can see that mean annualized return for either of the 2 assets is lower than the target annualized return, and also there is a high correlation between Domestic and Foreign Equity asset classes. This leads to the fact that the only way to achieve target return is to short one asset and long another one with higher Sharpe Ratio.**</span>"
      ],
      "text/plain": [
       "<IPython.core.display.Markdown object>"
      ]
     },
     "metadata": {},
     "output_type": "display_data"
    }
   ],
   "source": [
    "printmd('Domestic Equity mean = {:.4f}'.format(mean['Domestic Equity']), color='blue')\n",
    "printmd('Foreign Equity mean = {:.4f}'.format(mean['Foreign Equity']), color='blue')\n",
    "printmd('Target return = {:.4f}'.format(0.005*12), color='blue')\n",
    "printmd('Correlation between Foreign and Domestic Equity asset classes = {:.4f}'.format(np.array(data_ex_2.corr())[1][0]), color='blue')\n",
    "printmd('**We can see that mean annualized return for either of the 2 assets is lower than the target annualized return, and also there is a high correlation between Domestic and Foreign Equity asset classes. This leads to the fact that the only way to achieve target return is to short one asset and long another one with higher Sharpe Ratio.**',color='blue')"
   ]
  },
  {
   "cell_type": "markdown",
   "metadata": {},
   "source": [
    "## (c)\n",
    "\n",
    "**Make an adjustment to** $\\mu^{foreign-equities}$ **of** $0.001$. **Recompute** $\\mathbf{w}^p$ **for** $\\mu^p = 0.005$ **for these two assets**."
   ]
  },
  {
   "cell_type": "code",
   "execution_count": 294,
   "metadata": {},
   "outputs": [
    {
     "name": "stdout",
     "output_type": "stream",
     "text": [
      "Allocation to risky assets = 0.9759 = 97.59%\n"
     ]
    },
    {
     "data": {
      "text/markdown": [
       "<span style='color:blue'>**Mean-Variance portfolio weights for 2 assets, adjusted:**</span>"
      ],
      "text/plain": [
       "<IPython.core.display.Markdown object>"
      ]
     },
     "metadata": {},
     "output_type": "display_data"
    },
    {
     "data": {
      "text/html": [
       "<div>\n",
       "<style scoped>\n",
       "    .dataframe tbody tr th:only-of-type {\n",
       "        vertical-align: middle;\n",
       "    }\n",
       "\n",
       "    .dataframe tbody tr th {\n",
       "        vertical-align: top;\n",
       "    }\n",
       "\n",
       "    .dataframe thead th {\n",
       "        text-align: right;\n",
       "    }\n",
       "</style>\n",
       "<table border=\"1\" class=\"dataframe\">\n",
       "  <thead>\n",
       "    <tr style=\"text-align: right;\">\n",
       "      <th></th>\n",
       "      <th>MV weights adj</th>\n",
       "    </tr>\n",
       "  </thead>\n",
       "  <tbody>\n",
       "    <tr>\n",
       "      <th>Domestic Equity</th>\n",
       "      <td>0.401916</td>\n",
       "    </tr>\n",
       "    <tr>\n",
       "      <th>Foreign Equity</th>\n",
       "      <td>0.573967</td>\n",
       "    </tr>\n",
       "  </tbody>\n",
       "</table>\n",
       "</div>"
      ],
      "text/plain": [
       "                 MV weights adj\n",
       "Domestic Equity        0.401916\n",
       "Foreign Equity         0.573967"
      ]
     },
     "metadata": {},
     "output_type": "display_data"
    },
    {
     "data": {
      "text/markdown": [
       "<span style='color:blue'>\n",
       "Check the sum of MV portfolio adj weights: 0.9759</span>"
      ],
      "text/plain": [
       "<IPython.core.display.Markdown object>"
      ]
     },
     "metadata": {},
     "output_type": "display_data"
    }
   ],
   "source": [
    "# Make returns` adjustment\n",
    "data_ex_2_adj = data_ex_2.copy()\n",
    "data_ex_2_adj['Foreign Equity'] = data_ex_2_adj['Foreign Equity'] + 0.001\n",
    "\n",
    "# Calculate tangency portfolio for 2 risky asset classes\n",
    "mean_2_adj = data_ex_2_adj.mean()*12\n",
    "std_2_adj = data_ex_2_adj.std()*np.sqrt(12)\n",
    "Sigma_2_adj = data_ex_2_adj.cov()*12\n",
    "inv_Sigma_2_adj = inv(Sigma_2_adj)*12\n",
    "ones_2_adj = np.ones(Sigma_2_adj.shape[1])\n",
    "\n",
    "w_tan_2_adj = ( inv_Sigma_2_adj @ mean_2_adj ) / ( ones_2_adj.T @ inv_Sigma_2_adj @ mean_2_adj )\n",
    "# print('Tangency 2-asset-classes-adjusted-portfolio weights: \\n {} \\n'.format(w_tan_2_adj))\n",
    "# print('Check that weights sum to one: {:.4f}'.format(sum(w_tan_2_adj)))\n",
    "\n",
    "# Calculate portfolio allocation to risky asset classes\n",
    "target_ret = 0.005*12\n",
    "delta_tilde_2_adj = target_ret * ((ones_2_adj @ inv_Sigma_2_adj @ mean_2_adj) / (mean_2_adj.T @ inv_Sigma_2_adj @ mean_2_adj))\n",
    "print('Allocation to risky assets = {:.4f} = {:.2f}%'.format(delta_tilde_2_adj, delta_tilde_2_adj*100))\n",
    "\n",
    "# Calculate MV 2-asset-classes-portfolio weights\n",
    "MV_weights_2_adj = delta_tilde_2_adj * w_tan_2_adj\n",
    "\n",
    "printmd('**Mean-Variance portfolio weights for 2 assets, adjusted:**', color='blue')\n",
    "display(pd.DataFrame(MV_weights_2_adj, data_ex_2.columns.values, columns=['MV weights adj']))\n",
    "printmd('\\nCheck the sum of MV portfolio adj weights: {:.4f}'.format(sum(MV_weights_2_adj)), color='blue')"
   ]
  },
  {
   "cell_type": "code",
   "execution_count": 296,
   "metadata": {},
   "outputs": [
    {
     "data": {
      "text/markdown": [
       "<span style='color:blue'>**Mean-Variance portfolio adj weights for 2 assets:**</span>"
      ],
      "text/plain": [
       "<IPython.core.display.Markdown object>"
      ]
     },
     "metadata": {},
     "output_type": "display_data"
    },
    {
     "data": {
      "text/plain": [
       "Text(0, 0.5, 'Percentage points')"
      ]
     },
     "execution_count": 296,
     "metadata": {},
     "output_type": "execute_result"
    },
    {
     "data": {
      "image/png": "[encoded data removed]",
      "text/plain": [
       "<Figure size 1440x432 with 1 Axes>"
      ]
     },
     "metadata": {
      "needs_background": "light"
     },
     "output_type": "display_data"
    }
   ],
   "source": [
    "printmd('**Mean-Variance portfolio adj weights for 2 assets:**', color='blue')\n",
    "\n",
    "pos_2 = MV_weights_2_adj >= 0\n",
    "neg_2 = MV_weights_2_adj < 0\n",
    "\n",
    "fig, ax = plt.subplots(nrows=1, ncols=1, figsize=(20, 6))\n",
    "ax.bar(data_ex_2_adj.columns.values[pos_2], MV_weights_2_adj[pos_2], align='center', color='g', alpha=0.3, \n",
    "       label='Weight to long, 2 asset classes')\n",
    "ax.bar(data_ex_2_adj.columns.values[neg_2], MV_weights_2_adj[neg_2], align='center', color='r', alpha=0.3, \n",
    "       label='Weight to short, 2 asset classes')\n",
    "ax.set_title('Mean-Variance 2-asset-classes-adjusted-portfolio weights', fontsize=20)\n",
    "plt.xlabel('Asset class', fontsize=16)\n",
    "plt.ylabel('Percentage points', fontsize=16)"
   ]
  },
  {
   "cell_type": "code",
   "execution_count": 302,
   "metadata": {},
   "outputs": [
    {
     "data": {
      "text/markdown": [
       "<span style='color:blue'>Domestic Equity mean = 0.0551</span>"
      ],
      "text/plain": [
       "<IPython.core.display.Markdown object>"
      ]
     },
     "metadata": {},
     "output_type": "display_data"
    },
    {
     "data": {
      "text/markdown": [
       "<span style='color:blue'>Foreign Equity mean = 0.0659</span>"
      ],
      "text/plain": [
       "<IPython.core.display.Markdown object>"
      ]
     },
     "metadata": {},
     "output_type": "display_data"
    },
    {
     "data": {
      "text/markdown": [
       "<span style='color:blue'>Target return = 0.0600</span>"
      ],
      "text/plain": [
       "<IPython.core.display.Markdown object>"
      ]
     },
     "metadata": {},
     "output_type": "display_data"
    },
    {
     "data": {
      "text/markdown": [
       "<span style='color:blue'>Correlation between Foreign and Domestic Equity asset classes = 0.8694</span>"
      ],
      "text/plain": [
       "<IPython.core.display.Markdown object>"
      ]
     },
     "metadata": {},
     "output_type": "display_data"
    },
    {
     "data": {
      "text/markdown": [
       "<span style='color:blue'>**The allocation has changed significantly in the way that we are now long in both assets. Foreign equity annualzed mean return is now higher than the target return. Thus, we invest most of the funds in Foreigh Equity, and for dversification purposes we also invest in Domestic Equity.**</span>"
      ],
      "text/plain": [
       "<IPython.core.display.Markdown object>"
      ]
     },
     "metadata": {},
     "output_type": "display_data"
    }
   ],
   "source": [
    "printmd('Domestic Equity mean = {:.4f}'.format(mean_2_adj['Domestic Equity']), color='blue')\n",
    "printmd('Foreign Equity mean = {:.4f}'.format(mean_2_adj['Foreign Equity']), color='blue')\n",
    "printmd('Target return = {:.4f}'.format(0.005*12), color='blue')\n",
    "printmd('Correlation between Foreign and Domestic Equity asset classes = {:.4f}'.format(np.array(data_ex_2_adj.corr())[1][0]), color='blue')\n",
    "printmd('**The allocation has changed significantly in the way that we are now long in both assets. Foreign equity annualzed mean return is now higher than the target return. Thus, we invest most of the funds in Foreigh Equity, and for dversification purposes we also invest in Domestic Equity.**', color='blue')"
   ]
  },
  {
   "cell_type": "markdown",
   "metadata": {},
   "source": [
    "Allocations has changed in the way that now we are **long both Foreign Equity and Domestic Equity** in approximately the same proportion. "
   ]
  },
  {
   "cell_type": "markdown",
   "metadata": {},
   "source": [
    "## (d)\n",
    "**What does this say about the statistical precision of the MV solutions?**"
   ]
  },
  {
   "cell_type": "code",
   "execution_count": 306,
   "metadata": {},
   "outputs": [
    {
     "data": {
      "text/markdown": [
       "<span style='color:blue'>**We have just seen that a small (1.2%) change in annual returns of one highly correlated assets has led to signifcant changes in MV portfolio weights. Thus, we can say that MV solutions are not statistcally precise and are VERY SENSITIVE to inputs.**</span>"
      ],
      "text/plain": [
       "<IPython.core.display.Markdown object>"
      ]
     },
     "metadata": {},
     "output_type": "display_data"
    }
   ],
   "source": [
    "printmd('**We have just seen that a small (1.2%) change in annual returns of one highly correlated assets has led to signifcant changes in MV portfolio weights. Thus, we can say that MV solutions are not statistcally precise and are VERY SENSITIVE to inputs.**', color='blue')"
   ]
  },
  {
   "cell_type": "markdown",
   "metadata": {},
   "source": [
    "# 2.6. Robustness, 11 asset classes"
   ]
  },
  {
   "cell_type": "markdown",
   "metadata": {},
   "source": [
    "## (a) \n",
    "\n",
    "**Recalculate the 11-asset allocation, again with the unadjusted** $\\mu^{foreign-equities}$ **and again for** $\\mu^p = 0.005$. **This time, make one change: in building** $\\mathbf{w}^{tan}$, **do not use** $\\Sigma$ **as given in the formulas in the lecture. Rather, use a diaganolized** $\\Sigma^D$ **, which zeroes out all\n",
    "non-diagonal elements of the full covariance matrix,** $\\Sigma$."
   ]
  },
  {
   "cell_type": "code",
   "execution_count": 325,
   "metadata": {},
   "outputs": [
    {
     "name": "stdout",
     "output_type": "stream",
     "text": [
      "Allocation to risky assets = 1.4428 = 144.28% \n",
      "\n"
     ]
    },
    {
     "data": {
      "text/markdown": [
       "<span style='color:blue'>**Mean-Variance portfolio weights for 11 assets:**</span>"
      ],
      "text/plain": [
       "<IPython.core.display.Markdown object>"
      ]
     },
     "metadata": {},
     "output_type": "display_data"
    },
    {
     "data": {
      "text/html": [
       "<div>\n",
       "<style scoped>\n",
       "    .dataframe tbody tr th:only-of-type {\n",
       "        vertical-align: middle;\n",
       "    }\n",
       "\n",
       "    .dataframe tbody tr th {\n",
       "        vertical-align: top;\n",
       "    }\n",
       "\n",
       "    .dataframe thead th {\n",
       "        text-align: right;\n",
       "    }\n",
       "</style>\n",
       "<table border=\"1\" class=\"dataframe\">\n",
       "  <thead>\n",
       "    <tr style=\"text-align: right;\">\n",
       "      <th></th>\n",
       "      <th>MV weights w/ diag.Sigma</th>\n",
       "      <th>MV weights</th>\n",
       "    </tr>\n",
       "  </thead>\n",
       "  <tbody>\n",
       "    <tr>\n",
       "      <th>Domestic Equity</th>\n",
       "      <td>0.078377</td>\n",
       "      <td>-0.053945</td>\n",
       "    </tr>\n",
       "    <tr>\n",
       "      <th>Foreign Equity</th>\n",
       "      <td>0.057958</td>\n",
       "      <td>-0.322598</td>\n",
       "    </tr>\n",
       "    <tr>\n",
       "      <th>Emerging Markets</th>\n",
       "      <td>0.069916</td>\n",
       "      <td>0.268316</td>\n",
       "    </tr>\n",
       "    <tr>\n",
       "      <th>Private Equity</th>\n",
       "      <td>0.012580</td>\n",
       "      <td>0.126290</td>\n",
       "    </tr>\n",
       "    <tr>\n",
       "      <th>Absolute Return</th>\n",
       "      <td>0.358327</td>\n",
       "      <td>0.948271</td>\n",
       "    </tr>\n",
       "    <tr>\n",
       "      <th>High Yield</th>\n",
       "      <td>0.119496</td>\n",
       "      <td>0.422711</td>\n",
       "    </tr>\n",
       "    <tr>\n",
       "      <th>Commodities</th>\n",
       "      <td>0.004857</td>\n",
       "      <td>-0.090812</td>\n",
       "    </tr>\n",
       "    <tr>\n",
       "      <th>Real Estate</th>\n",
       "      <td>0.079465</td>\n",
       "      <td>-0.168287</td>\n",
       "    </tr>\n",
       "    <tr>\n",
       "      <th>Domestic Bonds</th>\n",
       "      <td>0.298151</td>\n",
       "      <td>0.981305</td>\n",
       "    </tr>\n",
       "    <tr>\n",
       "      <th>Foreign Bonds</th>\n",
       "      <td>0.078297</td>\n",
       "      <td>-0.495233</td>\n",
       "    </tr>\n",
       "    <tr>\n",
       "      <th>Inflation-Indexed</th>\n",
       "      <td>0.285394</td>\n",
       "      <td>-0.216226</td>\n",
       "    </tr>\n",
       "  </tbody>\n",
       "</table>\n",
       "</div>"
      ],
      "text/plain": [
       "                   MV weights w/ diag.Sigma  MV weights\n",
       "Domestic Equity                    0.078377   -0.053945\n",
       "Foreign Equity                     0.057958   -0.322598\n",
       "Emerging Markets                   0.069916    0.268316\n",
       "Private Equity                     0.012580    0.126290\n",
       "Absolute Return                    0.358327    0.948271\n",
       "High Yield                         0.119496    0.422711\n",
       "Commodities                        0.004857   -0.090812\n",
       "Real Estate                        0.079465   -0.168287\n",
       "Domestic Bonds                     0.298151    0.981305\n",
       "Foreign Bonds                      0.078297   -0.495233\n",
       "Inflation-Indexed                  0.285394   -0.216226"
      ]
     },
     "metadata": {},
     "output_type": "display_data"
    },
    {
     "data": {
      "text/markdown": [
       "<span style='color:blue'>\n",
       "Check the sum of MV portfolio weights w/ diag.Sigma: 1.4428</span>"
      ],
      "text/plain": [
       "<IPython.core.display.Markdown object>"
      ]
     },
     "metadata": {},
     "output_type": "display_data"
    },
    {
     "data": {
      "text/markdown": [
       "<span style='color:blue'>\n",
       "Check the sum of MV portfolio weights w/o diag.Sigma: 1.3998</span>"
      ],
      "text/plain": [
       "<IPython.core.display.Markdown object>"
      ]
     },
     "metadata": {},
     "output_type": "display_data"
    }
   ],
   "source": [
    "mean_11 = data_ex.mean()*12\n",
    "std_11 = data_ex.std()*np.sqrt(12)\n",
    "Sigma_11 = data_ex.cov()*12\n",
    "\n",
    "for i in Sigma_11:\n",
    "    for j in Sigma_11:\n",
    "        if i != j:\n",
    "            Sigma_11[i][j] = 0\n",
    "Sigma_inv_11 = inv(Sigma_11)\n",
    "ones_11 = np.ones(Sigma_11.shape[1])\n",
    "\n",
    "w_tan_11 = ( Sigma_inv_11 @ mean_11 ) / ( ones_11.T @ Sigma_inv_11 @ mean_11 )\n",
    "# print('Tangency 11-asset-classes-portfolio weights: \\n {}'.format(w_tan_11))\n",
    "# print('Check that weights sum to one: {:.4f}\\n'.format(sum(w_tan_11)))\n",
    "\n",
    "target_ret = 0.005*12\n",
    "\n",
    "# Calculate portfolio allocation\n",
    "delta_11 = target_ret * ((ones_11 @ Sigma_inv_11 @ mean_11) / (mean_11.T @ Sigma_inv_11 @ mean_11))\n",
    "print('Allocation to risky assets = {:.4f} = {:.2f}% \\n'.format(delta_11, delta_11*100))\n",
    "\n",
    "# Calculate portfolio weights\n",
    "w_p_11 = delta_11 * w_tan_11\n",
    "\n",
    "printmd('**Mean-Variance portfolio weights for 11 assets:**', color='blue')\n",
    "display(pd.DataFrame(np.concatenate([np.array(w_p_11).reshape(11,-1), np.array(MV_weights).reshape(11,-1)], axis=1), data_ex.columns.values, columns=['MV weights w/ diag.Sigma', 'MV weights']))\n",
    "printmd('\\nCheck the sum of MV portfolio weights w/ diag.Sigma: {:.4f}'.format(sum(w_p_11)), color='blue')\n",
    "printmd('\\nCheck the sum of MV portfolio weights w/o diag.Sigma: {:.4f}'.format(sum(MV_weights)), color='blue')"
   ]
  },
  {
   "cell_type": "code",
   "execution_count": 343,
   "metadata": {},
   "outputs": [
    {
     "data": {
      "text/markdown": [
       "<span style='color:blue'>**Mean-Variance portfolio weights for 11 assets w/ diag.Sigma:**</span>"
      ],
      "text/plain": [
       "<IPython.core.display.Markdown object>"
      ]
     },
     "metadata": {},
     "output_type": "display_data"
    },
    {
     "data": {
      "text/plain": [
       "Text(0, 0.5, 'Percentage points')"
      ]
     },
     "execution_count": 343,
     "metadata": {},
     "output_type": "execute_result"
    },
    {
     "data": {
      "image/png": "[encoded data removed]",
      "text/plain": [
       "<Figure size 1440x432 with 1 Axes>"
      ]
     },
     "metadata": {
      "needs_background": "light"
     },
     "output_type": "display_data"
    }
   ],
   "source": [
    "printmd('**Mean-Variance portfolio weights for 11 assets w/ diag.Sigma:**', color='blue')\n",
    "\n",
    "pos_11 = w_p_11 >= 0\n",
    "neg_11 = w_p_11 < 0\n",
    "\n",
    "pos_11_init = MV_weights >= 0\n",
    "neg_11_init = MV_weights < 0\n",
    "\n",
    "fig, ax = plt.subplots(nrows=1, ncols=1, figsize=(20, 6))\n",
    "ax.bar(data_ex.columns.values[pos_11], w_p_11[pos_11], align='center', color='g', alpha=0.9, width=0.5,\n",
    "       label='Weight to long, 11 asset classes w/ diag.Sigma')\n",
    "ax.bar(data_ex.columns.values[neg_11], w_p_11[neg_11], align='center', color='r', alpha=0.9, width=0.5,\n",
    "       label='Weight to short, 11 asset classes w/ diag.Sigma')\n",
    "ax.bar(data_ex.columns.values[pos_11_init], MV_weights[pos_11_init], align='edge', color='g', alpha=0.3, width=0.5,\n",
    "       label='Weight to long, 11 asset classes')\n",
    "ax.bar(data_ex.columns.values[neg_11_init], MV_weights[neg_11_init], align='edge', color='r', alpha=0.3, width=0.5,\n",
    "       label='Weight to short, 11 asset classes')\n",
    "ax.set_title('Mean-Variance 11-asset-classes-portfolio weights', fontsize=20)\n",
    "# ax.legend()\n",
    "plt.xlabel('Asset class', fontsize=16)\n",
    "plt.ylabel('Percentage points', fontsize=16)"
   ]
  },
  {
   "cell_type": "code",
   "execution_count": 344,
   "metadata": {},
   "outputs": [
    {
     "data": {
      "text/markdown": [
       "<span style='color:blue'>**The allocaton has changed in the way that now portfolio consists of long positions only in comparison to initial allocation with half long and half short postions.**</span>"
      ],
      "text/plain": [
       "<IPython.core.display.Markdown object>"
      ]
     },
     "metadata": {},
     "output_type": "display_data"
    }
   ],
   "source": [
    "printmd('**The allocaton has changed in the way that now portfolio consists of long positions only in comparison to initial allocation with half long and half short postions.**', color='blue')"
   ]
  },
  {
   "cell_type": "markdown",
   "metadata": {},
   "source": [
    "## (b)\n",
    "**What does this suggest about the sensitivity of the solution to estimated means and estimated\n",
    "covariances?**"
   ]
  },
  {
   "cell_type": "code",
   "execution_count": 347,
   "metadata": {},
   "outputs": [
    {
     "data": {
      "text/markdown": [
       "<span style='color:blue'>**The change in allocation that we have seen above tells us that solution is very sensitive to estimated covariances. It is also obvious that in case there is no correlation between asset classes, there will be no extreme long-short positons in the portfolio.**</span>"
      ],
      "text/plain": [
       "<IPython.core.display.Markdown object>"
      ]
     },
     "metadata": {},
     "output_type": "display_data"
    }
   ],
   "source": [
    "printmd('**The change in allocation that we have seen above tells us that solution is very sensitive to estimated covariances. It is also obvious that in case there is no correlation between asset classes, there will be no extreme long-short positons in the portfolio.**', color='blue')"
   ]
  },
  {
   "cell_type": "markdown",
   "metadata": {},
   "source": [
    "## (c)\n",
    "**HMC deals with this sensitivity by using explicit constraints on the allocation vector. Conceptually,\n",
    "what are the pros/cons of doing that versus modifying the formula with** $\\Sigma^D$ **?**"
   ]
  },
  {
   "cell_type": "code",
   "execution_count": 407,
   "metadata": {},
   "outputs": [
    {
     "data": {
      "text/markdown": [
       "<span style='color:blue'>**PROS of HMC approach is the clear statement of constraints, which will be clear from the first glance. CONS of HMC approach is increased complexity of the optimization problem.**</span>"
      ],
      "text/plain": [
       "<IPython.core.display.Markdown object>"
      ]
     },
     "metadata": {},
     "output_type": "display_data"
    },
    {
     "data": {
      "text/markdown": [
       "<span style='color:blue'>**PROS of covariance formula modification is its simplicity and ease of calculatioin. CONS is that it oversimplifies reality, and can lead to biased portfolios at the end.**</span>"
      ],
      "text/plain": [
       "<IPython.core.display.Markdown object>"
      ]
     },
     "metadata": {},
     "output_type": "display_data"
    }
   ],
   "source": [
    "printmd('**PROS of HMC approach is the clear statement of constraints, which will be clear from the first glance. CONS of HMC approach is increased complexity of the optimization problem.**', color='blue')\n",
    "printmd('**PROS of covariance formula modification is its simplicity and ease of calculatioin. CONS is that it oversimplifies reality, and can lead to biased portfolios at the end.**',color='blue')\n"
   ]
  },
  {
   "cell_type": "markdown",
   "metadata": {},
   "source": [
    "# 2.6. Robustness, 2 asset classes (old task)"
   ]
  },
  {
   "cell_type": "code",
   "execution_count": 40,
   "metadata": {},
   "outputs": [],
   "source": [
    "# # Select 2 asset classes\n",
    "# data_ex_2 = data_ex[['Domestic Equity', 'Foreign Equity']].copy()\n",
    "\n",
    "# # Calculate tangency portfolio for 2 risky asset classes\n",
    "# mean_2 = data_ex_2.mean()*12\n",
    "# std_2 = data_ex_2.std()*np.sqrt(12)\n",
    "# Sigma_2 = data_ex_2.cov()*12\n",
    "# for asset in Sigma_2.columns: # convert full Cov matrix into a diagonalized one\n",
    "#     if asset == 'Domestic Equity':\n",
    "#         Sigma_2[asset][0] = 0\n",
    "#     else:\n",
    "#         Sigma_2[asset][1] = 0\n",
    "\n",
    "# inv_Sigma_2 = inv(Sigma_2)\n",
    "# ones_2 = np.ones(Sigma_2.shape[1])\n",
    "\n",
    "# w_tan_2 = ( inv_Sigma_2 @ mean_2 ) / ( ones_2.T @ inv_Sigma_2 @ mean_2 )\n",
    "# print('Tangency 2-asset-classes-portfolio weights: \\n {}'.format(w_tan_2))\n",
    "# print('Check that weights sum to one: {:.4f}\\n'.format(sum(w_tan_2)))"
   ]
  },
  {
   "cell_type": "code",
   "execution_count": 41,
   "metadata": {},
   "outputs": [],
   "source": [
    "# target_ret = 0.005*12\n",
    "\n",
    "# # Calculate portfolio allocation\n",
    "# delta_2 = target_ret * ((ones_2 @ inv_Sigma_2 @ mean_2) / (mean_2.T @ inv_Sigma_2 @ mean_2))\n",
    "# print('Allocation to risky assets = {:.4f} = {:.2f}% \\n'.format(delta_tilde_2, delta_tilde_2*100))\n",
    "\n",
    "# # Calculate portfolio weights\n",
    "# w_p_2 = delta_2 * w_tan_2\n",
    "# print('MV 2-asset-classes-portfolio weights: \\n {}'.format(w_p_2))\n",
    "# print('Check sum of the weights: {:.4f}\\n'.format(sum(w_p_2)))"
   ]
  },
  {
   "cell_type": "code",
   "execution_count": 42,
   "metadata": {},
   "outputs": [],
   "source": [
    "# pos_2 = w_p_2 >= 0\n",
    "# neg_2 = w_p_2 < 0\n",
    "\n",
    "# fig, ax = plt.subplots(nrows=1, ncols=1, figsize=(20, 6))\n",
    "# ax.bar(data_ex_2.columns.values[pos_2], w_p_2[pos_2], align='center', color='g', alpha=0.3, \n",
    "#        label='Weight to long, 2 asset classes')\n",
    "# ax.bar(data_ex_2.columns.values[neg_2], w_p_2[neg_2], align='center', color='r', alpha=0.3, \n",
    "#        label='Weight to short, 2 asset classes')\n",
    "# ax.set_title('Mean-Variance 2-asset-classes-portfolio weights', fontsize=20)\n",
    "# plt.xlabel('Asset class', fontsize=16)\n",
    "# plt.ylabel('Percentage points', fontsize=16)"
   ]
  },
  {
   "cell_type": "markdown",
   "metadata": {},
   "source": [
    "# 7. Let's divide the sample to both compute a portfolio and then check its performance out of sample."
   ]
  },
  {
   "cell_type": "markdown",
   "metadata": {},
   "source": [
    "## (a)\n",
    "\n",
    "**Using only data through the end of 2016, compute** $\\mathbf{w}^p$ **for** $\\mu^p = 0.005$, **allocating to all 11 assets.**"
   ]
  },
  {
   "cell_type": "code",
   "execution_count": 351,
   "metadata": {},
   "outputs": [
    {
     "name": "stdout",
     "output_type": "stream",
     "text": [
      "Portfolio allocatoin to risky asset classes = 1.1029\n"
     ]
    },
    {
     "data": {
      "text/markdown": [
       "<span style='color:blue'>**Mean-Variance train-portfolio weights for 11 assets:**</span>"
      ],
      "text/plain": [
       "<IPython.core.display.Markdown object>"
      ]
     },
     "metadata": {},
     "output_type": "display_data"
    },
    {
     "data": {
      "text/html": [
       "<div>\n",
       "<style scoped>\n",
       "    .dataframe tbody tr th:only-of-type {\n",
       "        vertical-align: middle;\n",
       "    }\n",
       "\n",
       "    .dataframe tbody tr th {\n",
       "        vertical-align: top;\n",
       "    }\n",
       "\n",
       "    .dataframe thead th {\n",
       "        text-align: right;\n",
       "    }\n",
       "</style>\n",
       "<table border=\"1\" class=\"dataframe\">\n",
       "  <thead>\n",
       "    <tr style=\"text-align: right;\">\n",
       "      <th></th>\n",
       "      <th>MV train weights</th>\n",
       "    </tr>\n",
       "  </thead>\n",
       "  <tbody>\n",
       "    <tr>\n",
       "      <th>Domestic Equity</th>\n",
       "      <td>-0.057625</td>\n",
       "    </tr>\n",
       "    <tr>\n",
       "      <th>Foreign Equity</th>\n",
       "      <td>-0.166122</td>\n",
       "    </tr>\n",
       "    <tr>\n",
       "      <th>Emerging Markets</th>\n",
       "      <td>0.217092</td>\n",
       "    </tr>\n",
       "    <tr>\n",
       "      <th>Private Equity</th>\n",
       "      <td>0.035068</td>\n",
       "    </tr>\n",
       "    <tr>\n",
       "      <th>Absolute Return</th>\n",
       "      <td>0.799615</td>\n",
       "    </tr>\n",
       "    <tr>\n",
       "      <th>High Yield</th>\n",
       "      <td>0.260768</td>\n",
       "    </tr>\n",
       "    <tr>\n",
       "      <th>Commodities</th>\n",
       "      <td>-0.055115</td>\n",
       "    </tr>\n",
       "    <tr>\n",
       "      <th>Real Estate</th>\n",
       "      <td>-0.088052</td>\n",
       "    </tr>\n",
       "    <tr>\n",
       "      <th>Domestic Bonds</th>\n",
       "      <td>0.726014</td>\n",
       "    </tr>\n",
       "    <tr>\n",
       "      <th>Foreign Bonds</th>\n",
       "      <td>-0.514358</td>\n",
       "    </tr>\n",
       "    <tr>\n",
       "      <th>Inflation-Indexed</th>\n",
       "      <td>-0.054402</td>\n",
       "    </tr>\n",
       "  </tbody>\n",
       "</table>\n",
       "</div>"
      ],
      "text/plain": [
       "                   MV train weights\n",
       "Domestic Equity           -0.057625\n",
       "Foreign Equity            -0.166122\n",
       "Emerging Markets           0.217092\n",
       "Private Equity             0.035068\n",
       "Absolute Return            0.799615\n",
       "High Yield                 0.260768\n",
       "Commodities               -0.055115\n",
       "Real Estate               -0.088052\n",
       "Domestic Bonds             0.726014\n",
       "Foreign Bonds             -0.514358\n",
       "Inflation-Indexed         -0.054402"
      ]
     },
     "metadata": {},
     "output_type": "display_data"
    },
    {
     "data": {
      "text/markdown": [
       "<span style='color:blue'>\n",
       "Check the sum of train MV portfolio weights: 1.1029</span>"
      ],
      "text/plain": [
       "<IPython.core.display.Markdown object>"
      ]
     },
     "metadata": {},
     "output_type": "display_data"
    }
   ],
   "source": [
    "train = data_ex['2000-01-31':'2016-12-31'].copy()\n",
    "# train.tail(2)\n",
    "\n",
    "# Calculate weights of tangency portfolio\n",
    "mean_train = train.mean()*12\n",
    "std_train = train.std()*np.sqrt(12)\n",
    "Sigma_train = train.cov()*12\n",
    "Sigma_inv_train = inv(Sigma_train)\n",
    "ones_train = np.ones(Sigma_train.shape[1])\n",
    "\n",
    "w_tan_train = ( Sigma_inv_train @ mean_train ) / ( ones_train.T @ Sigma_inv_train @ mean_train )\n",
    "# print('Tangency 11-asset-classes-train-portfolio weights: \\n {} \\n'.format(w_tan_train))\n",
    "\n",
    "# print('Check that train weights sum to one: {:.4f}'.format(sum(w_tan_train)))\n",
    "\n",
    "# Calculate delta (i.e., portfolio allocation to risky asset classes)\n",
    "target_return = 0.005*12\n",
    "delta_train = target_return * ( ones_train.T @ Sigma_inv_train @ mean_train ) / ( mean_train.T @ Sigma_inv_train @ mean_train )\n",
    "print('Portfolio allocatoin to risky asset classes = {:.4f}'.format(delta_train))\n",
    "\n",
    "# Calculate Mean-Variance portfolio weights\n",
    "wp_train = delta_train * w_tan_train\n",
    "# print('MV 11-asset-classes-train-portfolio weights: \\n {} \\n'.format(wp_train))\n",
    "\n",
    "# print('Check the sum of train-MV-portfolio weights: {:.4f}'.format(sum(wp_train)))\n",
    "\n",
    "printmd('**Mean-Variance train-portfolio weights for 11 assets:**', color='blue')\n",
    "display(pd.DataFrame(np.array(wp_train), train.columns.values, columns=['MV train weights']))\n",
    "printmd('\\nCheck the sum of train MV portfolio weights: {:.4f}'.format(sum(wp_train)), color='blue')"
   ]
  },
  {
   "cell_type": "markdown",
   "metadata": {},
   "source": [
    "## (b)\n",
    "\n",
    "**Calculate the portfolio's Sharpe ratio within that sample, through the end of 2016.**"
   ]
  },
  {
   "cell_type": "code",
   "execution_count": 353,
   "metadata": {},
   "outputs": [
    {
     "data": {
      "text/markdown": [
       "<span style='color:blue'>**MV train portfolio Mean = 0.0600**</span>"
      ],
      "text/plain": [
       "<IPython.core.display.Markdown object>"
      ]
     },
     "metadata": {},
     "output_type": "display_data"
    },
    {
     "data": {
      "text/markdown": [
       "<span style='color:blue'>**MV train portfolio Volatility = 0.0457 = 4.57%**</span>"
      ],
      "text/plain": [
       "<IPython.core.display.Markdown object>"
      ]
     },
     "metadata": {},
     "output_type": "display_data"
    },
    {
     "data": {
      "text/markdown": [
       "<span style='color:blue'>**MV train portfolio Sharpe Ratio = 1.314084**</span>"
      ],
      "text/plain": [
       "<IPython.core.display.Markdown object>"
      ]
     },
     "metadata": {},
     "output_type": "display_data"
    }
   ],
   "source": [
    "mean_wp_train = (mean_train @ wp_train)\n",
    "std_wp_train = np.sqrt(wp_train.T @ Sigma_train @ wp_train)\n",
    "SR_wp_train = mean_wp_train / std_wp_train\n",
    "\n",
    "printmd('**MV train portfolio Mean = {:.4f}**'.format(mean_wp_train), color='blue')\n",
    "printmd('**MV train portfolio Volatility = {:.4f} = {:.2f}%**'.format(std_wp_train, std_wp_train*100), color='blue')\n",
    "printmd('**MV train portfolio Sharpe Ratio = {:.6f}**'.format(SR_wp_train), color='blue')"
   ]
  },
  {
   "cell_type": "markdown",
   "metadata": {},
   "source": [
    "## (c)\n",
    "\n",
    "**Calculate the portfolio's Sharpe ratio based on performance in 2017-2019.**"
   ]
  },
  {
   "cell_type": "code",
   "execution_count": 402,
   "metadata": {},
   "outputs": [
    {
     "data": {
      "text/markdown": [
       "<span style='color:blue'>**MV test portfolio Mean = 0.0487**</span>"
      ],
      "text/plain": [
       "<IPython.core.display.Markdown object>"
      ]
     },
     "metadata": {},
     "output_type": "display_data"
    },
    {
     "data": {
      "text/markdown": [
       "<span style='color:blue'>**MV test portfolio Volatility = 0.0518 = 5.18%**</span>"
      ],
      "text/plain": [
       "<IPython.core.display.Markdown object>"
      ]
     },
     "metadata": {},
     "output_type": "display_data"
    },
    {
     "data": {
      "text/markdown": [
       "<span style='color:blue'>**MV test portfolio Sharpe Ratio = 0.940188**</span>"
      ],
      "text/plain": [
       "<IPython.core.display.Markdown object>"
      ]
     },
     "metadata": {},
     "output_type": "display_data"
    },
    {
     "data": {
      "text/markdown": [
       "<span style='color:blue'>**BAD PERFORMANCE on out-of-sample data: lower than required mean return, high volatilty, and low Sharpe Ratio.**</span>"
      ],
      "text/plain": [
       "<IPython.core.display.Markdown object>"
      ]
     },
     "metadata": {},
     "output_type": "display_data"
    }
   ],
   "source": [
    "test = data_ex['2017-01-01':].copy()\n",
    "# test.head(2)\n",
    "\n",
    "mean_test = test.mean()*12\n",
    "std_test = test.std()*np.sqrt(12)\n",
    "Sigma_test = test.cov()*12\n",
    "\n",
    "mean_wp_test = (mean_test @ wp_train)\n",
    "std_wp_test = np.sqrt(wp_train.T @ Sigma_test @ wp_train)\n",
    "SR_wp_test = mean_wp_test / std_wp_test\n",
    "\n",
    "printmd('**MV test portfolio Mean = {:.4f}**'.format(mean_wp_test), color='blue')\n",
    "printmd('**MV test portfolio Volatility = {:.4f} = {:.2f}%**'.format(std_wp_test, std_wp_test*100), color='blue')\n",
    "printmd('**MV test portfolio Sharpe Ratio = {:.6f}**'.format(SR_wp_test), color='blue')\n",
    "\n",
    "printmd('**BAD PERFORMANCE on out-of-sample data: lower than required mean return, high volatilty, and low Sharpe Ratio.**',color='blue')"
   ]
  },
  {
   "cell_type": "markdown",
   "metadata": {},
   "source": [
    "## (d)\n",
    "\n",
    "**How does this out-of-sample Sharpe compare to the 2000-2016 performance of a portfolio\n",
    "optimized to** $\\mu^p$ **using 2000-2016 data?**"
   ]
  },
  {
   "cell_type": "code",
   "execution_count": 357,
   "metadata": {},
   "outputs": [
    {
     "data": {
      "text/markdown": [
       "<span style='color:blue'>**Out-of-sample Sharpe Ratio of 1.3141 is significantly LOWER than in-sample Sharpe Ratio of 0.5761. It says that portfolio weights calculated on the basis of historical (train) data has low quality prediction ability, i.e., it is not a good idea to simply interpolate historical MV portfolio weights into the future.**</span>"
      ],
      "text/plain": [
       "<IPython.core.display.Markdown object>"
      ]
     },
     "metadata": {},
     "output_type": "display_data"
    }
   ],
   "source": [
    "printmd('**Out-of-sample Sharpe Ratio of {:.4f} is significantly LOWER than in-sample Sharpe Ratio of {:.4f}. It says that portfolio weights calculated on the basis of historical (train) data has low quality prediction ability, i.e., it is not a good idea to simply interpolate historical MV portfolio weights into the future.**'.format(SR_wp_train, SR_wp_test), color='blue')"
   ]
  },
  {
   "cell_type": "markdown",
   "metadata": {},
   "source": [
    "## (e)\n",
    "**How does this out-of-sample Sharpe compare to the 2017-2019 performance of a portfolio\n",
    "optimized to** $\\mu^p$ **using 2017-2019 data?**"
   ]
  },
  {
   "cell_type": "code",
   "execution_count": 360,
   "metadata": {},
   "outputs": [
    {
     "name": "stdout",
     "output_type": "stream",
     "text": [
      "Portfolio allocatoin to risky asset classes = -1.1493 = -114.93%\n"
     ]
    },
    {
     "data": {
      "text/markdown": [
       "<span style='color:blue'>**Mean-Variance test-portfolio weights for 11 assets:**</span>"
      ],
      "text/plain": [
       "<IPython.core.display.Markdown object>"
      ]
     },
     "metadata": {},
     "output_type": "display_data"
    },
    {
     "data": {
      "text/html": [
       "<div>\n",
       "<style scoped>\n",
       "    .dataframe tbody tr th:only-of-type {\n",
       "        vertical-align: middle;\n",
       "    }\n",
       "\n",
       "    .dataframe tbody tr th {\n",
       "        vertical-align: top;\n",
       "    }\n",
       "\n",
       "    .dataframe thead th {\n",
       "        text-align: right;\n",
       "    }\n",
       "</style>\n",
       "<table border=\"1\" class=\"dataframe\">\n",
       "  <thead>\n",
       "    <tr style=\"text-align: right;\">\n",
       "      <th></th>\n",
       "      <th>MV test weights</th>\n",
       "    </tr>\n",
       "  </thead>\n",
       "  <tbody>\n",
       "    <tr>\n",
       "      <th>Domestic Equity</th>\n",
       "      <td>0.576990</td>\n",
       "    </tr>\n",
       "    <tr>\n",
       "      <th>Foreign Equity</th>\n",
       "      <td>0.037294</td>\n",
       "    </tr>\n",
       "    <tr>\n",
       "      <th>Emerging Markets</th>\n",
       "      <td>0.081309</td>\n",
       "    </tr>\n",
       "    <tr>\n",
       "      <th>Private Equity</th>\n",
       "      <td>0.056651</td>\n",
       "    </tr>\n",
       "    <tr>\n",
       "      <th>Absolute Return</th>\n",
       "      <td>-1.919904</td>\n",
       "    </tr>\n",
       "    <tr>\n",
       "      <th>High Yield</th>\n",
       "      <td>-0.300106</td>\n",
       "    </tr>\n",
       "    <tr>\n",
       "      <th>Commodities</th>\n",
       "      <td>0.082226</td>\n",
       "    </tr>\n",
       "    <tr>\n",
       "      <th>Real Estate</th>\n",
       "      <td>0.000031</td>\n",
       "    </tr>\n",
       "    <tr>\n",
       "      <th>Domestic Bonds</th>\n",
       "      <td>0.973072</td>\n",
       "    </tr>\n",
       "    <tr>\n",
       "      <th>Foreign Bonds</th>\n",
       "      <td>0.087428</td>\n",
       "    </tr>\n",
       "    <tr>\n",
       "      <th>Inflation-Indexed</th>\n",
       "      <td>-0.824258</td>\n",
       "    </tr>\n",
       "  </tbody>\n",
       "</table>\n",
       "</div>"
      ],
      "text/plain": [
       "                   MV test weights\n",
       "Domestic Equity           0.576990\n",
       "Foreign Equity            0.037294\n",
       "Emerging Markets          0.081309\n",
       "Private Equity            0.056651\n",
       "Absolute Return          -1.919904\n",
       "High Yield               -0.300106\n",
       "Commodities               0.082226\n",
       "Real Estate               0.000031\n",
       "Domestic Bonds            0.973072\n",
       "Foreign Bonds             0.087428\n",
       "Inflation-Indexed        -0.824258"
      ]
     },
     "metadata": {},
     "output_type": "display_data"
    },
    {
     "data": {
      "text/markdown": [
       "<span style='color:blue'>\n",
       "Check the sum of test MV portfolio weights: -1.1493</span>"
      ],
      "text/plain": [
       "<IPython.core.display.Markdown object>"
      ]
     },
     "metadata": {},
     "output_type": "display_data"
    }
   ],
   "source": [
    "# Calculate weights of tangency portfolio\n",
    "mean_test = test.mean()*12\n",
    "std_test = test.std()*np.sqrt(12)\n",
    "Sigma_test = test.cov()*12\n",
    "Sigma_inv_test = inv(Sigma_test)\n",
    "ones_test = np.ones(Sigma_test.shape[1])\n",
    "\n",
    "w_tan_test = ( Sigma_inv_test @ mean_test ) / ( ones_test.T @ Sigma_inv_test @ mean_test )\n",
    "# print('Tangency 11-asset-classes-test-portfolio weights: \\n {} \\n'.format(w_tan_test))\n",
    "\n",
    "# print('Check that test weights sum to one: {:.4f}'.format(sum(w_tan_test)))\n",
    "\n",
    "# Calculate delta (i.e., portfolio allocation to risky asset classes)\n",
    "target_return = 0.005*12\n",
    "delta_test = target_return * ( ones_test.T @ Sigma_inv_test @ mean_test ) / ( mean_test.T @ Sigma_inv_test @ mean_test )\n",
    "print('Portfolio allocatoin to risky asset classes = {:.4f} = {:.2f}%'.format(delta_test, delta_test*100))\n",
    "\n",
    "# Calculate Mean-Variance portfolio weights\n",
    "wp_test = delta_test * w_tan_test\n",
    "# print('MV 11-asset-classes-test-portfolio weights: \\n {} \\n'.format(wp_test))\n",
    "\n",
    "# print('Check the sum of test-MV-portfolio weights: {:.4f}'.format(sum(wp_test)))\n",
    "\n",
    "printmd('**Mean-Variance test-portfolio weights for 11 assets:**', color='blue')\n",
    "display(pd.DataFrame(np.array(wp_test), test.columns.values, columns=['MV test weights']))\n",
    "printmd('\\nCheck the sum of test MV portfolio weights: {:.4f}'.format(sum(wp_test)), color='blue')"
   ]
  },
  {
   "cell_type": "code",
   "execution_count": 362,
   "metadata": {},
   "outputs": [
    {
     "data": {
      "text/markdown": [
       "<span style='color:blue'>**MV test portfolio Mean = 0.0600**</span>"
      ],
      "text/plain": [
       "<IPython.core.display.Markdown object>"
      ]
     },
     "metadata": {},
     "output_type": "display_data"
    },
    {
     "data": {
      "text/markdown": [
       "<span style='color:blue'>**MV test portfolio Volatility = 0.0210 = 2.10%**</span>"
      ],
      "text/plain": [
       "<IPython.core.display.Markdown object>"
      ]
     },
     "metadata": {},
     "output_type": "display_data"
    },
    {
     "data": {
      "text/markdown": [
       "<span style='color:blue'>**MV test portfolio Sharpe Ratio = 2.852554**</span>"
      ],
      "text/plain": [
       "<IPython.core.display.Markdown object>"
      ]
     },
     "metadata": {},
     "output_type": "display_data"
    }
   ],
   "source": [
    "mean_wp_test_act = (mean_test @ wp_test)\n",
    "std_wp_test_act = np.sqrt(wp_test.T @ Sigma_test @ wp_test)\n",
    "SR_wp_test_act = mean_wp_test_act / std_wp_test_act\n",
    "\n",
    "printmd('**MV test portfolio Mean = {:.4f}**'.format(mean_wp_test_act), color='blue')\n",
    "printmd('**MV test portfolio Volatility = {:.4f} = {:.2f}%**'.format(std_wp_test_act, std_wp_test_act*100), color='blue')\n",
    "printmd('**MV test portfolio Sharpe Ratio = {:.6f}**'.format(SR_wp_test_act), color='blue')"
   ]
  },
  {
   "cell_type": "code",
   "execution_count": 376,
   "metadata": {},
   "outputs": [
    {
     "data": {
      "text/markdown": [
       "<span style='color:blue'>Mean return and std.dev. on asset classes during in-sample period are equal to 0.0039 and 0.0228 respectively.</span>"
      ],
      "text/plain": [
       "<IPython.core.display.Markdown object>"
      ]
     },
     "metadata": {},
     "output_type": "display_data"
    },
    {
     "data": {
      "text/markdown": [
       "<span style='color:blue'>Mean return and std.dev. on asset classes during out-of-sample period are equal to 0.0042 and 0.0146 respectively.</span>"
      ],
      "text/plain": [
       "<IPython.core.display.Markdown object>"
      ]
     },
     "metadata": {},
     "output_type": "display_data"
    },
    {
     "data": {
      "text/markdown": [
       "<span style='color:blue'>**Sharpe Ratio of MV portfolio optimized on out-of-sample portfolio weights is significantly HIGHER than the one for portfolio optmized using in-sample portfolio weights. This can be due to different market conditioins in out-of-sample period in comparison to in-sample period.**</span>"
      ],
      "text/plain": [
       "<IPython.core.display.Markdown object>"
      ]
     },
     "metadata": {},
     "output_type": "display_data"
    }
   ],
   "source": [
    "printmd('Mean return and std.dev. on asset classes during in-sample period are equal to {:.4f} and {:.4f} respectively.'.format(train.mean().mean(), train.std().std()), color='blue')\n",
    "printmd('Mean return and std.dev. on asset classes during out-of-sample period are equal to {:.4f} and {:.4f} respectively.'.format(test.mean().mean(), test.std().std()), color='blue')\n",
    "\n",
    "printmd('**Sharpe Ratio of MV portfolio optimized on out-of-sample portfolio weights is significantly HIGHER than the one for portfolio optmized using in-sample portfolio weights. This can be due to different market conditioins in out-of-sample period in comparison to in-sample period.**',color='blue')"
   ]
  },
  {
   "cell_type": "markdown",
   "metadata": {},
   "source": [
    "## (f)\n",
    "**Recalculate** $\\mathbf{w}^p$ **on 2000-2016 data using the diaganolized covariance matrix,** $\\Sigma^D$. **What is the performance of this portfolio in 2017-2019? Does it do better out of of sample than the\n",
    "portfolio constructed on 2000-2016 data using the full covariance matrix?**"
   ]
  },
  {
   "cell_type": "code",
   "execution_count": 380,
   "metadata": {},
   "outputs": [
    {
     "name": "stdout",
     "output_type": "stream",
     "text": [
      "Portfolio allocatoin to risky asset classes = 1.3907 = 139.07%\n"
     ]
    },
    {
     "data": {
      "text/markdown": [
       "<span style='color:blue'>**MV 11-asset-classes-train-portfolio weights w/ diag.Sigma:**</span>"
      ],
      "text/plain": [
       "<IPython.core.display.Markdown object>"
      ]
     },
     "metadata": {},
     "output_type": "display_data"
    },
    {
     "data": {
      "text/html": [
       "<div>\n",
       "<style scoped>\n",
       "    .dataframe tbody tr th:only-of-type {\n",
       "        vertical-align: middle;\n",
       "    }\n",
       "\n",
       "    .dataframe tbody tr th {\n",
       "        vertical-align: top;\n",
       "    }\n",
       "\n",
       "    .dataframe thead th {\n",
       "        text-align: right;\n",
       "    }\n",
       "</style>\n",
       "<table border=\"1\" class=\"dataframe\">\n",
       "  <thead>\n",
       "    <tr style=\"text-align: right;\">\n",
       "      <th></th>\n",
       "      <th>MV train weights w/ diag.Sigma</th>\n",
       "    </tr>\n",
       "  </thead>\n",
       "  <tbody>\n",
       "    <tr>\n",
       "      <th>Domestic Equity</th>\n",
       "      <td>0.064275</td>\n",
       "    </tr>\n",
       "    <tr>\n",
       "      <th>Foreign Equity</th>\n",
       "      <td>0.053001</td>\n",
       "    </tr>\n",
       "    <tr>\n",
       "      <th>Emerging Markets</th>\n",
       "      <td>0.070648</td>\n",
       "    </tr>\n",
       "    <tr>\n",
       "      <th>Private Equity</th>\n",
       "      <td>0.004291</td>\n",
       "    </tr>\n",
       "    <tr>\n",
       "      <th>Absolute Return</th>\n",
       "      <td>0.380828</td>\n",
       "    </tr>\n",
       "    <tr>\n",
       "      <th>High Yield</th>\n",
       "      <td>0.106318</td>\n",
       "    </tr>\n",
       "    <tr>\n",
       "      <th>Commodities</th>\n",
       "      <td>0.006073</td>\n",
       "    </tr>\n",
       "    <tr>\n",
       "      <th>Real Estate</th>\n",
       "      <td>0.075410</td>\n",
       "    </tr>\n",
       "    <tr>\n",
       "      <th>Domestic Bonds</th>\n",
       "      <td>0.294194</td>\n",
       "    </tr>\n",
       "    <tr>\n",
       "      <th>Foreign Bonds</th>\n",
       "      <td>0.055019</td>\n",
       "    </tr>\n",
       "    <tr>\n",
       "      <th>Inflation-Indexed</th>\n",
       "      <td>0.280650</td>\n",
       "    </tr>\n",
       "  </tbody>\n",
       "</table>\n",
       "</div>"
      ],
      "text/plain": [
       "                   MV train weights w/ diag.Sigma\n",
       "Domestic Equity                          0.064275\n",
       "Foreign Equity                           0.053001\n",
       "Emerging Markets                         0.070648\n",
       "Private Equity                           0.004291\n",
       "Absolute Return                          0.380828\n",
       "High Yield                               0.106318\n",
       "Commodities                              0.006073\n",
       "Real Estate                              0.075410\n",
       "Domestic Bonds                           0.294194\n",
       "Foreign Bonds                            0.055019\n",
       "Inflation-Indexed                        0.280650"
      ]
     },
     "metadata": {},
     "output_type": "display_data"
    },
    {
     "data": {
      "text/markdown": [
       "<span style='color:blue'>\n",
       "Check the sum of test MV portfolio weights w/ diag.Sigma: 1.3907</span>"
      ],
      "text/plain": [
       "<IPython.core.display.Markdown object>"
      ]
     },
     "metadata": {},
     "output_type": "display_data"
    }
   ],
   "source": [
    "Sigma_train = train.cov()*12\n",
    "for i in Sigma_train:\n",
    "    for j in Sigma_train:\n",
    "        if i != j:\n",
    "            Sigma_train[i][j] = 0\n",
    "Sigma_inv_train = inv(Sigma_train)\n",
    "\n",
    "w_tan_train = ( Sigma_inv_train @ mean_train ) / ( ones_train.T @ Sigma_inv_train @ mean_train )\n",
    "# print('Tangency 11-asset-classes-train-portfolio weights: \\n {} \\n'.format(w_tan_train))\n",
    "\n",
    "# print('Check that train weights sum to one: {:.4f}'.format(sum(w_tan_train)))\n",
    "\n",
    "# Calculate delta (i.e., portfolio allocation to risky asset classes)\n",
    "target_return = 0.005*12\n",
    "delta_train = target_return * ( ones_train.T @ Sigma_inv_train @ mean_train ) / ( mean_train.T @ Sigma_inv_train @ mean_train )\n",
    "print('Portfolio allocatoin to risky asset classes = {:.4f} = {:.2f}%'.format(delta_train, delta_train*100))\n",
    "\n",
    "# Calculate Mean-Variance portfolio weights\n",
    "wp_train = delta_train * w_tan_train\n",
    "# print('MV 11-asset-classes-train-portfolio weights: \\n {} \\n'.format(wp_train))\n",
    "\n",
    "# print('Check the sum of train-MV-portfolio weights: {:.4f}'.format(sum(wp_train)))\n",
    "\n",
    "printmd('**MV 11-asset-classes-train-portfolio weights w/ diag.Sigma:**', color='blue')\n",
    "display(pd.DataFrame(np.array(wp_train), train.columns.values, columns=['MV train weights w/ diag.Sigma']))\n",
    "printmd('\\nCheck the sum of test MV portfolio weights w/ diag.Sigma: {:.4f}'.format(sum(wp_train)), color='blue')"
   ]
  },
  {
   "cell_type": "code",
   "execution_count": 384,
   "metadata": {},
   "outputs": [
    {
     "data": {
      "text/markdown": [
       "<span style='color:blue'>**MV test portfolio Mean w/ Diag.Cov = 0.0487**</span>"
      ],
      "text/plain": [
       "<IPython.core.display.Markdown object>"
      ]
     },
     "metadata": {},
     "output_type": "display_data"
    },
    {
     "data": {
      "text/markdown": [
       "<span style='color:blue'>**MV test portfolio Mean = 0.0204**</span>"
      ],
      "text/plain": [
       "<IPython.core.display.Markdown object>"
      ]
     },
     "metadata": {},
     "output_type": "display_data"
    },
    {
     "name": "stdout",
     "output_type": "stream",
     "text": [
      "\n"
     ]
    },
    {
     "data": {
      "text/markdown": [
       "<span style='color:blue'>**MV test portfolio Volatility w/ Diag.Cov = 0.0518 = 5.18%**</span>"
      ],
      "text/plain": [
       "<IPython.core.display.Markdown object>"
      ]
     },
     "metadata": {},
     "output_type": "display_data"
    },
    {
     "data": {
      "text/markdown": [
       "<span style='color:blue'>**MV test portfolio Volatility = 0.0354 = 3.54%**</span>"
      ],
      "text/plain": [
       "<IPython.core.display.Markdown object>"
      ]
     },
     "metadata": {},
     "output_type": "display_data"
    },
    {
     "name": "stdout",
     "output_type": "stream",
     "text": [
      "\n"
     ]
    },
    {
     "data": {
      "text/markdown": [
       "<span style='color:blue'>**MV test portfolio Sharpe Ratio w/ Diag.Cov = 0.9402**</span>"
      ],
      "text/plain": [
       "<IPython.core.display.Markdown object>"
      ]
     },
     "metadata": {},
     "output_type": "display_data"
    },
    {
     "data": {
      "text/markdown": [
       "<span style='color:blue'>**MV test portfolio Sharpe Ratio = 0.5761**</span>"
      ],
      "text/plain": [
       "<IPython.core.display.Markdown object>"
      ]
     },
     "metadata": {},
     "output_type": "display_data"
    },
    {
     "name": "stdout",
     "output_type": "stream",
     "text": [
      "\n"
     ]
    },
    {
     "data": {
      "text/markdown": [
       "<span style='color:blue'>**Portfolio with diagonalized covariance matrix performs BETTER on out-of-sample data than portfolio with an actual covariance matrix.**</span>"
      ],
      "text/plain": [
       "<IPython.core.display.Markdown object>"
      ]
     },
     "metadata": {},
     "output_type": "display_data"
    }
   ],
   "source": [
    "mean_wp_test_diag = (mean_test @ wp_train)\n",
    "std_wp_test_diag = np.sqrt(wp_train.T @ Sigma_test @ wp_train)\n",
    "SR_wp_test_diag = mean_wp_test_diag / std_wp_test_diag\n",
    "\n",
    "printmd('**MV test portfolio Mean w/ Diag.Cov = {:.4f}**'.format(mean_wp_test_diag), color='blue')\n",
    "printmd('**MV test portfolio Mean = {:.4f}**'.format(mean_wp_test), color='blue')\n",
    "print()\n",
    "printmd('**MV test portfolio Volatility w/ Diag.Cov = {:.4f} = {:.2f}%**'.format(std_wp_test_diag, std_wp_test_diag*100), color='blue')\n",
    "printmd('**MV test portfolio Volatility = {:.4f} = {:.2f}%**'.format(std_wp_test, std_wp_test*100), color='blue')\n",
    "print()\n",
    "printmd('**MV test portfolio Sharpe Ratio w/ Diag.Cov = {:.4f}**'.format(SR_wp_test_diag), color='blue')\n",
    "printmd('**MV test portfolio Sharpe Ratio = {:.4f}**'.format(SR_wp_test), color='blue')\n",
    "print()\n",
    "printmd('**Portfolio with diagonalized covariance matrix performs BETTER on out-of-sample data than portfolio with an actual covariance matrix.**', color='blue')"
   ]
  },
  {
   "cell_type": "markdown",
   "metadata": {},
   "source": [
    "# 3. Theory Preview "
   ]
  },
  {
   "cell_type": "markdown",
   "metadata": {},
   "source": [
    "## 3.1. \n",
    "\n",
    "**Use your base solution for the full-sample data calculated in the previous section:** $\\mathbf{w}^{tan}$. **Denote the return series of this tangency portfolio as** $\\tilde{r}^{tan}$."
   ]
  },
  {
   "cell_type": "markdown",
   "metadata": {},
   "source": [
    "## (a)\n",
    "\n",
    "**Calculate the correlation between** $\\tilde{r}^{tan}$ **and each of the 11 underlying assets:** $\\rho_{i,tan}$ **for** $i=1,\\dots,11$."
   ]
  },
  {
   "cell_type": "code",
   "execution_count": 74,
   "metadata": {},
   "outputs": [
    {
     "name": "stdout",
     "output_type": "stream",
     "text": [
      "Tangency portfolio weights: \n",
      " [-0.03853781 -0.23046151  0.19168279  0.09022063  0.67743656  0.30198112\n",
      " -0.06487512 -0.1202229   0.70103613 -0.3537901  -0.15446978] \n",
      "\n",
      "Check that weights sum to one: 1.0000\n"
     ]
    }
   ],
   "source": [
    "mean = data_ex.mean()*12\n",
    "std = data_ex.std()*np.sqrt(12)\n",
    "Sigma = data_ex.cov()*12 \n",
    "inv_Sigma = inv(Sigma)\n",
    "ones = np.ones(Sigma.shape[1])\n",
    "\n",
    "w_tan = ( inv_Sigma @ mean ) / ( ones.T @ inv_Sigma @ mean )\n",
    "print('Tangency portfolio weights: \\n {} \\n'.format(w_tan))\n",
    "print('Check that weights sum to one: {:.4f}'.format(sum(w_tan)))"
   ]
  },
  {
   "cell_type": "code",
   "execution_count": 116,
   "metadata": {},
   "outputs": [
    {
     "name": "stdout",
     "output_type": "stream",
     "text": [
      "The highest correlation of returns is observed for tangency portfolio and Domestic Bonds, and is equal to 0.5343\n",
      "The lowest correlation of returns is observed for tangency portfolio and Commodities, and is equal to -0.1831\n"
     ]
    }
   ],
   "source": [
    "# Calculate return series for tangency portfolio\n",
    "r_tan = []\n",
    "for i in range(data_ex.shape[0]):\n",
    "    r_tan.append(w_tan.T @ np.array(data_ex)[i]) \n",
    "    \n",
    "df = data_ex.copy()\n",
    "df['r_tan'] = r_tan\n",
    "\n",
    "# Calculate Correlation b/t tangency portfolio returns and each asset class returns\n",
    "corr = df.corr()\n",
    "print('The highest correlation of returns is observed for tangency portfolio and {}, and is equal to {:.4f}'.format(corr['r_tan'][:-1].idxmax(), corr['r_tan'][:-1].max()))\n",
    "print('The lowest correlation of returns is observed for tangency portfolio and {}, and is equal to {:.4f}'.format(corr['r_tan'][:-1].idxmin(), corr['r_tan'][:-1].min()))"
   ]
  },
  {
   "cell_type": "code",
   "execution_count": 139,
   "metadata": {},
   "outputs": [
    {
     "name": "stdout",
     "output_type": "stream",
     "text": [
      "Weight of Domestic Bonds in tangency portfolio = 0.7010\n",
      "The highest weight in tangency portfolio in general = 0.7010 = Domestic Bonds\n",
      "Thus, we can conclude that results of highest correlation are consistent with tangency portfolio weights \n",
      "\n",
      "Weight of Commodities in tangency portfolio = -0.0649\n",
      "The lowest weight in tangency portfolio in general = -0.3538 = Foreign Bonds\n"
     ]
    }
   ],
   "source": [
    "check = pd.DataFrame(w_tan, data_ex.columns.values, columns=['w_tan'])\n",
    "print('Weight of Domestic Bonds in tangency portfolio = {:.4f}'.format(check['w_tan']['Domestic Bonds']))\n",
    "print('The highest weight in tangency portfolio in general = {:.4f} = {}'.format(check['w_tan'].max(), check['w_tan'].idxmax()))\n",
    "print('Thus, we can conclude that results of highest correlation are consistent with tangency portfolio weights \\n')\n",
    "\n",
    "print('Weight of Commodities in tangency portfolio = {:.4f}'.format(check['w_tan']['Commodities']))\n",
    "print('The lowest weight in tangency portfolio in general = {:.4f} = {}'.format(check['w_tan'].min(), check['w_tan'].idxmin()))\n",
    "# print('Thus, we can conclude that results of lowest correlation are consistent with tangency portfolio weights')"
   ]
  },
  {
   "cell_type": "markdown",
   "metadata": {},
   "source": [
    "We see that lowest correlation of returns does not correspond to the lowest weight in tangency portfolio. It can be due to the fact that not all asset classes were traded for the whole period under consideration, i.e., from Jan 2000 to Sep 2019. Let us scheck this by calculation number of non-NaN return values for each asset class."
   ]
  },
  {
   "cell_type": "code",
   "execution_count": 153,
   "metadata": {},
   "outputs": [
    {
     "data": {
      "text/plain": [
       "Domestic Equity      237\n",
       "Foreign Equity       218\n",
       "Emerging Markets     198\n",
       "Private Equity       156\n",
       "Absolute Return      127\n",
       "High Yield           150\n",
       "Commodities          237\n",
       "Real Estate          232\n",
       "Domestic Bonds       207\n",
       "Foreign Bonds        144\n",
       "Inflation-Indexed    190\n",
       "dtype: int64"
      ]
     },
     "execution_count": 153,
     "metadata": {},
     "output_type": "execute_result"
    }
   ],
   "source": [
    "data_ex.count()"
   ]
  },
  {
   "cell_type": "code",
   "execution_count": 147,
   "metadata": {},
   "outputs": [
    {
     "data": {
      "text/plain": [
       "Domestic Equity      0.075274\n",
       "Foreign Equity       0.024574\n",
       "Emerging Markets     0.255498\n",
       "Private Equity       0.144467\n",
       "Absolute Return      0.382385\n",
       "High Yield           0.330105\n",
       "Commodities         -0.183122\n",
       "Real Estate          0.167301\n",
       "Domestic Bonds       0.534253\n",
       "Foreign Bonds        0.135540\n",
       "Inflation-Indexed    0.430917\n",
       "r_tan                1.000000\n",
       "Name: r_tan, dtype: float64"
      ]
     },
     "execution_count": 147,
     "metadata": {},
     "output_type": "execute_result"
    }
   ],
   "source": [
    "corr['r_tan']"
   ]
  },
  {
   "cell_type": "markdown",
   "metadata": {},
   "source": [
    "As we can see, returns on Foreign Bonds have only 144 non-NaN return values and the 4th smallest correlation with tangency portfolio returns. Asset classes with higher lower correlaton have almost 100 more non-NaN entries. Exstence of high number of NaN values leads to the fact that we can observe dscrepancy between lowest tangency portfolio weight and lowest correlaton with tangency portfolio retuns."
   ]
  },
  {
   "cell_type": "markdown",
   "metadata": {},
   "source": [
    "## (b)\n",
    "\n",
    "**Calculate the Sharpe ratio of the tangency portfolio returns** $\\tilde{r}^{tan}$"
   ]
  },
  {
   "cell_type": "code",
   "execution_count": null,
   "metadata": {},
   "outputs": [],
   "source": [
    "SR = mean / std"
   ]
  },
  {
   "cell_type": "code",
   "execution_count": 158,
   "metadata": {},
   "outputs": [
    {
     "name": "stdout",
     "output_type": "stream",
     "text": [
      "Sharpe Ratio of tangency portfolio returns = 0.8743\n"
     ]
    }
   ],
   "source": [
    "r_tan_mean = df['r_tan'].mean()*12\n",
    "r_tan_std = df['r_tan'].std()*np.sqrt(12)\n",
    "r_tan_SR = r_tan_mean / r_tan_std\n",
    "print('Sharpe Ratio of tangency portfolio returns = {:.4f}'.format(r_tan_SR))"
   ]
  },
  {
   "cell_type": "markdown",
   "metadata": {},
   "source": [
    "## (c)\n",
    "\n",
    "**For each asset,** $i$, **calculate the following comparison for each asset and determine whether\n",
    "it is** $>,=,<$ :\n",
    "\n",
    "$$ \\frac{\\tilde{\\mu}_i}{\\sigma_i} {> \\above 0pt {= \\above 0pt <}} \\frac{\\tilde{\\mu}_{tan}}{\\sigma_{tan}}$$\n"
   ]
  },
  {
   "cell_type": "markdown",
   "metadata": {},
   "source": [
    "Should be equal !"
   ]
  },
  {
   "cell_type": "code",
   "execution_count": 188,
   "metadata": {},
   "outputs": [
    {
     "data": {
      "text/html": [
       "<div>\n",
       "<style scoped>\n",
       "    .dataframe tbody tr th:only-of-type {\n",
       "        vertical-align: middle;\n",
       "    }\n",
       "\n",
       "    .dataframe tbody tr th {\n",
       "        vertical-align: top;\n",
       "    }\n",
       "\n",
       "    .dataframe thead th {\n",
       "        text-align: right;\n",
       "    }\n",
       "</style>\n",
       "<table border=\"1\" class=\"dataframe\">\n",
       "  <thead>\n",
       "    <tr style=\"text-align: right;\">\n",
       "      <th></th>\n",
       "      <th>mean</th>\n",
       "      <th>std</th>\n",
       "      <th>ratio</th>\n",
       "      <th>sign</th>\n",
       "    </tr>\n",
       "  </thead>\n",
       "  <tbody>\n",
       "    <tr>\n",
       "      <th>Domestic Equity</th>\n",
       "      <td>0.055121</td>\n",
       "      <td>0.145691</td>\n",
       "      <td>0.378341</td>\n",
       "      <td>&lt;</td>\n",
       "    </tr>\n",
       "    <tr>\n",
       "      <th>Foreign Equity</th>\n",
       "      <td>0.0539376</td>\n",
       "      <td>0.167595</td>\n",
       "      <td>0.321833</td>\n",
       "      <td>&lt;</td>\n",
       "    </tr>\n",
       "    <tr>\n",
       "      <th>Emerging Markets</th>\n",
       "      <td>0.110653</td>\n",
       "      <td>0.218556</td>\n",
       "      <td>0.50629</td>\n",
       "      <td>&lt;</td>\n",
       "    </tr>\n",
       "    <tr>\n",
       "      <th>Private Equity</th>\n",
       "      <td>0.026308</td>\n",
       "      <td>0.251229</td>\n",
       "      <td>0.104717</td>\n",
       "      <td>&lt;</td>\n",
       "    </tr>\n",
       "    <tr>\n",
       "      <th>Absolute Return</th>\n",
       "      <td>0.0232276</td>\n",
       "      <td>0.0442316</td>\n",
       "      <td>0.525135</td>\n",
       "      <td>&lt;</td>\n",
       "    </tr>\n",
       "    <tr>\n",
       "      <th>High Yield</th>\n",
       "      <td>0.0494174</td>\n",
       "      <td>0.111721</td>\n",
       "      <td>0.44233</td>\n",
       "      <td>&lt;</td>\n",
       "    </tr>\n",
       "    <tr>\n",
       "      <th>Commodities</th>\n",
       "      <td>0.00801034</td>\n",
       "      <td>0.223107</td>\n",
       "      <td>0.0359036</td>\n",
       "      <td>&lt;</td>\n",
       "    </tr>\n",
       "    <tr>\n",
       "      <th>Real Estate</th>\n",
       "      <td>0.106161</td>\n",
       "      <td>0.200801</td>\n",
       "      <td>0.528689</td>\n",
       "      <td>&lt;</td>\n",
       "    </tr>\n",
       "    <tr>\n",
       "      <th>Domestic Bonds</th>\n",
       "      <td>0.0393722</td>\n",
       "      <td>0.0631317</td>\n",
       "      <td>0.623652</td>\n",
       "      <td>&lt;</td>\n",
       "    </tr>\n",
       "    <tr>\n",
       "      <th>Foreign Bonds</th>\n",
       "      <td>0.0183234</td>\n",
       "      <td>0.0840428</td>\n",
       "      <td>0.218025</td>\n",
       "      <td>&lt;</td>\n",
       "    </tr>\n",
       "    <tr>\n",
       "      <th>Inflation-Indexed</th>\n",
       "      <td>0.0301668</td>\n",
       "      <td>0.0564824</td>\n",
       "      <td>0.534092</td>\n",
       "      <td>&lt;</td>\n",
       "    </tr>\n",
       "    <tr>\n",
       "      <th>r_tan</th>\n",
       "      <td>0.0389493</td>\n",
       "      <td>0.04455</td>\n",
       "      <td>0.874283</td>\n",
       "      <td>NaN</td>\n",
       "    </tr>\n",
       "  </tbody>\n",
       "</table>\n",
       "</div>"
      ],
      "text/plain": [
       "                         mean        std      ratio sign\n",
       "Domestic Equity      0.055121   0.145691   0.378341    <\n",
       "Foreign Equity      0.0539376   0.167595   0.321833    <\n",
       "Emerging Markets     0.110653   0.218556    0.50629    <\n",
       "Private Equity       0.026308   0.251229   0.104717    <\n",
       "Absolute Return     0.0232276  0.0442316   0.525135    <\n",
       "High Yield          0.0494174   0.111721    0.44233    <\n",
       "Commodities        0.00801034   0.223107  0.0359036    <\n",
       "Real Estate          0.106161   0.200801   0.528689    <\n",
       "Domestic Bonds      0.0393722  0.0631317   0.623652    <\n",
       "Foreign Bonds       0.0183234  0.0840428   0.218025    <\n",
       "Inflation-Indexed   0.0301668  0.0564824   0.534092    <\n",
       "r_tan               0.0389493    0.04455   0.874283  NaN"
      ]
     },
     "execution_count": 188,
     "metadata": {},
     "output_type": "execute_result"
    }
   ],
   "source": [
    "summary = pd.DataFrame(index=df.columns.values, columns=['mean', 'std', 'ratio', 'sign'])\n",
    "for asset in df:\n",
    "    summary['mean'][asset] = df[asset].mean()*12\n",
    "    summary['std'][asset] = df[asset].std()*np.sqrt(12)\n",
    "summary['ratio'] = summary['mean'] / summary['std']\n",
    "\n",
    "for asset in summary[:-1].index.values:\n",
    "    if summary['ratio'][asset] > summary['ratio']['r_tan']:\n",
    "        summary['sign'][asset] = '>'\n",
    "    elif summary['ratio'][asset] < summary['ratio']['r_tan']:\n",
    "        summary['sign'][asset] = '<'\n",
    "    elif summary['ratio'][asset] == summary['ratio']['r_tan']:\n",
    "        summary['sign'][asset] = '='\n",
    "        \n",
    "summary"
   ]
  },
  {
   "cell_type": "markdown",
   "metadata": {},
   "source": [
    "## (d)\n",
    "\n",
    "**What do you see? Do you think this is a coincidence?**"
   ]
  },
  {
   "cell_type": "markdown",
   "metadata": {},
   "source": [
    "We can see that ratio of mean to standard deviation of each asset class returns is LESS than this ratio for tangency portfolio returns! I believe it is not coincdence as we aimed to create portfolio which will have higher return and lower risk in comparison to each asset taken individually. This is the main dea of portfolio construction. That is why we can say that it is not a coincidence."
   ]
  }
 ],
 "metadata": {
  "kernelspec": {
   "display_name": "Python 3",
   "language": "python",
   "name": "python3"
  },
  "language_info": {
   "codemirror_mode": {
    "name": "ipython",
    "version": 3
   },
   "file_extension": ".py",
   "mimetype": "text/x-python",
   "name": "python",
   "nbconvert_exporter": "python",
   "pygments_lexer": "ipython3",
   "version": "3.6.8"
  }
 },
 "nbformat": 4,
 "nbformat_minor": 2
}
