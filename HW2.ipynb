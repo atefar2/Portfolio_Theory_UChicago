{
 "cells": [
  {
   "cell_type": "markdown",
   "metadata": {},
   "source": [
    "<h3 align=\"right\"> October 19, 2019  </h3> \n",
    "\n",
    "<h3 align=\"center\"> Portfolio Theory and Risk Management I </h3> \n",
    "\n",
    "<h3 align=\"center\"> HW 2 Solution.  </h3> "
   ]
  },
  {
   "cell_type": "code",
   "execution_count": 18,
   "metadata": {},
   "outputs": [
    {
     "data": {
      "text/html": [
       "<div>\n",
       "<style scoped>\n",
       "    .dataframe tbody tr th:only-of-type {\n",
       "        vertical-align: middle;\n",
       "    }\n",
       "\n",
       "    .dataframe tbody tr th {\n",
       "        vertical-align: top;\n",
       "    }\n",
       "\n",
       "    .dataframe thead th {\n",
       "        text-align: right;\n",
       "    }\n",
       "</style>\n",
       "<table border=\"1\" class=\"dataframe\">\n",
       "  <thead>\n",
       "    <tr style=\"text-align: right;\">\n",
       "      <th></th>\n",
       "      <th>Excess MKT</th>\n",
       "      <th>decile 1</th>\n",
       "      <th>decile 2</th>\n",
       "      <th>decile 3</th>\n",
       "      <th>decile 4</th>\n",
       "      <th>decile 5</th>\n",
       "      <th>decile 6</th>\n",
       "      <th>decile 7</th>\n",
       "      <th>decile 8</th>\n",
       "      <th>decile 9</th>\n",
       "      <th>decile 10</th>\n",
       "    </tr>\n",
       "    <tr>\n",
       "      <th>Dates</th>\n",
       "      <th></th>\n",
       "      <th></th>\n",
       "      <th></th>\n",
       "      <th></th>\n",
       "      <th></th>\n",
       "      <th></th>\n",
       "      <th></th>\n",
       "      <th></th>\n",
       "      <th></th>\n",
       "      <th></th>\n",
       "      <th></th>\n",
       "    </tr>\n",
       "  </thead>\n",
       "  <tbody>\n",
       "    <tr>\n",
       "      <th>2018-06-30</th>\n",
       "      <td>0.0048</td>\n",
       "      <td>0.0163</td>\n",
       "      <td>0.0048</td>\n",
       "      <td>0.0195</td>\n",
       "      <td>0.0052</td>\n",
       "      <td>-0.0052</td>\n",
       "      <td>0.0052</td>\n",
       "      <td>0.0066</td>\n",
       "      <td>-0.0014</td>\n",
       "      <td>-0.0214</td>\n",
       "      <td>-0.0129</td>\n",
       "    </tr>\n",
       "    <tr>\n",
       "      <th>2018-07-31</th>\n",
       "      <td>0.0319</td>\n",
       "      <td>0.0354</td>\n",
       "      <td>0.0157</td>\n",
       "      <td>0.0484</td>\n",
       "      <td>0.0476</td>\n",
       "      <td>0.0328</td>\n",
       "      <td>0.0280</td>\n",
       "      <td>0.0177</td>\n",
       "      <td>0.0405</td>\n",
       "      <td>0.0400</td>\n",
       "      <td>0.0341</td>\n",
       "    </tr>\n",
       "    <tr>\n",
       "      <th>2018-08-31</th>\n",
       "      <td>0.0344</td>\n",
       "      <td>0.0633</td>\n",
       "      <td>0.0610</td>\n",
       "      <td>0.0199</td>\n",
       "      <td>0.0303</td>\n",
       "      <td>0.0215</td>\n",
       "      <td>0.0192</td>\n",
       "      <td>0.0082</td>\n",
       "      <td>0.0053</td>\n",
       "      <td>0.0120</td>\n",
       "      <td>0.0160</td>\n",
       "    </tr>\n",
       "  </tbody>\n",
       "</table>\n",
       "</div>"
      ],
      "text/plain": [
       "            Excess MKT  decile 1  decile 2  decile 3  decile 4  decile 5  \\\n",
       "Dates                                                                      \n",
       "2018-06-30      0.0048    0.0163    0.0048    0.0195    0.0052   -0.0052   \n",
       "2018-07-31      0.0319    0.0354    0.0157    0.0484    0.0476    0.0328   \n",
       "2018-08-31      0.0344    0.0633    0.0610    0.0199    0.0303    0.0215   \n",
       "\n",
       "            decile 6  decile 7  decile 8  decile 9  decile 10  \n",
       "Dates                                                          \n",
       "2018-06-30    0.0052    0.0066   -0.0014   -0.0214    -0.0129  \n",
       "2018-07-31    0.0280    0.0177    0.0405    0.0400     0.0341  \n",
       "2018-08-31    0.0192    0.0082    0.0053    0.0120     0.0160  "
      ]
     },
     "execution_count": 18,
     "metadata": {},
     "output_type": "execute_result"
    }
   ],
   "source": [
    "import pandas as pd\n",
    "import numpy as np\n",
    "import matplotlib.pyplot as plt\n",
    "from numpy.linalg import inv\n",
    "from IPython.display import Markdown, display\n",
    "import numpy as np\n",
    "import pandas as pd\n",
    "import statsmodels.formula.api as smf\n",
    "import statsmodels.api as sm\n",
    "import seaborn as sns\n",
    "sns.set_style(\"whitegrid\")\n",
    "def printmd(string, color=None):\n",
    "    colorstr = \"<span style='color:{}'>{}</span>\".format(color, string)\n",
    "    display(Markdown(colorstr))\n",
    "\n",
    "# monthly excess return data for the overall equity market\n",
    "factors_df = pd.read_excel('portfoliosFF.xlsx', 'FACTORS', index='Dates')\n",
    "factors_df = factors_df.set_index('Dates')\n",
    "\n",
    "# monthly excess return data on 10 equity portfolios sorted by their size-value\n",
    "size_df = pd.read_excel('portfoliosFF.xlsx', 'SIZE-VALUE', index='Dates')\n",
    "size_df = size_df.set_index('Dates')\n",
    "\n",
    "# monthly excess return data on 10 equity portfolios sorted by their market-beta values\n",
    "beta_df = pd.read_excel('portfoliosFF.xlsx', 'BETA', index='Dates') \n",
    "beta_df = beta_df.set_index('Dates')\n",
    "\n",
    "df = pd.concat([factors_df, size_df], sort=False, axis=1)\n",
    "df.tail(3)"
   ]
  },
  {
   "cell_type": "markdown",
   "metadata": {},
   "source": [
    "## 1. Summary Statistics. \n",
    "**For each portfolio, calculate both the Sharpe Ratio and Treynor Ratio.**"
   ]
  },
  {
   "cell_type": "markdown",
   "metadata": {},
   "source": [
    "$$ SR_i = \\frac{\\mathbf{r_i} - \\mathbf{r}^f}{\\sigma_i} = \\frac{\\tilde{\\mu_i}}{\\sigma_i} $$\n",
    "\n",
    "$$ TR = \\frac{\\mathbf{r_i} - \\mathbf{r}^f}{\\beta_{i,m}} = \\frac{\\tilde{\\mu_i}}{\\beta_{i,m}} $$"
   ]
  },
  {
   "cell_type": "code",
   "execution_count": 19,
   "metadata": {},
   "outputs": [
    {
     "data": {
      "text/html": [
       "<div>\n",
       "<style scoped>\n",
       "    .dataframe tbody tr th:only-of-type {\n",
       "        vertical-align: middle;\n",
       "    }\n",
       "\n",
       "    .dataframe tbody tr th {\n",
       "        vertical-align: top;\n",
       "    }\n",
       "\n",
       "    .dataframe thead th {\n",
       "        text-align: right;\n",
       "    }\n",
       "</style>\n",
       "<table border=\"1\" class=\"dataframe\">\n",
       "  <thead>\n",
       "    <tr style=\"text-align: right;\">\n",
       "      <th></th>\n",
       "      <th>beta_hat</th>\n",
       "      <th>volatility</th>\n",
       "      <th>ave_excess_ret</th>\n",
       "      <th>SR</th>\n",
       "      <th>TR</th>\n",
       "    </tr>\n",
       "  </thead>\n",
       "  <tbody>\n",
       "    <tr>\n",
       "      <th>decile 1</th>\n",
       "      <td>1.008719</td>\n",
       "      <td>0.196346</td>\n",
       "      <td>0.105161</td>\n",
       "      <td>0.535590</td>\n",
       "      <td>0.104252</td>\n",
       "    </tr>\n",
       "    <tr>\n",
       "      <th>decile 2</th>\n",
       "      <td>0.944682</td>\n",
       "      <td>0.182766</td>\n",
       "      <td>0.117659</td>\n",
       "      <td>0.643766</td>\n",
       "      <td>0.124548</td>\n",
       "    </tr>\n",
       "    <tr>\n",
       "      <th>decile 3</th>\n",
       "      <td>0.965873</td>\n",
       "      <td>0.185520</td>\n",
       "      <td>0.116240</td>\n",
       "      <td>0.626564</td>\n",
       "      <td>0.120347</td>\n",
       "    </tr>\n",
       "    <tr>\n",
       "      <th>decile 4</th>\n",
       "      <td>1.045314</td>\n",
       "      <td>0.203904</td>\n",
       "      <td>0.112173</td>\n",
       "      <td>0.550128</td>\n",
       "      <td>0.107311</td>\n",
       "    </tr>\n",
       "    <tr>\n",
       "      <th>decile 5</th>\n",
       "      <td>0.999567</td>\n",
       "      <td>0.196158</td>\n",
       "      <td>0.120817</td>\n",
       "      <td>0.615915</td>\n",
       "      <td>0.120869</td>\n",
       "    </tr>\n",
       "    <tr>\n",
       "      <th>decile 6</th>\n",
       "      <td>1.027670</td>\n",
       "      <td>0.206747</td>\n",
       "      <td>0.128362</td>\n",
       "      <td>0.620866</td>\n",
       "      <td>0.124906</td>\n",
       "    </tr>\n",
       "    <tr>\n",
       "      <th>decile 7</th>\n",
       "      <td>1.096930</td>\n",
       "      <td>0.221544</td>\n",
       "      <td>0.119077</td>\n",
       "      <td>0.537487</td>\n",
       "      <td>0.108555</td>\n",
       "    </tr>\n",
       "    <tr>\n",
       "      <th>decile 8</th>\n",
       "      <td>1.138070</td>\n",
       "      <td>0.231385</td>\n",
       "      <td>0.143277</td>\n",
       "      <td>0.619214</td>\n",
       "      <td>0.125894</td>\n",
       "    </tr>\n",
       "    <tr>\n",
       "      <th>decile 9</th>\n",
       "      <td>1.275712</td>\n",
       "      <td>0.264485</td>\n",
       "      <td>0.159861</td>\n",
       "      <td>0.604421</td>\n",
       "      <td>0.125311</td>\n",
       "    </tr>\n",
       "    <tr>\n",
       "      <th>decile 10</th>\n",
       "      <td>1.460254</td>\n",
       "      <td>0.317455</td>\n",
       "      <td>0.160239</td>\n",
       "      <td>0.504761</td>\n",
       "      <td>0.109733</td>\n",
       "    </tr>\n",
       "  </tbody>\n",
       "</table>\n",
       "</div>"
      ],
      "text/plain": [
       "           beta_hat  volatility  ave_excess_ret        SR        TR\n",
       "decile 1   1.008719    0.196346        0.105161  0.535590  0.104252\n",
       "decile 2   0.944682    0.182766        0.117659  0.643766  0.124548\n",
       "decile 3   0.965873    0.185520        0.116240  0.626564  0.120347\n",
       "decile 4   1.045314    0.203904        0.112173  0.550128  0.107311\n",
       "decile 5   0.999567    0.196158        0.120817  0.615915  0.120869\n",
       "decile 6   1.027670    0.206747        0.128362  0.620866  0.124906\n",
       "decile 7   1.096930    0.221544        0.119077  0.537487  0.108555\n",
       "decile 8   1.138070    0.231385        0.143277  0.619214  0.125894\n",
       "decile 9   1.275712    0.264485        0.159861  0.604421  0.125311\n",
       "decile 10  1.460254    0.317455        0.160239  0.504761  0.109733"
      ]
     },
     "execution_count": 19,
     "metadata": {},
     "output_type": "execute_result"
    }
   ],
   "source": [
    "SR_TR = pd.DataFrame(index = size_df.columns)\n",
    "\n",
    "rhs = sm.add_constant(df['Excess MKT'])\n",
    "\n",
    "for portfolio in SR_TR.index:\n",
    "    lhs = df[portfolio]\n",
    "    res = sm.OLS(lhs, rhs, missing='drop').fit()\n",
    "    SR_TR.loc[portfolio, 'beta_hat'] = res.params['Excess MKT']\n",
    "    SR_TR.loc[portfolio, 'volatility'] = df[portfolio].std()*np.sqrt(12) # annualize\n",
    "    SR_TR.loc[portfolio, 'ave_excess_ret'] = df[portfolio].mean()*12 # annualize\n",
    "    SR_TR.loc[portfolio, 'SR'] = SR_TR.loc[portfolio, 'ave_excess_ret'] / SR_TR.loc[portfolio, 'volatility']\n",
    "    SR_TR.loc[portfolio, 'TR'] = SR_TR.loc[portfolio, 'ave_excess_ret'] / SR_TR.loc[portfolio, 'beta_hat']\n",
    "SR_TR"
   ]
  },
  {
   "cell_type": "markdown",
   "metadata": {},
   "source": [
    "## (a) \n",
    "**Make a plot with the SR of each asset on the horizontal axis, and the TR on the vertical\n",
    "axis.**"
   ]
  },
  {
   "cell_type": "code",
   "execution_count": 20,
   "metadata": {},
   "outputs": [
    {
     "data": {
      "text/plain": [
       "Text(0, 0.5, 'Treynor Ratio')"
      ]
     },
     "execution_count": 20,
     "metadata": {},
     "output_type": "execute_result"
    },
    {
     "data": {
      "image/png": "[encoded data removed]",
      "text/plain": [
       "<Figure size 864x576 with 1 Axes>"
      ]
     },
     "metadata": {},
     "output_type": "display_data"
    }
   ],
   "source": [
    "fig, ax = plt.subplots(figsize= (12,8))\n",
    "sns.scatterplot(y='TR', x='SR', data=SR_TR, hue=SR_TR.index, size=SR_TR.index, \n",
    "                sizes=(100, 400), legend='full', \n",
    "                markers=['o', 'v', '^', '>', '<', 'p', '*', 'X', 'D', '1'])\n",
    "plt.legend(scatterpoints=1, frameon=False, labelspacing=3, title='Portfolio', \n",
    "          bbox_to_anchor=(1.05, 1), loc=2, borderaxespad=0.)\n",
    "ax.set_title('Sharpe Ratio vs Treynor Ratio', fontsize=18)\n",
    "ax.set_xlabel(\"Sharpe Ratio\",fontsize=16)\n",
    "ax.set_ylabel(\"Treynor Ratio\",fontsize=16)"
   ]
  },
  {
   "cell_type": "markdown",
   "metadata": {},
   "source": [
    "## (b)\n",
    "**What do you observe? What would the CAPM predict about this plot?.**"
   ]
  },
  {
   "cell_type": "code",
   "execution_count": 21,
   "metadata": {},
   "outputs": [
    {
     "data": {
      "text/markdown": [
       "<span style='color:blue'>**1. We observe correspondence of Sharpe and Treynor ratios, i.e., low Sharpe Rato corresponds to low Treynor Ratio and vice versa. We also see that portfolios are \"clustered\" in terms of magnitude of SR and TR: low ratio cluster and high ratio cluster.**</span>"
      ],
      "text/plain": [
       "<IPython.core.display.Markdown object>"
      ]
     },
     "metadata": {},
     "output_type": "display_data"
    },
    {
     "data": {
      "text/markdown": [
       "<span style='color:blue'>**2. CAPM says that portfolios' Sharpe ratios should be proportional to market portfolio Sharpe ratio in amount equal to correlation between portfolio under consideration and market portfolio. However, it does not fully true for our data as can be seen from the table below.**</span>"
      ],
      "text/plain": [
       "<IPython.core.display.Markdown object>"
      ]
     },
     "metadata": {},
     "output_type": "display_data"
    },
    {
     "data": {
      "text/markdown": [
       "<span style='color:blue'>Market portfolio SR = 0.4322</span>"
      ],
      "text/plain": [
       "<IPython.core.display.Markdown object>"
      ]
     },
     "metadata": {},
     "output_type": "display_data"
    },
    {
     "data": {
      "text/html": [
       "<div>\n",
       "<style scoped>\n",
       "    .dataframe tbody tr th:only-of-type {\n",
       "        vertical-align: middle;\n",
       "    }\n",
       "\n",
       "    .dataframe tbody tr th {\n",
       "        vertical-align: top;\n",
       "    }\n",
       "\n",
       "    .dataframe thead th {\n",
       "        text-align: right;\n",
       "    }\n",
       "</style>\n",
       "<table border=\"1\" class=\"dataframe\">\n",
       "  <thead>\n",
       "    <tr style=\"text-align: right;\">\n",
       "      <th></th>\n",
       "      <th>CAPM implied SR</th>\n",
       "      <th>Actual SR</th>\n",
       "    </tr>\n",
       "  </thead>\n",
       "  <tbody>\n",
       "    <tr>\n",
       "      <th>decile 1</th>\n",
       "      <td>0.409982</td>\n",
       "      <td>0.53559</td>\n",
       "    </tr>\n",
       "    <tr>\n",
       "      <th>decile 2</th>\n",
       "      <td>0.412484</td>\n",
       "      <td>0.643766</td>\n",
       "    </tr>\n",
       "    <tr>\n",
       "      <th>decile 3</th>\n",
       "      <td>0.415476</td>\n",
       "      <td>0.626564</td>\n",
       "    </tr>\n",
       "    <tr>\n",
       "      <th>decile 4</th>\n",
       "      <td>0.409109</td>\n",
       "      <td>0.550128</td>\n",
       "    </tr>\n",
       "    <tr>\n",
       "      <th>decile 5</th>\n",
       "      <td>0.406653</td>\n",
       "      <td>0.615915</td>\n",
       "    </tr>\n",
       "    <tr>\n",
       "      <th>decile 6</th>\n",
       "      <td>0.396673</td>\n",
       "      <td>0.620866</td>\n",
       "    </tr>\n",
       "    <tr>\n",
       "      <th>decile 7</th>\n",
       "      <td>0.395127</td>\n",
       "      <td>0.537487</td>\n",
       "    </tr>\n",
       "    <tr>\n",
       "      <th>decile 8</th>\n",
       "      <td>0.392511</td>\n",
       "      <td>0.619214</td>\n",
       "    </tr>\n",
       "    <tr>\n",
       "      <th>decile 9</th>\n",
       "      <td>0.384918</td>\n",
       "      <td>0.604421</td>\n",
       "    </tr>\n",
       "    <tr>\n",
       "      <th>decile 10</th>\n",
       "      <td>0.367083</td>\n",
       "      <td>0.504761</td>\n",
       "    </tr>\n",
       "  </tbody>\n",
       "</table>\n",
       "</div>"
      ],
      "text/plain": [
       "          CAPM implied SR Actual SR\n",
       "decile 1         0.409982   0.53559\n",
       "decile 2         0.412484  0.643766\n",
       "decile 3         0.415476  0.626564\n",
       "decile 4         0.409109  0.550128\n",
       "decile 5         0.406653  0.615915\n",
       "decile 6         0.396673  0.620866\n",
       "decile 7         0.395127  0.537487\n",
       "decile 8         0.392511  0.619214\n",
       "decile 9         0.384918  0.604421\n",
       "decile 10        0.367083  0.504761"
      ]
     },
     "metadata": {},
     "output_type": "display_data"
    },
    {
     "data": {
      "text/markdown": [
       "<span style='color:blue'>**3. CAPM also says that Treynor ratio should be the same for all portfolios because beta exposure of portfolio is compensated with the same market premium. However, we see that it does not hold for our data, i.e., Treynor Ratios are different for all 10 portfolios under consideration.**</span>"
      ],
      "text/plain": [
       "<IPython.core.display.Markdown object>"
      ]
     },
     "metadata": {},
     "output_type": "display_data"
    }
   ],
   "source": [
    "printmd('**1. We observe correspondence of Sharpe and Treynor ratios, i.e., low Sharpe Rato corresponds to low Treynor Ratio and vice versa. We also see that portfolios are \"clustered\" in terms of magnitude of SR and TR: low ratio cluster and high ratio cluster.**', color='blue')\n",
    "\n",
    "printmd(\"**2. CAPM says that portfolios' Sharpe ratios should be proportional to market portfolio Sharpe ratio in amount equal to correlation between portfolio under consideration and market portfolio. However, it does not fully true for our data as can be seen from the table below.**\", color='blue')\n",
    "        \n",
    "printmd('Market portfolio SR = {:.4f}'.format(df['Excess MKT'].mean()*12 / (np.sqrt(12)*df['Excess MKT'].std())), color='blue')\n",
    "market_SR = df['Excess MKT'].mean()*12 / (np.sqrt(12)*df['Excess MKT'].std())\n",
    "CAPM_SR = pd.DataFrame(index = size_df.columns, columns=['CAPM implied SR', 'Actual SR'])\n",
    "for portfolio in df:\n",
    "    if portfolio != 'Excess MKT':\n",
    "        CAPM_SR.loc[portfolio]['CAPM implied SR'] = market_SR * df[portfolio].corr(df['Excess MKT'])\n",
    "        CAPM_SR.loc[portfolio]['Actual SR'] = SR_TR.loc[portfolio]['SR']        \n",
    "display(CAPM_SR)\n",
    "\n",
    "printmd('**3. CAPM also says that Treynor ratio should be the same for all portfolios because beta exposure of portfolio is compensated with the same market premium. However, we see that it does not hold for our data, i.e., Treynor Ratios are different for all 10 portfolios under consideration.**', color='blue')"
   ]
  },
  {
   "cell_type": "markdown",
   "metadata": {},
   "source": [
    "**(c) From these measures, which portfolios look attractive? Which look unattractive?**"
   ]
  },
  {
   "cell_type": "code",
   "execution_count": 22,
   "metadata": {},
   "outputs": [
    {
     "data": {
      "text/markdown": [
       "<span style='color:blue'>**SHARPE RATIO measures portfolio's risk-adjusted returns: the higher SR the higher compensation per unit of risk. Thus, in terms of SR portfolio 'DECILE 2' seems to be the most attractive one, and portfolio 'DECILE 10' - the least attractive one.**</span>"
      ],
      "text/plain": [
       "<IPython.core.display.Markdown object>"
      ]
     },
     "metadata": {},
     "output_type": "display_data"
    },
    {
     "data": {
      "text/markdown": [
       "<span style='color:blue'>**TREYNOR RATIO measures portfolio`s return in excess of priced risk: again, the higher TR the more attracive portfolio is. Thus, in terms of TR portfolio 'DECILE 8' looks as the most attractive one, and portfolio 'DECILE 1' as the least attractive one.**</span>"
      ],
      "text/plain": [
       "<IPython.core.display.Markdown object>"
      ]
     },
     "metadata": {},
     "output_type": "display_data"
    }
   ],
   "source": [
    "printmd(\"**SHARPE RATIO measures portfolio's risk-adjusted returns: the higher SR the higher compensation per unit of risk. Thus, in terms of SR portfolio 'DECILE 2' seems to be the most attractive one, and portfolio 'DECILE 10' - the least attractive one.**\",color='blue')\n",
    "\n",
    "printmd(\"**TREYNOR RATIO measures portfolio`s return in excess of priced risk: again, the higher TR the more attracive portfolio is. Thus, in terms of TR portfolio 'DECILE 8' looks as the most attractive one, and portfolio 'DECILE 1' as the least attractive one.**\",color='blue')"
   ]
  },
  {
   "cell_type": "markdown",
   "metadata": {},
   "source": [
    "## 2. For each of the n = 10 test portfolios, run the CAPM time-series regression \n",
    "\n",
    "**from the lecture:** \n",
    "$$ \\tilde{r}^i_t = \\alpha^i + \\beta^{i,M} \\tilde{r}_t^M + \\epsilon_t^i  $$\n",
    "\n",
    "**So you are running 10 separate regressions, each using the T-sized sample of time-series data.**"
   ]
  },
  {
   "cell_type": "markdown",
   "metadata": {},
   "source": [
    "## (a)\n",
    "**Use the estimated as well as the historic average of** $ \\tilde{r}^M $ **to calculate** $ E[\\tilde{r}^i] $ **as implied by the CAPM.**"
   ]
  },
  {
   "cell_type": "markdown",
   "metadata": {},
   "source": [
    "$$ E^{CAPM}[\\tilde{r}^i] = \\beta^{i,M}\\lambda^{M} $$\n",
    "\n",
    "**,where** $\\lambda^M = \\frac{1}{T} \\sum_{t=1}^{T} \\tilde{r}^M$"
   ]
  },
  {
   "cell_type": "code",
   "execution_count": 23,
   "metadata": {},
   "outputs": [
    {
     "name": "stdout",
     "output_type": "stream",
     "text": [
      "Average excess market return = 0.0798 = 7.9803%\n"
     ]
    },
    {
     "data": {
      "text/html": [
       "<div>\n",
       "<style scoped>\n",
       "    .dataframe tbody tr th:only-of-type {\n",
       "        vertical-align: middle;\n",
       "    }\n",
       "\n",
       "    .dataframe tbody tr th {\n",
       "        vertical-align: top;\n",
       "    }\n",
       "\n",
       "    .dataframe thead th {\n",
       "        text-align: right;\n",
       "    }\n",
       "</style>\n",
       "<table border=\"1\" class=\"dataframe\">\n",
       "  <thead>\n",
       "    <tr style=\"text-align: right;\">\n",
       "      <th></th>\n",
       "      <th>beta_hat</th>\n",
       "      <th>alpha_hat</th>\n",
       "      <th>HISTORIC_mean_excess_return</th>\n",
       "      <th>CAPM_implied_excess_ret</th>\n",
       "    </tr>\n",
       "  </thead>\n",
       "  <tbody>\n",
       "    <tr>\n",
       "      <th>decile 1</th>\n",
       "      <td>1.008719</td>\n",
       "      <td>0.002055</td>\n",
       "      <td>0.105161</td>\n",
       "      <td>0.080498</td>\n",
       "    </tr>\n",
       "    <tr>\n",
       "      <th>decile 2</th>\n",
       "      <td>0.944682</td>\n",
       "      <td>0.003523</td>\n",
       "      <td>0.117659</td>\n",
       "      <td>0.075388</td>\n",
       "    </tr>\n",
       "    <tr>\n",
       "      <th>decile 3</th>\n",
       "      <td>0.965873</td>\n",
       "      <td>0.003263</td>\n",
       "      <td>0.116240</td>\n",
       "      <td>0.077079</td>\n",
       "    </tr>\n",
       "    <tr>\n",
       "      <th>decile 4</th>\n",
       "      <td>1.045314</td>\n",
       "      <td>0.002396</td>\n",
       "      <td>0.112173</td>\n",
       "      <td>0.083419</td>\n",
       "    </tr>\n",
       "    <tr>\n",
       "      <th>decile 5</th>\n",
       "      <td>0.999567</td>\n",
       "      <td>0.003421</td>\n",
       "      <td>0.120817</td>\n",
       "      <td>0.079768</td>\n",
       "    </tr>\n",
       "    <tr>\n",
       "      <th>decile 6</th>\n",
       "      <td>1.027670</td>\n",
       "      <td>0.003863</td>\n",
       "      <td>0.128362</td>\n",
       "      <td>0.082011</td>\n",
       "    </tr>\n",
       "    <tr>\n",
       "      <th>decile 7</th>\n",
       "      <td>1.096930</td>\n",
       "      <td>0.002628</td>\n",
       "      <td>0.119077</td>\n",
       "      <td>0.087538</td>\n",
       "    </tr>\n",
       "    <tr>\n",
       "      <th>decile 8</th>\n",
       "      <td>1.138070</td>\n",
       "      <td>0.004371</td>\n",
       "      <td>0.143277</td>\n",
       "      <td>0.090821</td>\n",
       "    </tr>\n",
       "    <tr>\n",
       "      <th>decile 9</th>\n",
       "      <td>1.275712</td>\n",
       "      <td>0.004838</td>\n",
       "      <td>0.159861</td>\n",
       "      <td>0.101805</td>\n",
       "    </tr>\n",
       "    <tr>\n",
       "      <th>decile 10</th>\n",
       "      <td>1.460254</td>\n",
       "      <td>0.003642</td>\n",
       "      <td>0.160239</td>\n",
       "      <td>0.116532</td>\n",
       "    </tr>\n",
       "  </tbody>\n",
       "</table>\n",
       "</div>"
      ],
      "text/plain": [
       "           beta_hat  alpha_hat  HISTORIC_mean_excess_return  \\\n",
       "decile 1   1.008719   0.002055                     0.105161   \n",
       "decile 2   0.944682   0.003523                     0.117659   \n",
       "decile 3   0.965873   0.003263                     0.116240   \n",
       "decile 4   1.045314   0.002396                     0.112173   \n",
       "decile 5   0.999567   0.003421                     0.120817   \n",
       "decile 6   1.027670   0.003863                     0.128362   \n",
       "decile 7   1.096930   0.002628                     0.119077   \n",
       "decile 8   1.138070   0.004371                     0.143277   \n",
       "decile 9   1.275712   0.004838                     0.159861   \n",
       "decile 10  1.460254   0.003642                     0.160239   \n",
       "\n",
       "           CAPM_implied_excess_ret  \n",
       "decile 1                  0.080498  \n",
       "decile 2                  0.075388  \n",
       "decile 3                  0.077079  \n",
       "decile 4                  0.083419  \n",
       "decile 5                  0.079768  \n",
       "decile 6                  0.082011  \n",
       "decile 7                  0.087538  \n",
       "decile 8                  0.090821  \n",
       "decile 9                  0.101805  \n",
       "decile 10                 0.116532  "
      ]
     },
     "execution_count": 23,
     "metadata": {},
     "output_type": "execute_result"
    }
   ],
   "source": [
    "reg_results = pd.DataFrame(index = size_df.columns)\n",
    "rhs = sm.add_constant(df['Excess MKT'])\n",
    "ave_excess_mkt_ret = df['Excess MKT'].mean() * 12 # lambda from the formula above (annualized)\n",
    "print('Average excess market return = {:.4f} = {:.4f}%'.format(ave_excess_mkt_ret, ave_excess_mkt_ret*100))\n",
    "\n",
    "residuals = pd.DataFrame(columns = size_df.columns)\n",
    "t_p_values = pd.DataFrame()\n",
    "\n",
    "for portfolio in reg_results.index:\n",
    "    lhs = df[portfolio]\n",
    "    res = sm.OLS(lhs, rhs, missing='drop').fit()\n",
    "    reg_results.loc[portfolio, 'beta_hat'] = res.params['Excess MKT']\n",
    "    reg_results.loc[portfolio, 'alpha_hat'] = res.params['const']\n",
    "    residuals[portfolio] = res.resid\n",
    "\n",
    "    reg_results.loc[portfolio, 'HISTORIC_mean_excess_return'] = df[portfolio].mean()*12\n",
    "    reg_results.loc[portfolio, 'CAPM_implied_excess_ret'] = ave_excess_mkt_ret * reg_results.loc[portfolio, 'beta_hat']\n",
    "    \n",
    "    t_p_values.loc[portfolio, 't-value'] = res.params['const']\n",
    "    t_p_values.loc[portfolio, 't-value'] = res.tvalues['const']\n",
    "    t_p_values.loc[portfolio, 'p-value'] = round(res.pvalues['const'], 4)\n",
    "    \n",
    "# t_p_values\n",
    "reg_results"
   ]
  },
  {
   "cell_type": "markdown",
   "metadata": {},
   "source": [
    "## (b)\n",
    "**Plot this along the horizontal axis with the actual historic mean return of** $\\tilde{r}^i$ **on the vertical\n",
    "axis.**"
   ]
  },
  {
   "cell_type": "code",
   "execution_count": 24,
   "metadata": {},
   "outputs": [
    {
     "data": {
      "text/plain": [
       "Text(0, 0.5, 'Historic mean excess return')"
      ]
     },
     "execution_count": 24,
     "metadata": {},
     "output_type": "execute_result"
    },
    {
     "data": {
      "image/png": "[encoded data removed]",
      "text/plain": [
       "<Figure size 864x576 with 1 Axes>"
      ]
     },
     "metadata": {},
     "output_type": "display_data"
    }
   ],
   "source": [
    "fig, ax = plt.subplots(figsize= (12,8))\n",
    "g = sns.scatterplot(y='HISTORIC_mean_excess_return', x='CAPM_implied_excess_ret', \n",
    "                    data=reg_results, hue=reg_results.index, size=reg_results.index, \n",
    "                sizes=(100, 400), legend='full');\n",
    "plt.legend(scatterpoints=1, frameon=False, labelspacing=3, title='Portfolio', \n",
    "          bbox_to_anchor=(1.05, 1), loc=2, borderaxespad=0.)\n",
    "ax.set_title('HISTORIC vs CAPM mean excess returns', fontsize=18)\n",
    "ax.set_xlabel(\"CAPM implied excess return\",fontsize=16)\n",
    "ax.set_ylabel(\"Historic mean excess return\",fontsize=16)"
   ]
  },
  {
   "cell_type": "markdown",
   "metadata": {},
   "source": [
    "## 3. Measure how well the model performs."
   ]
  },
  {
   "cell_type": "markdown",
   "metadata": {},
   "source": [
    "## (a)\n",
    "**Report the mean-absolute-error of the CAPM:**\n",
    "\n",
    "$$ MAE = \\frac{1}{n} \\sum_{i=1}^{n} |\\alpha_i| $$"
   ]
  },
  {
   "cell_type": "code",
   "execution_count": 25,
   "metadata": {},
   "outputs": [
    {
     "data": {
      "text/markdown": [
       "<span style='color:blue'>**Annualzed Mean Absolute Error (MAE) of CAPM = 4.08%**</span>"
      ],
      "text/plain": [
       "<IPython.core.display.Markdown object>"
      ]
     },
     "metadata": {},
     "output_type": "display_data"
    }
   ],
   "source": [
    "mean_absolute_error = reg_results['alpha_hat'].mean() * 12 # annualized\n",
    "printmd('**Annualzed Mean Absolute Error (MAE) of CAPM = {:.2f}%**'.format(mean_absolute_error*100), color='blue')"
   ]
  },
  {
   "cell_type": "markdown",
   "metadata": {},
   "source": [
    "## (b)\n",
    "**Under classic statistical assumptions, we can test the null hypothesis that the CAPM works\n",
    "by calculating,**\n",
    "\n",
    "$$ H = T[1+(SR_M)^2]^{-1} \\alpha^T \\Sigma_{\\epsilon}^{-1} \\alpha $$\n",
    "$$ H \\sim \\mathcal{X}_n^2 $$\n",
    "\n",
    "$H_0 : H \\sim 0$"
   ]
  },
  {
   "cell_type": "code",
   "execution_count": 26,
   "metadata": {},
   "outputs": [
    {
     "name": "stdout",
     "output_type": "stream",
     "text": [
      "Check: \n",
      " aplha shape: (10, 1)\n",
      " Sigma shape: (10, 10)\n",
      " T = 1106\n"
     ]
    },
    {
     "data": {
      "text/markdown": [
       "<span style='color:blue'>**H = 358.75**</span>"
      ],
      "text/plain": [
       "<IPython.core.display.Markdown object>"
      ]
     },
     "metadata": {},
     "output_type": "display_data"
    },
    {
     "data": {
      "text/markdown": [
       "<span style='color:blue'>**p-value ( H ) = 0.0000**</span>"
      ],
      "text/plain": [
       "<IPython.core.display.Markdown object>"
      ]
     },
     "metadata": {},
     "output_type": "display_data"
    },
    {
     "data": {
      "text/markdown": [
       "<span style='color:blue'>**p-value is 0, that is why we can REJECT H0 hypothesis at all (1%, 5%, 10%) signifcance levels.**</span>"
      ],
      "text/plain": [
       "<IPython.core.display.Markdown object>"
      ]
     },
     "metadata": {},
     "output_type": "display_data"
    }
   ],
   "source": [
    "alpha = reg_results['alpha_hat']\n",
    "alpha = np.array(alpha).reshape(alpha.shape[0], -1)\n",
    "print('Check: \\n aplha shape:', alpha.shape)\n",
    "Sigma = residuals.cov() # not annualized\n",
    "print(' Sigma shape:', Sigma.shape)\n",
    "\n",
    "T = df.shape[0] # T-sized sample of time-series data\n",
    "print(' T =', T)\n",
    "\n",
    "# Calculate SR_M\n",
    "excess_mkt_ret_std = df['Excess MKT'].std() # not annualized\n",
    "excess_mkt_ret_mean = df['Excess MKT'].mean() # not annualized\n",
    "SR_M = excess_mkt_ret_mean / excess_mkt_ret_std\n",
    "\n",
    "SR_M_inv = T * (1 + SR_M**2)**(-1)\n",
    "a_s_a = alpha.T @ inv(Sigma) @ alpha\n",
    "H = SR_M_inv * a_s_a\n",
    "printmd('**H = {:.2f}**'.format(H[0][0]), color='blue') \n",
    "\n",
    "from scipy.stats import chi2\n",
    "p_value = (1 - chi2.cdf(H, df=10))[0][0]\n",
    "printmd('**p-value ( H ) = {:.4f}**'.format(p_value), color='blue')\n",
    "printmd('**p-value is 0, that is why we can REJECT H0 hypothesis at all (1%, 5%, 10%) signifcance levels.**',color='blue')"
   ]
  },
  {
   "cell_type": "markdown",
   "metadata": {},
   "source": [
    "## (c)\n",
    "**Which is a stricter test: checking whether any of the n values of** $\\alpha_i$ **have a statistically\n",
    "significant t-test or checking whether H calculated above is significant?**"
   ]
  },
  {
   "cell_type": "code",
   "execution_count": 27,
   "metadata": {},
   "outputs": [
    {
     "data": {
      "text/markdown": [
       "<span style='color:blue'>**JOINT TEST is a stricter test in comparison to individual tests of alphas. It follows from definition, and leads to possibility that some or even all alphas can be insignificant according to individual tests, while the joint test will say that all alphas are jontly significant.**</span>"
      ],
      "text/plain": [
       "<IPython.core.display.Markdown object>"
      ]
     },
     "metadata": {},
     "output_type": "display_data"
    },
    {
     "data": {
      "text/markdown": [
       "<span style='color:blue'>t- and p-values for indvidual condtions testing:</span>"
      ],
      "text/plain": [
       "<IPython.core.display.Markdown object>"
      ]
     },
     "metadata": {},
     "output_type": "display_data"
    },
    {
     "data": {
      "text/html": [
       "<div>\n",
       "<style scoped>\n",
       "    .dataframe tbody tr th:only-of-type {\n",
       "        vertical-align: middle;\n",
       "    }\n",
       "\n",
       "    .dataframe tbody tr th {\n",
       "        vertical-align: top;\n",
       "    }\n",
       "\n",
       "    .dataframe thead th {\n",
       "        text-align: right;\n",
       "    }\n",
       "</style>\n",
       "<table border=\"1\" class=\"dataframe\">\n",
       "  <thead>\n",
       "    <tr style=\"text-align: right;\">\n",
       "      <th></th>\n",
       "      <th>t-value</th>\n",
       "      <th>p-value</th>\n",
       "    </tr>\n",
       "  </thead>\n",
       "  <tbody>\n",
       "    <tr>\n",
       "      <th>decile 1</th>\n",
       "      <td>3.780539</td>\n",
       "      <td>0.0002</td>\n",
       "    </tr>\n",
       "    <tr>\n",
       "      <th>decile 2</th>\n",
       "      <td>7.379503</td>\n",
       "      <td>0.0000</td>\n",
       "    </tr>\n",
       "    <tr>\n",
       "      <th>decile 3</th>\n",
       "      <td>7.301271</td>\n",
       "      <td>0.0000</td>\n",
       "    </tr>\n",
       "    <tr>\n",
       "      <th>decile 4</th>\n",
       "      <td>4.165356</td>\n",
       "      <td>0.0000</td>\n",
       "    </tr>\n",
       "    <tr>\n",
       "      <th>decile 5</th>\n",
       "      <td>5.884582</td>\n",
       "      <td>0.0000</td>\n",
       "    </tr>\n",
       "    <tr>\n",
       "      <th>decile 6</th>\n",
       "      <td>5.376992</td>\n",
       "      <td>0.0000</td>\n",
       "    </tr>\n",
       "    <tr>\n",
       "      <th>decile 7</th>\n",
       "      <td>3.345428</td>\n",
       "      <td>0.0008</td>\n",
       "    </tr>\n",
       "    <tr>\n",
       "      <th>decile 8</th>\n",
       "      <td>5.156880</td>\n",
       "      <td>0.0000</td>\n",
       "    </tr>\n",
       "    <tr>\n",
       "      <th>decile 9</th>\n",
       "      <td>4.595476</td>\n",
       "      <td>0.0000</td>\n",
       "    </tr>\n",
       "    <tr>\n",
       "      <th>decile 10</th>\n",
       "      <td>2.483100</td>\n",
       "      <td>0.0132</td>\n",
       "    </tr>\n",
       "  </tbody>\n",
       "</table>\n",
       "</div>"
      ],
      "text/plain": [
       "            t-value  p-value\n",
       "decile 1   3.780539   0.0002\n",
       "decile 2   7.379503   0.0000\n",
       "decile 3   7.301271   0.0000\n",
       "decile 4   4.165356   0.0000\n",
       "decile 5   5.884582   0.0000\n",
       "decile 6   5.376992   0.0000\n",
       "decile 7   3.345428   0.0008\n",
       "decile 8   5.156880   0.0000\n",
       "decile 9   4.595476   0.0000\n",
       "decile 10  2.483100   0.0132"
      ]
     },
     "metadata": {},
     "output_type": "display_data"
    },
    {
     "data": {
      "text/markdown": [
       "<span style='color:blue'>**We can see that all p-values are almost zero and all t-values are far from zero, that is why we can conclude that ALL ALPHAS ARE SIGNFICANT when testing them INDVIDUALLY. However, portfolio \"DECILE 10\" can be considered insignificant at 1% signifcance level.**</span>"
      ],
      "text/plain": [
       "<IPython.core.display.Markdown object>"
      ]
     },
     "metadata": {},
     "output_type": "display_data"
    }
   ],
   "source": [
    "printmd(\"**JOINT TEST is a stricter test in comparison to individual tests of alphas. It follows from definition, and leads to possibility that some or even all alphas can be insignificant according to individual tests, while the joint test will say that all alphas are jontly significant.**\",color='blue')\n",
    "\n",
    "printmd('t- and p-values for indvidual condtions testing:', color='blue')\n",
    "display(t_p_values)\n",
    "printmd('**We can see that all p-values are almost zero and all t-values are far from zero, \\\n",
    "that is why we can conclude that ALL ALPHAS ARE SIGNFICANT when testing them INDVIDUALLY. However, portfolio \"DECILE 10\" can be considered insignificant at 1% signifcance level.**', color='blue')"
   ]
  },
  {
   "cell_type": "markdown",
   "metadata": {},
   "source": [
    "## (d)\n",
    "**Conceptually, how does the test-statistic H relate to checking whether** $\\tilde{r}^M$ **spans the tangency portfolio**?"
   ]
  },
  {
   "cell_type": "code",
   "execution_count": 28,
   "metadata": {},
   "outputs": [
    {
     "data": {
      "text/markdown": [
       "<span style='color:blue'>**With test-statistc H we are checking whether alphas are 0, which means (in case it is true) that market portfolio is Mean-Variance-efficient portfolio, and market together with risk-free-rate portfolio span the tangency portfolio. In our case, alphas are not equal to zero, thus r_M does not span tangency portfolio.**</span>"
      ],
      "text/plain": [
       "<IPython.core.display.Markdown object>"
      ]
     },
     "metadata": {},
     "output_type": "display_data"
    }
   ],
   "source": [
    "printmd('**With test-statistc H we are checking whether alphas are 0, which means (in case it is true) that market portfolio is Mean-Variance-efficient portfolio, and market together with risk-free-rate portfolio span the tangency portfolio. In our case, alphas are not equal to zero, thus r_M does not span tangency portfolio.**',color='blue')"
   ]
  },
  {
   "cell_type": "markdown",
   "metadata": {},
   "source": [
    "## 4. Cross-sectional Estimation\n",
    "\n",
    "**Estimate the following equation:**\n",
    "$$ E[\\tilde{r}^i] = \\overline{\\alpha} + \\beta^{i,M} \\lambda_M + (\\alpha^i - \\overline{\\alpha} )$$\n",
    "\n",
    "$$ \\tilde{\\alpha}^i = \\alpha^i - \\overline{\\alpha} \\Rightarrow \\overline{\\alpha} = \\alpha^i - \\tilde{\\alpha}^i   $$"
   ]
  },
  {
   "cell_type": "markdown",
   "metadata": {},
   "source": [
    "## (a)\n",
    "**Report** $\\lambda_M$**. How does this compare to the sample average of** $E[\\tilde{r}^M]$**?**"
   ]
  },
  {
   "cell_type": "code",
   "execution_count": 32,
   "metadata": {},
   "outputs": [
    {
     "data": {
      "text/markdown": [
       "<span style='color:blue'>**LAMBDA from CROSS-SECTIONAL estimation = 0.1069 = 10.69%**</span>"
      ],
      "text/plain": [
       "<IPython.core.display.Markdown object>"
      ]
     },
     "metadata": {},
     "output_type": "display_data"
    },
    {
     "data": {
      "text/markdown": [
       "<span style='color:blue'>**LAMBDA from TIME-SERIES estimation = 0.0798 = 7.98%**</span>"
      ],
      "text/plain": [
       "<IPython.core.display.Markdown object>"
      ]
     },
     "metadata": {},
     "output_type": "display_data"
    },
    {
     "data": {
      "text/markdown": [
       "<span style='color:blue'>**We can see that lambda in terms of cross-sectional estimation is -7.09% HIGHER than lambda from time-series estimation.**</span>"
      ],
      "text/plain": [
       "<IPython.core.display.Markdown object>"
      ]
     },
     "metadata": {},
     "output_type": "display_data"
    },
    {
     "data": {
      "text/markdown": [
       "<span style='color:blue'>Average mispricing of the premia = intercept = 1.11%</span>"
      ],
      "text/plain": [
       "<IPython.core.display.Markdown object>"
      ]
     },
     "metadata": {},
     "output_type": "display_data"
    }
   ],
   "source": [
    "rhs = sm.add_constant(reg_results['beta_hat'])\n",
    "# rhs = reg_results['beta_hat']\n",
    "# lhs = reg_results['HISTORIC_mean_excess_return']\n",
    "lhs = size_df.mean()\n",
    "res = sm.OLS(lhs, rhs, missing='drop').fit()\n",
    "lambda_ = res.params['beta_hat']\n",
    "alpha_ = res.params['const']\n",
    "printmd('**LAMBDA from CROSS-SECTIONAL estimation = {:.4f} = {:.2f}%**'.format(lambda_*12, lambda_*12*100), color='blue')\n",
    "printmd('**LAMBDA from TIME-SERIES estimation = {:.4f} = {:.2f}%**'.format(ave_excess_mkt_ret, ave_excess_mkt_ret*100), color='blue')\n",
    "printmd('**We can see that lambda in terms of cross-sectional estimation is {:.2f}% HIGHER than lambda from time-series estimation.**'.format((lambda_ - ave_excess_mkt_ret)*100), color='blue')\n",
    "printmd('Average mispricing of the premia = intercept = {:.2f}%'.format(alpha_*12*100), color='blue')"
   ]
  },
  {
   "cell_type": "markdown",
   "metadata": {},
   "source": [
    "## (b)\n",
    "**Calculate the MAE of** $\\tilde{\\alpha}_i$**. How does it compare to the MAE of** $\\alpha_i$ **calculated in the previous section's time-series test?**"
   ]
  },
  {
   "cell_type": "code",
   "execution_count": 33,
   "metadata": {},
   "outputs": [
    {
     "data": {
      "text/markdown": [
       "<span style='color:blue'>**Mean Absolute Error (MAE) of CROSS-SECTIONAL estimated alpha = 1.92%**</span>"
      ],
      "text/plain": [
       "<IPython.core.display.Markdown object>"
      ]
     },
     "metadata": {},
     "output_type": "display_data"
    },
    {
     "data": {
      "text/markdown": [
       "<span style='color:blue'>**Mean Absolute Error (MAE) of TIME-SERIES estimated alpha = 4.08%**</span>"
      ],
      "text/plain": [
       "<IPython.core.display.Markdown object>"
      ]
     },
     "metadata": {},
     "output_type": "display_data"
    },
    {
     "data": {
      "text/markdown": [
       "<span style='color:blue'>**MAE from cross-sectional estimation is TWO TIMES LOWER than MAE from time-series estimation.**</span>"
      ],
      "text/plain": [
       "<IPython.core.display.Markdown object>"
      ]
     },
     "metadata": {},
     "output_type": "display_data"
    },
    {
     "data": {
      "text/markdown": [
       "<span style='color:blue'>In case we do not account for average intercept error, we get even lower MAE from cross-sectioinal estimation equal to 0.07%.</span>"
      ],
      "text/plain": [
       "<IPython.core.display.Markdown object>"
      ]
     },
     "metadata": {},
     "output_type": "display_data"
    }
   ],
   "source": [
    "alpha_tilde = res.resid\n",
    "mean_absolute_error_cross = (np.abs(alpha_tilde)).mean() + alpha_\n",
    "\n",
    "printmd('**Mean Absolute Error (MAE) of CROSS-SECTIONAL estimated alpha = {:.2f}%**'.format(mean_absolute_error_cross*12*100),color='blue') \n",
    "printmd('**Mean Absolute Error (MAE) of TIME-SERIES estimated alpha = {:.2f}%**'.format(mean_absolute_error*100),color='blue') \n",
    "printmd('**MAE from cross-sectional estimation is TWO TIMES LOWER than MAE from time-series estimation.**',color='blue')\n",
    "printmd('In case we do not account for average intercept error, we get even lower MAE from cross-sectioinal estimation equal to {:.2f}%.'.format((mean_absolute_error_cross - alpha_)*100), color='blue')"
   ]
  },
  {
   "cell_type": "markdown",
   "metadata": {},
   "source": [
    "## (c)\n",
    "**Calculate the H statistic, and report its p-value. How does it compare to the test using \u000b",
    "i\n",
    "calculated in the previous sections's time-series test?**"
   ]
  },
  {
   "cell_type": "markdown",
   "metadata": {},
   "source": [
    "$$ H = T[1+(SR_M)^2]^{-1} \\alpha^T \\Sigma_{\\epsilon}^{-1} \\alpha $$\n",
    "$$ H \\sim \\mathcal{X}_n^2 $$"
   ]
  },
  {
   "cell_type": "code",
   "execution_count": 37,
   "metadata": {},
   "outputs": [
    {
     "name": "stdout",
     "output_type": "stream",
     "text": [
      "Check: \n",
      " aplha shape: (10, 1)\n"
     ]
    },
    {
     "data": {
      "text/markdown": [
       "<span style='color:blue'>**H = 23.68**</span>"
      ],
      "text/plain": [
       "<IPython.core.display.Markdown object>"
      ]
     },
     "metadata": {},
     "output_type": "display_data"
    },
    {
     "data": {
      "text/markdown": [
       "<span style='color:blue'>**p-value ( H_cross ) = 0.0085**</span>"
      ],
      "text/plain": [
       "<IPython.core.display.Markdown object>"
      ]
     },
     "metadata": {},
     "output_type": "display_data"
    },
    {
     "data": {
      "text/markdown": [
       "<span style='color:blue'>**p-value is 0.0085, that is why we can REJECT H0 hypothesis at all (1%, 5%, 10%) signifcance levels.**</span>"
      ],
      "text/plain": [
       "<IPython.core.display.Markdown object>"
      ]
     },
     "metadata": {},
     "output_type": "display_data"
    },
    {
     "data": {
      "text/markdown": [
       "<span style='color:blue'>**H is much smaller in terms of cross-sectional regression than in terms of time-series one, but it is still far from 0, and according to p-value we are able to reject H0 at all significance levels again.**</span>"
      ],
      "text/plain": [
       "<IPython.core.display.Markdown object>"
      ]
     },
     "metadata": {},
     "output_type": "display_data"
    }
   ],
   "source": [
    "alpha_tilde = res.resid\n",
    "alpha_tilde = alpha_tilde # + alpha_\n",
    "alpha_tilde = np.array(alpha_tilde).reshape(alpha_tilde.shape[0], -1)\n",
    "print('Check: \\n aplha shape:', alpha_tilde.shape)\n",
    "\n",
    "a_s_a_tilde = alpha_tilde.T @ inv(Sigma) @ alpha_tilde\n",
    "H_tilde = SR_M_inv * a_s_a_tilde\n",
    "printmd('**H = {:.2f}**'.format(H_tilde[0][0]), color='blue') \n",
    "\n",
    "p_value_cross = (1 - chi2.cdf(H_tilde, df=10))[0][0]\n",
    "printmd('**p-value ( H_cross ) = {:.4f}**'.format(p_value_cross), color='blue')\n",
    "printmd('**p-value is 0.0085, that is why we can REJECT H0 hypothesis at all (1%, 5%, 10%) signifcance levels.**',color='blue')\n",
    "\n",
    "printmd('**H is much smaller in terms of cross-sectional regression than in terms of time-series one, but it is still far from 0, and according to p-value we are able to reject H0 at all significance levels again.**',color='blue')"
   ]
  },
  {
   "cell_type": "markdown",
   "metadata": {},
   "source": [
    "## (d)\n",
    "**Is the better/worse performance of the MAE and H-statistic surprising?**"
   ]
  },
  {
   "cell_type": "code",
   "execution_count": 15,
   "metadata": {},
   "outputs": [
    {
     "data": {
      "text/markdown": [
       "<span style='color:blue'>**It is NOT SURPRISING that MAE and H-statistic shows better performance in terms of cross-sectional regression, because cross-sectional regression imposes less restrictions on the model and can be considered as a more flexible one, i.e., it does not imply that the market premium equals the sample average of excess market return data as time-series regression does. That is why lower H-statistic and MAE in terms of cross-sectioinal regression were expected.**</span>"
      ],
      "text/plain": [
       "<IPython.core.display.Markdown object>"
      ]
     },
     "metadata": {},
     "output_type": "display_data"
    }
   ],
   "source": [
    "printmd('**It is NOT SURPRISING that MAE and H-statistic shows better performance in terms of cross-sectional regression, because cross-sectional regression imposes less restrictions on the model and can be considered as a more flexible one, i.e., it does not imply that the market premium equals the sample average of excess market return data as time-series regression does. That is why lower H-statistic and MAE in terms of cross-sectioinal regression were expected.**',color='blue')"
   ]
  },
  {
   "cell_type": "markdown",
   "metadata": {},
   "source": [
    "## 5. Broadly speaking, do these results support DFA's belief in size and value portfolios containing premia unrelated to the CAPM?"
   ]
  },
  {
   "cell_type": "code",
   "execution_count": 176,
   "metadata": {},
   "outputs": [
    {
     "data": {
      "text/markdown": [
       "<span style='color:blue'>**Yes, obtained results support DFA`s belief that risks beyond those captured by market beta should be considered, i.e., value premia should be taken into account in particular.**</span>"
      ],
      "text/plain": [
       "<IPython.core.display.Markdown object>"
      ]
     },
     "metadata": {},
     "output_type": "display_data"
    }
   ],
   "source": [
    "printmd('**Yes, obtained results support DFA`s belief that risks beyond those captured by market beta should be considered, i.e., value premia should be taken into account in particular.**',color='blue')"
   ]
  }
 ],
 "metadata": {
  "kernelspec": {
   "display_name": "Python 3",
   "language": "python",
   "name": "python3"
  },
  "language_info": {
   "codemirror_mode": {
    "name": "ipython",
    "version": 3
   },
   "file_extension": ".py",
   "mimetype": "text/x-python",
   "name": "python",
   "nbconvert_exporter": "python",
   "pygments_lexer": "ipython3",
   "version": "3.6.8"
  }
 },
 "nbformat": 4,
 "nbformat_minor": 2
}
